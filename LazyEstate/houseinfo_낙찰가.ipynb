{
 "cells": [
  {
   "cell_type": "code",
   "execution_count": 1,
   "id": "876143dc-8ce3-4bb5-b61e-276e2ec14282",
   "metadata": {},
   "outputs": [],
   "source": [
    "import pandas as pd\n",
    "import numpy as np\n",
    "import selenium\n",
    "import traceback\n",
    "from selenium import webdriver\n",
    "from selenium.webdriver import ChromeOptions\n",
    "from webdriver_manager.chrome import ChromeDriverManager\n",
    "from selenium.webdriver.common.by import By\n",
    "from selenium.webdriver.support.ui import WebDriverWait\n",
    "from selenium.webdriver.support import expected_conditions as EC\n",
    "from selenium.webdriver.common.keys import Keys\n",
    "from selenium.webdriver.common.action_chains import ActionChains\n",
    "import pymysql\n",
    "from selenium.webdriver.chrome.service import Service\n",
    "import time\n",
    "from tqdm.auto import tqdm, trange\n",
    "import re\n"
   ]
  },
  {
   "cell_type": "code",
   "execution_count": 2,
   "id": "dcf83e31-04c3-4dbe-9cc2-0859529dda2d",
   "metadata": {},
   "outputs": [],
   "source": [
    "# 주소 분할 함수\n",
    "def split_address(address):\n",
    "    # 각 정보 추출\n",
    "    city_match = re.search(r'(서울특별시|부산광역시|대구광역시|인천광역시|광주광역시|대전광역시|울산광역시|세종특별자치시|경기도|강원도|충청북도|충청남도|전라북도|전라남도|경상북도|경상남도|제주특별자치도)', address)\n",
    "    city = city_match.group(1) if city_match else None\n",
    "    \n",
    "    # city 이후의 내용을 따로 분석하기 위해 분리\n",
    "    remaining_address = address[city_match.end():].strip() if city else address\n",
    "    \n",
    "    district_match = re.search(r'(\\w+시|\\w+군|\\w+구)', remaining_address)\n",
    "    district = district_match.group(1) if district_match else None\n",
    "    remaining_address = remaining_address[district_match.end():].strip() if district else remaining_address\n",
    "\n",
    "    neighborhood_match = re.search(r'(\\w+동|\\w+읍|\\w+면)', remaining_address)\n",
    "    neighborhood = neighborhood_match.group(1) if neighborhood_match else None\n",
    "    remaining_address = remaining_address[neighborhood_match.end():].strip() if neighborhood else remaining_address\n",
    "\n",
    "    number_match = re.search(r'(\\d+-?\\d*)', remaining_address)\n",
    "    address_number = number_match.group(1) if number_match else None\n",
    "    remaining_address = remaining_address[number_match.end():].strip() if address_number else remaining_address\n",
    "\n",
    "    # 아파트 동에서 \"제\" 접두어 제거 및 추출\n",
    "    apartment_block_match = re.search(r'제?(\\d+동)', remaining_address)\n",
    "    apartment_block = apartment_block_match.group(1) if apartment_block_match else None\n",
    "\n",
    "    # 층과 호 분리\n",
    "    floor_match = re.search(r'제?(\\d+)층', remaining_address)\n",
    "    room_match = re.search(r'제?(\\d+)호', remaining_address)\n",
    "    floor = floor_match.group(1) if floor_match else None\n",
    "    room = room_match.group(1) if room_match else None\n",
    "\n",
    "    # 괄호 안의 내용 추출\n",
    "    inside_brackets_match = re.search(r'\\((.*)\\)', address)\n",
    "    inside_brackets = inside_brackets_match.group(1) if inside_brackets_match else None\n",
    "    apartment_name = inside_brackets.split(',')[1].strip()\n",
    "\n",
    "    return city, district, neighborhood, address_number, apartment_block, floor, room, apartment_name"
   ]
  },
  {
   "cell_type": "code",
   "execution_count": 3,
   "id": "9c88ddd4-6388-4c3e-9d76-57c4308e04fa",
   "metadata": {},
   "outputs": [
    {
     "name": "stderr",
     "output_type": "stream",
     "text": [
      "Traceback (most recent call last):\n",
      "  File \"/var/folders/3m/knb96f9s4xg2t2gcrl96r6jh0000gn/T/ipykernel_53640/2876649313.py\", line 40, in <cell line: 18>\n",
      "    city, district, neighborhood, address_number, apartment_block, floor, room, apartment_name = split_address(address)\n",
      "  File \"/var/folders/3m/knb96f9s4xg2t2gcrl96r6jh0000gn/T/ipykernel_53640/236550488.py\", line 35, in split_address\n",
      "    apartment_name = inside_brackets.split(',')[1].strip()\n",
      "AttributeError: 'NoneType' object has no attribute 'split'\n"
     ]
    }
   ],
   "source": [
    "# Selenium Webdriver 준비\n",
    "options = webdriver.ChromeOptions()\n",
    "service = Service()\n",
    "d = webdriver.Chrome(service=service)\n",
    "\n",
    "# 정규 표현식 패턴 정의\n",
    "patterns = {\n",
    "    'address': r'\\[(서울특별시 .*?)\\]',\n",
    "    'appraised_value': r'감정가:￦([\\d,]+)',\n",
    "    'minimum_bid_price': r'최저가:￦([\\d,]+)',\n",
    "    'sale_price': r'매각가:￦([\\d,]+)',\n",
    "    'sale_rate': r'(\\d+)%',\n",
    "    'number_of_bidders': r'응찰인원:(\\d+)명'\n",
    "}\n",
    "\n",
    "\n",
    "# Selenium 크롤링 시작\n",
    "try:\n",
    "    db = pymysql.connect(host=\"database-1.cr1v98drjdof.ap-northeast-2.rds.amazonaws.com\", port=3306, user=\"admin\", password=\"lazyestate\", db=\"LE\")\n",
    "    cursor = db.cursor()\n",
    "\n",
    "    for page in range(1, 8):\n",
    "        url = f\"https://houseinfo.co.kr/sub.html?menu=11&i_mode=search&i_gubun=1&gubun=&gubun1=&gubun2=&searchCal=&i_serial=&search_sp_sa_year=&search_sp_sa_no=&i_bub_cd1=A&i_bub_cd2=&sa_bub_cd=&gae_name=&i_zipetc=&region_code1=&region_code2=&region_code3=&sido=&gugun=&i_selday1=2020-08-01&i_selday2=2023-11-11&sel_day=&next_sel_day=&i_money_gubun=&i_money_value1=&i_money_value2=&auction_result=3,15,16&i_sort=0&i_sort2=0&i_yu_cnt1=0&i_yu_cnt2=999&i_area=&i_area_value1=&i_area_value2=&i_process_num=&i_tuksu=&p_usagecode01[]=01&pageList=20&page={page}\"\n",
    "        d.get(url)\n",
    "\n",
    "        trs = WebDriverWait(d, 10).until(EC.presence_of_all_elements_located((By.CSS_SELECTOR, \"#search_print_box > div.search_list > table > tbody > tr\")))\n",
    "        trs = trs [1:]\n",
    "        for tr in trs:\n",
    "            image = tr.find_element(By.CSS_SELECTOR, 'td:nth-child(2) > img').get_attribute('src')\n",
    "            case_number, kind = tr.find_element(By.CSS_SELECTOR, 'td:nth-child(3)').text.split('\\n')\n",
    "            info = tr.find_element(By.CSS_SELECTOR, 'td:nth-child(4)').text\n",
    "\n",
    "            # 문자열에서 정규표현식 사용해 패턴에 따라 정보 추출\n",
    "            for key, pattern in patterns.items():\n",
    "                match = re.search(pattern, info)\n",
    "                if match:\n",
    "                    globals()[key] = match.group(1)\n",
    "            \n",
    "            # 주소 분할 작업\n",
    "            city, district, neighborhood, address_number, apartment_block, floor, room, apartment_name = split_address(address)\n",
    "            \n",
    "            auction_date, percentile_val = tr.find_element(By.CSS_SELECTOR, 'td:nth-child(5)').text.split('\\n')\n",
    "            percentage = re.search(r'(\\d+)%', percentile_val).group(1)\n",
    "            result, auction_count = tr.find_element(By.CSS_SELECTOR, 'td:nth-child(6)').text.split('\\n')\n",
    "            match = re.search(r'\\((\\d+)회\\)', auction_count)\n",
    "            auction_count = match.group(1) if match else None\n",
    "            \n",
    "            # 쿼리 생성\n",
    "            sql = f\"\"\"\n",
    "            INSERT INTO houseinfo (case_number, type, city, district, neighborhood, address_number, apartment_block, floor, room, apartment_name, auction_date, percentage, result, auction_count) \n",
    "            VALUES('{case_number}', '{kind}', '{city}', '{district}', '{neighborhood}', '{address_number}', '{apartment_block}', {floor}, '{room}', '{apartment_name}', '{auction_date}', {percentage}, '{result}', {auction_count});\n",
    "            \"\"\"\n",
    "            cursor.execute(sql)  # 쿼리 실행\n",
    "    db.commit()\n",
    "except Exception as e:\n",
    "    traceback.print_exc()\n",
    "finally:\n",
    "    d.close()\n",
    "    d.quit()\n",
    "    db.close()"
   ]
  },
  {
   "cell_type": "code",
   "execution_count": 4,
   "id": "403e2bb7-7c63-4993-9fd9-54f239e4a240",
   "metadata": {},
   "outputs": [
    {
     "name": "stdout",
     "output_type": "stream",
     "text": [
      "서울특별시 강남구 압구정동 481외 2필지 현대아파트 제91동 제6층 제604호\n"
     ]
    }
   ],
   "source": [
    "print(address)"
   ]
  },
  {
   "cell_type": "code",
   "execution_count": 5,
   "id": "f2742fc3-7a47-4766-b177-9e6c3bf896e9",
   "metadata": {},
   "outputs": [
    {
     "ename": "NameError",
     "evalue": "name 'extracted_data' is not defined",
     "output_type": "error",
     "traceback": [
      "\u001b[0;31m---------------------------------------------------------------------------\u001b[0m",
      "\u001b[0;31mNameError\u001b[0m                                 Traceback (most recent call last)",
      "Input \u001b[0;32mIn [5]\u001b[0m, in \u001b[0;36m<cell line: 1>\u001b[0;34m()\u001b[0m\n\u001b[0;32m----> 1\u001b[0m \u001b[38;5;28mprint\u001b[39m(\u001b[43mextracted_data\u001b[49m)\n",
      "\u001b[0;31mNameError\u001b[0m: name 'extracted_data' is not defined"
     ]
    }
   ],
   "source": [
    "print(extracted_data)"
   ]
  },
  {
   "cell_type": "code",
   "execution_count": null,
   "id": "c709383a-ef8a-4471-82d3-da948b202efc",
   "metadata": {},
   "outputs": [],
   "source": [
    "city, district, neighborhood, number, apartment_block, floor, room, apartment_name = split_address('서울특별시금천구독산동1093-4제2동제5층제505호(독산동,한신아파트)')\n",
    "print(city, district, neighborhood, number, apartment_block, floor, room, apartment_name, sep='\\n')"
   ]
  },
  {
   "cell_type": "code",
   "execution_count": null,
   "id": "00c44847-50bc-4921-9562-aab31f141fa6",
   "metadata": {},
   "outputs": [],
   "source": [
    "apartment_building"
   ]
  },
  {
   "cell_type": "code",
   "execution_count": null,
   "id": "2c9143fe-c1a8-4f56-bd6d-f88d67dec9ef",
   "metadata": {},
   "outputs": [],
   "source": [
    "auction_date"
   ]
  },
  {
   "cell_type": "code",
   "execution_count": null,
   "id": "7e7a66bd-6dfb-40af-b966-e3209e8fb9dd",
   "metadata": {},
   "outputs": [],
   "source": [
    "percentile"
   ]
  },
  {
   "cell_type": "code",
   "execution_count": null,
   "id": "ce69659a-d8c8-48c6-b269-ea4ee5d63ba3",
   "metadata": {},
   "outputs": [],
   "source": []
  }
 ],
 "metadata": {
  "kernelspec": {
   "display_name": "Python 3 (ipykernel)",
   "language": "python",
   "name": "python3"
  },
  "language_info": {
   "codemirror_mode": {
    "name": "ipython",
    "version": 3
   },
   "file_extension": ".py",
   "mimetype": "text/x-python",
   "name": "python",
   "nbconvert_exporter": "python",
   "pygments_lexer": "ipython3",
   "version": "3.9.10"
  }
 },
 "nbformat": 4,
 "nbformat_minor": 5
}
