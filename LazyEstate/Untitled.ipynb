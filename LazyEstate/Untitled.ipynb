{
 "cells": [
  {
   "cell_type": "code",
   "execution_count": 1,
   "id": "f90f5d21-0d27-42bf-8157-f7d947e8d966",
   "metadata": {},
   "outputs": [],
   "source": [
    "from tqdm.auto import tqdm"
   ]
  },
  {
   "cell_type": "code",
   "execution_count": 2,
   "id": "26cebbfc-affd-42d4-9d70-ab5437e47850",
   "metadata": {},
   "outputs": [
    {
     "name": "stderr",
     "output_type": "stream",
     "text": [
      "100%|█████████████████████████| 4/4 [00:00<00:00, 1809.25it/s, num_vowels=1]\n"
     ]
    }
   ],
   "source": [
    "from tqdm import tqdm\n",
    "pbar = tqdm([\"a\", \"b\", \"c\", \"d\"])\n",
    "num_vowels = 0\n",
    "for ichar in pbar:\n",
    "    if ichar in ['a','e','i','o','u']:\n",
    "        num_vowels += 1\n",
    "    pbar.set_postfix({'num_vowels': num_vowels})"
   ]
  },
  {
   "cell_type": "code",
   "execution_count": 11,
   "id": "6c25c42a-0838-4385-bb6d-ca4e589407e7",
   "metadata": {},
   "outputs": [
    {
     "ename": "NameError",
     "evalue": "name 'data_json' is not defined",
     "output_type": "error",
     "traceback": [
      "\u001b[0;31m---------------------------------------------------------------------------\u001b[0m",
      "\u001b[0;31mNameError\u001b[0m                                 Traceback (most recent call last)",
      "Input \u001b[0;32mIn [11]\u001b[0m, in \u001b[0;36m<cell line: 7>\u001b[0;34m()\u001b[0m\n\u001b[1;32m      4\u001b[0m result_strings_direct_json \u001b[38;5;241m=\u001b[39m []\n\u001b[1;32m      6\u001b[0m \u001b[38;5;66;03m# tqdm.auto로 진행 표시줄 생성\u001b[39;00m\n\u001b[0;32m----> 7\u001b[0m pbar_direct_json \u001b[38;5;241m=\u001b[39m tqdm_auto(\u001b[43mdata_json\u001b[49m)\n\u001b[1;32m      9\u001b[0m \u001b[38;5;28;01mfor\u001b[39;00m item \u001b[38;5;129;01min\u001b[39;00m pbar_direct_json:\n\u001b[1;32m     10\u001b[0m     \u001b[38;5;66;03m# set_postfix를 사용하여 진행 표시줄에 추가 정보를 표시합니다.\u001b[39;00m\n\u001b[1;32m     11\u001b[0m     pbar_direct_json\u001b[38;5;241m.\u001b[39mset_postfix(current_id\u001b[38;5;241m=\u001b[39mitem[\u001b[38;5;124m\"\u001b[39m\u001b[38;5;124mid\u001b[39m\u001b[38;5;124m\"\u001b[39m], squared_value\u001b[38;5;241m=\u001b[39mitem[\u001b[38;5;124m\"\u001b[39m\u001b[38;5;124mvalue\u001b[39m\u001b[38;5;124m\"\u001b[39m], refresh\u001b[38;5;241m=\u001b[39m\u001b[38;5;28;01mFalse\u001b[39;00m)\n",
      "\u001b[0;31mNameError\u001b[0m: name 'data_json' is not defined"
     ]
    }
   ],
   "source": [
    "# JSON 데이터를 바로 사용하여 tqdm.auto로 진행 표시줄 생성 및 업데이트\n",
    "\n",
    "# 결과를 저장할 문자열 리스트\n",
    "result_strings_direct_json = []\n",
    "\n",
    "# tqdm.auto로 진행 표시줄 생성\n",
    "pbar_direct_json = tqdm_auto(kakao_response_load)\n",
    "\n",
    "for item in pbar_direct_json:\n",
    "    # set_postfix를 사용하여 진행 표시줄에 추가 정보를 표시합니다.\n",
    "    pbar_direct_json.set_postfix(current_id=item[\"id\"], squared_value=item[\"value\"], refresh=False)\n",
    "    \n",
    "    # 결과 문자열에 진행 상태 추가\n",
    "    result_strings_direct_json.append(f\"Progress: {item['id']+1}/100, current_id={item['id']}, squared_value={item['value']}\")\n",
    "\n",
    "# 결과 중 일부만 반환합니다.\n",
    "result_strings_direct_json[:10]  # 처음 10개의 결과만 반환합니다."
   ]
  },
  {
   "cell_type": "code",
   "execution_count": null,
   "id": "b880b0a5-bccc-4c48-8804-c42f68269ba8",
   "metadata": {},
   "outputs": [],
   "source": []
  }
 ],
 "metadata": {
  "kernelspec": {
   "display_name": "Python 3 (ipykernel)",
   "language": "python",
   "name": "python3"
  },
  "language_info": {
   "codemirror_mode": {
    "name": "ipython",
    "version": 3
   },
   "file_extension": ".py",
   "mimetype": "text/x-python",
   "name": "python",
   "nbconvert_exporter": "python",
   "pygments_lexer": "ipython3",
   "version": "3.9.10"
  }
 },
 "nbformat": 4,
 "nbformat_minor": 5
}
