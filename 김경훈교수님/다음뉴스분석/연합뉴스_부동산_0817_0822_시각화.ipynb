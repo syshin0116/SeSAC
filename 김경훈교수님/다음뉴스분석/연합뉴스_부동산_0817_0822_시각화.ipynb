{
 "cells": [
  {
   "cell_type": "code",
   "execution_count": 18,
   "id": "a4132471-307f-4f3f-bbc0-8b6f2c66f7ee",
   "metadata": {},
   "outputs": [],
   "source": [
    "import pandas as pd\n",
    "import numpy as np\n",
    "from wordcloud import WordCloud\n",
    "import matplotlib.pyplot as plt\n",
    "plt.rcParams['font.family'] = 'AppleGothic'\n",
    "import plotly.express as px\n",
    "import plotly.graph_objects as go\n",
    "import seaborn as sns\n",
    "from collections import Counter"
   ]
  },
  {
   "cell_type": "code",
   "execution_count": 19,
   "id": "1690762b-e4f2-4eb7-87fb-7c981555bfc9",
   "metadata": {},
   "outputs": [],
   "source": [
    "# 라인 그래프에는 필요없는 임포트\n",
    "from konlpy.tag import Okt\n",
    "import nltk\n",
    "from konlpy.tag import Mecab"
   ]
  },
  {
   "cell_type": "markdown",
   "id": "a9a32086-fae4-449d-a120-c58ffc15caad",
   "metadata": {},
   "source": [
    "## 날짜에 따른 부동산 관련 뉴스 수(다음뉴스)"
   ]
  },
  {
   "cell_type": "code",
   "execution_count": 50,
   "id": "854e9e56-4acc-44a3-a865-224bd642c543",
   "metadata": {},
   "outputs": [],
   "source": [
    "df_daum = pd.read_csv('다음뉴스_부동산.csv', index_col=0)\n",
    "df_daum.to_csv('다음뉴스_부동산.csv', index=False)"
   ]
  },
  {
   "cell_type": "code",
   "execution_count": 41,
   "id": "c68e37b1-a00f-4919-ba24-5532bb0781ed",
   "metadata": {},
   "outputs": [],
   "source": [
    "df_daum['day'] = df_daum['day'].astype(str)"
   ]
  },
  {
   "cell_type": "code",
   "execution_count": 42,
   "id": "b8e093c3-f931-4220-a458-aa841b1f0adc",
   "metadata": {},
   "outputs": [
    {
     "data": {
      "application/vnd.plotly.v1+json": {
       "config": {
        "plotlyServerURL": "https://plotly.com"
       },
       "data": [
        {
         "mode": "lines",
         "name": "부동산 관련 기사 수",
         "type": "scatter",
         "x": [
          "20230815",
          "20230816",
          "20230817",
          "20230818",
          "20230819",
          "20230820",
          "20230821"
         ],
         "y": [
          54,
          105,
          99,
          127,
          45,
          63,
          91
         ],
         "yaxis": "y2"
        }
       ],
       "layout": {
        "autosize": true,
        "template": {
         "data": {
          "bar": [
           {
            "error_x": {
             "color": "#2a3f5f"
            },
            "error_y": {
             "color": "#2a3f5f"
            },
            "marker": {
             "line": {
              "color": "#E5ECF6",
              "width": 0.5
             },
             "pattern": {
              "fillmode": "overlay",
              "size": 10,
              "solidity": 0.2
             }
            },
            "type": "bar"
           }
          ],
          "barpolar": [
           {
            "marker": {
             "line": {
              "color": "#E5ECF6",
              "width": 0.5
             },
             "pattern": {
              "fillmode": "overlay",
              "size": 10,
              "solidity": 0.2
             }
            },
            "type": "barpolar"
           }
          ],
          "carpet": [
           {
            "aaxis": {
             "endlinecolor": "#2a3f5f",
             "gridcolor": "white",
             "linecolor": "white",
             "minorgridcolor": "white",
             "startlinecolor": "#2a3f5f"
            },
            "baxis": {
             "endlinecolor": "#2a3f5f",
             "gridcolor": "white",
             "linecolor": "white",
             "minorgridcolor": "white",
             "startlinecolor": "#2a3f5f"
            },
            "type": "carpet"
           }
          ],
          "choropleth": [
           {
            "colorbar": {
             "outlinewidth": 0,
             "ticks": ""
            },
            "type": "choropleth"
           }
          ],
          "contour": [
           {
            "colorbar": {
             "outlinewidth": 0,
             "ticks": ""
            },
            "colorscale": [
             [
              0,
              "#0d0887"
             ],
             [
              0.1111111111111111,
              "#46039f"
             ],
             [
              0.2222222222222222,
              "#7201a8"
             ],
             [
              0.3333333333333333,
              "#9c179e"
             ],
             [
              0.4444444444444444,
              "#bd3786"
             ],
             [
              0.5555555555555556,
              "#d8576b"
             ],
             [
              0.6666666666666666,
              "#ed7953"
             ],
             [
              0.7777777777777778,
              "#fb9f3a"
             ],
             [
              0.8888888888888888,
              "#fdca26"
             ],
             [
              1,
              "#f0f921"
             ]
            ],
            "type": "contour"
           }
          ],
          "contourcarpet": [
           {
            "colorbar": {
             "outlinewidth": 0,
             "ticks": ""
            },
            "type": "contourcarpet"
           }
          ],
          "heatmap": [
           {
            "colorbar": {
             "outlinewidth": 0,
             "ticks": ""
            },
            "colorscale": [
             [
              0,
              "#0d0887"
             ],
             [
              0.1111111111111111,
              "#46039f"
             ],
             [
              0.2222222222222222,
              "#7201a8"
             ],
             [
              0.3333333333333333,
              "#9c179e"
             ],
             [
              0.4444444444444444,
              "#bd3786"
             ],
             [
              0.5555555555555556,
              "#d8576b"
             ],
             [
              0.6666666666666666,
              "#ed7953"
             ],
             [
              0.7777777777777778,
              "#fb9f3a"
             ],
             [
              0.8888888888888888,
              "#fdca26"
             ],
             [
              1,
              "#f0f921"
             ]
            ],
            "type": "heatmap"
           }
          ],
          "heatmapgl": [
           {
            "colorbar": {
             "outlinewidth": 0,
             "ticks": ""
            },
            "colorscale": [
             [
              0,
              "#0d0887"
             ],
             [
              0.1111111111111111,
              "#46039f"
             ],
             [
              0.2222222222222222,
              "#7201a8"
             ],
             [
              0.3333333333333333,
              "#9c179e"
             ],
             [
              0.4444444444444444,
              "#bd3786"
             ],
             [
              0.5555555555555556,
              "#d8576b"
             ],
             [
              0.6666666666666666,
              "#ed7953"
             ],
             [
              0.7777777777777778,
              "#fb9f3a"
             ],
             [
              0.8888888888888888,
              "#fdca26"
             ],
             [
              1,
              "#f0f921"
             ]
            ],
            "type": "heatmapgl"
           }
          ],
          "histogram": [
           {
            "marker": {
             "pattern": {
              "fillmode": "overlay",
              "size": 10,
              "solidity": 0.2
             }
            },
            "type": "histogram"
           }
          ],
          "histogram2d": [
           {
            "colorbar": {
             "outlinewidth": 0,
             "ticks": ""
            },
            "colorscale": [
             [
              0,
              "#0d0887"
             ],
             [
              0.1111111111111111,
              "#46039f"
             ],
             [
              0.2222222222222222,
              "#7201a8"
             ],
             [
              0.3333333333333333,
              "#9c179e"
             ],
             [
              0.4444444444444444,
              "#bd3786"
             ],
             [
              0.5555555555555556,
              "#d8576b"
             ],
             [
              0.6666666666666666,
              "#ed7953"
             ],
             [
              0.7777777777777778,
              "#fb9f3a"
             ],
             [
              0.8888888888888888,
              "#fdca26"
             ],
             [
              1,
              "#f0f921"
             ]
            ],
            "type": "histogram2d"
           }
          ],
          "histogram2dcontour": [
           {
            "colorbar": {
             "outlinewidth": 0,
             "ticks": ""
            },
            "colorscale": [
             [
              0,
              "#0d0887"
             ],
             [
              0.1111111111111111,
              "#46039f"
             ],
             [
              0.2222222222222222,
              "#7201a8"
             ],
             [
              0.3333333333333333,
              "#9c179e"
             ],
             [
              0.4444444444444444,
              "#bd3786"
             ],
             [
              0.5555555555555556,
              "#d8576b"
             ],
             [
              0.6666666666666666,
              "#ed7953"
             ],
             [
              0.7777777777777778,
              "#fb9f3a"
             ],
             [
              0.8888888888888888,
              "#fdca26"
             ],
             [
              1,
              "#f0f921"
             ]
            ],
            "type": "histogram2dcontour"
           }
          ],
          "mesh3d": [
           {
            "colorbar": {
             "outlinewidth": 0,
             "ticks": ""
            },
            "type": "mesh3d"
           }
          ],
          "parcoords": [
           {
            "line": {
             "colorbar": {
              "outlinewidth": 0,
              "ticks": ""
             }
            },
            "type": "parcoords"
           }
          ],
          "pie": [
           {
            "automargin": true,
            "type": "pie"
           }
          ],
          "scatter": [
           {
            "fillpattern": {
             "fillmode": "overlay",
             "size": 10,
             "solidity": 0.2
            },
            "type": "scatter"
           }
          ],
          "scatter3d": [
           {
            "line": {
             "colorbar": {
              "outlinewidth": 0,
              "ticks": ""
             }
            },
            "marker": {
             "colorbar": {
              "outlinewidth": 0,
              "ticks": ""
             }
            },
            "type": "scatter3d"
           }
          ],
          "scattercarpet": [
           {
            "marker": {
             "colorbar": {
              "outlinewidth": 0,
              "ticks": ""
             }
            },
            "type": "scattercarpet"
           }
          ],
          "scattergeo": [
           {
            "marker": {
             "colorbar": {
              "outlinewidth": 0,
              "ticks": ""
             }
            },
            "type": "scattergeo"
           }
          ],
          "scattergl": [
           {
            "marker": {
             "colorbar": {
              "outlinewidth": 0,
              "ticks": ""
             }
            },
            "type": "scattergl"
           }
          ],
          "scattermapbox": [
           {
            "marker": {
             "colorbar": {
              "outlinewidth": 0,
              "ticks": ""
             }
            },
            "type": "scattermapbox"
           }
          ],
          "scatterpolar": [
           {
            "marker": {
             "colorbar": {
              "outlinewidth": 0,
              "ticks": ""
             }
            },
            "type": "scatterpolar"
           }
          ],
          "scatterpolargl": [
           {
            "marker": {
             "colorbar": {
              "outlinewidth": 0,
              "ticks": ""
             }
            },
            "type": "scatterpolargl"
           }
          ],
          "scatterternary": [
           {
            "marker": {
             "colorbar": {
              "outlinewidth": 0,
              "ticks": ""
             }
            },
            "type": "scatterternary"
           }
          ],
          "surface": [
           {
            "colorbar": {
             "outlinewidth": 0,
             "ticks": ""
            },
            "colorscale": [
             [
              0,
              "#0d0887"
             ],
             [
              0.1111111111111111,
              "#46039f"
             ],
             [
              0.2222222222222222,
              "#7201a8"
             ],
             [
              0.3333333333333333,
              "#9c179e"
             ],
             [
              0.4444444444444444,
              "#bd3786"
             ],
             [
              0.5555555555555556,
              "#d8576b"
             ],
             [
              0.6666666666666666,
              "#ed7953"
             ],
             [
              0.7777777777777778,
              "#fb9f3a"
             ],
             [
              0.8888888888888888,
              "#fdca26"
             ],
             [
              1,
              "#f0f921"
             ]
            ],
            "type": "surface"
           }
          ],
          "table": [
           {
            "cells": {
             "fill": {
              "color": "#EBF0F8"
             },
             "line": {
              "color": "white"
             }
            },
            "header": {
             "fill": {
              "color": "#C8D4E3"
             },
             "line": {
              "color": "white"
             }
            },
            "type": "table"
           }
          ]
         },
         "layout": {
          "annotationdefaults": {
           "arrowcolor": "#2a3f5f",
           "arrowhead": 0,
           "arrowwidth": 1
          },
          "autotypenumbers": "strict",
          "coloraxis": {
           "colorbar": {
            "outlinewidth": 0,
            "ticks": ""
           }
          },
          "colorscale": {
           "diverging": [
            [
             0,
             "#8e0152"
            ],
            [
             0.1,
             "#c51b7d"
            ],
            [
             0.2,
             "#de77ae"
            ],
            [
             0.3,
             "#f1b6da"
            ],
            [
             0.4,
             "#fde0ef"
            ],
            [
             0.5,
             "#f7f7f7"
            ],
            [
             0.6,
             "#e6f5d0"
            ],
            [
             0.7,
             "#b8e186"
            ],
            [
             0.8,
             "#7fbc41"
            ],
            [
             0.9,
             "#4d9221"
            ],
            [
             1,
             "#276419"
            ]
           ],
           "sequential": [
            [
             0,
             "#0d0887"
            ],
            [
             0.1111111111111111,
             "#46039f"
            ],
            [
             0.2222222222222222,
             "#7201a8"
            ],
            [
             0.3333333333333333,
             "#9c179e"
            ],
            [
             0.4444444444444444,
             "#bd3786"
            ],
            [
             0.5555555555555556,
             "#d8576b"
            ],
            [
             0.6666666666666666,
             "#ed7953"
            ],
            [
             0.7777777777777778,
             "#fb9f3a"
            ],
            [
             0.8888888888888888,
             "#fdca26"
            ],
            [
             1,
             "#f0f921"
            ]
           ],
           "sequentialminus": [
            [
             0,
             "#0d0887"
            ],
            [
             0.1111111111111111,
             "#46039f"
            ],
            [
             0.2222222222222222,
             "#7201a8"
            ],
            [
             0.3333333333333333,
             "#9c179e"
            ],
            [
             0.4444444444444444,
             "#bd3786"
            ],
            [
             0.5555555555555556,
             "#d8576b"
            ],
            [
             0.6666666666666666,
             "#ed7953"
            ],
            [
             0.7777777777777778,
             "#fb9f3a"
            ],
            [
             0.8888888888888888,
             "#fdca26"
            ],
            [
             1,
             "#f0f921"
            ]
           ]
          },
          "colorway": [
           "#636efa",
           "#EF553B",
           "#00cc96",
           "#ab63fa",
           "#FFA15A",
           "#19d3f3",
           "#FF6692",
           "#B6E880",
           "#FF97FF",
           "#FECB52"
          ],
          "font": {
           "color": "#2a3f5f"
          },
          "geo": {
           "bgcolor": "white",
           "lakecolor": "white",
           "landcolor": "#E5ECF6",
           "showlakes": true,
           "showland": true,
           "subunitcolor": "white"
          },
          "hoverlabel": {
           "align": "left"
          },
          "hovermode": "closest",
          "mapbox": {
           "style": "light"
          },
          "paper_bgcolor": "white",
          "plot_bgcolor": "#E5ECF6",
          "polar": {
           "angularaxis": {
            "gridcolor": "white",
            "linecolor": "white",
            "ticks": ""
           },
           "bgcolor": "#E5ECF6",
           "radialaxis": {
            "gridcolor": "white",
            "linecolor": "white",
            "ticks": ""
           }
          },
          "scene": {
           "xaxis": {
            "backgroundcolor": "#E5ECF6",
            "gridcolor": "white",
            "gridwidth": 2,
            "linecolor": "white",
            "showbackground": true,
            "ticks": "",
            "zerolinecolor": "white"
           },
           "yaxis": {
            "backgroundcolor": "#E5ECF6",
            "gridcolor": "white",
            "gridwidth": 2,
            "linecolor": "white",
            "showbackground": true,
            "ticks": "",
            "zerolinecolor": "white"
           },
           "zaxis": {
            "backgroundcolor": "#E5ECF6",
            "gridcolor": "white",
            "gridwidth": 2,
            "linecolor": "white",
            "showbackground": true,
            "ticks": "",
            "zerolinecolor": "white"
           }
          },
          "shapedefaults": {
           "line": {
            "color": "#2a3f5f"
           }
          },
          "ternary": {
           "aaxis": {
            "gridcolor": "white",
            "linecolor": "white",
            "ticks": ""
           },
           "baxis": {
            "gridcolor": "white",
            "linecolor": "white",
            "ticks": ""
           },
           "bgcolor": "#E5ECF6",
           "caxis": {
            "gridcolor": "white",
            "linecolor": "white",
            "ticks": ""
           }
          },
          "title": {
           "x": 0.05
          },
          "xaxis": {
           "automargin": true,
           "gridcolor": "white",
           "linecolor": "white",
           "ticks": "",
           "title": {
            "standoff": 15
           },
           "zerolinecolor": "white",
           "zerolinewidth": 2
          },
          "yaxis": {
           "automargin": true,
           "gridcolor": "white",
           "linecolor": "white",
           "ticks": "",
           "title": {
            "standoff": 15
           },
           "zerolinecolor": "white",
           "zerolinewidth": 2
          }
         }
        },
        "title": {
         "text": "일자별 뉴스 기사 수"
        },
        "xaxis": {
         "autorange": true,
         "range": [
          0,
          6
         ],
         "tickangle": 45,
         "title": {
          "text": "날짜"
         },
         "type": "category"
        },
        "yaxis": {
         "title": {
          "text": "전체 기사 수"
         }
        },
        "yaxis2": {
         "autorange": true,
         "overlaying": "y",
         "range": [
          40.44444444444444,
          131.55555555555554
         ],
         "side": "right",
         "title": {
          "text": "부동산 관련 기사 수"
         },
         "type": "linear"
        }
       }
      },
      "image/png": "[encoded data removed]",
      "text/html": [
       "<div>                            <div id=\"80b0e36f-cd21-41e3-8080-7c77f4aaf512\" class=\"plotly-graph-div\" style=\"height:525px; width:100%;\"></div>            <script type=\"text/javascript\">                require([\"plotly\"], function(Plotly) {                    window.PLOTLYENV=window.PLOTLYENV || {};                                    if (document.getElementById(\"80b0e36f-cd21-41e3-8080-7c77f4aaf512\")) {                    Plotly.newPlot(                        \"80b0e36f-cd21-41e3-8080-7c77f4aaf512\",                        [{\"mode\":\"lines\",\"name\":\"\\ubd80\\ub3d9\\uc0b0 \\uad00\\ub828 \\uae30\\uc0ac \\uc218\",\"x\":[\"20230815\",\"20230816\",\"20230817\",\"20230818\",\"20230819\",\"20230820\",\"20230821\"],\"y\":[54,105,99,127,45,63,91],\"yaxis\":\"y2\",\"type\":\"scatter\"}],                        {\"template\":{\"data\":{\"histogram2dcontour\":[{\"type\":\"histogram2dcontour\",\"colorbar\":{\"outlinewidth\":0,\"ticks\":\"\"},\"colorscale\":[[0.0,\"#0d0887\"],[0.1111111111111111,\"#46039f\"],[0.2222222222222222,\"#7201a8\"],[0.3333333333333333,\"#9c179e\"],[0.4444444444444444,\"#bd3786\"],[0.5555555555555556,\"#d8576b\"],[0.6666666666666666,\"#ed7953\"],[0.7777777777777778,\"#fb9f3a\"],[0.8888888888888888,\"#fdca26\"],[1.0,\"#f0f921\"]]}],\"choropleth\":[{\"type\":\"choropleth\",\"colorbar\":{\"outlinewidth\":0,\"ticks\":\"\"}}],\"histogram2d\":[{\"type\":\"histogram2d\",\"colorbar\":{\"outlinewidth\":0,\"ticks\":\"\"},\"colorscale\":[[0.0,\"#0d0887\"],[0.1111111111111111,\"#46039f\"],[0.2222222222222222,\"#7201a8\"],[0.3333333333333333,\"#9c179e\"],[0.4444444444444444,\"#bd3786\"],[0.5555555555555556,\"#d8576b\"],[0.6666666666666666,\"#ed7953\"],[0.7777777777777778,\"#fb9f3a\"],[0.8888888888888888,\"#fdca26\"],[1.0,\"#f0f921\"]]}],\"heatmap\":[{\"type\":\"heatmap\",\"colorbar\":{\"outlinewidth\":0,\"ticks\":\"\"},\"colorscale\":[[0.0,\"#0d0887\"],[0.1111111111111111,\"#46039f\"],[0.2222222222222222,\"#7201a8\"],[0.3333333333333333,\"#9c179e\"],[0.4444444444444444,\"#bd3786\"],[0.5555555555555556,\"#d8576b\"],[0.6666666666666666,\"#ed7953\"],[0.7777777777777778,\"#fb9f3a\"],[0.8888888888888888,\"#fdca26\"],[1.0,\"#f0f921\"]]}],\"heatmapgl\":[{\"type\":\"heatmapgl\",\"colorbar\":{\"outlinewidth\":0,\"ticks\":\"\"},\"colorscale\":[[0.0,\"#0d0887\"],[0.1111111111111111,\"#46039f\"],[0.2222222222222222,\"#7201a8\"],[0.3333333333333333,\"#9c179e\"],[0.4444444444444444,\"#bd3786\"],[0.5555555555555556,\"#d8576b\"],[0.6666666666666666,\"#ed7953\"],[0.7777777777777778,\"#fb9f3a\"],[0.8888888888888888,\"#fdca26\"],[1.0,\"#f0f921\"]]}],\"contourcarpet\":[{\"type\":\"contourcarpet\",\"colorbar\":{\"outlinewidth\":0,\"ticks\":\"\"}}],\"contour\":[{\"type\":\"contour\",\"colorbar\":{\"outlinewidth\":0,\"ticks\":\"\"},\"colorscale\":[[0.0,\"#0d0887\"],[0.1111111111111111,\"#46039f\"],[0.2222222222222222,\"#7201a8\"],[0.3333333333333333,\"#9c179e\"],[0.4444444444444444,\"#bd3786\"],[0.5555555555555556,\"#d8576b\"],[0.6666666666666666,\"#ed7953\"],[0.7777777777777778,\"#fb9f3a\"],[0.8888888888888888,\"#fdca26\"],[1.0,\"#f0f921\"]]}],\"surface\":[{\"type\":\"surface\",\"colorbar\":{\"outlinewidth\":0,\"ticks\":\"\"},\"colorscale\":[[0.0,\"#0d0887\"],[0.1111111111111111,\"#46039f\"],[0.2222222222222222,\"#7201a8\"],[0.3333333333333333,\"#9c179e\"],[0.4444444444444444,\"#bd3786\"],[0.5555555555555556,\"#d8576b\"],[0.6666666666666666,\"#ed7953\"],[0.7777777777777778,\"#fb9f3a\"],[0.8888888888888888,\"#fdca26\"],[1.0,\"#f0f921\"]]}],\"mesh3d\":[{\"type\":\"mesh3d\",\"colorbar\":{\"outlinewidth\":0,\"ticks\":\"\"}}],\"scatter\":[{\"fillpattern\":{\"fillmode\":\"overlay\",\"size\":10,\"solidity\":0.2},\"type\":\"scatter\"}],\"parcoords\":[{\"type\":\"parcoords\",\"line\":{\"colorbar\":{\"outlinewidth\":0,\"ticks\":\"\"}}}],\"scatterpolargl\":[{\"type\":\"scatterpolargl\",\"marker\":{\"colorbar\":{\"outlinewidth\":0,\"ticks\":\"\"}}}],\"bar\":[{\"error_x\":{\"color\":\"#2a3f5f\"},\"error_y\":{\"color\":\"#2a3f5f\"},\"marker\":{\"line\":{\"color\":\"#E5ECF6\",\"width\":0.5},\"pattern\":{\"fillmode\":\"overlay\",\"size\":10,\"solidity\":0.2}},\"type\":\"bar\"}],\"scattergeo\":[{\"type\":\"scattergeo\",\"marker\":{\"colorbar\":{\"outlinewidth\":0,\"ticks\":\"\"}}}],\"scatterpolar\":[{\"type\":\"scatterpolar\",\"marker\":{\"colorbar\":{\"outlinewidth\":0,\"ticks\":\"\"}}}],\"histogram\":[{\"marker\":{\"pattern\":{\"fillmode\":\"overlay\",\"size\":10,\"solidity\":0.2}},\"type\":\"histogram\"}],\"scattergl\":[{\"type\":\"scattergl\",\"marker\":{\"colorbar\":{\"outlinewidth\":0,\"ticks\":\"\"}}}],\"scatter3d\":[{\"type\":\"scatter3d\",\"line\":{\"colorbar\":{\"outlinewidth\":0,\"ticks\":\"\"}},\"marker\":{\"colorbar\":{\"outlinewidth\":0,\"ticks\":\"\"}}}],\"scattermapbox\":[{\"type\":\"scattermapbox\",\"marker\":{\"colorbar\":{\"outlinewidth\":0,\"ticks\":\"\"}}}],\"scatterternary\":[{\"type\":\"scatterternary\",\"marker\":{\"colorbar\":{\"outlinewidth\":0,\"ticks\":\"\"}}}],\"scattercarpet\":[{\"type\":\"scattercarpet\",\"marker\":{\"colorbar\":{\"outlinewidth\":0,\"ticks\":\"\"}}}],\"carpet\":[{\"aaxis\":{\"endlinecolor\":\"#2a3f5f\",\"gridcolor\":\"white\",\"linecolor\":\"white\",\"minorgridcolor\":\"white\",\"startlinecolor\":\"#2a3f5f\"},\"baxis\":{\"endlinecolor\":\"#2a3f5f\",\"gridcolor\":\"white\",\"linecolor\":\"white\",\"minorgridcolor\":\"white\",\"startlinecolor\":\"#2a3f5f\"},\"type\":\"carpet\"}],\"table\":[{\"cells\":{\"fill\":{\"color\":\"#EBF0F8\"},\"line\":{\"color\":\"white\"}},\"header\":{\"fill\":{\"color\":\"#C8D4E3\"},\"line\":{\"color\":\"white\"}},\"type\":\"table\"}],\"barpolar\":[{\"marker\":{\"line\":{\"color\":\"#E5ECF6\",\"width\":0.5},\"pattern\":{\"fillmode\":\"overlay\",\"size\":10,\"solidity\":0.2}},\"type\":\"barpolar\"}],\"pie\":[{\"automargin\":true,\"type\":\"pie\"}]},\"layout\":{\"autotypenumbers\":\"strict\",\"colorway\":[\"#636efa\",\"#EF553B\",\"#00cc96\",\"#ab63fa\",\"#FFA15A\",\"#19d3f3\",\"#FF6692\",\"#B6E880\",\"#FF97FF\",\"#FECB52\"],\"font\":{\"color\":\"#2a3f5f\"},\"hovermode\":\"closest\",\"hoverlabel\":{\"align\":\"left\"},\"paper_bgcolor\":\"white\",\"plot_bgcolor\":\"#E5ECF6\",\"polar\":{\"bgcolor\":\"#E5ECF6\",\"angularaxis\":{\"gridcolor\":\"white\",\"linecolor\":\"white\",\"ticks\":\"\"},\"radialaxis\":{\"gridcolor\":\"white\",\"linecolor\":\"white\",\"ticks\":\"\"}},\"ternary\":{\"bgcolor\":\"#E5ECF6\",\"aaxis\":{\"gridcolor\":\"white\",\"linecolor\":\"white\",\"ticks\":\"\"},\"baxis\":{\"gridcolor\":\"white\",\"linecolor\":\"white\",\"ticks\":\"\"},\"caxis\":{\"gridcolor\":\"white\",\"linecolor\":\"white\",\"ticks\":\"\"}},\"coloraxis\":{\"colorbar\":{\"outlinewidth\":0,\"ticks\":\"\"}},\"colorscale\":{\"sequential\":[[0.0,\"#0d0887\"],[0.1111111111111111,\"#46039f\"],[0.2222222222222222,\"#7201a8\"],[0.3333333333333333,\"#9c179e\"],[0.4444444444444444,\"#bd3786\"],[0.5555555555555556,\"#d8576b\"],[0.6666666666666666,\"#ed7953\"],[0.7777777777777778,\"#fb9f3a\"],[0.8888888888888888,\"#fdca26\"],[1.0,\"#f0f921\"]],\"sequentialminus\":[[0.0,\"#0d0887\"],[0.1111111111111111,\"#46039f\"],[0.2222222222222222,\"#7201a8\"],[0.3333333333333333,\"#9c179e\"],[0.4444444444444444,\"#bd3786\"],[0.5555555555555556,\"#d8576b\"],[0.6666666666666666,\"#ed7953\"],[0.7777777777777778,\"#fb9f3a\"],[0.8888888888888888,\"#fdca26\"],[1.0,\"#f0f921\"]],\"diverging\":[[0,\"#8e0152\"],[0.1,\"#c51b7d\"],[0.2,\"#de77ae\"],[0.3,\"#f1b6da\"],[0.4,\"#fde0ef\"],[0.5,\"#f7f7f7\"],[0.6,\"#e6f5d0\"],[0.7,\"#b8e186\"],[0.8,\"#7fbc41\"],[0.9,\"#4d9221\"],[1,\"#276419\"]]},\"xaxis\":{\"gridcolor\":\"white\",\"linecolor\":\"white\",\"ticks\":\"\",\"title\":{\"standoff\":15},\"zerolinecolor\":\"white\",\"automargin\":true,\"zerolinewidth\":2},\"yaxis\":{\"gridcolor\":\"white\",\"linecolor\":\"white\",\"ticks\":\"\",\"title\":{\"standoff\":15},\"zerolinecolor\":\"white\",\"automargin\":true,\"zerolinewidth\":2},\"scene\":{\"xaxis\":{\"backgroundcolor\":\"#E5ECF6\",\"gridcolor\":\"white\",\"linecolor\":\"white\",\"showbackground\":true,\"ticks\":\"\",\"zerolinecolor\":\"white\",\"gridwidth\":2},\"yaxis\":{\"backgroundcolor\":\"#E5ECF6\",\"gridcolor\":\"white\",\"linecolor\":\"white\",\"showbackground\":true,\"ticks\":\"\",\"zerolinecolor\":\"white\",\"gridwidth\":2},\"zaxis\":{\"backgroundcolor\":\"#E5ECF6\",\"gridcolor\":\"white\",\"linecolor\":\"white\",\"showbackground\":true,\"ticks\":\"\",\"zerolinecolor\":\"white\",\"gridwidth\":2}},\"shapedefaults\":{\"line\":{\"color\":\"#2a3f5f\"}},\"annotationdefaults\":{\"arrowcolor\":\"#2a3f5f\",\"arrowhead\":0,\"arrowwidth\":1},\"geo\":{\"bgcolor\":\"white\",\"landcolor\":\"#E5ECF6\",\"subunitcolor\":\"white\",\"showland\":true,\"showlakes\":true,\"lakecolor\":\"white\"},\"title\":{\"x\":0.05},\"mapbox\":{\"style\":\"light\"}}},\"yaxis2\":{\"title\":{\"text\":\"\\ubd80\\ub3d9\\uc0b0 \\uad00\\ub828 \\uae30\\uc0ac \\uc218\"},\"overlaying\":\"y\",\"side\":\"right\"},\"xaxis\":{\"title\":{\"text\":\"\\ub0a0\\uc9dc\"},\"tickangle\":45},\"title\":{\"text\":\"\\uc77c\\uc790\\ubcc4 \\ub274\\uc2a4 \\uae30\\uc0ac \\uc218\"},\"yaxis\":{\"title\":{\"text\":\"\\uc804\\uccb4 \\uae30\\uc0ac \\uc218\"}}},                        {\"responsive\": true}                    ).then(function(){\n",
       "                            \n",
       "var gd = document.getElementById('80b0e36f-cd21-41e3-8080-7c77f4aaf512');\n",
       "var x = new MutationObserver(function (mutations, observer) {{\n",
       "        var display = window.getComputedStyle(gd).display;\n",
       "        if (!display || display === 'none') {{\n",
       "            console.log([gd, 'removed!']);\n",
       "            Plotly.purge(gd);\n",
       "            observer.disconnect();\n",
       "        }}\n",
       "}});\n",
       "\n",
       "// Listen for the removal of the full notebook cells\n",
       "var notebookContainer = gd.closest('#notebook-container');\n",
       "if (notebookContainer) {{\n",
       "    x.observe(notebookContainer, {childList: true});\n",
       "}}\n",
       "\n",
       "// Listen for the clearing of the current output cell\n",
       "var outputEl = gd.closest('.output');\n",
       "if (outputEl) {{\n",
       "    x.observe(outputEl, {childList: true});\n",
       "}}\n",
       "\n",
       "                        })                };                });            </script>        </div>"
      ]
     },
     "metadata": {},
     "output_type": "display_data"
    }
   ],
   "source": [
    "# 일자별 기사 수 집계\n",
    "related_article_counts = df_daum['day'].value_counts().sort_index()\n",
    "\n",
    "# 그래프 생성\n",
    "fig = go.Figure()\n",
    "\n",
    "# 부동산 관련 기사 수 추가 (보조 y축)\n",
    "fig.add_trace(go.Scatter(x=related_article_counts.index, y=related_article_counts.values, mode='lines', name='부동산 관련 기사 수', yaxis='y2'))\n",
    "\n",
    "# 레이아웃 설정\n",
    "fig.update_layout(\n",
    "    title='일자별 뉴스 기사 수',\n",
    "    xaxis_title='날짜',\n",
    "    yaxis_title='전체 기사 수',\n",
    "    yaxis2=dict(title='부동산 관련 기사 수', overlaying='y', side='right'),\n",
    "    xaxis_tickangle=45\n",
    ")\n",
    "\n",
    "fig.show()"
   ]
  },
  {
   "cell_type": "code",
   "execution_count": null,
   "id": "e9dad173-0a0e-4d2d-b4f9-aafe9c2450f7",
   "metadata": {},
   "outputs": [],
   "source": [
    "df = pd.read_csv('연합뉴스_부동산_0817_0822.csv')"
   ]
  },
  {
   "cell_type": "code",
   "execution_count": 6,
   "id": "774d9460-d51f-43de-baf2-4b10fd1dc218",
   "metadata": {},
   "outputs": [],
   "source": [
    "stop_words = ['아', '휴', '아이구', '아이쿠', '아이고', '어', '나', '우리', '저희', '따라', '의해', '을', '를', '에', '의', '가', '으로', '로', '에게', '뿐이다', '의거하여', '근거하여', '입각하여', '기준으로', '예하면', '예를 들면', '예를 들자면', '저', '소인', '소생', '저희', '지말고', '하지마', '하지마라', '다른', '물론', '또한', '그리고', '비길수 없다', '해서는 안된다', '뿐만 아니라', '만이 아니다', '만은 아니다', '막론하고', '관계없이', '그치지 않다', '그러나', '그런데', '하지만', '든간에', '논하지 않다', '따지지 않다', '설사', '비록', '더라도', '아니면', '만 못하다', '하는 편이 낫다', '불문하고', '향하여', '향해서', '향하다', '쪽으로', '틈타', '이용하여', '타다', '오르다', '제외하고', '이 외에', '이 밖에', '하여야', '비로소', '한다면 몰라도', '외에도', '이곳', '여기', '부터', '기점으로', '따라서', '할 생각이다', '하려고하다', '이리하여', '그리하여', '그렇게 함으로써', '하지만', '일때', '할때', '앞에서', '중에서', '보는데서', '으로써', '로써', '까지', '해야한다', '일것이다', '반드시', '할줄알다', '할수있다', '할수있어', '임에 틀림없다', '한다면', '등', '등등', '제', '겨우', '단지', '다만', '할뿐', '딩동', '댕그', '대해서', '대하여', '대하면', '훨씬', '얼마나', '얼마만큼', '얼마큼', '남짓', '여', '얼마간', '약간', '다소', '좀', '조금', '다수', '몇', '얼마', '지만', '하물며', '또한', '그러나', '그렇지만', '하지만', '이외에도', '대해 말하자면', '뿐이다', '다음에', '반대로', '반대로 말하자면', '이와 반대로', '바꾸어서 말하면', '바꾸어서 한다면', '만약', '그렇지않으면', '까악', '툭', '딱', '삐걱거리다', '보드득', '비걱거리다', '꽈당', '응당', '해야한다', '에 가서', '각', '각각', '여러분', '각종', '각자', '제각기', '하도록하다', '와', '과', '그러므로', '그래서', '고로', '한 까닭에', '하기 때문에', '거니와', '이지만', '대하여', '관하여', '관한', '과연', '실로', '아니나다를가', '생각한대로', '진짜로', '한적이있다', '하곤하였다', '하', '하하', '허허', '아하', '거바', '와', '오', '왜', '어째서', '무엇때문에', '어찌', '하겠는가', '무슨', '어디', '어느곳', '더군다나', '하물며', '더욱이는', '어느때', '언제', '야', '이봐', '어이', '여보시오', '흐흐', '흥', '휴', '헉헉', '헐떡헐떡', '영차', '여차', '어기여차', '끙끙', '아야', '앗', '아야', '콸콸', '졸졸', '좍좍', '뚝뚝', '주룩주룩', '솨', '우르르', '그래도', '또', '그리고', '바꾸어말하면', '바꾸어말하자면', '혹은', '혹시', '답다', '및', '그에 따르는', '때가 되어', '즉', '지든지', '설령', '가령', '하더라도', '할지라도', '일지라도', '지든지', '몇', '거의', '하마터면', '인젠', '이젠', '된바에야', '된이상', '만큼\\t어찌됏든', '그위에', '게다가', '점에서 보아', '비추어 보아', '고려하면', '하게될것이다', '일것이다', '비교적', '좀', '보다더', '비하면', '시키다', '하게하다', '할만하다', '의해서', '연이서', '이어서', '잇따라', '뒤따라', '뒤이어', '결국', '의지하여', '기대여', '통하여', '자마자', '더욱더', '불구하고', '얼마든지', '마음대로', '주저하지 않고', '곧', '즉시', '바로', '당장', '하자마자', '밖에 안된다', '하면된다', '그래', '그렇지', '요컨대', '다시 말하자면', '바꿔 말하면', '즉', '구체적으로', '말하자면', '시작하여', '시초에', '이상', '허', '헉', '허걱', '바와같이', '해도좋다', '해도된다', '게다가', '더구나', '하물며', '와르르', '팍', '퍽', '펄렁', '동안', '이래', '하고있었다', '이었다', '에서', '로부터', '까지', '예하면', '했어요', '해요', '함께', '같이', '더불어', '마저', '마저도', '양자', '모두', '습니다', '가까스로', '하려고하다', '즈음하여', '다른', '다른 방면으로', '해봐요', '습니까', '했어요', '말할것도 없고', '무릎쓰고', '개의치않고', '하는것만 못하다', '하는것이 낫다', '매', '매번', '들', '모', '어느것', '어느', '로써', '갖고말하자면', '어디', '어느쪽', '어느것', '어느해', '어느 년도', '라 해도', '언젠가', '어떤것', '어느것', '저기', '저쪽', '저것', '그때', '그럼', '그러면', '요만한걸', '그래', '그때', '저것만큼', '그저', '이르기까지', '할 줄 안다', '할 힘이 있다', '너', '너희', '당신', '어찌', '설마', '차라리', '할지언정', '할지라도', '할망정', '할지언정', '구토하다', '게우다', '토하다', '메쓰겁다', '옆사람', '퉤', '쳇', '의거하여', '근거하여', '의해', '따라', '힘입어', '그', '다음', '버금', '두번째로', '기타', '첫번째로', '나머지는', '그중에서', '견지에서', '형식으로 쓰여', '입장에서', '위해서', '단지', '의해되다', '하도록시키다', '뿐만아니라', '반대로', '전후', '전자', '앞의것', '잠시', '잠깐', '하면서', '그렇지만', '다음에', '그러한즉', '그런즉', '남들', '아무거나', '어찌하든지', '같다', '비슷하다', '예컨대', '이럴정도로', '어떻게', '만약', '만일', '위에서 서술한바와같이', '인 듯하다', '하지 않는다면', '만약에', '무엇', '무슨', '어느', '어떤', '아래윗', '조차', '한데', '그럼에도 불구하고', '여전히', '심지어', '까지도', '조차도', '하지 않도록', '않기 위하여', '때', '시각', '무렵', '시간', '동안', '어때', '어떠한', '하여금', '네', '예', '우선', '누구', '누가 알겠는가', '아무도', '줄은모른다', '줄은 몰랏다', '하는 김에', '겸사겸사', '하는바', '그런 까닭에', '한 이유는', '그러니', '그러니까', '때문에', '그', '너희', '그들', '너희들', '타인', '것', '것들', '너', '위하여', '공동으로', '동시에', '하기 위하여', '어찌하여', '무엇때문에', '붕붕', '윙윙', '나', '우리', '엉엉', '휘익', '윙윙', '오호', '아하', '어쨋든', '만 못하다\\t하기보다는', '차라리', '하는 편이 낫다', '흐흐', '놀라다', '상대적으로 말하자면', '마치', '아니라면', '쉿', '그렇지 않으면', '그렇지 않다면', '안 그러면', '아니었다면', '하든지', '아니면', '이라면', '좋아', '알았어', '하는것도', '그만이다', '어쩔수 없다', '하나', '일', '일반적으로', '일단', '한켠으로는', '오자마자', '이렇게되면', '이와같다면', '전부', '한마디', '한항목', '근거로', '하기에', '아울러', '하지 않도록', '않기 위해서', '이르기까지', '이 되다', '로 인하여', '까닭으로', '이유만으로', '이로 인하여', '그래서', '이 때문에', '그러므로', '그런 까닭에', '알 수 있다', '결론을 낼 수 있다', '으로 인하여', '있다', '어떤것', '관계가 있다', '관련이 있다', '연관되다', '어떤것들', '에 대해', '이리하여', '그리하여', '여부', '하기보다는', '하느니', '하면 할수록', '운운', '이러이러하다', '하구나', '하도다', '다시말하면', '다음으로', '에 있다', '에 달려 있다', '우리', '우리들', '오히려', '하기는한데', '어떻게', '어떻해', '어찌됏어', '어때', '어째서', '본대로', '자', '이', '이쪽', '여기', '이것', '이번', '이렇게말하자면', '이런', '이러한', '이와 같은', '요만큼', '요만한 것', '얼마 안 되는 것', '이만큼', '이 정도의', '이렇게 많은 것', '이와 같다', '이때', '이렇구나', '것과 같이', '끼익', '삐걱', '따위', '와 같은 사람들', '부류의 사람들', '왜냐하면', '중의하나', '오직', '오로지', '에 한하다', '하기만 하면', '도착하다', '까지 미치다', '도달하다', '정도에 이르다', '할 지경이다', '결과에 이르다', '관해서는', '여러분', '하고 있다', '한 후', '혼자', '자기', '자기집', '자신', '우에 종합한것과같이', '총적으로 보면', '총적으로 말하면', '총적으로', '대로 하다', '으로서', '참', '그만이다', '할 따름이다', '쿵', '탕탕', '쾅쾅', '둥둥', '봐', '봐라', '아이야', '아니', '와아', '응', '아이', '참나', '년', '월', '일', '령', '영', '일', '이', '삼', '사', '오', '육', '륙', '칠', '팔', '구', '이천육', '이천칠', '이천팔', '이천구', '하나', '둘', '셋', '넷', '다섯', '여섯', '일곱', '여덟', '아홉', '령', '영', '', '\\n', \"'\", '…', ',', '[', ']', '(', ')', '\"', '주', '에', '코스닥', '특징', '종목', '·', '장', '코스피', '증시', '-', '적', '도', '기술', '분석', '마감', '‘', '`', '요약', '가', '’', '의', '이', '오전', '★', '은', '“', '대', '”', '한', 'B', '로', '?', '3', '선', 'A', '오후', '는', '5', '!', '\"…', '상', '들', '1', '만에', '제', '2', '…\"', '20', '일', '서', '명', \"'…\", '기', '···', '10', '소', '등', '으로', '자', '전', '률', '미', '...', '50', '세', '시', '안', '폭', \"…'\", '만', '9', 'VI', '까지', '눈', '더', 'e', '량', '고', '인', '52', '성', '띄네', '1%', '부터', '다', '감', '을', '지', '4', '에도', '수', '7', '것', '째', '체크', '기', '···', '중', '계', '관련', '왜', '1억원', '총', '내', '과', '젠', '또', '연', '엔', '차', '굿모닝', '할', '8', '.', '보다', '새', '주간', '전망', '추천', '이슈', '플러스', '사', '개월', '때', '..', '임', '속', '’…', 'G', '나', '개', '원', '에서', '하는', '이유', '달', '→', '권', '?…', '단독', '간', '배', '30', 'K', '저', '와', '하', '/', '1조', '6', '두', '해야', '분', '형', '황', '공', '&', '앞두고', '보', '문', '이번', '익', 'X', '1억', ']\"', '치', '산', '를', '오', '해', 'S', '우리', '그', '된', '준', '▶', '건', '재', '반', '라', '10년', '초', '3분', '월', '신', 'p', '급', '조', '줄', '경', '했다', '구', '진', '이어', '올', '발', 'vs', '강', '국', '9억', '1년', '난', '판', '면', '\"(', '`…', '살', '아', '인데', '번', '텍', '팜', '8월', 'Q', '메', '2년', '점', '하고', '10월', 'D', '비', '됐다', '채', \"]'\", '보니', '손', '확', '종', '동', '팔', '40', '타', '~', '9월', '2100', '30%', '땐', '말', '한다', '요', \"',\", '스', '…`', '단', '16', '길', '12', '3억', '회', '될까', '호', '용', '2조', '번째', '일까', '듯', '최', '\\n', \"'\", '…', ',', '[', ']', '(', ')', '\"', '주', '에', '코스닥', '특징', '종목', '·', '장', '코스피', '증시', '-', '적', '도', '기술', '분석', '마감', '‘', '`', '요약', '가', '’', '의', '이', '오전', '★', '은', '“', '대', '”', '한', 'B', '로', '?', '3', '선', 'A', '오후', '는', '5', '!', '\"…', '상', '들', '1', '만에', '제', '2', '…\"', '20', '일', '서', '명', \"'…\", '기', '···', '10', '소', '등', '으로', '자', '전', '률', '미', '...', '50', '세', '시', '안', '폭', \"…'\", '만', '9', 'VI', '까지', '눈', '더', 'e', '량', '고', '인', '52', '성', '띄네', '1%', '부터', '다', '감', '을', '지', '4', '에도', '수', '7', '것', '째', '체크', '기', '···', '중', '계', '관련', '왜', '1억원', '총', '내', '과', '젠', '또', '연', '엔', '차', '굿모닝', '할', '8', '.', '보다', '새', '주간', '전망', '추천', '이슈', '플러스', '사', '개월', '때', '..', '임', '속', '’…', 'G', '나', '개', '원', '에서', '하는', '이유', '달', '→', '권', '?…', '단독', '간', '배', '30', 'K', '저', '와', '하', '/', '1조', '6', '두', '해야', '분', '형', '황', '공', '&', '앞두고', '보', '문', '이번', '익', 'X', '1억', ']\"', '치', '산', '를', '오', '해', 'S', '우리', '그', '된', '준', '▶', '건', '재', '반', '라', '10년', '초', '3분', '월', '신', 'p', '급', '조', '줄', '경', '했다', '구', '진', '이어', '올', '발', 'vs', '강', '국', '9억', '1년', '난', '판', '면', '\"(', '`…', '살', '아', '인데', '번', '텍', '팜', '8월', 'Q', '메', '2년', '점', '하고', '10월', 'D', '비', '됐다', '채', \"]'\", '보니', '손', '확', '종', '동', '팔', '40', '타', '~', '9월', '2100', '30%', '땐', '말', '한다', '요', \"',\", '스', '…`', '단', '16', '길', '12', '3억', '회', '될까', '호', '용', '2조', '번째', '일까', '듯', '최', '](']"
   ]
  },
  {
   "cell_type": "markdown",
   "id": "ac98f804-c2f1-4f63-9e6f-bc97ecf156d7",
   "metadata": {},
   "source": [
    "## 날짜에 따른 부동산 관련 뉴스 수(연합뉴스)"
   ]
  },
  {
   "cell_type": "code",
   "execution_count": 9,
   "id": "0ee85984-f902-4dbc-8113-40183bcd1d29",
   "metadata": {},
   "outputs": [
    {
     "data": {
      "application/vnd.plotly.v1+json": {
       "config": {
        "plotlyServerURL": "https://plotly.com"
       },
       "data": [
        {
         "hovertemplate": "day=%{x}<br>y=%{y}<extra></extra>",
         "legendgroup": "",
         "line": {
          "color": "#636efa",
          "dash": "solid"
         },
         "marker": {
          "symbol": "circle"
         },
         "mode": "lines",
         "name": "",
         "orientation": "v",
         "showlegend": false,
         "type": "scatter",
         "x": [
          "20230815",
          "20230816",
          "20230817",
          "20230818",
          "20230819",
          "20230820",
          "20230821",
          "20230822"
         ],
         "xaxis": "x",
         "y": [
          21,
          47,
          49,
          45,
          9,
          21,
          31,
          31
         ],
         "yaxis": "y"
        }
       ],
       "layout": {
        "autosize": true,
        "legend": {
         "tracegroupgap": 0
        },
        "template": {
         "data": {
          "bar": [
           {
            "error_x": {
             "color": "#2a3f5f"
            },
            "error_y": {
             "color": "#2a3f5f"
            },
            "marker": {
             "line": {
              "color": "#E5ECF6",
              "width": 0.5
             },
             "pattern": {
              "fillmode": "overlay",
              "size": 10,
              "solidity": 0.2
             }
            },
            "type": "bar"
           }
          ],
          "barpolar": [
           {
            "marker": {
             "line": {
              "color": "#E5ECF6",
              "width": 0.5
             },
             "pattern": {
              "fillmode": "overlay",
              "size": 10,
              "solidity": 0.2
             }
            },
            "type": "barpolar"
           }
          ],
          "carpet": [
           {
            "aaxis": {
             "endlinecolor": "#2a3f5f",
             "gridcolor": "white",
             "linecolor": "white",
             "minorgridcolor": "white",
             "startlinecolor": "#2a3f5f"
            },
            "baxis": {
             "endlinecolor": "#2a3f5f",
             "gridcolor": "white",
             "linecolor": "white",
             "minorgridcolor": "white",
             "startlinecolor": "#2a3f5f"
            },
            "type": "carpet"
           }
          ],
          "choropleth": [
           {
            "colorbar": {
             "outlinewidth": 0,
             "ticks": ""
            },
            "type": "choropleth"
           }
          ],
          "contour": [
           {
            "colorbar": {
             "outlinewidth": 0,
             "ticks": ""
            },
            "colorscale": [
             [
              0,
              "#0d0887"
             ],
             [
              0.1111111111111111,
              "#46039f"
             ],
             [
              0.2222222222222222,
              "#7201a8"
             ],
             [
              0.3333333333333333,
              "#9c179e"
             ],
             [
              0.4444444444444444,
              "#bd3786"
             ],
             [
              0.5555555555555556,
              "#d8576b"
             ],
             [
              0.6666666666666666,
              "#ed7953"
             ],
             [
              0.7777777777777778,
              "#fb9f3a"
             ],
             [
              0.8888888888888888,
              "#fdca26"
             ],
             [
              1,
              "#f0f921"
             ]
            ],
            "type": "contour"
           }
          ],
          "contourcarpet": [
           {
            "colorbar": {
             "outlinewidth": 0,
             "ticks": ""
            },
            "type": "contourcarpet"
           }
          ],
          "heatmap": [
           {
            "colorbar": {
             "outlinewidth": 0,
             "ticks": ""
            },
            "colorscale": [
             [
              0,
              "#0d0887"
             ],
             [
              0.1111111111111111,
              "#46039f"
             ],
             [
              0.2222222222222222,
              "#7201a8"
             ],
             [
              0.3333333333333333,
              "#9c179e"
             ],
             [
              0.4444444444444444,
              "#bd3786"
             ],
             [
              0.5555555555555556,
              "#d8576b"
             ],
             [
              0.6666666666666666,
              "#ed7953"
             ],
             [
              0.7777777777777778,
              "#fb9f3a"
             ],
             [
              0.8888888888888888,
              "#fdca26"
             ],
             [
              1,
              "#f0f921"
             ]
            ],
            "type": "heatmap"
           }
          ],
          "heatmapgl": [
           {
            "colorbar": {
             "outlinewidth": 0,
             "ticks": ""
            },
            "colorscale": [
             [
              0,
              "#0d0887"
             ],
             [
              0.1111111111111111,
              "#46039f"
             ],
             [
              0.2222222222222222,
              "#7201a8"
             ],
             [
              0.3333333333333333,
              "#9c179e"
             ],
             [
              0.4444444444444444,
              "#bd3786"
             ],
             [
              0.5555555555555556,
              "#d8576b"
             ],
             [
              0.6666666666666666,
              "#ed7953"
             ],
             [
              0.7777777777777778,
              "#fb9f3a"
             ],
             [
              0.8888888888888888,
              "#fdca26"
             ],
             [
              1,
              "#f0f921"
             ]
            ],
            "type": "heatmapgl"
           }
          ],
          "histogram": [
           {
            "marker": {
             "pattern": {
              "fillmode": "overlay",
              "size": 10,
              "solidity": 0.2
             }
            },
            "type": "histogram"
           }
          ],
          "histogram2d": [
           {
            "colorbar": {
             "outlinewidth": 0,
             "ticks": ""
            },
            "colorscale": [
             [
              0,
              "#0d0887"
             ],
             [
              0.1111111111111111,
              "#46039f"
             ],
             [
              0.2222222222222222,
              "#7201a8"
             ],
             [
              0.3333333333333333,
              "#9c179e"
             ],
             [
              0.4444444444444444,
              "#bd3786"
             ],
             [
              0.5555555555555556,
              "#d8576b"
             ],
             [
              0.6666666666666666,
              "#ed7953"
             ],
             [
              0.7777777777777778,
              "#fb9f3a"
             ],
             [
              0.8888888888888888,
              "#fdca26"
             ],
             [
              1,
              "#f0f921"
             ]
            ],
            "type": "histogram2d"
           }
          ],
          "histogram2dcontour": [
           {
            "colorbar": {
             "outlinewidth": 0,
             "ticks": ""
            },
            "colorscale": [
             [
              0,
              "#0d0887"
             ],
             [
              0.1111111111111111,
              "#46039f"
             ],
             [
              0.2222222222222222,
              "#7201a8"
             ],
             [
              0.3333333333333333,
              "#9c179e"
             ],
             [
              0.4444444444444444,
              "#bd3786"
             ],
             [
              0.5555555555555556,
              "#d8576b"
             ],
             [
              0.6666666666666666,
              "#ed7953"
             ],
             [
              0.7777777777777778,
              "#fb9f3a"
             ],
             [
              0.8888888888888888,
              "#fdca26"
             ],
             [
              1,
              "#f0f921"
             ]
            ],
            "type": "histogram2dcontour"
           }
          ],
          "mesh3d": [
           {
            "colorbar": {
             "outlinewidth": 0,
             "ticks": ""
            },
            "type": "mesh3d"
           }
          ],
          "parcoords": [
           {
            "line": {
             "colorbar": {
              "outlinewidth": 0,
              "ticks": ""
             }
            },
            "type": "parcoords"
           }
          ],
          "pie": [
           {
            "automargin": true,
            "type": "pie"
           }
          ],
          "scatter": [
           {
            "fillpattern": {
             "fillmode": "overlay",
             "size": 10,
             "solidity": 0.2
            },
            "type": "scatter"
           }
          ],
          "scatter3d": [
           {
            "line": {
             "colorbar": {
              "outlinewidth": 0,
              "ticks": ""
             }
            },
            "marker": {
             "colorbar": {
              "outlinewidth": 0,
              "ticks": ""
             }
            },
            "type": "scatter3d"
           }
          ],
          "scattercarpet": [
           {
            "marker": {
             "colorbar": {
              "outlinewidth": 0,
              "ticks": ""
             }
            },
            "type": "scattercarpet"
           }
          ],
          "scattergeo": [
           {
            "marker": {
             "colorbar": {
              "outlinewidth": 0,
              "ticks": ""
             }
            },
            "type": "scattergeo"
           }
          ],
          "scattergl": [
           {
            "marker": {
             "colorbar": {
              "outlinewidth": 0,
              "ticks": ""
             }
            },
            "type": "scattergl"
           }
          ],
          "scattermapbox": [
           {
            "marker": {
             "colorbar": {
              "outlinewidth": 0,
              "ticks": ""
             }
            },
            "type": "scattermapbox"
           }
          ],
          "scatterpolar": [
           {
            "marker": {
             "colorbar": {
              "outlinewidth": 0,
              "ticks": ""
             }
            },
            "type": "scatterpolar"
           }
          ],
          "scatterpolargl": [
           {
            "marker": {
             "colorbar": {
              "outlinewidth": 0,
              "ticks": ""
             }
            },
            "type": "scatterpolargl"
           }
          ],
          "scatterternary": [
           {
            "marker": {
             "colorbar": {
              "outlinewidth": 0,
              "ticks": ""
             }
            },
            "type": "scatterternary"
           }
          ],
          "surface": [
           {
            "colorbar": {
             "outlinewidth": 0,
             "ticks": ""
            },
            "colorscale": [
             [
              0,
              "#0d0887"
             ],
             [
              0.1111111111111111,
              "#46039f"
             ],
             [
              0.2222222222222222,
              "#7201a8"
             ],
             [
              0.3333333333333333,
              "#9c179e"
             ],
             [
              0.4444444444444444,
              "#bd3786"
             ],
             [
              0.5555555555555556,
              "#d8576b"
             ],
             [
              0.6666666666666666,
              "#ed7953"
             ],
             [
              0.7777777777777778,
              "#fb9f3a"
             ],
             [
              0.8888888888888888,
              "#fdca26"
             ],
             [
              1,
              "#f0f921"
             ]
            ],
            "type": "surface"
           }
          ],
          "table": [
           {
            "cells": {
             "fill": {
              "color": "#EBF0F8"
             },
             "line": {
              "color": "white"
             }
            },
            "header": {
             "fill": {
              "color": "#C8D4E3"
             },
             "line": {
              "color": "white"
             }
            },
            "type": "table"
           }
          ]
         },
         "layout": {
          "annotationdefaults": {
           "arrowcolor": "#2a3f5f",
           "arrowhead": 0,
           "arrowwidth": 1
          },
          "autotypenumbers": "strict",
          "coloraxis": {
           "colorbar": {
            "outlinewidth": 0,
            "ticks": ""
           }
          },
          "colorscale": {
           "diverging": [
            [
             0,
             "#8e0152"
            ],
            [
             0.1,
             "#c51b7d"
            ],
            [
             0.2,
             "#de77ae"
            ],
            [
             0.3,
             "#f1b6da"
            ],
            [
             0.4,
             "#fde0ef"
            ],
            [
             0.5,
             "#f7f7f7"
            ],
            [
             0.6,
             "#e6f5d0"
            ],
            [
             0.7,
             "#b8e186"
            ],
            [
             0.8,
             "#7fbc41"
            ],
            [
             0.9,
             "#4d9221"
            ],
            [
             1,
             "#276419"
            ]
           ],
           "sequential": [
            [
             0,
             "#0d0887"
            ],
            [
             0.1111111111111111,
             "#46039f"
            ],
            [
             0.2222222222222222,
             "#7201a8"
            ],
            [
             0.3333333333333333,
             "#9c179e"
            ],
            [
             0.4444444444444444,
             "#bd3786"
            ],
            [
             0.5555555555555556,
             "#d8576b"
            ],
            [
             0.6666666666666666,
             "#ed7953"
            ],
            [
             0.7777777777777778,
             "#fb9f3a"
            ],
            [
             0.8888888888888888,
             "#fdca26"
            ],
            [
             1,
             "#f0f921"
            ]
           ],
           "sequentialminus": [
            [
             0,
             "#0d0887"
            ],
            [
             0.1111111111111111,
             "#46039f"
            ],
            [
             0.2222222222222222,
             "#7201a8"
            ],
            [
             0.3333333333333333,
             "#9c179e"
            ],
            [
             0.4444444444444444,
             "#bd3786"
            ],
            [
             0.5555555555555556,
             "#d8576b"
            ],
            [
             0.6666666666666666,
             "#ed7953"
            ],
            [
             0.7777777777777778,
             "#fb9f3a"
            ],
            [
             0.8888888888888888,
             "#fdca26"
            ],
            [
             1,
             "#f0f921"
            ]
           ]
          },
          "colorway": [
           "#636efa",
           "#EF553B",
           "#00cc96",
           "#ab63fa",
           "#FFA15A",
           "#19d3f3",
           "#FF6692",
           "#B6E880",
           "#FF97FF",
           "#FECB52"
          ],
          "font": {
           "color": "#2a3f5f"
          },
          "geo": {
           "bgcolor": "white",
           "lakecolor": "white",
           "landcolor": "#E5ECF6",
           "showlakes": true,
           "showland": true,
           "subunitcolor": "white"
          },
          "hoverlabel": {
           "align": "left"
          },
          "hovermode": "closest",
          "mapbox": {
           "style": "light"
          },
          "paper_bgcolor": "white",
          "plot_bgcolor": "#E5ECF6",
          "polar": {
           "angularaxis": {
            "gridcolor": "white",
            "linecolor": "white",
            "ticks": ""
           },
           "bgcolor": "#E5ECF6",
           "radialaxis": {
            "gridcolor": "white",
            "linecolor": "white",
            "ticks": ""
           }
          },
          "scene": {
           "xaxis": {
            "backgroundcolor": "#E5ECF6",
            "gridcolor": "white",
            "gridwidth": 2,
            "linecolor": "white",
            "showbackground": true,
            "ticks": "",
            "zerolinecolor": "white"
           },
           "yaxis": {
            "backgroundcolor": "#E5ECF6",
            "gridcolor": "white",
            "gridwidth": 2,
            "linecolor": "white",
            "showbackground": true,
            "ticks": "",
            "zerolinecolor": "white"
           },
           "zaxis": {
            "backgroundcolor": "#E5ECF6",
            "gridcolor": "white",
            "gridwidth": 2,
            "linecolor": "white",
            "showbackground": true,
            "ticks": "",
            "zerolinecolor": "white"
           }
          },
          "shapedefaults": {
           "line": {
            "color": "#2a3f5f"
           }
          },
          "ternary": {
           "aaxis": {
            "gridcolor": "white",
            "linecolor": "white",
            "ticks": ""
           },
           "baxis": {
            "gridcolor": "white",
            "linecolor": "white",
            "ticks": ""
           },
           "bgcolor": "#E5ECF6",
           "caxis": {
            "gridcolor": "white",
            "linecolor": "white",
            "ticks": ""
           }
          },
          "title": {
           "x": 0.05
          },
          "xaxis": {
           "automargin": true,
           "gridcolor": "white",
           "linecolor": "white",
           "ticks": "",
           "title": {
            "standoff": 15
           },
           "zerolinecolor": "white",
           "zerolinewidth": 2
          },
          "yaxis": {
           "automargin": true,
           "gridcolor": "white",
           "linecolor": "white",
           "ticks": "",
           "title": {
            "standoff": 15
           },
           "zerolinecolor": "white",
           "zerolinewidth": 2
          }
         }
        },
        "title": {
         "text": "날짜에 따른 부동산 관련 뉴스 수"
        },
        "xaxis": {
         "anchor": "y",
         "autorange": true,
         "domain": [
          0,
          1
         ],
         "range": [
          0,
          7
         ],
         "title": {
          "text": "날짜"
         },
         "type": "category"
        },
        "yaxis": {
         "anchor": "x",
         "autorange": true,
         "domain": [
          0,
          1
         ],
         "range": [
          6.777777777777778,
          51.22222222222222
         ],
         "title": {
          "text": "뉴스 수"
         },
         "type": "linear"
        }
       }
      },
      "image/png": "[encoded data removed]",
      "text/html": [
       "<div>                            <div id=\"0d2defbf-62fa-4fde-914e-f64113ec0554\" class=\"plotly-graph-div\" style=\"height:525px; width:100%;\"></div>            <script type=\"text/javascript\">                require([\"plotly\"], function(Plotly) {                    window.PLOTLYENV=window.PLOTLYENV || {};                                    if (document.getElementById(\"0d2defbf-62fa-4fde-914e-f64113ec0554\")) {                    Plotly.newPlot(                        \"0d2defbf-62fa-4fde-914e-f64113ec0554\",                        [{\"hovertemplate\":\"day=%{x}\\u003cbr\\u003ey=%{y}\\u003cextra\\u003e\\u003c\\u002fextra\\u003e\",\"legendgroup\":\"\",\"line\":{\"color\":\"#636efa\",\"dash\":\"solid\"},\"marker\":{\"symbol\":\"circle\"},\"mode\":\"lines\",\"name\":\"\",\"orientation\":\"v\",\"showlegend\":false,\"x\":[\"20230815\",\"20230816\",\"20230817\",\"20230818\",\"20230819\",\"20230820\",\"20230821\",\"20230822\"],\"xaxis\":\"x\",\"y\":[21,47,49,45,9,21,31,31],\"yaxis\":\"y\",\"type\":\"scatter\"}],                        {\"template\":{\"data\":{\"histogram2dcontour\":[{\"type\":\"histogram2dcontour\",\"colorbar\":{\"outlinewidth\":0,\"ticks\":\"\"},\"colorscale\":[[0.0,\"#0d0887\"],[0.1111111111111111,\"#46039f\"],[0.2222222222222222,\"#7201a8\"],[0.3333333333333333,\"#9c179e\"],[0.4444444444444444,\"#bd3786\"],[0.5555555555555556,\"#d8576b\"],[0.6666666666666666,\"#ed7953\"],[0.7777777777777778,\"#fb9f3a\"],[0.8888888888888888,\"#fdca26\"],[1.0,\"#f0f921\"]]}],\"choropleth\":[{\"type\":\"choropleth\",\"colorbar\":{\"outlinewidth\":0,\"ticks\":\"\"}}],\"histogram2d\":[{\"type\":\"histogram2d\",\"colorbar\":{\"outlinewidth\":0,\"ticks\":\"\"},\"colorscale\":[[0.0,\"#0d0887\"],[0.1111111111111111,\"#46039f\"],[0.2222222222222222,\"#7201a8\"],[0.3333333333333333,\"#9c179e\"],[0.4444444444444444,\"#bd3786\"],[0.5555555555555556,\"#d8576b\"],[0.6666666666666666,\"#ed7953\"],[0.7777777777777778,\"#fb9f3a\"],[0.8888888888888888,\"#fdca26\"],[1.0,\"#f0f921\"]]}],\"heatmap\":[{\"type\":\"heatmap\",\"colorbar\":{\"outlinewidth\":0,\"ticks\":\"\"},\"colorscale\":[[0.0,\"#0d0887\"],[0.1111111111111111,\"#46039f\"],[0.2222222222222222,\"#7201a8\"],[0.3333333333333333,\"#9c179e\"],[0.4444444444444444,\"#bd3786\"],[0.5555555555555556,\"#d8576b\"],[0.6666666666666666,\"#ed7953\"],[0.7777777777777778,\"#fb9f3a\"],[0.8888888888888888,\"#fdca26\"],[1.0,\"#f0f921\"]]}],\"heatmapgl\":[{\"type\":\"heatmapgl\",\"colorbar\":{\"outlinewidth\":0,\"ticks\":\"\"},\"colorscale\":[[0.0,\"#0d0887\"],[0.1111111111111111,\"#46039f\"],[0.2222222222222222,\"#7201a8\"],[0.3333333333333333,\"#9c179e\"],[0.4444444444444444,\"#bd3786\"],[0.5555555555555556,\"#d8576b\"],[0.6666666666666666,\"#ed7953\"],[0.7777777777777778,\"#fb9f3a\"],[0.8888888888888888,\"#fdca26\"],[1.0,\"#f0f921\"]]}],\"contourcarpet\":[{\"type\":\"contourcarpet\",\"colorbar\":{\"outlinewidth\":0,\"ticks\":\"\"}}],\"contour\":[{\"type\":\"contour\",\"colorbar\":{\"outlinewidth\":0,\"ticks\":\"\"},\"colorscale\":[[0.0,\"#0d0887\"],[0.1111111111111111,\"#46039f\"],[0.2222222222222222,\"#7201a8\"],[0.3333333333333333,\"#9c179e\"],[0.4444444444444444,\"#bd3786\"],[0.5555555555555556,\"#d8576b\"],[0.6666666666666666,\"#ed7953\"],[0.7777777777777778,\"#fb9f3a\"],[0.8888888888888888,\"#fdca26\"],[1.0,\"#f0f921\"]]}],\"surface\":[{\"type\":\"surface\",\"colorbar\":{\"outlinewidth\":0,\"ticks\":\"\"},\"colorscale\":[[0.0,\"#0d0887\"],[0.1111111111111111,\"#46039f\"],[0.2222222222222222,\"#7201a8\"],[0.3333333333333333,\"#9c179e\"],[0.4444444444444444,\"#bd3786\"],[0.5555555555555556,\"#d8576b\"],[0.6666666666666666,\"#ed7953\"],[0.7777777777777778,\"#fb9f3a\"],[0.8888888888888888,\"#fdca26\"],[1.0,\"#f0f921\"]]}],\"mesh3d\":[{\"type\":\"mesh3d\",\"colorbar\":{\"outlinewidth\":0,\"ticks\":\"\"}}],\"scatter\":[{\"fillpattern\":{\"fillmode\":\"overlay\",\"size\":10,\"solidity\":0.2},\"type\":\"scatter\"}],\"parcoords\":[{\"type\":\"parcoords\",\"line\":{\"colorbar\":{\"outlinewidth\":0,\"ticks\":\"\"}}}],\"scatterpolargl\":[{\"type\":\"scatterpolargl\",\"marker\":{\"colorbar\":{\"outlinewidth\":0,\"ticks\":\"\"}}}],\"bar\":[{\"error_x\":{\"color\":\"#2a3f5f\"},\"error_y\":{\"color\":\"#2a3f5f\"},\"marker\":{\"line\":{\"color\":\"#E5ECF6\",\"width\":0.5},\"pattern\":{\"fillmode\":\"overlay\",\"size\":10,\"solidity\":0.2}},\"type\":\"bar\"}],\"scattergeo\":[{\"type\":\"scattergeo\",\"marker\":{\"colorbar\":{\"outlinewidth\":0,\"ticks\":\"\"}}}],\"scatterpolar\":[{\"type\":\"scatterpolar\",\"marker\":{\"colorbar\":{\"outlinewidth\":0,\"ticks\":\"\"}}}],\"histogram\":[{\"marker\":{\"pattern\":{\"fillmode\":\"overlay\",\"size\":10,\"solidity\":0.2}},\"type\":\"histogram\"}],\"scattergl\":[{\"type\":\"scattergl\",\"marker\":{\"colorbar\":{\"outlinewidth\":0,\"ticks\":\"\"}}}],\"scatter3d\":[{\"type\":\"scatter3d\",\"line\":{\"colorbar\":{\"outlinewidth\":0,\"ticks\":\"\"}},\"marker\":{\"colorbar\":{\"outlinewidth\":0,\"ticks\":\"\"}}}],\"scattermapbox\":[{\"type\":\"scattermapbox\",\"marker\":{\"colorbar\":{\"outlinewidth\":0,\"ticks\":\"\"}}}],\"scatterternary\":[{\"type\":\"scatterternary\",\"marker\":{\"colorbar\":{\"outlinewidth\":0,\"ticks\":\"\"}}}],\"scattercarpet\":[{\"type\":\"scattercarpet\",\"marker\":{\"colorbar\":{\"outlinewidth\":0,\"ticks\":\"\"}}}],\"carpet\":[{\"aaxis\":{\"endlinecolor\":\"#2a3f5f\",\"gridcolor\":\"white\",\"linecolor\":\"white\",\"minorgridcolor\":\"white\",\"startlinecolor\":\"#2a3f5f\"},\"baxis\":{\"endlinecolor\":\"#2a3f5f\",\"gridcolor\":\"white\",\"linecolor\":\"white\",\"minorgridcolor\":\"white\",\"startlinecolor\":\"#2a3f5f\"},\"type\":\"carpet\"}],\"table\":[{\"cells\":{\"fill\":{\"color\":\"#EBF0F8\"},\"line\":{\"color\":\"white\"}},\"header\":{\"fill\":{\"color\":\"#C8D4E3\"},\"line\":{\"color\":\"white\"}},\"type\":\"table\"}],\"barpolar\":[{\"marker\":{\"line\":{\"color\":\"#E5ECF6\",\"width\":0.5},\"pattern\":{\"fillmode\":\"overlay\",\"size\":10,\"solidity\":0.2}},\"type\":\"barpolar\"}],\"pie\":[{\"automargin\":true,\"type\":\"pie\"}]},\"layout\":{\"autotypenumbers\":\"strict\",\"colorway\":[\"#636efa\",\"#EF553B\",\"#00cc96\",\"#ab63fa\",\"#FFA15A\",\"#19d3f3\",\"#FF6692\",\"#B6E880\",\"#FF97FF\",\"#FECB52\"],\"font\":{\"color\":\"#2a3f5f\"},\"hovermode\":\"closest\",\"hoverlabel\":{\"align\":\"left\"},\"paper_bgcolor\":\"white\",\"plot_bgcolor\":\"#E5ECF6\",\"polar\":{\"bgcolor\":\"#E5ECF6\",\"angularaxis\":{\"gridcolor\":\"white\",\"linecolor\":\"white\",\"ticks\":\"\"},\"radialaxis\":{\"gridcolor\":\"white\",\"linecolor\":\"white\",\"ticks\":\"\"}},\"ternary\":{\"bgcolor\":\"#E5ECF6\",\"aaxis\":{\"gridcolor\":\"white\",\"linecolor\":\"white\",\"ticks\":\"\"},\"baxis\":{\"gridcolor\":\"white\",\"linecolor\":\"white\",\"ticks\":\"\"},\"caxis\":{\"gridcolor\":\"white\",\"linecolor\":\"white\",\"ticks\":\"\"}},\"coloraxis\":{\"colorbar\":{\"outlinewidth\":0,\"ticks\":\"\"}},\"colorscale\":{\"sequential\":[[0.0,\"#0d0887\"],[0.1111111111111111,\"#46039f\"],[0.2222222222222222,\"#7201a8\"],[0.3333333333333333,\"#9c179e\"],[0.4444444444444444,\"#bd3786\"],[0.5555555555555556,\"#d8576b\"],[0.6666666666666666,\"#ed7953\"],[0.7777777777777778,\"#fb9f3a\"],[0.8888888888888888,\"#fdca26\"],[1.0,\"#f0f921\"]],\"sequentialminus\":[[0.0,\"#0d0887\"],[0.1111111111111111,\"#46039f\"],[0.2222222222222222,\"#7201a8\"],[0.3333333333333333,\"#9c179e\"],[0.4444444444444444,\"#bd3786\"],[0.5555555555555556,\"#d8576b\"],[0.6666666666666666,\"#ed7953\"],[0.7777777777777778,\"#fb9f3a\"],[0.8888888888888888,\"#fdca26\"],[1.0,\"#f0f921\"]],\"diverging\":[[0,\"#8e0152\"],[0.1,\"#c51b7d\"],[0.2,\"#de77ae\"],[0.3,\"#f1b6da\"],[0.4,\"#fde0ef\"],[0.5,\"#f7f7f7\"],[0.6,\"#e6f5d0\"],[0.7,\"#b8e186\"],[0.8,\"#7fbc41\"],[0.9,\"#4d9221\"],[1,\"#276419\"]]},\"xaxis\":{\"gridcolor\":\"white\",\"linecolor\":\"white\",\"ticks\":\"\",\"title\":{\"standoff\":15},\"zerolinecolor\":\"white\",\"automargin\":true,\"zerolinewidth\":2},\"yaxis\":{\"gridcolor\":\"white\",\"linecolor\":\"white\",\"ticks\":\"\",\"title\":{\"standoff\":15},\"zerolinecolor\":\"white\",\"automargin\":true,\"zerolinewidth\":2},\"scene\":{\"xaxis\":{\"backgroundcolor\":\"#E5ECF6\",\"gridcolor\":\"white\",\"linecolor\":\"white\",\"showbackground\":true,\"ticks\":\"\",\"zerolinecolor\":\"white\",\"gridwidth\":2},\"yaxis\":{\"backgroundcolor\":\"#E5ECF6\",\"gridcolor\":\"white\",\"linecolor\":\"white\",\"showbackground\":true,\"ticks\":\"\",\"zerolinecolor\":\"white\",\"gridwidth\":2},\"zaxis\":{\"backgroundcolor\":\"#E5ECF6\",\"gridcolor\":\"white\",\"linecolor\":\"white\",\"showbackground\":true,\"ticks\":\"\",\"zerolinecolor\":\"white\",\"gridwidth\":2}},\"shapedefaults\":{\"line\":{\"color\":\"#2a3f5f\"}},\"annotationdefaults\":{\"arrowcolor\":\"#2a3f5f\",\"arrowhead\":0,\"arrowwidth\":1},\"geo\":{\"bgcolor\":\"white\",\"landcolor\":\"#E5ECF6\",\"subunitcolor\":\"white\",\"showland\":true,\"showlakes\":true,\"lakecolor\":\"white\"},\"title\":{\"x\":0.05},\"mapbox\":{\"style\":\"light\"}}},\"xaxis\":{\"anchor\":\"y\",\"domain\":[0.0,1.0],\"title\":{\"text\":\"\\ub0a0\\uc9dc\"}},\"yaxis\":{\"anchor\":\"x\",\"domain\":[0.0,1.0],\"title\":{\"text\":\"\\ub274\\uc2a4 \\uc218\"}},\"legend\":{\"tracegroupgap\":0},\"title\":{\"text\":\"\\ub0a0\\uc9dc\\uc5d0 \\ub530\\ub978 \\ubd80\\ub3d9\\uc0b0 \\uad00\\ub828 \\ub274\\uc2a4 \\uc218\"}},                        {\"responsive\": true}                    ).then(function(){\n",
       "                            \n",
       "var gd = document.getElementById('0d2defbf-62fa-4fde-914e-f64113ec0554');\n",
       "var x = new MutationObserver(function (mutations, observer) {{\n",
       "        var display = window.getComputedStyle(gd).display;\n",
       "        if (!display || display === 'none') {{\n",
       "            console.log([gd, 'removed!']);\n",
       "            Plotly.purge(gd);\n",
       "            observer.disconnect();\n",
       "        }}\n",
       "}});\n",
       "\n",
       "// Listen for the removal of the full notebook cells\n",
       "var notebookContainer = gd.closest('#notebook-container');\n",
       "if (notebookContainer) {{\n",
       "    x.observe(notebookContainer, {childList: true});\n",
       "}}\n",
       "\n",
       "// Listen for the clearing of the current output cell\n",
       "var outputEl = gd.closest('.output');\n",
       "if (outputEl) {{\n",
       "    x.observe(outputEl, {childList: true});\n",
       "}}\n",
       "\n",
       "                        })                };                });            </script>        </div>"
      ]
     },
     "metadata": {},
     "output_type": "display_data"
    }
   ],
   "source": [
    "# 'date'를 기준으로 데이터 개수 집계\n",
    "date_counts = df['day'].value_counts().sort_index()\n",
    "\n",
    "# plotly를 사용하여 그래프 그리기\n",
    "fig = px.line(date_counts, x=date_counts.index, y=date_counts.values, title='날짜에 따른 부동산 관련 뉴스 수')\n",
    "fig.update_layout(xaxis_title='날짜', yaxis_title='뉴스 개수')\n",
    "fig.show()"
   ]
  },
  {
   "cell_type": "markdown",
   "id": "08c9eef8-c4e0-449a-bcec-cc22cc2d09aa",
   "metadata": {},
   "source": [
    "## 워드 클라우드"
   ]
  },
  {
   "cell_type": "code",
   "execution_count": 12,
   "id": "c4e76608-38ab-4343-aac2-07ac2ab293f8",
   "metadata": {
    "scrolled": true
   },
   "outputs": [
    {
     "data": {
      "image/png": "[encoded data removed]",
      "text/plain": [
       "<Figure size 1000x1000 with 1 Axes>"
      ]
     },
     "metadata": {},
     "output_type": "display_data"
    }
   ],
   "source": [
    "# df의 'text' 열의 모든 텍스트를 결합\n",
    "text = ' '.join(df['text'])\n",
    "\n",
    "# 텍스트에서 명사 추출\n",
    "mecab = Mecab()\n",
    "nouns = mecab.nouns(text)\n",
    "nouns = [n for n in nouns if len(n) > 1 and n not in stop_words]\n",
    "\n",
    "# 명사 빈도수 계산\n",
    "count = Counter(nouns)\n",
    "\n",
    "# 워드 클라우드 설정\n",
    "wordcloud = WordCloud(font_path=\"font/AppleGothic.ttf\",\n",
    "                      background_color='white',\n",
    "                      width=800,\n",
    "                      height=800,\n",
    "                      max_words=100,\n",
    "                      max_font_size=150).generate_from_frequencies(count)\n",
    "coun\n",
    "# 워드 클라우드 출력\n",
    "plt.figure(figsize=(10, 10))\n",
    "plt.imshow(wordcloud, interpolation='bilinear')\n",
    "plt.axis('off')\n",
    "plt.show()"
   ]
  },
  {
   "cell_type": "code",
   "execution_count": 44,
   "id": "d007b856-5b44-4d14-bd67-7e3cfe363909",
   "metadata": {},
   "outputs": [
    {
     "data": {
      "application/vnd.plotly.v1+json": {
       "config": {
        "plotlyServerURL": "https://plotly.com"
       },
       "data": [
        {
         "alignmentgroup": "True",
         "hovertemplate": "x=%{x}<br>y=%{y}<extra></extra>",
         "legendgroup": "",
         "marker": {
          "color": "#636efa",
          "pattern": {
           "shape": ""
          }
         },
         "name": "",
         "offsetgroup": "",
         "orientation": "v",
         "showlegend": false,
         "textposition": "auto",
         "type": "bar",
         "x": [
          "중국",
          "부동산",
          "경제",
          "시장",
          "금리",
          "금융",
          "위안",
          "은행",
          "달러",
          "미국",
          "우려",
          "서울",
          "지수",
          "위기",
          "하락",
          "업체",
          "경기",
          "투자",
          "상승",
          "이후",
          "정부",
          "올해",
          "연합뉴스",
          "최근",
          "기업",
          "가능",
          "상황",
          "발표",
          "당국",
          "주택",
          "기자",
          "기준",
          "이날",
          "개발",
          "포인트",
          "규모",
          "정책",
          "인하",
          "대비",
          "만기",
          "영향",
          "지난해",
          "천억",
          "예상",
          "대출",
          "환율",
          "거래",
          "디폴트",
          "한국",
          "가운데"
         ],
         "xaxis": "x",
         "y": [
          1510,
          746,
          677,
          653,
          487,
          455,
          366,
          361,
          337,
          336,
          321,
          314,
          314,
          312,
          304,
          296,
          291,
          283,
          267,
          262,
          252,
          247,
          243,
          227,
          227,
          221,
          220,
          217,
          216,
          215,
          212,
          210,
          208,
          201,
          179,
          178,
          176,
          175,
          174,
          173,
          171,
          168,
          167,
          166,
          163,
          161,
          159,
          158,
          156,
          155
         ],
         "yaxis": "y"
        }
       ],
       "layout": {
        "autosize": true,
        "barmode": "relative",
        "legend": {
         "tracegroupgap": 0
        },
        "template": {
         "data": {
          "bar": [
           {
            "error_x": {
             "color": "#2a3f5f"
            },
            "error_y": {
             "color": "#2a3f5f"
            },
            "marker": {
             "line": {
              "color": "#E5ECF6",
              "width": 0.5
             },
             "pattern": {
              "fillmode": "overlay",
              "size": 10,
              "solidity": 0.2
             }
            },
            "type": "bar"
           }
          ],
          "barpolar": [
           {
            "marker": {
             "line": {
              "color": "#E5ECF6",
              "width": 0.5
             },
             "pattern": {
              "fillmode": "overlay",
              "size": 10,
              "solidity": 0.2
             }
            },
            "type": "barpolar"
           }
          ],
          "carpet": [
           {
            "aaxis": {
             "endlinecolor": "#2a3f5f",
             "gridcolor": "white",
             "linecolor": "white",
             "minorgridcolor": "white",
             "startlinecolor": "#2a3f5f"
            },
            "baxis": {
             "endlinecolor": "#2a3f5f",
             "gridcolor": "white",
             "linecolor": "white",
             "minorgridcolor": "white",
             "startlinecolor": "#2a3f5f"
            },
            "type": "carpet"
           }
          ],
          "choropleth": [
           {
            "colorbar": {
             "outlinewidth": 0,
             "ticks": ""
            },
            "type": "choropleth"
           }
          ],
          "contour": [
           {
            "colorbar": {
             "outlinewidth": 0,
             "ticks": ""
            },
            "colorscale": [
             [
              0,
              "#0d0887"
             ],
             [
              0.1111111111111111,
              "#46039f"
             ],
             [
              0.2222222222222222,
              "#7201a8"
             ],
             [
              0.3333333333333333,
              "#9c179e"
             ],
             [
              0.4444444444444444,
              "#bd3786"
             ],
             [
              0.5555555555555556,
              "#d8576b"
             ],
             [
              0.6666666666666666,
              "#ed7953"
             ],
             [
              0.7777777777777778,
              "#fb9f3a"
             ],
             [
              0.8888888888888888,
              "#fdca26"
             ],
             [
              1,
              "#f0f921"
             ]
            ],
            "type": "contour"
           }
          ],
          "contourcarpet": [
           {
            "colorbar": {
             "outlinewidth": 0,
             "ticks": ""
            },
            "type": "contourcarpet"
           }
          ],
          "heatmap": [
           {
            "colorbar": {
             "outlinewidth": 0,
             "ticks": ""
            },
            "colorscale": [
             [
              0,
              "#0d0887"
             ],
             [
              0.1111111111111111,
              "#46039f"
             ],
             [
              0.2222222222222222,
              "#7201a8"
             ],
             [
              0.3333333333333333,
              "#9c179e"
             ],
             [
              0.4444444444444444,
              "#bd3786"
             ],
             [
              0.5555555555555556,
              "#d8576b"
             ],
             [
              0.6666666666666666,
              "#ed7953"
             ],
             [
              0.7777777777777778,
              "#fb9f3a"
             ],
             [
              0.8888888888888888,
              "#fdca26"
             ],
             [
              1,
              "#f0f921"
             ]
            ],
            "type": "heatmap"
           }
          ],
          "heatmapgl": [
           {
            "colorbar": {
             "outlinewidth": 0,
             "ticks": ""
            },
            "colorscale": [
             [
              0,
              "#0d0887"
             ],
             [
              0.1111111111111111,
              "#46039f"
             ],
             [
              0.2222222222222222,
              "#7201a8"
             ],
             [
              0.3333333333333333,
              "#9c179e"
             ],
             [
              0.4444444444444444,
              "#bd3786"
             ],
             [
              0.5555555555555556,
              "#d8576b"
             ],
             [
              0.6666666666666666,
              "#ed7953"
             ],
             [
              0.7777777777777778,
              "#fb9f3a"
             ],
             [
              0.8888888888888888,
              "#fdca26"
             ],
             [
              1,
              "#f0f921"
             ]
            ],
            "type": "heatmapgl"
           }
          ],
          "histogram": [
           {
            "marker": {
             "pattern": {
              "fillmode": "overlay",
              "size": 10,
              "solidity": 0.2
             }
            },
            "type": "histogram"
           }
          ],
          "histogram2d": [
           {
            "colorbar": {
             "outlinewidth": 0,
             "ticks": ""
            },
            "colorscale": [
             [
              0,
              "#0d0887"
             ],
             [
              0.1111111111111111,
              "#46039f"
             ],
             [
              0.2222222222222222,
              "#7201a8"
             ],
             [
              0.3333333333333333,
              "#9c179e"
             ],
             [
              0.4444444444444444,
              "#bd3786"
             ],
             [
              0.5555555555555556,
              "#d8576b"
             ],
             [
              0.6666666666666666,
              "#ed7953"
             ],
             [
              0.7777777777777778,
              "#fb9f3a"
             ],
             [
              0.8888888888888888,
              "#fdca26"
             ],
             [
              1,
              "#f0f921"
             ]
            ],
            "type": "histogram2d"
           }
          ],
          "histogram2dcontour": [
           {
            "colorbar": {
             "outlinewidth": 0,
             "ticks": ""
            },
            "colorscale": [
             [
              0,
              "#0d0887"
             ],
             [
              0.1111111111111111,
              "#46039f"
             ],
             [
              0.2222222222222222,
              "#7201a8"
             ],
             [
              0.3333333333333333,
              "#9c179e"
             ],
             [
              0.4444444444444444,
              "#bd3786"
             ],
             [
              0.5555555555555556,
              "#d8576b"
             ],
             [
              0.6666666666666666,
              "#ed7953"
             ],
             [
              0.7777777777777778,
              "#fb9f3a"
             ],
             [
              0.8888888888888888,
              "#fdca26"
             ],
             [
              1,
              "#f0f921"
             ]
            ],
            "type": "histogram2dcontour"
           }
          ],
          "mesh3d": [
           {
            "colorbar": {
             "outlinewidth": 0,
             "ticks": ""
            },
            "type": "mesh3d"
           }
          ],
          "parcoords": [
           {
            "line": {
             "colorbar": {
              "outlinewidth": 0,
              "ticks": ""
             }
            },
            "type": "parcoords"
           }
          ],
          "pie": [
           {
            "automargin": true,
            "type": "pie"
           }
          ],
          "scatter": [
           {
            "fillpattern": {
             "fillmode": "overlay",
             "size": 10,
             "solidity": 0.2
            },
            "type": "scatter"
           }
          ],
          "scatter3d": [
           {
            "line": {
             "colorbar": {
              "outlinewidth": 0,
              "ticks": ""
             }
            },
            "marker": {
             "colorbar": {
              "outlinewidth": 0,
              "ticks": ""
             }
            },
            "type": "scatter3d"
           }
          ],
          "scattercarpet": [
           {
            "marker": {
             "colorbar": {
              "outlinewidth": 0,
              "ticks": ""
             }
            },
            "type": "scattercarpet"
           }
          ],
          "scattergeo": [
           {
            "marker": {
             "colorbar": {
              "outlinewidth": 0,
              "ticks": ""
             }
            },
            "type": "scattergeo"
           }
          ],
          "scattergl": [
           {
            "marker": {
             "colorbar": {
              "outlinewidth": 0,
              "ticks": ""
             }
            },
            "type": "scattergl"
           }
          ],
          "scattermapbox": [
           {
            "marker": {
             "colorbar": {
              "outlinewidth": 0,
              "ticks": ""
             }
            },
            "type": "scattermapbox"
           }
          ],
          "scatterpolar": [
           {
            "marker": {
             "colorbar": {
              "outlinewidth": 0,
              "ticks": ""
             }
            },
            "type": "scatterpolar"
           }
          ],
          "scatterpolargl": [
           {
            "marker": {
             "colorbar": {
              "outlinewidth": 0,
              "ticks": ""
             }
            },
            "type": "scatterpolargl"
           }
          ],
          "scatterternary": [
           {
            "marker": {
             "colorbar": {
              "outlinewidth": 0,
              "ticks": ""
             }
            },
            "type": "scatterternary"
           }
          ],
          "surface": [
           {
            "colorbar": {
             "outlinewidth": 0,
             "ticks": ""
            },
            "colorscale": [
             [
              0,
              "#0d0887"
             ],
             [
              0.1111111111111111,
              "#46039f"
             ],
             [
              0.2222222222222222,
              "#7201a8"
             ],
             [
              0.3333333333333333,
              "#9c179e"
             ],
             [
              0.4444444444444444,
              "#bd3786"
             ],
             [
              0.5555555555555556,
              "#d8576b"
             ],
             [
              0.6666666666666666,
              "#ed7953"
             ],
             [
              0.7777777777777778,
              "#fb9f3a"
             ],
             [
              0.8888888888888888,
              "#fdca26"
             ],
             [
              1,
              "#f0f921"
             ]
            ],
            "type": "surface"
           }
          ],
          "table": [
           {
            "cells": {
             "fill": {
              "color": "#EBF0F8"
             },
             "line": {
              "color": "white"
             }
            },
            "header": {
             "fill": {
              "color": "#C8D4E3"
             },
             "line": {
              "color": "white"
             }
            },
            "type": "table"
           }
          ]
         },
         "layout": {
          "annotationdefaults": {
           "arrowcolor": "#2a3f5f",
           "arrowhead": 0,
           "arrowwidth": 1
          },
          "autotypenumbers": "strict",
          "coloraxis": {
           "colorbar": {
            "outlinewidth": 0,
            "ticks": ""
           }
          },
          "colorscale": {
           "diverging": [
            [
             0,
             "#8e0152"
            ],
            [
             0.1,
             "#c51b7d"
            ],
            [
             0.2,
             "#de77ae"
            ],
            [
             0.3,
             "#f1b6da"
            ],
            [
             0.4,
             "#fde0ef"
            ],
            [
             0.5,
             "#f7f7f7"
            ],
            [
             0.6,
             "#e6f5d0"
            ],
            [
             0.7,
             "#b8e186"
            ],
            [
             0.8,
             "#7fbc41"
            ],
            [
             0.9,
             "#4d9221"
            ],
            [
             1,
             "#276419"
            ]
           ],
           "sequential": [
            [
             0,
             "#0d0887"
            ],
            [
             0.1111111111111111,
             "#46039f"
            ],
            [
             0.2222222222222222,
             "#7201a8"
            ],
            [
             0.3333333333333333,
             "#9c179e"
            ],
            [
             0.4444444444444444,
             "#bd3786"
            ],
            [
             0.5555555555555556,
             "#d8576b"
            ],
            [
             0.6666666666666666,
             "#ed7953"
            ],
            [
             0.7777777777777778,
             "#fb9f3a"
            ],
            [
             0.8888888888888888,
             "#fdca26"
            ],
            [
             1,
             "#f0f921"
            ]
           ],
           "sequentialminus": [
            [
             0,
             "#0d0887"
            ],
            [
             0.1111111111111111,
             "#46039f"
            ],
            [
             0.2222222222222222,
             "#7201a8"
            ],
            [
             0.3333333333333333,
             "#9c179e"
            ],
            [
             0.4444444444444444,
             "#bd3786"
            ],
            [
             0.5555555555555556,
             "#d8576b"
            ],
            [
             0.6666666666666666,
             "#ed7953"
            ],
            [
             0.7777777777777778,
             "#fb9f3a"
            ],
            [
             0.8888888888888888,
             "#fdca26"
            ],
            [
             1,
             "#f0f921"
            ]
           ]
          },
          "colorway": [
           "#636efa",
           "#EF553B",
           "#00cc96",
           "#ab63fa",
           "#FFA15A",
           "#19d3f3",
           "#FF6692",
           "#B6E880",
           "#FF97FF",
           "#FECB52"
          ],
          "font": {
           "color": "#2a3f5f"
          },
          "geo": {
           "bgcolor": "white",
           "lakecolor": "white",
           "landcolor": "#E5ECF6",
           "showlakes": true,
           "showland": true,
           "subunitcolor": "white"
          },
          "hoverlabel": {
           "align": "left"
          },
          "hovermode": "closest",
          "mapbox": {
           "style": "light"
          },
          "paper_bgcolor": "white",
          "plot_bgcolor": "#E5ECF6",
          "polar": {
           "angularaxis": {
            "gridcolor": "white",
            "linecolor": "white",
            "ticks": ""
           },
           "bgcolor": "#E5ECF6",
           "radialaxis": {
            "gridcolor": "white",
            "linecolor": "white",
            "ticks": ""
           }
          },
          "scene": {
           "xaxis": {
            "backgroundcolor": "#E5ECF6",
            "gridcolor": "white",
            "gridwidth": 2,
            "linecolor": "white",
            "showbackground": true,
            "ticks": "",
            "zerolinecolor": "white"
           },
           "yaxis": {
            "backgroundcolor": "#E5ECF6",
            "gridcolor": "white",
            "gridwidth": 2,
            "linecolor": "white",
            "showbackground": true,
            "ticks": "",
            "zerolinecolor": "white"
           },
           "zaxis": {
            "backgroundcolor": "#E5ECF6",
            "gridcolor": "white",
            "gridwidth": 2,
            "linecolor": "white",
            "showbackground": true,
            "ticks": "",
            "zerolinecolor": "white"
           }
          },
          "shapedefaults": {
           "line": {
            "color": "#2a3f5f"
           }
          },
          "ternary": {
           "aaxis": {
            "gridcolor": "white",
            "linecolor": "white",
            "ticks": ""
           },
           "baxis": {
            "gridcolor": "white",
            "linecolor": "white",
            "ticks": ""
           },
           "bgcolor": "#E5ECF6",
           "caxis": {
            "gridcolor": "white",
            "linecolor": "white",
            "ticks": ""
           }
          },
          "title": {
           "x": 0.05
          },
          "xaxis": {
           "automargin": true,
           "gridcolor": "white",
           "linecolor": "white",
           "ticks": "",
           "title": {
            "standoff": 15
           },
           "zerolinecolor": "white",
           "zerolinewidth": 2
          },
          "yaxis": {
           "automargin": true,
           "gridcolor": "white",
           "linecolor": "white",
           "ticks": "",
           "title": {
            "standoff": 15
           },
           "zerolinecolor": "white",
           "zerolinewidth": 2
          }
         }
        },
        "title": {
         "text": "Top 50 빈도수 단어들"
        },
        "xaxis": {
         "anchor": "y",
         "autorange": true,
         "domain": [
          0,
          1
         ],
         "range": [
          -0.5,
          49.5
         ],
         "tickangle": -45,
         "title": {
          "text": "단어"
         },
         "type": "category"
        },
        "yaxis": {
         "anchor": "x",
         "autorange": true,
         "domain": [
          0,
          1
         ],
         "range": [
          0,
          1589.4736842105262
         ],
         "title": {
          "text": "횟수"
         },
         "type": "linear"
        }
       }
      },
      "image/png": "[encoded data removed]",
      "text/html": [
       "<div>                            <div id=\"d19020a6-ec12-42dd-93cf-4d3bf2587a1f\" class=\"plotly-graph-div\" style=\"height:525px; width:100%;\"></div>            <script type=\"text/javascript\">                require([\"plotly\"], function(Plotly) {                    window.PLOTLYENV=window.PLOTLYENV || {};                                    if (document.getElementById(\"d19020a6-ec12-42dd-93cf-4d3bf2587a1f\")) {                    Plotly.newPlot(                        \"d19020a6-ec12-42dd-93cf-4d3bf2587a1f\",                        [{\"alignmentgroup\":\"True\",\"hovertemplate\":\"x=%{x}\\u003cbr\\u003ey=%{y}\\u003cextra\\u003e\\u003c\\u002fextra\\u003e\",\"legendgroup\":\"\",\"marker\":{\"color\":\"#636efa\",\"pattern\":{\"shape\":\"\"}},\"name\":\"\",\"offsetgroup\":\"\",\"orientation\":\"v\",\"showlegend\":false,\"textposition\":\"auto\",\"x\":[\"\\uc911\\uad6d\",\"\\ubd80\\ub3d9\\uc0b0\",\"\\uacbd\\uc81c\",\"\\uc2dc\\uc7a5\",\"\\uae08\\ub9ac\",\"\\uae08\\uc735\",\"\\uc704\\uc548\",\"\\uc740\\ud589\",\"\\ub2ec\\ub7ec\",\"\\ubbf8\\uad6d\",\"\\uc6b0\\ub824\",\"\\uc11c\\uc6b8\",\"\\uc9c0\\uc218\",\"\\uc704\\uae30\",\"\\ud558\\ub77d\",\"\\uc5c5\\uccb4\",\"\\uacbd\\uae30\",\"\\ud22c\\uc790\",\"\\uc0c1\\uc2b9\",\"\\uc774\\ud6c4\",\"\\uc815\\ubd80\",\"\\uc62c\\ud574\",\"\\uc5f0\\ud569\\ub274\\uc2a4\",\"\\ucd5c\\uadfc\",\"\\uae30\\uc5c5\",\"\\uac00\\ub2a5\",\"\\uc0c1\\ud669\",\"\\ubc1c\\ud45c\",\"\\ub2f9\\uad6d\",\"\\uc8fc\\ud0dd\",\"\\uae30\\uc790\",\"\\uae30\\uc900\",\"\\uc774\\ub0a0\",\"\\uac1c\\ubc1c\",\"\\ud3ec\\uc778\\ud2b8\",\"\\uaddc\\ubaa8\",\"\\uc815\\ucc45\",\"\\uc778\\ud558\",\"\\ub300\\ube44\",\"\\ub9cc\\uae30\",\"\\uc601\\ud5a5\",\"\\uc9c0\\ub09c\\ud574\",\"\\ucc9c\\uc5b5\",\"\\uc608\\uc0c1\",\"\\ub300\\ucd9c\",\"\\ud658\\uc728\",\"\\uac70\\ub798\",\"\\ub514\\ud3f4\\ud2b8\",\"\\ud55c\\uad6d\",\"\\uac00\\uc6b4\\ub370\"],\"xaxis\":\"x\",\"y\":[1510,746,677,653,487,455,366,361,337,336,321,314,314,312,304,296,291,283,267,262,252,247,243,227,227,221,220,217,216,215,212,210,208,201,179,178,176,175,174,173,171,168,167,166,163,161,159,158,156,155],\"yaxis\":\"y\",\"type\":\"bar\"}],                        {\"template\":{\"data\":{\"histogram2dcontour\":[{\"type\":\"histogram2dcontour\",\"colorbar\":{\"outlinewidth\":0,\"ticks\":\"\"},\"colorscale\":[[0.0,\"#0d0887\"],[0.1111111111111111,\"#46039f\"],[0.2222222222222222,\"#7201a8\"],[0.3333333333333333,\"#9c179e\"],[0.4444444444444444,\"#bd3786\"],[0.5555555555555556,\"#d8576b\"],[0.6666666666666666,\"#ed7953\"],[0.7777777777777778,\"#fb9f3a\"],[0.8888888888888888,\"#fdca26\"],[1.0,\"#f0f921\"]]}],\"choropleth\":[{\"type\":\"choropleth\",\"colorbar\":{\"outlinewidth\":0,\"ticks\":\"\"}}],\"histogram2d\":[{\"type\":\"histogram2d\",\"colorbar\":{\"outlinewidth\":0,\"ticks\":\"\"},\"colorscale\":[[0.0,\"#0d0887\"],[0.1111111111111111,\"#46039f\"],[0.2222222222222222,\"#7201a8\"],[0.3333333333333333,\"#9c179e\"],[0.4444444444444444,\"#bd3786\"],[0.5555555555555556,\"#d8576b\"],[0.6666666666666666,\"#ed7953\"],[0.7777777777777778,\"#fb9f3a\"],[0.8888888888888888,\"#fdca26\"],[1.0,\"#f0f921\"]]}],\"heatmap\":[{\"type\":\"heatmap\",\"colorbar\":{\"outlinewidth\":0,\"ticks\":\"\"},\"colorscale\":[[0.0,\"#0d0887\"],[0.1111111111111111,\"#46039f\"],[0.2222222222222222,\"#7201a8\"],[0.3333333333333333,\"#9c179e\"],[0.4444444444444444,\"#bd3786\"],[0.5555555555555556,\"#d8576b\"],[0.6666666666666666,\"#ed7953\"],[0.7777777777777778,\"#fb9f3a\"],[0.8888888888888888,\"#fdca26\"],[1.0,\"#f0f921\"]]}],\"heatmapgl\":[{\"type\":\"heatmapgl\",\"colorbar\":{\"outlinewidth\":0,\"ticks\":\"\"},\"colorscale\":[[0.0,\"#0d0887\"],[0.1111111111111111,\"#46039f\"],[0.2222222222222222,\"#7201a8\"],[0.3333333333333333,\"#9c179e\"],[0.4444444444444444,\"#bd3786\"],[0.5555555555555556,\"#d8576b\"],[0.6666666666666666,\"#ed7953\"],[0.7777777777777778,\"#fb9f3a\"],[0.8888888888888888,\"#fdca26\"],[1.0,\"#f0f921\"]]}],\"contourcarpet\":[{\"type\":\"contourcarpet\",\"colorbar\":{\"outlinewidth\":0,\"ticks\":\"\"}}],\"contour\":[{\"type\":\"contour\",\"colorbar\":{\"outlinewidth\":0,\"ticks\":\"\"},\"colorscale\":[[0.0,\"#0d0887\"],[0.1111111111111111,\"#46039f\"],[0.2222222222222222,\"#7201a8\"],[0.3333333333333333,\"#9c179e\"],[0.4444444444444444,\"#bd3786\"],[0.5555555555555556,\"#d8576b\"],[0.6666666666666666,\"#ed7953\"],[0.7777777777777778,\"#fb9f3a\"],[0.8888888888888888,\"#fdca26\"],[1.0,\"#f0f921\"]]}],\"surface\":[{\"type\":\"surface\",\"colorbar\":{\"outlinewidth\":0,\"ticks\":\"\"},\"colorscale\":[[0.0,\"#0d0887\"],[0.1111111111111111,\"#46039f\"],[0.2222222222222222,\"#7201a8\"],[0.3333333333333333,\"#9c179e\"],[0.4444444444444444,\"#bd3786\"],[0.5555555555555556,\"#d8576b\"],[0.6666666666666666,\"#ed7953\"],[0.7777777777777778,\"#fb9f3a\"],[0.8888888888888888,\"#fdca26\"],[1.0,\"#f0f921\"]]}],\"mesh3d\":[{\"type\":\"mesh3d\",\"colorbar\":{\"outlinewidth\":0,\"ticks\":\"\"}}],\"scatter\":[{\"fillpattern\":{\"fillmode\":\"overlay\",\"size\":10,\"solidity\":0.2},\"type\":\"scatter\"}],\"parcoords\":[{\"type\":\"parcoords\",\"line\":{\"colorbar\":{\"outlinewidth\":0,\"ticks\":\"\"}}}],\"scatterpolargl\":[{\"type\":\"scatterpolargl\",\"marker\":{\"colorbar\":{\"outlinewidth\":0,\"ticks\":\"\"}}}],\"bar\":[{\"error_x\":{\"color\":\"#2a3f5f\"},\"error_y\":{\"color\":\"#2a3f5f\"},\"marker\":{\"line\":{\"color\":\"#E5ECF6\",\"width\":0.5},\"pattern\":{\"fillmode\":\"overlay\",\"size\":10,\"solidity\":0.2}},\"type\":\"bar\"}],\"scattergeo\":[{\"type\":\"scattergeo\",\"marker\":{\"colorbar\":{\"outlinewidth\":0,\"ticks\":\"\"}}}],\"scatterpolar\":[{\"type\":\"scatterpolar\",\"marker\":{\"colorbar\":{\"outlinewidth\":0,\"ticks\":\"\"}}}],\"histogram\":[{\"marker\":{\"pattern\":{\"fillmode\":\"overlay\",\"size\":10,\"solidity\":0.2}},\"type\":\"histogram\"}],\"scattergl\":[{\"type\":\"scattergl\",\"marker\":{\"colorbar\":{\"outlinewidth\":0,\"ticks\":\"\"}}}],\"scatter3d\":[{\"type\":\"scatter3d\",\"line\":{\"colorbar\":{\"outlinewidth\":0,\"ticks\":\"\"}},\"marker\":{\"colorbar\":{\"outlinewidth\":0,\"ticks\":\"\"}}}],\"scattermapbox\":[{\"type\":\"scattermapbox\",\"marker\":{\"colorbar\":{\"outlinewidth\":0,\"ticks\":\"\"}}}],\"scatterternary\":[{\"type\":\"scatterternary\",\"marker\":{\"colorbar\":{\"outlinewidth\":0,\"ticks\":\"\"}}}],\"scattercarpet\":[{\"type\":\"scattercarpet\",\"marker\":{\"colorbar\":{\"outlinewidth\":0,\"ticks\":\"\"}}}],\"carpet\":[{\"aaxis\":{\"endlinecolor\":\"#2a3f5f\",\"gridcolor\":\"white\",\"linecolor\":\"white\",\"minorgridcolor\":\"white\",\"startlinecolor\":\"#2a3f5f\"},\"baxis\":{\"endlinecolor\":\"#2a3f5f\",\"gridcolor\":\"white\",\"linecolor\":\"white\",\"minorgridcolor\":\"white\",\"startlinecolor\":\"#2a3f5f\"},\"type\":\"carpet\"}],\"table\":[{\"cells\":{\"fill\":{\"color\":\"#EBF0F8\"},\"line\":{\"color\":\"white\"}},\"header\":{\"fill\":{\"color\":\"#C8D4E3\"},\"line\":{\"color\":\"white\"}},\"type\":\"table\"}],\"barpolar\":[{\"marker\":{\"line\":{\"color\":\"#E5ECF6\",\"width\":0.5},\"pattern\":{\"fillmode\":\"overlay\",\"size\":10,\"solidity\":0.2}},\"type\":\"barpolar\"}],\"pie\":[{\"automargin\":true,\"type\":\"pie\"}]},\"layout\":{\"autotypenumbers\":\"strict\",\"colorway\":[\"#636efa\",\"#EF553B\",\"#00cc96\",\"#ab63fa\",\"#FFA15A\",\"#19d3f3\",\"#FF6692\",\"#B6E880\",\"#FF97FF\",\"#FECB52\"],\"font\":{\"color\":\"#2a3f5f\"},\"hovermode\":\"closest\",\"hoverlabel\":{\"align\":\"left\"},\"paper_bgcolor\":\"white\",\"plot_bgcolor\":\"#E5ECF6\",\"polar\":{\"bgcolor\":\"#E5ECF6\",\"angularaxis\":{\"gridcolor\":\"white\",\"linecolor\":\"white\",\"ticks\":\"\"},\"radialaxis\":{\"gridcolor\":\"white\",\"linecolor\":\"white\",\"ticks\":\"\"}},\"ternary\":{\"bgcolor\":\"#E5ECF6\",\"aaxis\":{\"gridcolor\":\"white\",\"linecolor\":\"white\",\"ticks\":\"\"},\"baxis\":{\"gridcolor\":\"white\",\"linecolor\":\"white\",\"ticks\":\"\"},\"caxis\":{\"gridcolor\":\"white\",\"linecolor\":\"white\",\"ticks\":\"\"}},\"coloraxis\":{\"colorbar\":{\"outlinewidth\":0,\"ticks\":\"\"}},\"colorscale\":{\"sequential\":[[0.0,\"#0d0887\"],[0.1111111111111111,\"#46039f\"],[0.2222222222222222,\"#7201a8\"],[0.3333333333333333,\"#9c179e\"],[0.4444444444444444,\"#bd3786\"],[0.5555555555555556,\"#d8576b\"],[0.6666666666666666,\"#ed7953\"],[0.7777777777777778,\"#fb9f3a\"],[0.8888888888888888,\"#fdca26\"],[1.0,\"#f0f921\"]],\"sequentialminus\":[[0.0,\"#0d0887\"],[0.1111111111111111,\"#46039f\"],[0.2222222222222222,\"#7201a8\"],[0.3333333333333333,\"#9c179e\"],[0.4444444444444444,\"#bd3786\"],[0.5555555555555556,\"#d8576b\"],[0.6666666666666666,\"#ed7953\"],[0.7777777777777778,\"#fb9f3a\"],[0.8888888888888888,\"#fdca26\"],[1.0,\"#f0f921\"]],\"diverging\":[[0,\"#8e0152\"],[0.1,\"#c51b7d\"],[0.2,\"#de77ae\"],[0.3,\"#f1b6da\"],[0.4,\"#fde0ef\"],[0.5,\"#f7f7f7\"],[0.6,\"#e6f5d0\"],[0.7,\"#b8e186\"],[0.8,\"#7fbc41\"],[0.9,\"#4d9221\"],[1,\"#276419\"]]},\"xaxis\":{\"gridcolor\":\"white\",\"linecolor\":\"white\",\"ticks\":\"\",\"title\":{\"standoff\":15},\"zerolinecolor\":\"white\",\"automargin\":true,\"zerolinewidth\":2},\"yaxis\":{\"gridcolor\":\"white\",\"linecolor\":\"white\",\"ticks\":\"\",\"title\":{\"standoff\":15},\"zerolinecolor\":\"white\",\"automargin\":true,\"zerolinewidth\":2},\"scene\":{\"xaxis\":{\"backgroundcolor\":\"#E5ECF6\",\"gridcolor\":\"white\",\"linecolor\":\"white\",\"showbackground\":true,\"ticks\":\"\",\"zerolinecolor\":\"white\",\"gridwidth\":2},\"yaxis\":{\"backgroundcolor\":\"#E5ECF6\",\"gridcolor\":\"white\",\"linecolor\":\"white\",\"showbackground\":true,\"ticks\":\"\",\"zerolinecolor\":\"white\",\"gridwidth\":2},\"zaxis\":{\"backgroundcolor\":\"#E5ECF6\",\"gridcolor\":\"white\",\"linecolor\":\"white\",\"showbackground\":true,\"ticks\":\"\",\"zerolinecolor\":\"white\",\"gridwidth\":2}},\"shapedefaults\":{\"line\":{\"color\":\"#2a3f5f\"}},\"annotationdefaults\":{\"arrowcolor\":\"#2a3f5f\",\"arrowhead\":0,\"arrowwidth\":1},\"geo\":{\"bgcolor\":\"white\",\"landcolor\":\"#E5ECF6\",\"subunitcolor\":\"white\",\"showland\":true,\"showlakes\":true,\"lakecolor\":\"white\"},\"title\":{\"x\":0.05},\"mapbox\":{\"style\":\"light\"}}},\"xaxis\":{\"anchor\":\"y\",\"domain\":[0.0,1.0],\"title\":{\"text\":\"\\ub2e8\\uc5b4\"},\"tickangle\":-45},\"yaxis\":{\"anchor\":\"x\",\"domain\":[0.0,1.0],\"title\":{\"text\":\"\\ud69f\\uc218\"}},\"legend\":{\"tracegroupgap\":0},\"title\":{\"text\":\"Top 50 \\ube48\\ub3c4\\uc218 \\ub2e8\\uc5b4\\ub4e4\"},\"barmode\":\"relative\"},                        {\"responsive\": true}                    ).then(function(){\n",
       "                            \n",
       "var gd = document.getElementById('d19020a6-ec12-42dd-93cf-4d3bf2587a1f');\n",
       "var x = new MutationObserver(function (mutations, observer) {{\n",
       "        var display = window.getComputedStyle(gd).display;\n",
       "        if (!display || display === 'none') {{\n",
       "            console.log([gd, 'removed!']);\n",
       "            Plotly.purge(gd);\n",
       "            observer.disconnect();\n",
       "        }}\n",
       "}});\n",
       "\n",
       "// Listen for the removal of the full notebook cells\n",
       "var notebookContainer = gd.closest('#notebook-container');\n",
       "if (notebookContainer) {{\n",
       "    x.observe(notebookContainer, {childList: true});\n",
       "}}\n",
       "\n",
       "// Listen for the clearing of the current output cell\n",
       "var outputEl = gd.closest('.output');\n",
       "if (outputEl) {{\n",
       "    x.observe(outputEl, {childList: true});\n",
       "}}\n",
       "\n",
       "                        })                };                });            </script>        </div>"
      ]
     },
     "metadata": {},
     "output_type": "display_data"
    }
   ],
   "source": [
    "top_50_nouns = dict(count.most_common(50))\n",
    "\n",
    "# Create a bar chart using Plotly Express\n",
    "fig = px.bar(x=list(top_50_nouns.keys()), y=list(top_50_nouns.values()), title=\"Top 50 빈도수 단어들\")\n",
    "fig.update_layout(xaxis_title=\"단어\", yaxis_title=\"횟수\", xaxis_tickangle=-45)\n",
    "\n",
    "fig.show()"
   ]
  },
  {
   "cell_type": "markdown",
   "id": "c8d8c73c-83a0-4875-9e5d-a88dfc3805f3",
   "metadata": {},
   "source": [
    "## 부동산 관련 뉴스 제목중 가장 많이 포함된 단어"
   ]
  },
  {
   "cell_type": "code",
   "execution_count": 13,
   "id": "03c1d587-b0c3-46af-bbe9-5e05cba5c045",
   "metadata": {},
   "outputs": [],
   "source": [
    "title_list = df.title.values.tolist()\n",
    "title_text = ''\n",
    "for each_line in title_list:\n",
    "    title_text = title_text + each_line + '\\n'"
   ]
  },
  {
   "cell_type": "code",
   "execution_count": 16,
   "id": "6e31865d-f2db-44da-8c04-89f091bc9424",
   "metadata": {},
   "outputs": [
    {
     "name": "stdout",
     "output_type": "stream",
     "text": [
      "[0.009s][warning][os,thread] Attempt to protect stack guard pages failed (0x000000016b7ac000-0x000000016b7b8000).\n",
      "[0.009s][warning][os,thread] Attempt to deallocate stack guard pages failed.\n",
      "3793\n",
      "1281\n"
     ]
    }
   ],
   "source": [
    "t = Okt()\n",
    "tokens_ko = t.morphs(title_text)\n",
    "ko = nltk.Text(tokens_ko)\n",
    "print(len(ko.tokens))          # 토큰 전체 개수\n",
    "print(len(set(ko.tokens)))     # 토큰 unique 개수"
   ]
  },
  {
   "cell_type": "code",
   "execution_count": 17,
   "id": "0f0d3d80-5414-4b77-a88f-36eae0c3f0f3",
   "metadata": {},
   "outputs": [
    {
     "data": {
      "application/vnd.plotly.v1+json": {
       "config": {
        "plotlyServerURL": "https://plotly.com"
       },
       "data": [
        {
         "alignmentgroup": "True",
         "hovertemplate": "단어=%{x}<br>횟수=%{y}<extra></extra>",
         "legendgroup": "",
         "marker": {
          "color": "#636efa",
          "pattern": {
           "shape": ""
          }
         },
         "name": "",
         "offsetgroup": "",
         "orientation": "v",
         "showlegend": false,
         "textposition": "auto",
         "type": "bar",
         "x": [
          "중국",
          "中",
          "부동산",
          "우려",
          "위기",
          "경제",
          "상승",
          "금융",
          "하락",
          "은행",
          "위안",
          "주택",
          "경기",
          "주요",
          "신문",
          "인하",
          "환율",
          "거래",
          "전국",
          "美",
          "금리",
          "투자",
          "아파트",
          "기준금리",
          "뉴욕증시",
          "미국",
          "디폴트",
          "당국",
          "전세",
          "회복",
          "조간",
          "연합뉴스",
          "헤드라인",
          "불안",
          "세계",
          "확대",
          "↓",
          "전환",
          "발표",
          "비구",
          "횡령",
          "둔화",
          "시장",
          "서울",
          "국내",
          "경남",
          "한국",
          "톱뉴스",
          "헝다",
          "신청"
         ],
         "xaxis": "x",
         "y": [
          60,
          58,
          28,
          26,
          26,
          19,
          19,
          17,
          14,
          13,
          12,
          11,
          11,
          11,
          11,
          11,
          11,
          11,
          11,
          11,
          10,
          9,
          9,
          8,
          8,
          8,
          8,
          8,
          7,
          7,
          7,
          7,
          7,
          7,
          7,
          7,
          7,
          7,
          7,
          7,
          6,
          6,
          6,
          6,
          6,
          6,
          6,
          6,
          6,
          6
         ],
         "yaxis": "y"
        }
       ],
       "layout": {
        "autosize": true,
        "barmode": "relative",
        "legend": {
         "tracegroupgap": 0
        },
        "template": {
         "data": {
          "bar": [
           {
            "error_x": {
             "color": "#2a3f5f"
            },
            "error_y": {
             "color": "#2a3f5f"
            },
            "marker": {
             "line": {
              "color": "#E5ECF6",
              "width": 0.5
             },
             "pattern": {
              "fillmode": "overlay",
              "size": 10,
              "solidity": 0.2
             }
            },
            "type": "bar"
           }
          ],
          "barpolar": [
           {
            "marker": {
             "line": {
              "color": "#E5ECF6",
              "width": 0.5
             },
             "pattern": {
              "fillmode": "overlay",
              "size": 10,
              "solidity": 0.2
             }
            },
            "type": "barpolar"
           }
          ],
          "carpet": [
           {
            "aaxis": {
             "endlinecolor": "#2a3f5f",
             "gridcolor": "white",
             "linecolor": "white",
             "minorgridcolor": "white",
             "startlinecolor": "#2a3f5f"
            },
            "baxis": {
             "endlinecolor": "#2a3f5f",
             "gridcolor": "white",
             "linecolor": "white",
             "minorgridcolor": "white",
             "startlinecolor": "#2a3f5f"
            },
            "type": "carpet"
           }
          ],
          "choropleth": [
           {
            "colorbar": {
             "outlinewidth": 0,
             "ticks": ""
            },
            "type": "choropleth"
           }
          ],
          "contour": [
           {
            "colorbar": {
             "outlinewidth": 0,
             "ticks": ""
            },
            "colorscale": [
             [
              0,
              "#0d0887"
             ],
             [
              0.1111111111111111,
              "#46039f"
             ],
             [
              0.2222222222222222,
              "#7201a8"
             ],
             [
              0.3333333333333333,
              "#9c179e"
             ],
             [
              0.4444444444444444,
              "#bd3786"
             ],
             [
              0.5555555555555556,
              "#d8576b"
             ],
             [
              0.6666666666666666,
              "#ed7953"
             ],
             [
              0.7777777777777778,
              "#fb9f3a"
             ],
             [
              0.8888888888888888,
              "#fdca26"
             ],
             [
              1,
              "#f0f921"
             ]
            ],
            "type": "contour"
           }
          ],
          "contourcarpet": [
           {
            "colorbar": {
             "outlinewidth": 0,
             "ticks": ""
            },
            "type": "contourcarpet"
           }
          ],
          "heatmap": [
           {
            "colorbar": {
             "outlinewidth": 0,
             "ticks": ""
            },
            "colorscale": [
             [
              0,
              "#0d0887"
             ],
             [
              0.1111111111111111,
              "#46039f"
             ],
             [
              0.2222222222222222,
              "#7201a8"
             ],
             [
              0.3333333333333333,
              "#9c179e"
             ],
             [
              0.4444444444444444,
              "#bd3786"
             ],
             [
              0.5555555555555556,
              "#d8576b"
             ],
             [
              0.6666666666666666,
              "#ed7953"
             ],
             [
              0.7777777777777778,
              "#fb9f3a"
             ],
             [
              0.8888888888888888,
              "#fdca26"
             ],
             [
              1,
              "#f0f921"
             ]
            ],
            "type": "heatmap"
           }
          ],
          "heatmapgl": [
           {
            "colorbar": {
             "outlinewidth": 0,
             "ticks": ""
            },
            "colorscale": [
             [
              0,
              "#0d0887"
             ],
             [
              0.1111111111111111,
              "#46039f"
             ],
             [
              0.2222222222222222,
              "#7201a8"
             ],
             [
              0.3333333333333333,
              "#9c179e"
             ],
             [
              0.4444444444444444,
              "#bd3786"
             ],
             [
              0.5555555555555556,
              "#d8576b"
             ],
             [
              0.6666666666666666,
              "#ed7953"
             ],
             [
              0.7777777777777778,
              "#fb9f3a"
             ],
             [
              0.8888888888888888,
              "#fdca26"
             ],
             [
              1,
              "#f0f921"
             ]
            ],
            "type": "heatmapgl"
           }
          ],
          "histogram": [
           {
            "marker": {
             "pattern": {
              "fillmode": "overlay",
              "size": 10,
              "solidity": 0.2
             }
            },
            "type": "histogram"
           }
          ],
          "histogram2d": [
           {
            "colorbar": {
             "outlinewidth": 0,
             "ticks": ""
            },
            "colorscale": [
             [
              0,
              "#0d0887"
             ],
             [
              0.1111111111111111,
              "#46039f"
             ],
             [
              0.2222222222222222,
              "#7201a8"
             ],
             [
              0.3333333333333333,
              "#9c179e"
             ],
             [
              0.4444444444444444,
              "#bd3786"
             ],
             [
              0.5555555555555556,
              "#d8576b"
             ],
             [
              0.6666666666666666,
              "#ed7953"
             ],
             [
              0.7777777777777778,
              "#fb9f3a"
             ],
             [
              0.8888888888888888,
              "#fdca26"
             ],
             [
              1,
              "#f0f921"
             ]
            ],
            "type": "histogram2d"
           }
          ],
          "histogram2dcontour": [
           {
            "colorbar": {
             "outlinewidth": 0,
             "ticks": ""
            },
            "colorscale": [
             [
              0,
              "#0d0887"
             ],
             [
              0.1111111111111111,
              "#46039f"
             ],
             [
              0.2222222222222222,
              "#7201a8"
             ],
             [
              0.3333333333333333,
              "#9c179e"
             ],
             [
              0.4444444444444444,
              "#bd3786"
             ],
             [
              0.5555555555555556,
              "#d8576b"
             ],
             [
              0.6666666666666666,
              "#ed7953"
             ],
             [
              0.7777777777777778,
              "#fb9f3a"
             ],
             [
              0.8888888888888888,
              "#fdca26"
             ],
             [
              1,
              "#f0f921"
             ]
            ],
            "type": "histogram2dcontour"
           }
          ],
          "mesh3d": [
           {
            "colorbar": {
             "outlinewidth": 0,
             "ticks": ""
            },
            "type": "mesh3d"
           }
          ],
          "parcoords": [
           {
            "line": {
             "colorbar": {
              "outlinewidth": 0,
              "ticks": ""
             }
            },
            "type": "parcoords"
           }
          ],
          "pie": [
           {
            "automargin": true,
            "type": "pie"
           }
          ],
          "scatter": [
           {
            "fillpattern": {
             "fillmode": "overlay",
             "size": 10,
             "solidity": 0.2
            },
            "type": "scatter"
           }
          ],
          "scatter3d": [
           {
            "line": {
             "colorbar": {
              "outlinewidth": 0,
              "ticks": ""
             }
            },
            "marker": {
             "colorbar": {
              "outlinewidth": 0,
              "ticks": ""
             }
            },
            "type": "scatter3d"
           }
          ],
          "scattercarpet": [
           {
            "marker": {
             "colorbar": {
              "outlinewidth": 0,
              "ticks": ""
             }
            },
            "type": "scattercarpet"
           }
          ],
          "scattergeo": [
           {
            "marker": {
             "colorbar": {
              "outlinewidth": 0,
              "ticks": ""
             }
            },
            "type": "scattergeo"
           }
          ],
          "scattergl": [
           {
            "marker": {
             "colorbar": {
              "outlinewidth": 0,
              "ticks": ""
             }
            },
            "type": "scattergl"
           }
          ],
          "scattermapbox": [
           {
            "marker": {
             "colorbar": {
              "outlinewidth": 0,
              "ticks": ""
             }
            },
            "type": "scattermapbox"
           }
          ],
          "scatterpolar": [
           {
            "marker": {
             "colorbar": {
              "outlinewidth": 0,
              "ticks": ""
             }
            },
            "type": "scatterpolar"
           }
          ],
          "scatterpolargl": [
           {
            "marker": {
             "colorbar": {
              "outlinewidth": 0,
              "ticks": ""
             }
            },
            "type": "scatterpolargl"
           }
          ],
          "scatterternary": [
           {
            "marker": {
             "colorbar": {
              "outlinewidth": 0,
              "ticks": ""
             }
            },
            "type": "scatterternary"
           }
          ],
          "surface": [
           {
            "colorbar": {
             "outlinewidth": 0,
             "ticks": ""
            },
            "colorscale": [
             [
              0,
              "#0d0887"
             ],
             [
              0.1111111111111111,
              "#46039f"
             ],
             [
              0.2222222222222222,
              "#7201a8"
             ],
             [
              0.3333333333333333,
              "#9c179e"
             ],
             [
              0.4444444444444444,
              "#bd3786"
             ],
             [
              0.5555555555555556,
              "#d8576b"
             ],
             [
              0.6666666666666666,
              "#ed7953"
             ],
             [
              0.7777777777777778,
              "#fb9f3a"
             ],
             [
              0.8888888888888888,
              "#fdca26"
             ],
             [
              1,
              "#f0f921"
             ]
            ],
            "type": "surface"
           }
          ],
          "table": [
           {
            "cells": {
             "fill": {
              "color": "#EBF0F8"
             },
             "line": {
              "color": "white"
             }
            },
            "header": {
             "fill": {
              "color": "#C8D4E3"
             },
             "line": {
              "color": "white"
             }
            },
            "type": "table"
           }
          ]
         },
         "layout": {
          "annotationdefaults": {
           "arrowcolor": "#2a3f5f",
           "arrowhead": 0,
           "arrowwidth": 1
          },
          "autotypenumbers": "strict",
          "coloraxis": {
           "colorbar": {
            "outlinewidth": 0,
            "ticks": ""
           }
          },
          "colorscale": {
           "diverging": [
            [
             0,
             "#8e0152"
            ],
            [
             0.1,
             "#c51b7d"
            ],
            [
             0.2,
             "#de77ae"
            ],
            [
             0.3,
             "#f1b6da"
            ],
            [
             0.4,
             "#fde0ef"
            ],
            [
             0.5,
             "#f7f7f7"
            ],
            [
             0.6,
             "#e6f5d0"
            ],
            [
             0.7,
             "#b8e186"
            ],
            [
             0.8,
             "#7fbc41"
            ],
            [
             0.9,
             "#4d9221"
            ],
            [
             1,
             "#276419"
            ]
           ],
           "sequential": [
            [
             0,
             "#0d0887"
            ],
            [
             0.1111111111111111,
             "#46039f"
            ],
            [
             0.2222222222222222,
             "#7201a8"
            ],
            [
             0.3333333333333333,
             "#9c179e"
            ],
            [
             0.4444444444444444,
             "#bd3786"
            ],
            [
             0.5555555555555556,
             "#d8576b"
            ],
            [
             0.6666666666666666,
             "#ed7953"
            ],
            [
             0.7777777777777778,
             "#fb9f3a"
            ],
            [
             0.8888888888888888,
             "#fdca26"
            ],
            [
             1,
             "#f0f921"
            ]
           ],
           "sequentialminus": [
            [
             0,
             "#0d0887"
            ],
            [
             0.1111111111111111,
             "#46039f"
            ],
            [
             0.2222222222222222,
             "#7201a8"
            ],
            [
             0.3333333333333333,
             "#9c179e"
            ],
            [
             0.4444444444444444,
             "#bd3786"
            ],
            [
             0.5555555555555556,
             "#d8576b"
            ],
            [
             0.6666666666666666,
             "#ed7953"
            ],
            [
             0.7777777777777778,
             "#fb9f3a"
            ],
            [
             0.8888888888888888,
             "#fdca26"
            ],
            [
             1,
             "#f0f921"
            ]
           ]
          },
          "colorway": [
           "#636efa",
           "#EF553B",
           "#00cc96",
           "#ab63fa",
           "#FFA15A",
           "#19d3f3",
           "#FF6692",
           "#B6E880",
           "#FF97FF",
           "#FECB52"
          ],
          "font": {
           "color": "#2a3f5f"
          },
          "geo": {
           "bgcolor": "white",
           "lakecolor": "white",
           "landcolor": "#E5ECF6",
           "showlakes": true,
           "showland": true,
           "subunitcolor": "white"
          },
          "hoverlabel": {
           "align": "left"
          },
          "hovermode": "closest",
          "mapbox": {
           "style": "light"
          },
          "paper_bgcolor": "white",
          "plot_bgcolor": "#E5ECF6",
          "polar": {
           "angularaxis": {
            "gridcolor": "white",
            "linecolor": "white",
            "ticks": ""
           },
           "bgcolor": "#E5ECF6",
           "radialaxis": {
            "gridcolor": "white",
            "linecolor": "white",
            "ticks": ""
           }
          },
          "scene": {
           "xaxis": {
            "backgroundcolor": "#E5ECF6",
            "gridcolor": "white",
            "gridwidth": 2,
            "linecolor": "white",
            "showbackground": true,
            "ticks": "",
            "zerolinecolor": "white"
           },
           "yaxis": {
            "backgroundcolor": "#E5ECF6",
            "gridcolor": "white",
            "gridwidth": 2,
            "linecolor": "white",
            "showbackground": true,
            "ticks": "",
            "zerolinecolor": "white"
           },
           "zaxis": {
            "backgroundcolor": "#E5ECF6",
            "gridcolor": "white",
            "gridwidth": 2,
            "linecolor": "white",
            "showbackground": true,
            "ticks": "",
            "zerolinecolor": "white"
           }
          },
          "shapedefaults": {
           "line": {
            "color": "#2a3f5f"
           }
          },
          "ternary": {
           "aaxis": {
            "gridcolor": "white",
            "linecolor": "white",
            "ticks": ""
           },
           "baxis": {
            "gridcolor": "white",
            "linecolor": "white",
            "ticks": ""
           },
           "bgcolor": "#E5ECF6",
           "caxis": {
            "gridcolor": "white",
            "linecolor": "white",
            "ticks": ""
           }
          },
          "title": {
           "x": 0.05
          },
          "xaxis": {
           "automargin": true,
           "gridcolor": "white",
           "linecolor": "white",
           "ticks": "",
           "title": {
            "standoff": 15
           },
           "zerolinecolor": "white",
           "zerolinewidth": 2
          },
          "yaxis": {
           "automargin": true,
           "gridcolor": "white",
           "linecolor": "white",
           "ticks": "",
           "title": {
            "standoff": 15
           },
           "zerolinecolor": "white",
           "zerolinewidth": 2
          }
         }
        },
        "title": {
         "text": "부동산 관련 뉴스 제목중 가장 많이 포함된 단어"
        },
        "xaxis": {
         "anchor": "y",
         "autorange": false,
         "domain": [
          0,
          1
         ],
         "range": [
          -0.5,
          5.978601327944573
         ],
         "title": {
          "text": "단어"
         },
         "type": "category"
        },
        "yaxis": {
         "anchor": "x",
         "autorange": false,
         "domain": [
          0,
          1
         ],
         "range": [
          0,
          61.31304824561403
         ],
         "title": {
          "text": "횟수"
         },
         "type": "linear"
        }
       }
      },
      "image/png": "[encoded data removed]",
      "text/html": [
       "<div>                            <div id=\"aef7bbc8-7d0a-4c32-afb6-afe971822036\" class=\"plotly-graph-div\" style=\"height:525px; width:100%;\"></div>            <script type=\"text/javascript\">                require([\"plotly\"], function(Plotly) {                    window.PLOTLYENV=window.PLOTLYENV || {};                                    if (document.getElementById(\"aef7bbc8-7d0a-4c32-afb6-afe971822036\")) {                    Plotly.newPlot(                        \"aef7bbc8-7d0a-4c32-afb6-afe971822036\",                        [{\"alignmentgroup\":\"True\",\"hovertemplate\":\"\\ub2e8\\uc5b4=%{x}\\u003cbr\\u003e\\ud69f\\uc218=%{y}\\u003cextra\\u003e\\u003c\\u002fextra\\u003e\",\"legendgroup\":\"\",\"marker\":{\"color\":\"#636efa\",\"pattern\":{\"shape\":\"\"}},\"name\":\"\",\"offsetgroup\":\"\",\"orientation\":\"v\",\"showlegend\":false,\"textposition\":\"auto\",\"x\":[\"\\uc911\\uad6d\",\"\\u4e2d\",\"\\ubd80\\ub3d9\\uc0b0\",\"\\uc6b0\\ub824\",\"\\uc704\\uae30\",\"\\uacbd\\uc81c\",\"\\uc0c1\\uc2b9\",\"\\uae08\\uc735\",\"\\ud558\\ub77d\",\"\\uc740\\ud589\",\"\\uc704\\uc548\",\"\\uc8fc\\ud0dd\",\"\\uacbd\\uae30\",\"\\uc8fc\\uc694\",\"\\uc2e0\\ubb38\",\"\\uc778\\ud558\",\"\\ud658\\uc728\",\"\\uac70\\ub798\",\"\\uc804\\uad6d\",\"\\u7f8e\",\"\\uae08\\ub9ac\",\"\\ud22c\\uc790\",\"\\uc544\\ud30c\\ud2b8\",\"\\uae30\\uc900\\uae08\\ub9ac\",\"\\ub274\\uc695\\uc99d\\uc2dc\",\"\\ubbf8\\uad6d\",\"\\ub514\\ud3f4\\ud2b8\",\"\\ub2f9\\uad6d\",\"\\uc804\\uc138\",\"\\ud68c\\ubcf5\",\"\\uc870\\uac04\",\"\\uc5f0\\ud569\\ub274\\uc2a4\",\"\\ud5e4\\ub4dc\\ub77c\\uc778\",\"\\ubd88\\uc548\",\"\\uc138\\uacc4\",\"\\ud655\\ub300\",\"\\u2193\",\"\\uc804\\ud658\",\"\\ubc1c\\ud45c\",\"\\ube44\\uad6c\",\"\\ud6a1\\ub839\",\"\\ub454\\ud654\",\"\\uc2dc\\uc7a5\",\"\\uc11c\\uc6b8\",\"\\uad6d\\ub0b4\",\"\\uacbd\\ub0a8\",\"\\ud55c\\uad6d\",\"\\ud1b1\\ub274\\uc2a4\",\"\\ud5dd\\ub2e4\",\"\\uc2e0\\uccad\"],\"xaxis\":\"x\",\"y\":[60,58,28,26,26,19,19,17,14,13,12,11,11,11,11,11,11,11,11,11,10,9,9,8,8,8,8,8,7,7,7,7,7,7,7,7,7,7,7,7,6,6,6,6,6,6,6,6,6,6],\"yaxis\":\"y\",\"type\":\"bar\"}],                        {\"template\":{\"data\":{\"histogram2dcontour\":[{\"type\":\"histogram2dcontour\",\"colorbar\":{\"outlinewidth\":0,\"ticks\":\"\"},\"colorscale\":[[0.0,\"#0d0887\"],[0.1111111111111111,\"#46039f\"],[0.2222222222222222,\"#7201a8\"],[0.3333333333333333,\"#9c179e\"],[0.4444444444444444,\"#bd3786\"],[0.5555555555555556,\"#d8576b\"],[0.6666666666666666,\"#ed7953\"],[0.7777777777777778,\"#fb9f3a\"],[0.8888888888888888,\"#fdca26\"],[1.0,\"#f0f921\"]]}],\"choropleth\":[{\"type\":\"choropleth\",\"colorbar\":{\"outlinewidth\":0,\"ticks\":\"\"}}],\"histogram2d\":[{\"type\":\"histogram2d\",\"colorbar\":{\"outlinewidth\":0,\"ticks\":\"\"},\"colorscale\":[[0.0,\"#0d0887\"],[0.1111111111111111,\"#46039f\"],[0.2222222222222222,\"#7201a8\"],[0.3333333333333333,\"#9c179e\"],[0.4444444444444444,\"#bd3786\"],[0.5555555555555556,\"#d8576b\"],[0.6666666666666666,\"#ed7953\"],[0.7777777777777778,\"#fb9f3a\"],[0.8888888888888888,\"#fdca26\"],[1.0,\"#f0f921\"]]}],\"heatmap\":[{\"type\":\"heatmap\",\"colorbar\":{\"outlinewidth\":0,\"ticks\":\"\"},\"colorscale\":[[0.0,\"#0d0887\"],[0.1111111111111111,\"#46039f\"],[0.2222222222222222,\"#7201a8\"],[0.3333333333333333,\"#9c179e\"],[0.4444444444444444,\"#bd3786\"],[0.5555555555555556,\"#d8576b\"],[0.6666666666666666,\"#ed7953\"],[0.7777777777777778,\"#fb9f3a\"],[0.8888888888888888,\"#fdca26\"],[1.0,\"#f0f921\"]]}],\"heatmapgl\":[{\"type\":\"heatmapgl\",\"colorbar\":{\"outlinewidth\":0,\"ticks\":\"\"},\"colorscale\":[[0.0,\"#0d0887\"],[0.1111111111111111,\"#46039f\"],[0.2222222222222222,\"#7201a8\"],[0.3333333333333333,\"#9c179e\"],[0.4444444444444444,\"#bd3786\"],[0.5555555555555556,\"#d8576b\"],[0.6666666666666666,\"#ed7953\"],[0.7777777777777778,\"#fb9f3a\"],[0.8888888888888888,\"#fdca26\"],[1.0,\"#f0f921\"]]}],\"contourcarpet\":[{\"type\":\"contourcarpet\",\"colorbar\":{\"outlinewidth\":0,\"ticks\":\"\"}}],\"contour\":[{\"type\":\"contour\",\"colorbar\":{\"outlinewidth\":0,\"ticks\":\"\"},\"colorscale\":[[0.0,\"#0d0887\"],[0.1111111111111111,\"#46039f\"],[0.2222222222222222,\"#7201a8\"],[0.3333333333333333,\"#9c179e\"],[0.4444444444444444,\"#bd3786\"],[0.5555555555555556,\"#d8576b\"],[0.6666666666666666,\"#ed7953\"],[0.7777777777777778,\"#fb9f3a\"],[0.8888888888888888,\"#fdca26\"],[1.0,\"#f0f921\"]]}],\"surface\":[{\"type\":\"surface\",\"colorbar\":{\"outlinewidth\":0,\"ticks\":\"\"},\"colorscale\":[[0.0,\"#0d0887\"],[0.1111111111111111,\"#46039f\"],[0.2222222222222222,\"#7201a8\"],[0.3333333333333333,\"#9c179e\"],[0.4444444444444444,\"#bd3786\"],[0.5555555555555556,\"#d8576b\"],[0.6666666666666666,\"#ed7953\"],[0.7777777777777778,\"#fb9f3a\"],[0.8888888888888888,\"#fdca26\"],[1.0,\"#f0f921\"]]}],\"mesh3d\":[{\"type\":\"mesh3d\",\"colorbar\":{\"outlinewidth\":0,\"ticks\":\"\"}}],\"scatter\":[{\"fillpattern\":{\"fillmode\":\"overlay\",\"size\":10,\"solidity\":0.2},\"type\":\"scatter\"}],\"parcoords\":[{\"type\":\"parcoords\",\"line\":{\"colorbar\":{\"outlinewidth\":0,\"ticks\":\"\"}}}],\"scatterpolargl\":[{\"type\":\"scatterpolargl\",\"marker\":{\"colorbar\":{\"outlinewidth\":0,\"ticks\":\"\"}}}],\"bar\":[{\"error_x\":{\"color\":\"#2a3f5f\"},\"error_y\":{\"color\":\"#2a3f5f\"},\"marker\":{\"line\":{\"color\":\"#E5ECF6\",\"width\":0.5},\"pattern\":{\"fillmode\":\"overlay\",\"size\":10,\"solidity\":0.2}},\"type\":\"bar\"}],\"scattergeo\":[{\"type\":\"scattergeo\",\"marker\":{\"colorbar\":{\"outlinewidth\":0,\"ticks\":\"\"}}}],\"scatterpolar\":[{\"type\":\"scatterpolar\",\"marker\":{\"colorbar\":{\"outlinewidth\":0,\"ticks\":\"\"}}}],\"histogram\":[{\"marker\":{\"pattern\":{\"fillmode\":\"overlay\",\"size\":10,\"solidity\":0.2}},\"type\":\"histogram\"}],\"scattergl\":[{\"type\":\"scattergl\",\"marker\":{\"colorbar\":{\"outlinewidth\":0,\"ticks\":\"\"}}}],\"scatter3d\":[{\"type\":\"scatter3d\",\"line\":{\"colorbar\":{\"outlinewidth\":0,\"ticks\":\"\"}},\"marker\":{\"colorbar\":{\"outlinewidth\":0,\"ticks\":\"\"}}}],\"scattermapbox\":[{\"type\":\"scattermapbox\",\"marker\":{\"colorbar\":{\"outlinewidth\":0,\"ticks\":\"\"}}}],\"scatterternary\":[{\"type\":\"scatterternary\",\"marker\":{\"colorbar\":{\"outlinewidth\":0,\"ticks\":\"\"}}}],\"scattercarpet\":[{\"type\":\"scattercarpet\",\"marker\":{\"colorbar\":{\"outlinewidth\":0,\"ticks\":\"\"}}}],\"carpet\":[{\"aaxis\":{\"endlinecolor\":\"#2a3f5f\",\"gridcolor\":\"white\",\"linecolor\":\"white\",\"minorgridcolor\":\"white\",\"startlinecolor\":\"#2a3f5f\"},\"baxis\":{\"endlinecolor\":\"#2a3f5f\",\"gridcolor\":\"white\",\"linecolor\":\"white\",\"minorgridcolor\":\"white\",\"startlinecolor\":\"#2a3f5f\"},\"type\":\"carpet\"}],\"table\":[{\"cells\":{\"fill\":{\"color\":\"#EBF0F8\"},\"line\":{\"color\":\"white\"}},\"header\":{\"fill\":{\"color\":\"#C8D4E3\"},\"line\":{\"color\":\"white\"}},\"type\":\"table\"}],\"barpolar\":[{\"marker\":{\"line\":{\"color\":\"#E5ECF6\",\"width\":0.5},\"pattern\":{\"fillmode\":\"overlay\",\"size\":10,\"solidity\":0.2}},\"type\":\"barpolar\"}],\"pie\":[{\"automargin\":true,\"type\":\"pie\"}]},\"layout\":{\"autotypenumbers\":\"strict\",\"colorway\":[\"#636efa\",\"#EF553B\",\"#00cc96\",\"#ab63fa\",\"#FFA15A\",\"#19d3f3\",\"#FF6692\",\"#B6E880\",\"#FF97FF\",\"#FECB52\"],\"font\":{\"color\":\"#2a3f5f\"},\"hovermode\":\"closest\",\"hoverlabel\":{\"align\":\"left\"},\"paper_bgcolor\":\"white\",\"plot_bgcolor\":\"#E5ECF6\",\"polar\":{\"bgcolor\":\"#E5ECF6\",\"angularaxis\":{\"gridcolor\":\"white\",\"linecolor\":\"white\",\"ticks\":\"\"},\"radialaxis\":{\"gridcolor\":\"white\",\"linecolor\":\"white\",\"ticks\":\"\"}},\"ternary\":{\"bgcolor\":\"#E5ECF6\",\"aaxis\":{\"gridcolor\":\"white\",\"linecolor\":\"white\",\"ticks\":\"\"},\"baxis\":{\"gridcolor\":\"white\",\"linecolor\":\"white\",\"ticks\":\"\"},\"caxis\":{\"gridcolor\":\"white\",\"linecolor\":\"white\",\"ticks\":\"\"}},\"coloraxis\":{\"colorbar\":{\"outlinewidth\":0,\"ticks\":\"\"}},\"colorscale\":{\"sequential\":[[0.0,\"#0d0887\"],[0.1111111111111111,\"#46039f\"],[0.2222222222222222,\"#7201a8\"],[0.3333333333333333,\"#9c179e\"],[0.4444444444444444,\"#bd3786\"],[0.5555555555555556,\"#d8576b\"],[0.6666666666666666,\"#ed7953\"],[0.7777777777777778,\"#fb9f3a\"],[0.8888888888888888,\"#fdca26\"],[1.0,\"#f0f921\"]],\"sequentialminus\":[[0.0,\"#0d0887\"],[0.1111111111111111,\"#46039f\"],[0.2222222222222222,\"#7201a8\"],[0.3333333333333333,\"#9c179e\"],[0.4444444444444444,\"#bd3786\"],[0.5555555555555556,\"#d8576b\"],[0.6666666666666666,\"#ed7953\"],[0.7777777777777778,\"#fb9f3a\"],[0.8888888888888888,\"#fdca26\"],[1.0,\"#f0f921\"]],\"diverging\":[[0,\"#8e0152\"],[0.1,\"#c51b7d\"],[0.2,\"#de77ae\"],[0.3,\"#f1b6da\"],[0.4,\"#fde0ef\"],[0.5,\"#f7f7f7\"],[0.6,\"#e6f5d0\"],[0.7,\"#b8e186\"],[0.8,\"#7fbc41\"],[0.9,\"#4d9221\"],[1,\"#276419\"]]},\"xaxis\":{\"gridcolor\":\"white\",\"linecolor\":\"white\",\"ticks\":\"\",\"title\":{\"standoff\":15},\"zerolinecolor\":\"white\",\"automargin\":true,\"zerolinewidth\":2},\"yaxis\":{\"gridcolor\":\"white\",\"linecolor\":\"white\",\"ticks\":\"\",\"title\":{\"standoff\":15},\"zerolinecolor\":\"white\",\"automargin\":true,\"zerolinewidth\":2},\"scene\":{\"xaxis\":{\"backgroundcolor\":\"#E5ECF6\",\"gridcolor\":\"white\",\"linecolor\":\"white\",\"showbackground\":true,\"ticks\":\"\",\"zerolinecolor\":\"white\",\"gridwidth\":2},\"yaxis\":{\"backgroundcolor\":\"#E5ECF6\",\"gridcolor\":\"white\",\"linecolor\":\"white\",\"showbackground\":true,\"ticks\":\"\",\"zerolinecolor\":\"white\",\"gridwidth\":2},\"zaxis\":{\"backgroundcolor\":\"#E5ECF6\",\"gridcolor\":\"white\",\"linecolor\":\"white\",\"showbackground\":true,\"ticks\":\"\",\"zerolinecolor\":\"white\",\"gridwidth\":2}},\"shapedefaults\":{\"line\":{\"color\":\"#2a3f5f\"}},\"annotationdefaults\":{\"arrowcolor\":\"#2a3f5f\",\"arrowhead\":0,\"arrowwidth\":1},\"geo\":{\"bgcolor\":\"white\",\"landcolor\":\"#E5ECF6\",\"subunitcolor\":\"white\",\"showland\":true,\"showlakes\":true,\"lakecolor\":\"white\"},\"title\":{\"x\":0.05},\"mapbox\":{\"style\":\"light\"}}},\"xaxis\":{\"anchor\":\"y\",\"domain\":[0.0,1.0],\"title\":{\"text\":\"\\ub2e8\\uc5b4\"}},\"yaxis\":{\"anchor\":\"x\",\"domain\":[0.0,1.0],\"title\":{\"text\":\"\\ud69f\\uc218\"}},\"legend\":{\"tracegroupgap\":0},\"title\":{\"text\":\"\\ubd80\\ub3d9\\uc0b0 \\uad00\\ub828 \\ub274\\uc2a4 \\uc81c\\ubaa9\\uc911 \\uac00\\uc7a5 \\ub9ce\\uc774 \\ud3ec\\ud568\\ub41c \\ub2e8\\uc5b4\"},\"barmode\":\"relative\"},                        {\"responsive\": true}                    ).then(function(){\n",
       "                            \n",
       "var gd = document.getElementById('aef7bbc8-7d0a-4c32-afb6-afe971822036');\n",
       "var x = new MutationObserver(function (mutations, observer) {{\n",
       "        var display = window.getComputedStyle(gd).display;\n",
       "        if (!display || display === 'none') {{\n",
       "            console.log([gd, 'removed!']);\n",
       "            Plotly.purge(gd);\n",
       "            observer.disconnect();\n",
       "        }}\n",
       "}});\n",
       "\n",
       "// Listen for the removal of the full notebook cells\n",
       "var notebookContainer = gd.closest('#notebook-container');\n",
       "if (notebookContainer) {{\n",
       "    x.observe(notebookContainer, {childList: true});\n",
       "}}\n",
       "\n",
       "// Listen for the clearing of the current output cell\n",
       "var outputEl = gd.closest('.output');\n",
       "if (outputEl) {{\n",
       "    x.observe(outputEl, {childList: true});\n",
       "}}\n",
       "\n",
       "                        })                };                });            </script>        </div>"
      ]
     },
     "metadata": {},
     "output_type": "display_data"
    }
   ],
   "source": [
    "# 불용어 제거\n",
    "tokens_ko = [each_word for each_word in tokens_ko if each_word not in stop_words]\n",
    "\n",
    "# `ko` 객체 생성\n",
    "ko = nltk.Text(tokens_ko)\n",
    "\n",
    "# 상위 50개의 토큰과 그 빈도를 가져옵니다.\n",
    "top_50_tokens = ko.vocab().most_common(50)\n",
    "tokens = [token[0] for token in top_50_tokens]\n",
    "frequencies = [token[1] for token in top_50_tokens]\n",
    "\n",
    "# Plotly를 사용하여 그래프를 그립니다.\n",
    "fig = px.bar(x=tokens, y=frequencies, title=\"부동산 관련 뉴스 제목중 가장 많이 포함된 단어\",\n",
    "             labels={'x': '단어', 'y': '횟수'})\n",
    "\n",
    "fig.show()"
   ]
  },
  {
   "cell_type": "code",
   "execution_count": 51,
   "id": "f18fc0fe-4ced-4976-b280-1c4a8a81f58f",
   "metadata": {},
   "outputs": [
    {
     "data": {
      "text/plain": [
       "Counter({'중국': 1510,\n",
       "         '부동산': 746,\n",
       "         '경제': 677,\n",
       "         '시장': 653,\n",
       "         '금리': 487,\n",
       "         '금융': 455,\n",
       "         '위안': 366,\n",
       "         '은행': 361,\n",
       "         '달러': 337,\n",
       "         '미국': 336,\n",
       "         '우려': 321,\n",
       "         '서울': 314,\n",
       "         '지수': 314,\n",
       "         '위기': 312,\n",
       "         '하락': 304,\n",
       "         '업체': 296,\n",
       "         '경기': 291,\n",
       "         '투자': 283,\n",
       "         '상승': 267,\n",
       "         '이후': 262,\n",
       "         '정부': 252,\n",
       "         '올해': 247,\n",
       "         '연합뉴스': 243,\n",
       "         '최근': 227,\n",
       "         '기업': 227,\n",
       "         '가능': 221,\n",
       "         '상황': 220,\n",
       "         '발표': 217,\n",
       "         '당국': 216,\n",
       "         '주택': 215,\n",
       "         '기자': 212,\n",
       "         '기준': 210,\n",
       "         '이날': 208,\n",
       "         '개발': 201,\n",
       "         '포인트': 179,\n",
       "         '규모': 178,\n",
       "         '정책': 176,\n",
       "         '인하': 175,\n",
       "         '대비': 174,\n",
       "         '만기': 173,\n",
       "         '영향': 171,\n",
       "         '지난해': 168,\n",
       "         '천억': 167,\n",
       "         '예상': 166,\n",
       "         '대출': 163,\n",
       "         '환율': 161,\n",
       "         '거래': 159,\n",
       "         '디폴트': 158,\n",
       "         '한국': 156,\n",
       "         '가운데': 155,\n",
       "         '그룹': 151,\n",
       "         '수준': 149,\n",
       "         '수출': 148,\n",
       "         '회사': 142,\n",
       "         '회복': 142,\n",
       "         '분기': 138,\n",
       "         '홍콩': 136,\n",
       "         '회의': 134,\n",
       "         '채권': 133,\n",
       "         '위험': 133,\n",
       "         '가격': 133,\n",
       "         '지원': 132,\n",
       "         '통신': 130,\n",
       "         '투자자': 129,\n",
       "         '관리': 126,\n",
       "         '문제': 126,\n",
       "         '이위안': 126,\n",
       "         '인민': 125,\n",
       "         '신탁': 123,\n",
       "         '정보': 123,\n",
       "         '주가': 122,\n",
       "         '비구': 120,\n",
       "         '공개': 120,\n",
       "         '자산': 119,\n",
       "         '산업': 119,\n",
       "         '헝다': 118,\n",
       "         '증가': 115,\n",
       "         '유동': 115,\n",
       "         '데이터': 115,\n",
       "         '지적': 114,\n",
       "         '대표': 114,\n",
       "         '둔화': 112,\n",
       "         '조사': 111,\n",
       "         '판매': 111,\n",
       "         '소비': 111,\n",
       "         '블룸버그': 110,\n",
       "         '아파트': 110,\n",
       "         '성장': 109,\n",
       "         '기관': 109,\n",
       "         '지역': 108,\n",
       "         '국내': 107,\n",
       "         '지표': 106,\n",
       "         '주식': 106,\n",
       "         '기록': 105,\n",
       "         '실업': 105,\n",
       "         '물가': 105,\n",
       "         '상태': 103,\n",
       "         '심리': 103,\n",
       "         '증권': 103,\n",
       "         '위원회': 102,\n",
       "         '부채': 101,\n",
       "         '지급': 101,\n",
       "         '확대': 99,\n",
       "         '조정': 99,\n",
       "         '국가': 98,\n",
       "         '사업': 98,\n",
       "         '신용': 98,\n",
       "         '대형': 97,\n",
       "         '필요': 97,\n",
       "         '자금': 96,\n",
       "         '추가': 94,\n",
       "         '감소': 94,\n",
       "         '부진': 94,\n",
       "         '설명': 93,\n",
       "         '지방': 93,\n",
       "         '현지': 93,\n",
       "         '연준': 93,\n",
       "         '리스크': 92,\n",
       "         '전장': 91,\n",
       "         '평가': 91,\n",
       "         '확인': 90,\n",
       "         '세계': 89,\n",
       "         '때문': 89,\n",
       "         '조치': 88,\n",
       "         '약세': 88,\n",
       "         '전문': 87,\n",
       "         '경우': 86,\n",
       "         '국민': 85,\n",
       "         '가치': 83,\n",
       "         '최고': 83,\n",
       "         '국제': 83,\n",
       "         '글로벌': 83,\n",
       "         '컨트리': 82,\n",
       "         '인상': 82,\n",
       "         '전문가': 82,\n",
       "         '가계': 81,\n",
       "         '뉴욕': 81,\n",
       "         '통화': 81,\n",
       "         '강조': 80,\n",
       "         '전날': 80,\n",
       "         '채무불이행': 80,\n",
       "         '침체': 80,\n",
       "         '대통령': 79,\n",
       "         '진행': 79,\n",
       "         '지난달': 78,\n",
       "         '준비': 78,\n",
       "         '요인': 77,\n",
       "         '소매': 76,\n",
       "         '기대': 76,\n",
       "         '통계': 76,\n",
       "         '발생': 75,\n",
       "         '전환': 75,\n",
       "         '연구원': 75,\n",
       "         '상품': 75,\n",
       "         '유지': 74,\n",
       "         '결과': 74,\n",
       "         '주요': 74,\n",
       "         '청년': 74,\n",
       "         '가든': 73,\n",
       "         '사태': 72,\n",
       "         '장기': 72,\n",
       "         '전국': 72,\n",
       "         '대책': 71,\n",
       "         '일부': 71,\n",
       "         '확산': 71,\n",
       "         '전세': 71,\n",
       "         '외국인': 71,\n",
       "         '지속': 70,\n",
       "         '혐의': 70,\n",
       "         '파산': 70,\n",
       "         '제도': 69,\n",
       "         '전체': 69,\n",
       "         '최대': 69,\n",
       "         '분양': 68,\n",
       "         '사실': 67,\n",
       "         '상반기': 67,\n",
       "         '보도': 67,\n",
       "         '일보': 67,\n",
       "         '업계': 66,\n",
       "         '공급': 66,\n",
       "         '평균': 65,\n",
       "         '연속': 65,\n",
       "         '총리': 65,\n",
       "         '불안': 65,\n",
       "         '검찰': 64,\n",
       "         '실적': 64,\n",
       "         '중단': 64,\n",
       "         '추진': 64,\n",
       "         '예정': 63,\n",
       "         '대상': 63,\n",
       "         '개인': 62,\n",
       "         '연방': 62,\n",
       "         '수도': 61,\n",
       "         '수요': 61,\n",
       "         '재정': 60,\n",
       "         '완화': 60,\n",
       "         '도시': 60,\n",
       "         '제한': 60,\n",
       "         '사회': 60,\n",
       "         '계약': 60,\n",
       "         '천만': 59,\n",
       "         '채무': 59,\n",
       "         '효과': 59,\n",
       "         '강화': 59,\n",
       "         '부담': 59,\n",
       "         '桂園': 59,\n",
       "         '비중': 58,\n",
       "         '생산': 58,\n",
       "         '작년': 58,\n",
       "         '구조': 58,\n",
       "         '시스템': 57,\n",
       "         '의원': 57,\n",
       "         '협력': 57,\n",
       "         '특파원': 56,\n",
       "         '신규': 56,\n",
       "         '안정': 55,\n",
       "         '대응': 55,\n",
       "         '단기': 55,\n",
       "         '동기': 55,\n",
       "         '소비자': 55,\n",
       "         '판단': 54,\n",
       "         '수사': 54,\n",
       "         '관측': 54,\n",
       "         '등급': 54,\n",
       "         '미일': 54,\n",
       "         '분야': 54,\n",
       "         '운영': 53,\n",
       "         '전년': 53,\n",
       "         '포함': 52,\n",
       "         '계획': 52,\n",
       "         '보고서': 52,\n",
       "         '고려': 52,\n",
       "         '일본': 52,\n",
       "         '하반기': 51,\n",
       "         '매매': 51,\n",
       "         '긴축': 51,\n",
       "         '이달': 50,\n",
       "         '코로나': 50,\n",
       "         '나라': 50,\n",
       "         '흐름': 50,\n",
       "         '펀드': 50,\n",
       "         '국채': 50,\n",
       "         '청약': 50,\n",
       "         '감독': 49,\n",
       "         '전반': 48,\n",
       "         '제기': 48,\n",
       "         '제공': 48,\n",
       "         '보호': 48,\n",
       "         '중심': 47,\n",
       "         '마련': 47,\n",
       "         '경고': 47,\n",
       "         '디플레이션': 47,\n",
       "         '현재': 47,\n",
       "         '악화': 47,\n",
       "         '전월': 47,\n",
       "         '결정': 47,\n",
       "         '연구': 46,\n",
       "         '위원': 46,\n",
       "         '국회': 45,\n",
       "         '차지': 45,\n",
       "         '규제': 45,\n",
       "         '동결': 45,\n",
       "         '자료': 45,\n",
       "         '집계': 45,\n",
       "         '수익': 45,\n",
       "         '로이터': 45,\n",
       "         '처음': 45,\n",
       "         '주석': 45,\n",
       "         '그림자': 45,\n",
       "         '기존': 44,\n",
       "         '시작': 44,\n",
       "         '당시': 44,\n",
       "         '공사': 44,\n",
       "         '건설': 44,\n",
       "         '기간': 44,\n",
       "         '서비스': 44,\n",
       "         '아시아': 44,\n",
       "         '직원': 44,\n",
       "         '개선': 43,\n",
       "         '관계자': 43,\n",
       "         '모건': 43,\n",
       "         '촉발': 43,\n",
       "         '구성': 43,\n",
       "         '가구': 43,\n",
       "         '부양': 42,\n",
       "         '해외': 42,\n",
       "         '부문': 42,\n",
       "         '중개': 42,\n",
       "         '부정': 42,\n",
       "         '해당': 42,\n",
       "         '진단': 42,\n",
       "         '센터': 42,\n",
       "         '반도체': 42,\n",
       "         '경영': 41,\n",
       "         '자본': 41,\n",
       "         '역외': 41,\n",
       "         '매수': 41,\n",
       "         '주목': 41,\n",
       "         '상환': 41,\n",
       "         '거래일': 41,\n",
       "         '내수': 41,\n",
       "         '인도': 40,\n",
       "         '상대': 40,\n",
       "         '현금': 40,\n",
       "         '참여': 40,\n",
       "         '이익': 40,\n",
       "         '공동': 40,\n",
       "         '업무': 39,\n",
       "         '교수': 39,\n",
       "         '만큼': 39,\n",
       "         '경남은행': 39,\n",
       "         '세력': 39,\n",
       "         '신청': 39,\n",
       "         '상승세': 38,\n",
       "         '요청': 38,\n",
       "         '정도': 38,\n",
       "         '인플레이션': 38,\n",
       "         '압력': 38,\n",
       "         '신문': 38,\n",
       "         '정상': 38,\n",
       "         '낙폭': 38,\n",
       "         '발행': 38,\n",
       "         '타이': 38,\n",
       "         '민간': 37,\n",
       "         '법인': 37,\n",
       "         '비용': 37,\n",
       "         '중앙은행': 37,\n",
       "         '역내': 37,\n",
       "         '단계': 37,\n",
       "         '점검': 37,\n",
       "         '시설': 37,\n",
       "         '시행': 37,\n",
       "         '법원': 37,\n",
       "         '산불': 37,\n",
       "         '매체': 36,\n",
       "         '하향': 36,\n",
       "         '신뢰': 36,\n",
       "         '악재': 36,\n",
       "         '상하': 36,\n",
       "         '내부': 36,\n",
       "         '의혹': 36,\n",
       "         '소식': 36,\n",
       "         '종합': 35,\n",
       "         '횡령': 35,\n",
       "         '모습': 35,\n",
       "         '비디아': 35,\n",
       "         '원화': 35,\n",
       "         '기조': 34,\n",
       "         '의무': 34,\n",
       "         '내용': 34,\n",
       "         '자유': 34,\n",
       "         '방안': 34,\n",
       "         '공시': 34,\n",
       "         '후보': 34,\n",
       "         '상장': 34,\n",
       "         '역할': 33,\n",
       "         '범죄': 33,\n",
       "         '요구': 33,\n",
       "         '제외': 33,\n",
       "         '유가': 33,\n",
       "         '논의': 33,\n",
       "         '정치': 33,\n",
       "         '프아': 33,\n",
       "         '주장': 32,\n",
       "         '중앙': 32,\n",
       "         '경찰': 32,\n",
       "         '이전': 32,\n",
       "         '항셍지수': 32,\n",
       "         '방송': 32,\n",
       "         '주민': 32,\n",
       "         '수석': 32,\n",
       "         '회장': 31,\n",
       "         '부양책': 31,\n",
       "         '실제': 31,\n",
       "         '창구': 31,\n",
       "         '적극': 30,\n",
       "         '기소': 30,\n",
       "         '특별': 30,\n",
       "         '담보': 30,\n",
       "         '임금': 30,\n",
       "         '반영': 30,\n",
       "         '활용': 30,\n",
       "         '향후': 30,\n",
       "         '반면': 30,\n",
       "         '고용': 30,\n",
       "         '중요': 29,\n",
       "         '구속': 29,\n",
       "         '사용': 29,\n",
       "         '매도': 29,\n",
       "         '변경': 29,\n",
       "         '지출': 29,\n",
       "         '중개사': 29,\n",
       "         '진입': 29,\n",
       "         '내년': 29,\n",
       "         '위축': 29,\n",
       "         '연합': 29,\n",
       "         '연설': 29,\n",
       "         '통제': 29,\n",
       "         '복지': 29,\n",
       "         '토지': 28,\n",
       "         '압박': 28,\n",
       "         '발전': 28,\n",
       "         '한편': 28,\n",
       "         '홀딩스': 28,\n",
       "         '사람': 28,\n",
       "         '베이징': 28,\n",
       "         '공인': 28,\n",
       "         '사고': 28,\n",
       "         '민주당': 28,\n",
       "         '선전': 28,\n",
       "         '매각': 28,\n",
       "         '보유': 28,\n",
       "         '리서치': 28,\n",
       "         '사건': 28,\n",
       "         '행정': 28,\n",
       "         '간병': 28,\n",
       "         '요양': 28,\n",
       "         '부실': 28,\n",
       "         '바이든': 28,\n",
       "         '연기': 28,\n",
       "         '부총리': 27,\n",
       "         '수지': 27,\n",
       "         '금액': 27,\n",
       "         '해결': 27,\n",
       "         '작용': 27,\n",
       "         '고객': 27,\n",
       "         '제시': 27,\n",
       "         '현장': 27,\n",
       "         '공식': 27,\n",
       "         '소유': 27,\n",
       "         '환경': 27,\n",
       "         '재개': 27,\n",
       "         '강세': 27,\n",
       "         '국토': 27,\n",
       "         '기반': 27,\n",
       "         '하락세': 27,\n",
       "         '이자': 27,\n",
       "         '잼버리': 27,\n",
       "         '관계': 27,\n",
       "         '손실': 27,\n",
       "         '위반': 27,\n",
       "         '가량': 27,\n",
       "         '과정': 27,\n",
       "         '나스닥': 27,\n",
       "         '주도': 27,\n",
       "         '모델': 27,\n",
       "         '인사': 27,\n",
       "         '트리': 27,\n",
       "         '전송': 27,\n",
       "         '소득': 27,\n",
       "         '컨설팅': 26,\n",
       "         '상업': 26,\n",
       "         '공공': 26,\n",
       "         '농민공': 26,\n",
       "         '제출': 26,\n",
       "         '집중': 26,\n",
       "         '분위기': 26,\n",
       "         '안보': 26,\n",
       "         '전관': 26,\n",
       "         '혁신': 26,\n",
       "         '어려움': 26,\n",
       "         '프로젝트': 26,\n",
       "         '장중': 26,\n",
       "         '미스트': 26,\n",
       "         '절차': 26,\n",
       "         '하와이': 26,\n",
       "         '부유': 26,\n",
       "         '방침': 25,\n",
       "         '계좌': 25,\n",
       "         '부동산업': 25,\n",
       "         '고금리': 25,\n",
       "         '비교': 25,\n",
       "         '생활': 25,\n",
       "         '책임': 25,\n",
       "         '부산': 25,\n",
       "         '접근': 25,\n",
       "         '협회': 25,\n",
       "         '국면': 25,\n",
       "         '안전': 25,\n",
       "         '영업': 25,\n",
       "         '위협': 25,\n",
       "         '활동': 25,\n",
       "         '유럽': 25,\n",
       "         '애널리스트': 25,\n",
       "         '검토': 25,\n",
       "         '대부분': 25,\n",
       "         '호주': 25,\n",
       "         '중기': 25,\n",
       "         '대구': 25,\n",
       "         '회사채': 25,\n",
       "         '일정': 24,\n",
       "         '비율': 24,\n",
       "         '검사': 24,\n",
       "         '예금': 24,\n",
       "         '보험': 24,\n",
       "         '비상': 24,\n",
       "         '일반': 24,\n",
       "         '규정': 24,\n",
       "         '동시': 24,\n",
       "         '시중': 24,\n",
       "         '성장률': 24,\n",
       "         '확정': 24,\n",
       "         '장관': 23,\n",
       "         '방향': 23,\n",
       "         '수수료': 23,\n",
       "         '개입': 23,\n",
       "         '직면': 23,\n",
       "         '도입': 23,\n",
       "         '방식': 23,\n",
       "         '피해': 23,\n",
       "         '감안': 23,\n",
       "         '의장': 23,\n",
       "         '본토': 23,\n",
       "         '코노': 23,\n",
       "         '외환': 23,\n",
       "         '부과': 23,\n",
       "         '기획': 22,\n",
       "         '세수': 22,\n",
       "         '크다': 22,\n",
       "         '역환': 22,\n",
       "         '매조': 22,\n",
       "         '건부': 22,\n",
       "         '사이': 22,\n",
       "         '앤드': 22,\n",
       "         '파이낸셜': 22,\n",
       "         '고조': 22,\n",
       "         '한국은행': 22,\n",
       "         '주시': 22,\n",
       "         '행사': 22,\n",
       "         '전략가': 22,\n",
       "         '차이': 22,\n",
       "         '급등': 22,\n",
       "         '시점': 22,\n",
       "         '지연': 22,\n",
       "         '확보': 22,\n",
       "         '학교': 22,\n",
       "         '상당': 22,\n",
       "         '잭슨': 22,\n",
       "         '파월': 22,\n",
       "         '시위': 22,\n",
       "         '측면': 22,\n",
       "         '에버': 22,\n",
       "         '그란데': 22,\n",
       "         '대중': 22,\n",
       "         '승인': 22,\n",
       "         '배출': 22,\n",
       "         '세종': 21,\n",
       "         '주력': 21,\n",
       "         '긍정': 21,\n",
       "         '신호': 21,\n",
       "         '입장': 21,\n",
       "         '계열사': 21,\n",
       "         '사장': 21,\n",
       "         '우대금리': 21,\n",
       "         '변동성': 21,\n",
       "         '국영': 21,\n",
       "         '운용': 21,\n",
       "         '어스': 21,\n",
       "         '자체': 21,\n",
       "         '전용': 21,\n",
       "         '지금': 21,\n",
       "         '수급': 21,\n",
       "         '한은': 21,\n",
       "         '골드만': 21,\n",
       "         '삭스': 21,\n",
       "         '급락': 21,\n",
       "         '상위': 21,\n",
       "         '감사': 21,\n",
       "         '응답자': 21,\n",
       "         '모기지': 21,\n",
       "         '뉴스': 21,\n",
       "         '의지': 21,\n",
       "         '마이너스': 21,\n",
       "         '매출': 21,\n",
       "         '캠프': 21,\n",
       "         '데이비드': 21,\n",
       "         '현실': 21,\n",
       "         '노동': 21,\n",
       "         '신고': 21,\n",
       "         '에너지': 21,\n",
       "         '경쟁': 21,\n",
       "         '핵심': 21,\n",
       "         '챕터': 21,\n",
       "         '프로': 21,\n",
       "         '의견': 21,\n",
       "         '인터넷': 21,\n",
       "         '관리비': 21,\n",
       "         '플랫': 21,\n",
       "         '어치': 21,\n",
       "         '순매도': 21,\n",
       "         '경남': 21,\n",
       "         '매일': 21,\n",
       "         '수입': 20,\n",
       "         '목표': 20,\n",
       "         '특정': 20,\n",
       "         '처벌': 20,\n",
       "         '스탠더드': 20,\n",
       "         '저축': 20,\n",
       "         '대신': 20,\n",
       "         '이용': 20,\n",
       "         '캐피털': 20,\n",
       "         '변화': 20,\n",
       "         '본부': 20,\n",
       "         '구매': 20,\n",
       "         '의미': 20,\n",
       "         '변동': 20,\n",
       "         '주거': 20,\n",
       "         '해석': 20,\n",
       "         '유치': 20,\n",
       "         '사상': 20,\n",
       "         '간병인': 20,\n",
       "         '거래소': 20,\n",
       "         '언론': 20,\n",
       "         '공산당': 20,\n",
       "         '대만': 20,\n",
       "         '광주': 20,\n",
       "         '최소': 20,\n",
       "         '현상': 20,\n",
       "         '인구': 20,\n",
       "         '비판': 20,\n",
       "         '인용': 20,\n",
       "         '벌금': 20,\n",
       "         '부족': 19,\n",
       "         '부분': 19,\n",
       "         '물량': 19,\n",
       "         '허위': 19,\n",
       "         '마무리': 19,\n",
       "         '재산': 19,\n",
       "         '소식통': 19,\n",
       "         '외국': 19,\n",
       "         '달러화': 19,\n",
       "         '잔고': 19,\n",
       "         '타임스': 19,\n",
       "         '미래': 19,\n",
       "         '사기': 19,\n",
       "         '잔액': 19,\n",
       "         '계속': 19,\n",
       "         '업종': 19,\n",
       "         '건물': 19,\n",
       "         '오름세': 19,\n",
       "         '환자': 19,\n",
       "         '이행': 19,\n",
       "         '선물': 19,\n",
       "         '투표': 19,\n",
       "         '전진': 19,\n",
       "         '위기감': 19,\n",
       "         '실물': 19,\n",
       "         '대회': 19,\n",
       "         '임원': 19,\n",
       "         '에코': 19,\n",
       "         '부지': 19,\n",
       "         '건설사': 19,\n",
       "         '단체': 19,\n",
       "         '테크': 19,\n",
       "         '대법원': 19,\n",
       "         '재정부': 18,\n",
       "         '회복세': 18,\n",
       "         '생각': 18,\n",
       "         '무역': 18,\n",
       "         '본격': 18,\n",
       "         '전면': 18,\n",
       "         '해소': 18,\n",
       "         '부처': 18,\n",
       "         '개혁': 18,\n",
       "         '격차': 18,\n",
       "         '심화': 18,\n",
       "         '충격': 18,\n",
       "         '매물': 18,\n",
       "         '임차인': 18,\n",
       "         '팀장': 18,\n",
       "         '과거': 18,\n",
       "         '추정': 18,\n",
       "         '노력': 18,\n",
       "         '처리': 18,\n",
       "         '적용': 18,\n",
       "         '공장': 18,\n",
       "         '방류': 18,\n",
       "         '삼성': 18,\n",
       "         '교육': 18,\n",
       "         '동향': 18,\n",
       "         '의료': 18,\n",
       "         '정당': 18,\n",
       "         '선출': 18,\n",
       "         '소송': 18,\n",
       "         '주문': 18,\n",
       "         '개장': 18,\n",
       "         '닛케이': 18,\n",
       "         '광주시': 18,\n",
       "         '연장': 18,\n",
       "         '울산': 18,\n",
       "         '관광': 18,\n",
       "         '현대': 18,\n",
       "         '영국': 18,\n",
       "         '누락': 18,\n",
       "         '취업': 18,\n",
       "         '순위': 18,\n",
       "         '알리바바': 18,\n",
       "         '마우이': 18,\n",
       "         '적자': 17,\n",
       "         '흑자': 17,\n",
       "         '지검': 17,\n",
       "         '용도': 17,\n",
       "         '동의': 17,\n",
       "         '판결': 17,\n",
       "         '불이행': 17,\n",
       "         '고점': 17,\n",
       "         '조달': 17,\n",
       "         '노출': 17,\n",
       "         '예산': 17,\n",
       "         '속도': 17,\n",
       "         '실패': 17,\n",
       "         '적발': 17,\n",
       "         '시세': 17,\n",
       "         '체결': 17,\n",
       "         '경신': 17,\n",
       "         '증권사': 17,\n",
       "         '축소': 17,\n",
       "         '추세': 17,\n",
       "         '최저': 17,\n",
       "         '파악': 17,\n",
       "         '염수': 17,\n",
       "         '논란': 17,\n",
       "         '원대': 17,\n",
       "         '위원장': 17,\n",
       "         '체계': 17,\n",
       "         '협의': 17,\n",
       "         '단속': 17,\n",
       "         '다우존스': 17,\n",
       "         '세타': 17,\n",
       "         '포스트': 17,\n",
       "         '진작': 17,\n",
       "         '공산': 17,\n",
       "         '시대': 17,\n",
       "         '공무원': 17,\n",
       "         '대졸자': 17,\n",
       "         '언급': 17,\n",
       "         '노인': 17,\n",
       "         '전지': 17,\n",
       "         '촉진': 17,\n",
       "         '투기': 16,\n",
       "         '인천': 16,\n",
       "         '소비재': 16,\n",
       "         '약화': 16,\n",
       "         '코프': 16,\n",
       "         '인식': 16,\n",
       "         '명의': 16,\n",
       "         '세부': 16,\n",
       "         '직접': 16,\n",
       "         '스탠리': 16,\n",
       "         '발언': 16,\n",
       "         '피치': 16,\n",
       "         '자리': 16,\n",
       "         '부당': 16,\n",
       "         '유사': 16,\n",
       "         '고정': 16,\n",
       "         '연말': 16,\n",
       "         '투데이': 16,\n",
       "         '시민': 16,\n",
       "         '북한': 16,\n",
       "         '설정': 16,\n",
       "         '병원': 16,\n",
       "         '선호': 16,\n",
       "         '집값': 16,\n",
       "         '달성': 16,\n",
       "         '창출': 16,\n",
       "         '태국': 16,\n",
       "         '시진핑': 16,\n",
       "         '초반': 16,\n",
       "         '연계': 16,\n",
       "         '투명': 16,\n",
       "         '강남': 16,\n",
       "         '위주': 16,\n",
       "         '제주': 16,\n",
       "         '대학': 16,\n",
       "         '안팎': 16,\n",
       "         '업자': 16,\n",
       "         '주주': 16,\n",
       "         '대변인': 16,\n",
       "         '강도': 16,\n",
       "         '사망자': 16,\n",
       "         '그동안': 15,\n",
       "         '총생산': 15,\n",
       "         '고시': 15,\n",
       "         '아래': 15,\n",
       "         '임상수': 15,\n",
       "         '카드': 15,\n",
       "         '출석': 15,\n",
       "         '하방': 15,\n",
       "         '평화': 15,\n",
       "         '목소리': 15,\n",
       "         '과학': 15,\n",
       "         '전기': 15,\n",
       "         '유입': 15,\n",
       "         '첨단': 15,\n",
       "         '연대': 15,\n",
       "         '예방': 15,\n",
       "         '전이': 15,\n",
       "         '행위': 15,\n",
       "         '사전': 15,\n",
       "         '전략': 15,\n",
       "         '전북': 15,\n",
       "         '저널': 15,\n",
       "         '철근': 15,\n",
       "         '채용': 15,\n",
       "         '구축': 15,\n",
       "         '관심': 15,\n",
       "         '의사록': 15,\n",
       "         '동반': 15,\n",
       "         '의존도': 15,\n",
       "         '독일': 15,\n",
       "         '제재': 15,\n",
       "         '경상': 15,\n",
       "         '자산관리': 15,\n",
       "         '전달': 15,\n",
       "         '조작': 15,\n",
       "         '백현동': 15,\n",
       "         '제안': 15,\n",
       "         '화재': 15,\n",
       "         '연봉': 15,\n",
       "         '공매도': 15,\n",
       "         '전체주의': 15,\n",
       "         '인정': 14,\n",
       "         '하강': 14,\n",
       "         '거액': 14,\n",
       "         '익스포저': 14,\n",
       "         '강등': 14,\n",
       "         '빌라': 14,\n",
       "         '보증': 14,\n",
       "         '차례': 14,\n",
       "         '헤지': 14,\n",
       "         '거래량': 14,\n",
       "         '방문': 14,\n",
       "         '면적': 14,\n",
       "         '최저치': 14,\n",
       "         '기여': 14,\n",
       "         '사례': 14,\n",
       "         '통보': 14,\n",
       "         '조기': 14,\n",
       "         '전경련': 14,\n",
       "         '전력': 14,\n",
       "         '광고': 14,\n",
       "         '병비': 14,\n",
       "         '가족': 14,\n",
       "         '표준': 14,\n",
       "         '역대': 14,\n",
       "         '인포': 14,\n",
       "         '지난주': 14,\n",
       "         '헬스': 14,\n",
       "         '목표치': 14,\n",
       "         '참석': 14,\n",
       "         '투입': 14,\n",
       "         '확장': 14,\n",
       "         '담당': 14,\n",
       "         '탁신': 14,\n",
       "         '총선': 14,\n",
       "         '차이나': 14,\n",
       "         '모닝': 14,\n",
       "         '선언': 14,\n",
       "         '보호법': 14,\n",
       "         '당초': 14,\n",
       "         '집단': 14,\n",
       "         '선정': 14,\n",
       "         '이사': 14,\n",
       "         '유가증권': 14,\n",
       "         '이재명': 14,\n",
       "         '최종': 14,\n",
       "         '소개': 14,\n",
       "         '원인': 14,\n",
       "         '뇌물': 14,\n",
       "         '경기도': 14,\n",
       "         '실장': 14,\n",
       "         '서방': 14,\n",
       "         '리츠': 14,\n",
       "         '과태료': 14,\n",
       "         '온실가스': 14,\n",
       "         '라하': 14,\n",
       "         '대통령실': 13,\n",
       "         '수치': 13,\n",
       "         '재판': 13,\n",
       "         '부장': 13,\n",
       "         '명목': 13,\n",
       "         '청구': 13,\n",
       "         '차병': 13,\n",
       "         '구체': 13,\n",
       "         '체이스': 13,\n",
       "         '연내': 13,\n",
       "         '풀이': 13,\n",
       "         '인력': 13,\n",
       "         '보증금': 13,\n",
       "         '과도': 13,\n",
       "         '감소세': 13,\n",
       "         '급증': 13,\n",
       "         '직전': 13,\n",
       "         '급감': 13,\n",
       "         '광복절': 13,\n",
       "         '인터내셔널': 13,\n",
       "         '회견': 13,\n",
       "         '활성': 13,\n",
       "         '배영경': 13,\n",
       "         '동일': 13,\n",
       "         '임대': 13,\n",
       "         '브릿지': 13,\n",
       "         '이하': 13,\n",
       "         '조직': 13,\n",
       "         '돌파': 13,\n",
       "         '표시': 13,\n",
       "         '중부': 13,\n",
       "         '처분': 13,\n",
       "         '하루': 13,\n",
       "         '반대': 13,\n",
       "         '사항': 13,\n",
       "         '개정안': 13,\n",
       "         '등록': 13,\n",
       "         '맥스': 13,\n",
       "         '증권거래소': 13,\n",
       "         '테슬라': 13,\n",
       "         '매파': 13,\n",
       "         '방지': 13,\n",
       "         '배제': 13,\n",
       "         '군부': 13,\n",
       "         '사우스': 13,\n",
       "         '채권자': 13,\n",
       "         '범위': 13,\n",
       "         '징수': 13,\n",
       "         '누적': 13,\n",
       "         '취약': 13,\n",
       "         '학회': 13,\n",
       "         '차단': 13,\n",
       "         '절반': 13,\n",
       "         '도민': 13,\n",
       "         '전남': 13,\n",
       "         '월스트리트': 13,\n",
       "         '시도': 13,\n",
       "         '외부': 13,\n",
       "         '키움증권': 13,\n",
       "         '원유': 13,\n",
       "         '연고': 13,\n",
       "         '특혜': 13,\n",
       "         '실거': 13,\n",
       "         '전주': 13,\n",
       "         '국민은행': 13,\n",
       "         '번영': 13,\n",
       "         '윤석열': 12,\n",
       "         '여건': 12,\n",
       "         '강제': 12,\n",
       "         '직후': 12,\n",
       "         '책임자': 12,\n",
       "         '매입': 12,\n",
       "         '주인': 12,\n",
       "         '피해자': 12,\n",
       "         '기초': 12,\n",
       "         '임대인': 12,\n",
       "         '의사': 12,\n",
       "         '반등': 12,\n",
       "         '특례': 12,\n",
       "         '일시': 12,\n",
       "         '고민': 12,\n",
       "         '이제': 12,\n",
       "         '여파': 12,\n",
       "         '목적': 12,\n",
       "         '시가총액': 12,\n",
       "         '제조': 12,\n",
       "         '설문': 12,\n",
       "         '요금': 12,\n",
       "         '교통부': 12,\n",
       "         '리먼': 12,\n",
       "         '동맹': 12,\n",
       "         '건축': 12,\n",
       "         '취소': 12,\n",
       "         '출범': 12,\n",
       "         '대전': 12,\n",
       "         '학생': 12,\n",
       "         '충청': 12,\n",
       "         '공포': 12,\n",
       "         '혜택': 12,\n",
       "         '교통': 12,\n",
       "         '현안': 12,\n",
       "         '총재': 12,\n",
       "         '조성': 12,\n",
       "         '작성': 12,\n",
       "         '연쇄': 12,\n",
       "         '거대': 12,\n",
       "         '방법': 12,\n",
       "         '위드': 12,\n",
       "         '성분': 12,\n",
       "         '저점': 12,\n",
       "         '수단': 12,\n",
       "         '예산안': 12,\n",
       "         '선택': 12,\n",
       "         '네이버': 12,\n",
       "         '대주주': 12,\n",
       "         '이외': 12,\n",
       "         '취지': 12,\n",
       "         '임대료': 12,\n",
       "         '대한민국': 12,\n",
       "         '유도': 12,\n",
       "         '임기': 12,\n",
       "         '협상': 12,\n",
       "         '역사': 12,\n",
       "         '개최': 12,\n",
       "         ...})"
      ]
     },
     "execution_count": 51,
     "metadata": {},
     "output_type": "execute_result"
    }
   ],
   "source": [
    "count"
   ]
  },
  {
   "cell_type": "code",
   "execution_count": null,
   "id": "30d8e064-55cb-4d2f-8324-172eb66e3c72",
   "metadata": {},
   "outputs": [],
   "source": []
  }
 ],
 "metadata": {
  "kernelspec": {
   "display_name": "Python 3 (ipykernel)",
   "language": "python",
   "name": "python3"
  },
  "language_info": {
   "codemirror_mode": {
    "name": "ipython",
    "version": 3
   },
   "file_extension": ".py",
   "mimetype": "text/x-python",
   "name": "python",
   "nbconvert_exporter": "python",
   "pygments_lexer": "ipython3",
   "version": "3.9.16"
  }
 },
 "nbformat": 4,
 "nbformat_minor": 5
}
