{
 "cells": [
  {
   "cell_type": "code",
   "execution_count": 1,
   "id": "beaeb6ca-0a24-4eaa-ab76-8e2003cabd22",
   "metadata": {},
   "outputs": [],
   "source": [
    "import pandas as pd\n",
    "import numpy as np"
   ]
  },
  {
   "cell_type": "code",
   "execution_count": 2,
   "id": "a9568b75-0144-45f5-8c50-3bb2c028b9ad",
   "metadata": {},
   "outputs": [
    {
     "data": {
      "text/html": [
       "<div>\n",
       "<style scoped>\n",
       "    .dataframe tbody tr th:only-of-type {\n",
       "        vertical-align: middle;\n",
       "    }\n",
       "\n",
       "    .dataframe tbody tr th {\n",
       "        vertical-align: top;\n",
       "    }\n",
       "\n",
       "    .dataframe thead th {\n",
       "        text-align: right;\n",
       "    }\n",
       "</style>\n",
       "<table border=\"1\" class=\"dataframe\">\n",
       "  <thead>\n",
       "    <tr style=\"text-align: right;\">\n",
       "      <th></th>\n",
       "      <th>x</th>\n",
       "      <th>y</th>\n",
       "    </tr>\n",
       "  </thead>\n",
       "  <tbody>\n",
       "    <tr>\n",
       "      <th>0</th>\n",
       "      <td>1</td>\n",
       "      <td>2</td>\n",
       "    </tr>\n",
       "    <tr>\n",
       "      <th>1</th>\n",
       "      <td>2</td>\n",
       "      <td>4</td>\n",
       "    </tr>\n",
       "    <tr>\n",
       "      <th>2</th>\n",
       "      <td>3</td>\n",
       "      <td>6</td>\n",
       "    </tr>\n",
       "    <tr>\n",
       "      <th>3</th>\n",
       "      <td>4</td>\n",
       "      <td>8</td>\n",
       "    </tr>\n",
       "    <tr>\n",
       "      <th>4</th>\n",
       "      <td>5</td>\n",
       "      <td>10</td>\n",
       "    </tr>\n",
       "    <tr>\n",
       "      <th>...</th>\n",
       "      <td>...</td>\n",
       "      <td>...</td>\n",
       "    </tr>\n",
       "    <tr>\n",
       "      <th>95</th>\n",
       "      <td>96</td>\n",
       "      <td>192</td>\n",
       "    </tr>\n",
       "    <tr>\n",
       "      <th>96</th>\n",
       "      <td>97</td>\n",
       "      <td>194</td>\n",
       "    </tr>\n",
       "    <tr>\n",
       "      <th>97</th>\n",
       "      <td>98</td>\n",
       "      <td>196</td>\n",
       "    </tr>\n",
       "    <tr>\n",
       "      <th>98</th>\n",
       "      <td>99</td>\n",
       "      <td>198</td>\n",
       "    </tr>\n",
       "    <tr>\n",
       "      <th>99</th>\n",
       "      <td>100</td>\n",
       "      <td>200</td>\n",
       "    </tr>\n",
       "  </tbody>\n",
       "</table>\n",
       "<p>100 rows × 2 columns</p>\n",
       "</div>"
      ],
      "text/plain": [
       "      x    y\n",
       "0     1    2\n",
       "1     2    4\n",
       "2     3    6\n",
       "3     4    8\n",
       "4     5   10\n",
       "..  ...  ...\n",
       "95   96  192\n",
       "96   97  194\n",
       "97   98  196\n",
       "98   99  198\n",
       "99  100  200\n",
       "\n",
       "[100 rows x 2 columns]"
      ]
     },
     "execution_count": 2,
     "metadata": {},
     "output_type": "execute_result"
    }
   ],
   "source": [
    "data = {'x' : [x for x in range(1, 101)],\n",
    "'y' : [2*x for x in range(1, 101)]}\n",
    "df = pd.DataFrame(data)\n",
    "df"
   ]
  },
  {
   "cell_type": "code",
   "execution_count": 3,
   "id": "863bb45f-03f2-4652-8e7b-e9215de98f5f",
   "metadata": {},
   "outputs": [],
   "source": [
    "from tensorflow import keras\n",
    "from sklearn.model_selection import train_test_split\n",
    "train_input, test_input, train_target, test_target = train_test_split(df.x.to_numpy().reshape(-1, 1), df.y.to_numpy().reshape(-1, 1), test_size=0.2, random_state=42)\n",
    "train_input, val_input, train_target, val_target = train_test_split(train_input, train_target, test_size=0.2, random_state=42)"
   ]
  },
  {
   "cell_type": "code",
   "execution_count": 4,
   "id": "ca8ec4a7-ea7d-4a58-b3c3-7def54216ade",
   "metadata": {},
   "outputs": [
    {
     "name": "stdout",
     "output_type": "stream",
     "text": [
      "1.0\n"
     ]
    }
   ],
   "source": [
    "from sklearn.linear_model import LinearRegression\n",
    "\n",
    "lr = LinearRegression()\n",
    "lr.fit(train_input, train_target)\n",
    "print(lr.score(test_input, test_target)) "
   ]
  },
  {
   "cell_type": "code",
   "execution_count": 5,
   "id": "0f53af39-6653-40f2-ace5-759865cff65a",
   "metadata": {},
   "outputs": [
    {
     "name": "stdout",
     "output_type": "stream",
     "text": [
      "(64, 1) (64, 1) (20, 1) (20, 1)\n"
     ]
    }
   ],
   "source": [
    "print(train_input.shape, train_target.shape, test_input.shape, test_target.shape)"
   ]
  },
  {
   "cell_type": "code",
   "execution_count": 6,
   "id": "825ea042-05e6-4b83-8773-6cbdaa99affe",
   "metadata": {},
   "outputs": [
    {
     "name": "stdout",
     "output_type": "stream",
     "text": [
      "Metal device set to: Apple M1 Pro\n",
      "Model: \"sequential\"\n",
      "_________________________________________________________________\n",
      " Layer (type)                Output Shape              Param #   \n",
      "=================================================================\n",
      " dense (Dense)               (None, 50)                100       \n",
      "                                                                 \n",
      " dense_1 (Dense)             (None, 50)                2550      \n",
      "                                                                 \n",
      " dense_2 (Dense)             (None, 1)                 51        \n",
      "                                                                 \n",
      "=================================================================\n",
      "Total params: 2,701\n",
      "Trainable params: 2,701\n",
      "Non-trainable params: 0\n",
      "_________________________________________________________________\n"
     ]
    },
    {
     "name": "stderr",
     "output_type": "stream",
     "text": [
      "2023-09-07 15:36:02.512085: I tensorflow/core/common_runtime/pluggable_device/pluggable_device_factory.cc:306] Could not identify NUMA node of platform GPU ID 0, defaulting to 0. Your kernel may not have been built with NUMA support.\n",
      "2023-09-07 15:36:02.512202: I tensorflow/core/common_runtime/pluggable_device/pluggable_device_factory.cc:272] Created TensorFlow device (/job:localhost/replica:0/task:0/device:GPU:0 with 0 MB memory) -> physical PluggableDevice (device: 0, name: METAL, pci bus id: <undefined>)\n"
     ]
    }
   ],
   "source": [
    "from tensorflow import keras\n",
    "model = keras.Sequential()\n",
    "# model.add(keras.layers.Flatten(input_shape=(1,)))\n",
    "model.add(keras.layers.Dense(50, activation='linear', input_dim=1))\n",
    "model.add(keras.layers.Dense(50, activation='linear', input_dim=1))\n",
    "model.add(keras.layers.Dense(1, activation='linear', input_dim=1))\n",
    "\n",
    "model.summary()"
   ]
  },
  {
   "cell_type": "code",
   "execution_count": 7,
   "id": "b9549f34-1182-49ca-92f8-a4d72184c522",
   "metadata": {},
   "outputs": [
    {
     "name": "stdout",
     "output_type": "stream",
     "text": [
      "Epoch 1/300\n"
     ]
    },
    {
     "name": "stderr",
     "output_type": "stream",
     "text": [
      "2023-09-07 15:36:02.765391: W tensorflow/core/platform/profile_utils/cpu_utils.cc:128] Failed to get CPU frequency: 0 Hz\n",
      "2023-09-07 15:36:02.914079: I tensorflow/core/grappler/optimizers/custom_graph_optimizer_registry.cc:114] Plugin optimizer for device_type GPU is enabled.\n"
     ]
    },
    {
     "name": "stdout",
     "output_type": "stream",
     "text": [
      "2/2 [==============================] - 1s 145ms/step - loss: 19211.3711 - mae: 120.7788 - val_loss: 4192.7188 - val_mae: 53.7611\n",
      "Epoch 2/300\n",
      "2/2 [==============================] - 0s 41ms/step - loss: 2602.3059 - mae: 39.5292 - val_loss: 341.0506 - val_mae: 15.5575\n",
      "Epoch 3/300\n",
      "2/2 [==============================] - 0s 20ms/step - loss: 1417.7401 - mae: 30.5600 - val_loss: 3749.3584 - val_mae: 51.1676\n",
      "Epoch 4/300\n",
      "2/2 [==============================] - 0s 21ms/step - loss: 3948.8494 - mae: 55.6501 - val_loss: 2386.4458 - val_mae: 40.8046\n",
      "Epoch 5/300\n",
      "1/2 [==============>...............] - ETA: 0s - loss: 2914.5396 - mae: 48.6391"
     ]
    },
    {
     "name": "stderr",
     "output_type": "stream",
     "text": [
      "2023-09-07 15:36:03.335493: I tensorflow/core/grappler/optimizers/custom_graph_optimizer_registry.cc:114] Plugin optimizer for device_type GPU is enabled.\n"
     ]
    },
    {
     "name": "stdout",
     "output_type": "stream",
     "text": [
      "2/2 [==============================] - 0s 42ms/step - loss: 1984.5469 - mae: 38.4858 - val_loss: 288.6388 - val_mae: 14.2142\n",
      "Epoch 6/300\n",
      "2/2 [==============================] - 0s 42ms/step - loss: 161.5499 - mae: 8.5246 - val_loss: 136.7935 - val_mae: 9.7138\n",
      "Epoch 7/300\n",
      "2/2 [==============================] - 0s 24ms/step - loss: 346.9016 - mae: 15.6282 - val_loss: 839.4343 - val_mae: 24.1234\n",
      "Epoch 8/300\n",
      "2/2 [==============================] - 0s 22ms/step - loss: 1062.5347 - mae: 28.7002 - val_loss: 1171.8584 - val_mae: 28.5115\n",
      "Epoch 9/300\n",
      "2/2 [==============================] - 0s 22ms/step - loss: 1234.5632 - mae: 31.0972 - val_loss: 913.2584 - val_mae: 25.1708\n",
      "Epoch 10/300\n",
      "2/2 [==============================] - 0s 21ms/step - loss: 845.4456 - mae: 25.7031 - val_loss: 396.0716 - val_mae: 16.5741\n",
      "Epoch 11/300\n",
      "2/2 [==============================] - 0s 39ms/step - loss: 296.1476 - mae: 15.0640 - val_loss: 41.5801 - val_mae: 5.3640\n",
      "Epoch 12/300\n",
      "2/2 [==============================] - 0s 19ms/step - loss: 18.1409 - mae: 2.8501 - val_loss: 44.8402 - val_mae: 5.5900\n",
      "Epoch 13/300\n",
      "2/2 [==============================] - 0s 26ms/step - loss: 113.7664 - mae: 8.9700 - val_loss: 244.2895 - val_mae: 13.0344\n",
      "Epoch 14/300\n",
      "2/2 [==============================] - 0s 21ms/step - loss: 300.2485 - mae: 15.3188 - val_loss: 306.0591 - val_mae: 14.5865\n",
      "Epoch 15/300\n",
      "2/2 [==============================] - 0s 20ms/step - loss: 302.9134 - mae: 15.3260 - val_loss: 161.7651 - val_mae: 10.6031\n",
      "Epoch 16/300\n",
      "2/2 [==============================] - 0s 41ms/step - loss: 132.2654 - mae: 9.9917 - val_loss: 22.6721 - val_mae: 3.9682\n",
      "Epoch 17/300\n",
      "2/2 [==============================] - 0s 38ms/step - loss: 14.0625 - mae: 2.6737 - val_loss: 9.8557 - val_mae: 2.6189\n",
      "Epoch 18/300\n",
      "2/2 [==============================] - 0s 23ms/step - loss: 25.3051 - mae: 4.2732 - val_loss: 72.8839 - val_mae: 7.1188\n",
      "Epoch 19/300\n",
      "2/2 [==============================] - 0s 22ms/step - loss: 94.6664 - mae: 8.5748 - val_loss: 110.7615 - val_mae: 8.7755\n",
      "Epoch 20/300\n",
      "2/2 [==============================] - 0s 24ms/step - loss: 117.3753 - mae: 9.5905 - val_loss: 84.4717 - val_mae: 7.6643\n",
      "Epoch 21/300\n",
      "2/2 [==============================] - 0s 21ms/step - loss: 74.5649 - mae: 7.6748 - val_loss: 28.6856 - val_mae: 4.4680\n",
      "Epoch 22/300\n",
      "2/2 [==============================] - 0s 41ms/step - loss: 19.8187 - mae: 3.8041 - val_loss: 0.1188 - val_mae: 0.2911\n",
      "Epoch 23/300\n",
      "2/2 [==============================] - 0s 22ms/step - loss: 2.5059 - mae: 1.1310 - val_loss: 15.8291 - val_mae: 3.3126\n",
      "Epoch 24/300\n",
      "2/2 [==============================] - 0s 22ms/step - loss: 26.5108 - mae: 4.4347 - val_loss: 38.1738 - val_mae: 5.1463\n",
      "Epoch 25/300\n",
      "2/2 [==============================] - 0s 22ms/step - loss: 41.9086 - mae: 5.7223 - val_loss: 31.6421 - val_mae: 4.6850\n",
      "Epoch 26/300\n",
      "2/2 [==============================] - 0s 24ms/step - loss: 28.8172 - mae: 4.6587 - val_loss: 8.5745 - val_mae: 2.4370\n",
      "Epoch 27/300\n",
      "2/2 [==============================] - 0s 42ms/step - loss: 5.9168 - mae: 1.9961 - val_loss: 0.1017 - val_mae: 0.2696\n",
      "Epoch 28/300\n",
      "2/2 [==============================] - 0s 22ms/step - loss: 1.9436 - mae: 1.0073 - val_loss: 7.8903 - val_mae: 2.3452\n",
      "Epoch 29/300\n",
      "2/2 [==============================] - 0s 22ms/step - loss: 11.3435 - mae: 2.9451 - val_loss: 14.5310 - val_mae: 3.1812\n",
      "Epoch 30/300\n",
      "2/2 [==============================] - 0s 22ms/step - loss: 15.1712 - mae: 3.4444 - val_loss: 10.0342 - val_mae: 2.6441\n",
      "Epoch 31/300\n",
      "2/2 [==============================] - 0s 22ms/step - loss: 8.8935 - mae: 2.5888 - val_loss: 2.0346 - val_mae: 1.1927\n",
      "Epoch 32/300\n",
      "2/2 [==============================] - 0s 21ms/step - loss: 1.2534 - mae: 0.8731 - val_loss: 0.2983 - val_mae: 0.4516\n",
      "Epoch 33/300\n",
      "2/2 [==============================] - 0s 21ms/step - loss: 1.0628 - mae: 0.8453 - val_loss: 3.8565 - val_mae: 1.6334\n",
      "Epoch 34/300\n",
      "2/2 [==============================] - 0s 20ms/step - loss: 5.0230 - mae: 1.9717 - val_loss: 5.5039 - val_mae: 1.9520\n",
      "Epoch 35/300\n",
      "2/2 [==============================] - 0s 24ms/step - loss: 5.4370 - mae: 2.0429 - val_loss: 2.5939 - val_mae: 1.3390\n",
      "Epoch 36/300\n",
      "2/2 [==============================] - 0s 21ms/step - loss: 2.0125 - mae: 1.2133 - val_loss: 0.1357 - val_mae: 0.3035\n",
      "Epoch 37/300\n",
      "2/2 [==============================] - 0s 26ms/step - loss: 0.0995 - mae: 0.2799 - val_loss: 0.6011 - val_mae: 0.6498\n"
     ]
    }
   ],
   "source": [
    "from keras.optimizers import Adam\n",
    "\n",
    "model.compile(optimizer=Adam(learning_rate=0.01), loss='mean_squared_error', metrics=['mae'])\n",
    "\n",
    "checkpoint_cb = keras.callbacks.ModelCheckpoint('quiz_best_model.h5', save_best_only=True)\n",
    "\n",
    "early_stopping_cb = keras.callbacks.EarlyStopping(patience=10, restore_best_weights=True)\n",
    "\n",
    "history= model.fit(train_input, train_target, epochs=300, validation_data=(val_input, val_target), callbacks=[checkpoint_cb, early_stopping_cb])"
   ]
  },
  {
   "cell_type": "code",
   "execution_count": 8,
   "id": "e7ec7ec6-1c8f-46f3-9afc-cffc8ef1962b",
   "metadata": {},
   "outputs": [
    {
     "data": {
      "image/png": "[encoded data removed]",
      "text/plain": [
       "<Figure size 640x480 with 1 Axes>"
      ]
     },
     "metadata": {},
     "output_type": "display_data"
    }
   ],
   "source": [
    "import matplotlib.pyplot as plt\n",
    "plt.plot(history.history['loss'])\n",
    "plt.plot(history.history['val_loss'])\n",
    "plt.xlabel('epoch')\n",
    "plt.ylabel('loss')\n",
    "plt.show()"
   ]
  },
  {
   "cell_type": "code",
   "execution_count": 9,
   "id": "c4d6c37f-2fe4-4f8b-bb71-6029208c7c50",
   "metadata": {},
   "outputs": [
    {
     "name": "stdout",
     "output_type": "stream",
     "text": [
      "1/1 [==============================] - 0s 15ms/step - loss: 0.1017 - mae: 0.2696\n"
     ]
    },
    {
     "data": {
      "text/plain": [
       "[0.10166710615158081, 0.2695646584033966]"
      ]
     },
     "execution_count": 9,
     "metadata": {},
     "output_type": "execute_result"
    }
   ],
   "source": [
    "model.evaluate(val_input, val_target)"
   ]
  },
  {
   "cell_type": "code",
   "execution_count": 10,
   "id": "de80d988-495a-4226-b567-d4cd17c11fe1",
   "metadata": {},
   "outputs": [
    {
     "name": "stdout",
     "output_type": "stream",
     "text": [
      "1/1 [==============================] - 0s 41ms/step - loss: 0.0894 - mae: 0.2579\n"
     ]
    },
    {
     "data": {
      "text/plain": [
       "[0.0894455537199974, 0.25785842537879944]"
      ]
     },
     "execution_count": 10,
     "metadata": {},
     "output_type": "execute_result"
    }
   ],
   "source": [
    "model.evaluate(test_input, test_target)"
   ]
  },
  {
   "cell_type": "code",
   "execution_count": 11,
   "id": "a288e708-ad1f-4e73-affe-df158365471d",
   "metadata": {},
   "outputs": [
    {
     "data": {
      "text/plain": [
       "[array([[-0.24447864, -0.06116131,  0.07760308,  0.1058244 ,  0.13377935,\n",
       "          0.11429464, -0.33826616,  0.09681123,  0.01406321,  0.07558499,\n",
       "         -0.02636966, -0.06198483, -0.13984056,  0.20162307,  0.02490758,\n",
       "          0.06657111,  0.11836597, -0.02587634,  0.14877862,  0.01933747,\n",
       "         -0.01564101, -0.1313488 ,  0.01841879,  0.16899188, -0.00641593,\n",
       "          0.08570354,  0.09793574,  0.21568939, -0.15899542,  0.0084855 ,\n",
       "          0.1072368 ,  0.20132138,  0.14205296,  0.15200113,  0.2031724 ,\n",
       "          0.02262416, -0.17158714,  0.22098494,  0.09738857,  0.02594371,\n",
       "         -0.04979447,  0.08922298,  0.1647346 ,  0.20353153, -0.06641993,\n",
       "          0.30317652,  0.2974205 ,  0.09905024,  0.14312279,  0.10371482]],\n",
       "       dtype=float32),\n",
       " array([-0.00908754,  0.09717206,  0.01113401, -0.0873895 ,  0.02057329,\n",
       "         0.00810648, -0.02819044, -0.04078943, -0.10391293,  0.01675497,\n",
       "         0.01571672,  0.10615154,  0.09827741, -0.12113885,  0.0672978 ,\n",
       "         0.02248962,  0.03008691, -0.05139455, -0.12927982, -0.09135596,\n",
       "        -0.03799341, -0.0319735 , -0.11172684, -0.10713039,  0.10675696,\n",
       "         0.02851884, -0.10073686, -0.1077786 ,  0.10697889,  0.01165207,\n",
       "        -0.09278958, -0.10590266, -0.12145489, -0.11312799,  0.00084999,\n",
       "         0.07016048, -0.03037189,  0.02467947, -0.06837373,  0.02872197,\n",
       "         0.12013844, -0.10778943, -0.08369464, -0.11826032, -0.01208566,\n",
       "         0.02317189, -0.00110794,  0.02684353,  0.01785042, -0.11015398],\n",
       "       dtype=float32),\n",
       " array([[-0.0022156 ,  0.01890268, -0.1904125 , ...,  0.20095167,\n",
       "         -0.00116039, -0.24925327],\n",
       "        [-0.20041165,  0.06444975,  0.00867063, ..., -0.01836933,\n",
       "         -0.09315841, -0.11869143],\n",
       "        [-0.11234275, -0.16578306, -0.00185037, ..., -0.2214241 ,\n",
       "         -0.03552004,  0.27754188],\n",
       "        ...,\n",
       "        [ 0.11879522,  0.02228299, -0.13696423, ..., -0.13185336,\n",
       "         -0.01701942,  0.10265087],\n",
       "        [ 0.05888746, -0.21043365, -0.152375  , ..., -0.18609875,\n",
       "         -0.24248354, -0.04423476],\n",
       "        [ 0.19321924, -0.30736062, -0.13050221, ...,  0.11971482,\n",
       "         -0.20727126,  0.13376229]], dtype=float32),\n",
       " array([ 0.06506056, -0.06216042,  0.07260982, -0.00651118,  0.06578325,\n",
       "        -0.06524302,  0.05636381,  0.05467743,  0.07367707, -0.0610454 ,\n",
       "        -0.05781817, -0.06623002, -0.07334548, -0.0571606 , -0.06711391,\n",
       "        -0.05838188, -0.0556043 ,  0.06434143, -0.00277578,  0.06627544,\n",
       "        -0.0389787 , -0.02366684, -0.05908391, -0.07014301, -0.06711836,\n",
       "         0.0331162 , -0.05760198,  0.05618866, -0.0522293 ,  0.06372461,\n",
       "        -0.05810531,  0.06364141,  0.02548428,  0.06886711, -0.06864282,\n",
       "         0.04249385,  0.01130259,  0.0666244 , -0.01884606, -0.06542087,\n",
       "         0.06752567,  0.05989876,  0.06540722,  0.06649821, -0.06678064,\n",
       "         0.06501203, -0.06404783, -0.06226718, -0.06598827,  0.06400535],\n",
       "       dtype=float32),\n",
       " array([[ 0.15769032],\n",
       "        [-0.01322962],\n",
       "        [ 0.06307054],\n",
       "        [-0.00825669],\n",
       "        [ 0.29239836],\n",
       "        [-0.21102531],\n",
       "        [ 0.12491672],\n",
       "        [ 0.02350508],\n",
       "        [ 0.2008189 ],\n",
       "        [-0.15900967],\n",
       "        [ 0.01559759],\n",
       "        [-0.17124365],\n",
       "        [-0.03447553],\n",
       "        [-0.12822318],\n",
       "        [-0.20543428],\n",
       "        [-0.10805223],\n",
       "        [-0.05066436],\n",
       "        [ 0.06229904],\n",
       "        [ 0.02241817],\n",
       "        [ 0.31882325],\n",
       "        [ 0.0093798 ],\n",
       "        [-0.02390516],\n",
       "        [-0.00154234],\n",
       "        [-0.08315974],\n",
       "        [-0.09715037],\n",
       "        [-0.01817858],\n",
       "        [-0.13893075],\n",
       "        [ 0.02477024],\n",
       "        [ 0.00234979],\n",
       "        [ 0.07993395],\n",
       "        [-0.15069643],\n",
       "        [ 0.1470791 ],\n",
       "        [-0.01114496],\n",
       "        [ 0.14527853],\n",
       "        [-0.20855947],\n",
       "        [ 0.0199472 ],\n",
       "        [-0.01685079],\n",
       "        [ 0.2907239 ],\n",
       "        [ 0.02425845],\n",
       "        [-0.13764267],\n",
       "        [ 0.22741438],\n",
       "        [ 0.16189429],\n",
       "        [ 0.2739739 ],\n",
       "        [ 0.03698243],\n",
       "        [-0.15604533],\n",
       "        [ 0.23741095],\n",
       "        [-0.24332303],\n",
       "        [-0.20544742],\n",
       "        [-0.2862586 ],\n",
       "        [ 0.04097026]], dtype=float32),\n",
       " array([0.07342739], dtype=float32)]"
      ]
     },
     "execution_count": 11,
     "metadata": {},
     "output_type": "execute_result"
    }
   ],
   "source": [
    "model.get_weights()"
   ]
  },
  {
   "cell_type": "code",
   "execution_count": 12,
   "id": "9e80a8d2-2c04-4482-9b31-24d637be7781",
   "metadata": {},
   "outputs": [
    {
     "name": "stderr",
     "output_type": "stream",
     "text": [
      "2023-09-07 15:36:09.340291: I tensorflow/core/grappler/optimizers/custom_graph_optimizer_registry.cc:114] Plugin optimizer for device_type GPU is enabled.\n"
     ]
    },
    {
     "name": "stdout",
     "output_type": "stream",
     "text": [
      "1/1 [==============================] - 0s 254ms/step\n"
     ]
    },
    {
     "data": {
      "text/plain": [
       "-4.0036364"
      ]
     },
     "execution_count": 12,
     "metadata": {},
     "output_type": "execute_result"
    }
   ],
   "source": [
    "model.predict(np.array([[-2]]))[0][0]"
   ]
  },
  {
   "cell_type": "code",
   "execution_count": 13,
   "id": "69991eaf-8ea8-4b43-ba52-f6b2baba7f97",
   "metadata": {},
   "outputs": [
    {
     "name": "stdout",
     "output_type": "stream",
     "text": [
      "Epoch 1/100\n",
      " 1/10 [==>...........................] - ETA: 1s - loss: 6171.8623"
     ]
    },
    {
     "name": "stderr",
     "output_type": "stream",
     "text": [
      "2023-09-07 10:49:10.481063: I tensorflow/core/grappler/optimizers/custom_graph_optimizer_registry.cc:114] Plugin optimizer for device_type GPU is enabled.\n"
     ]
    },
    {
     "name": "stdout",
     "output_type": "stream",
     "text": [
      "10/10 [==============================] - 0s 3ms/step - loss: 6489.7017\n",
      "Epoch 2/100\n",
      "10/10 [==============================] - 0s 3ms/step - loss: 5631.0684\n",
      "Epoch 3/100\n",
      "10/10 [==============================] - 0s 3ms/step - loss: 4809.8564\n",
      "Epoch 4/100\n",
      "10/10 [==============================] - 0s 3ms/step - loss: 4096.4189\n",
      "Epoch 5/100\n",
      "10/10 [==============================] - 0s 3ms/step - loss: 3468.9211\n",
      "Epoch 6/100\n",
      "10/10 [==============================] - 0s 3ms/step - loss: 2898.3799\n",
      "Epoch 7/100\n",
      "10/10 [==============================] - 0s 3ms/step - loss: 2411.0476\n",
      "Epoch 8/100\n",
      "10/10 [==============================] - 0s 3ms/step - loss: 1987.2306\n",
      "Epoch 9/100\n",
      "10/10 [==============================] - 0s 3ms/step - loss: 1626.3397\n",
      "Epoch 10/100\n",
      "10/10 [==============================] - 0s 3ms/step - loss: 1325.8158\n",
      "Epoch 11/100\n",
      "10/10 [==============================] - 0s 3ms/step - loss: 1058.7111\n",
      "Epoch 12/100\n",
      "10/10 [==============================] - 0s 3ms/step - loss: 855.2131\n",
      "Epoch 13/100\n",
      "10/10 [==============================] - 0s 3ms/step - loss: 671.9767\n",
      "Epoch 14/100\n",
      "10/10 [==============================] - 0s 3ms/step - loss: 528.0878\n",
      "Epoch 15/100\n",
      "10/10 [==============================] - 0s 3ms/step - loss: 411.6805\n",
      "Epoch 16/100\n",
      "10/10 [==============================] - 0s 3ms/step - loss: 315.1927\n",
      "Epoch 17/100\n",
      "10/10 [==============================] - 0s 3ms/step - loss: 240.3125\n",
      "Epoch 18/100\n",
      "10/10 [==============================] - 0s 3ms/step - loss: 183.7878\n",
      "Epoch 19/100\n",
      "10/10 [==============================] - 0s 3ms/step - loss: 135.8876\n",
      "Epoch 20/100\n",
      "10/10 [==============================] - 0s 3ms/step - loss: 102.6728\n",
      "Epoch 21/100\n",
      "10/10 [==============================] - 0s 3ms/step - loss: 75.0513\n",
      "Epoch 22/100\n",
      "10/10 [==============================] - 0s 3ms/step - loss: 54.2839\n",
      "Epoch 23/100\n",
      "10/10 [==============================] - 0s 3ms/step - loss: 39.8622\n",
      "Epoch 24/100\n",
      "10/10 [==============================] - 0s 3ms/step - loss: 28.1433\n",
      "Epoch 25/100\n",
      "10/10 [==============================] - 0s 3ms/step - loss: 20.0744\n",
      "Epoch 26/100\n",
      "10/10 [==============================] - 0s 3ms/step - loss: 14.5365\n",
      "Epoch 27/100\n",
      "10/10 [==============================] - 0s 3ms/step - loss: 9.9496\n",
      "Epoch 28/100\n",
      "10/10 [==============================] - 0s 3ms/step - loss: 6.9942\n",
      "Epoch 29/100\n",
      "10/10 [==============================] - 0s 3ms/step - loss: 4.9602\n",
      "Epoch 30/100\n",
      "10/10 [==============================] - 0s 3ms/step - loss: 3.4671\n",
      "Epoch 31/100\n",
      "10/10 [==============================] - 0s 3ms/step - loss: 2.4756\n",
      "Epoch 32/100\n",
      "10/10 [==============================] - 0s 3ms/step - loss: 1.7907\n",
      "Epoch 33/100\n",
      "10/10 [==============================] - 0s 3ms/step - loss: 1.3534\n",
      "Epoch 34/100\n",
      "10/10 [==============================] - 0s 3ms/step - loss: 1.0368\n",
      "Epoch 35/100\n",
      "10/10 [==============================] - 0s 3ms/step - loss: 0.8330\n",
      "Epoch 36/100\n",
      "10/10 [==============================] - 0s 3ms/step - loss: 0.7152\n",
      "Epoch 37/100\n",
      "10/10 [==============================] - 0s 3ms/step - loss: 0.6321\n",
      "Epoch 38/100\n",
      "10/10 [==============================] - 0s 3ms/step - loss: 0.5754\n",
      "Epoch 39/100\n",
      "10/10 [==============================] - 0s 3ms/step - loss: 0.5427\n",
      "Epoch 40/100\n",
      "10/10 [==============================] - 0s 3ms/step - loss: 0.5243\n",
      "Epoch 41/100\n",
      "10/10 [==============================] - 0s 3ms/step - loss: 0.5068\n",
      "Epoch 42/100\n",
      "10/10 [==============================] - 0s 3ms/step - loss: 0.4993\n",
      "Epoch 43/100\n",
      "10/10 [==============================] - 0s 4ms/step - loss: 0.4932\n",
      "Epoch 44/100\n",
      "10/10 [==============================] - 0s 3ms/step - loss: 0.4900\n",
      "Epoch 45/100\n",
      "10/10 [==============================] - 0s 3ms/step - loss: 0.4883\n",
      "Epoch 46/100\n",
      "10/10 [==============================] - 0s 3ms/step - loss: 0.4855\n",
      "Epoch 47/100\n",
      "10/10 [==============================] - 0s 3ms/step - loss: 0.4841\n",
      "Epoch 48/100\n",
      "10/10 [==============================] - 0s 3ms/step - loss: 0.4827\n",
      "Epoch 49/100\n",
      "10/10 [==============================] - 0s 3ms/step - loss: 0.4818\n",
      "Epoch 50/100\n",
      "10/10 [==============================] - 0s 3ms/step - loss: 0.4805\n",
      "Epoch 51/100\n",
      "10/10 [==============================] - 0s 3ms/step - loss: 0.4795\n",
      "Epoch 52/100\n",
      "10/10 [==============================] - 0s 3ms/step - loss: 0.4782\n",
      "Epoch 53/100\n",
      "10/10 [==============================] - 0s 3ms/step - loss: 0.4775\n",
      "Epoch 54/100\n",
      "10/10 [==============================] - 0s 3ms/step - loss: 0.4762\n",
      "Epoch 55/100\n",
      "10/10 [==============================] - 0s 3ms/step - loss: 0.4750\n",
      "Epoch 56/100\n",
      "10/10 [==============================] - 0s 3ms/step - loss: 0.4740\n",
      "Epoch 57/100\n",
      "10/10 [==============================] - 0s 3ms/step - loss: 0.4727\n",
      "Epoch 58/100\n",
      "10/10 [==============================] - 0s 3ms/step - loss: 0.4716\n",
      "Epoch 59/100\n",
      "10/10 [==============================] - 0s 4ms/step - loss: 0.4708\n",
      "Epoch 60/100\n",
      "10/10 [==============================] - 0s 4ms/step - loss: 0.4694\n",
      "Epoch 61/100\n",
      "10/10 [==============================] - 0s 5ms/step - loss: 0.4682\n",
      "Epoch 62/100\n",
      "10/10 [==============================] - 0s 4ms/step - loss: 0.4673\n",
      "Epoch 63/100\n",
      "10/10 [==============================] - 0s 4ms/step - loss: 0.4660\n",
      "Epoch 64/100\n",
      "10/10 [==============================] - 0s 3ms/step - loss: 0.4647\n",
      "Epoch 65/100\n",
      "10/10 [==============================] - 0s 3ms/step - loss: 0.4634\n",
      "Epoch 66/100\n",
      "10/10 [==============================] - 0s 3ms/step - loss: 0.4624\n",
      "Epoch 67/100\n",
      "10/10 [==============================] - 0s 3ms/step - loss: 0.4610\n",
      "Epoch 68/100\n",
      "10/10 [==============================] - 0s 3ms/step - loss: 0.4600\n",
      "Epoch 69/100\n",
      "10/10 [==============================] - 0s 3ms/step - loss: 0.4586\n",
      "Epoch 70/100\n",
      "10/10 [==============================] - 0s 4ms/step - loss: 0.4575\n",
      "Epoch 71/100\n",
      "10/10 [==============================] - 0s 3ms/step - loss: 0.4562\n",
      "Epoch 72/100\n",
      "10/10 [==============================] - 0s 3ms/step - loss: 0.4551\n",
      "Epoch 73/100\n",
      "10/10 [==============================] - 0s 3ms/step - loss: 0.4536\n",
      "Epoch 74/100\n",
      "10/10 [==============================] - 0s 3ms/step - loss: 0.4523\n",
      "Epoch 75/100\n",
      "10/10 [==============================] - 0s 4ms/step - loss: 0.4511\n",
      "Epoch 76/100\n",
      "10/10 [==============================] - 0s 3ms/step - loss: 0.4498\n",
      "Epoch 77/100\n",
      "10/10 [==============================] - 0s 4ms/step - loss: 0.4486\n",
      "Epoch 78/100\n",
      "10/10 [==============================] - 0s 3ms/step - loss: 0.4473\n",
      "Epoch 79/100\n",
      "10/10 [==============================] - 0s 3ms/step - loss: 0.4458\n",
      "Epoch 80/100\n",
      "10/10 [==============================] - 0s 3ms/step - loss: 0.4446\n",
      "Epoch 81/100\n",
      "10/10 [==============================] - 0s 4ms/step - loss: 0.4431\n",
      "Epoch 82/100\n",
      "10/10 [==============================] - 0s 3ms/step - loss: 0.4419\n",
      "Epoch 83/100\n",
      "10/10 [==============================] - 0s 3ms/step - loss: 0.4405\n",
      "Epoch 84/100\n",
      "10/10 [==============================] - 0s 3ms/step - loss: 0.4390\n",
      "Epoch 85/100\n",
      "10/10 [==============================] - 0s 3ms/step - loss: 0.4378\n",
      "Epoch 86/100\n",
      "10/10 [==============================] - 0s 4ms/step - loss: 0.4363\n",
      "Epoch 87/100\n",
      "10/10 [==============================] - 0s 3ms/step - loss: 0.4352\n",
      "Epoch 88/100\n",
      "10/10 [==============================] - 0s 3ms/step - loss: 0.4336\n",
      "Epoch 89/100\n",
      "10/10 [==============================] - 0s 3ms/step - loss: 0.4322\n",
      "Epoch 90/100\n",
      "10/10 [==============================] - 0s 3ms/step - loss: 0.4308\n",
      "Epoch 91/100\n",
      "10/10 [==============================] - 0s 3ms/step - loss: 0.4295\n",
      "Epoch 92/100\n",
      "10/10 [==============================] - 0s 3ms/step - loss: 0.4279\n",
      "Epoch 93/100\n",
      "10/10 [==============================] - 0s 3ms/step - loss: 0.4265\n",
      "Epoch 94/100\n",
      "10/10 [==============================] - 0s 3ms/step - loss: 0.4252\n",
      "Epoch 95/100\n",
      "10/10 [==============================] - 0s 3ms/step - loss: 0.4244\n",
      "Epoch 96/100\n",
      "10/10 [==============================] - 0s 3ms/step - loss: 0.4221\n",
      "Epoch 97/100\n",
      "10/10 [==============================] - 0s 3ms/step - loss: 0.4208\n",
      "Epoch 98/100\n",
      "10/10 [==============================] - 0s 3ms/step - loss: 0.4193\n",
      "Epoch 99/100\n",
      "10/10 [==============================] - 0s 3ms/step - loss: 0.4178\n",
      "Epoch 100/100\n",
      "10/10 [==============================] - 0s 3ms/step - loss: 0.4163\n",
      "4/4 [==============================] - 0s 5ms/step\n",
      "[[ 3.279283]\n",
      " [ 5.259802]\n",
      " [ 7.240321]\n",
      " [ 9.22084 ]\n",
      " [11.201359]]\n"
     ]
    },
    {
     "name": "stderr",
     "output_type": "stream",
     "text": [
      "2023-09-07 10:49:14.054690: I tensorflow/core/grappler/optimizers/custom_graph_optimizer_registry.cc:114] Plugin optimizer for device_type GPU is enabled.\n"
     ]
    }
   ],
   "source": [
    "# 필요한 라이브러리들 임포트\n",
    "import numpy as np\n",
    "import pandas as pd\n",
    "from keras.models import Sequential\n",
    "from keras.layers import Dense\n",
    "from keras.optimizers import Adam\n",
    "\n",
    "# 데이터 준비\n",
    "data = {'x': [x for x in range(1, 101)],\n",
    "        'y': [2*x for x in range(1, 101)]}\n",
    "df = pd.DataFrame(data)\n",
    "X = np.array(df['x']).reshape(-1, 1)\n",
    "Y = np.array(df['y']).reshape(-1, 1)\n",
    "\n",
    "# Keras Sequential 모델 구성\n",
    "model = Sequential()\n",
    "model.add(Dense(1, input_dim=1, activation='linear'))\n",
    "\n",
    "# 모델 컴파일\n",
    "model.compile(loss='mean_squared_error', optimizer=Adam(learning_rate=0.01))\n",
    "\n",
    "# 모델 훈련\n",
    "model.fit(X, Y, epochs=100, batch_size=10)\n",
    "\n",
    "# 예측 수행\n",
    "predictions = model.predict(X)\n",
    "\n",
    "# 몇몇 예측 결과 출력\n",
    "print(predictions[:5])\n"
   ]
  },
  {
   "cell_type": "code",
   "execution_count": null,
   "id": "3f7ab186-2662-4071-95ce-131504641e64",
   "metadata": {},
   "outputs": [],
   "source": []
  }
 ],
 "metadata": {
  "kernelspec": {
   "display_name": "Python 3.9 (tensorflow)",
   "language": "python",
   "name": "tensorflow"
  },
  "language_info": {
   "codemirror_mode": {
    "name": "ipython",
    "version": 3
   },
   "file_extension": ".py",
   "mimetype": "text/x-python",
   "name": "python",
   "nbconvert_exporter": "python",
   "pygments_lexer": "ipython3",
   "version": "3.9.16"
  }
 },
 "nbformat": 4,
 "nbformat_minor": 5
}
