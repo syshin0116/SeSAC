{
 "cells": [
  {
   "cell_type": "code",
   "execution_count": 1,
   "id": "beaeb6ca-0a24-4eaa-ab76-8e2003cabd22",
   "metadata": {},
   "outputs": [],
   "source": [
    "import pandas as pd\n",
    "import numpy as np"
   ]
  },
  {
   "cell_type": "code",
   "execution_count": 2,
   "id": "a9568b75-0144-45f5-8c50-3bb2c028b9ad",
   "metadata": {},
   "outputs": [
    {
     "data": {
      "text/html": [
       "<div>\n",
       "<style scoped>\n",
       "    .dataframe tbody tr th:only-of-type {\n",
       "        vertical-align: middle;\n",
       "    }\n",
       "\n",
       "    .dataframe tbody tr th {\n",
       "        vertical-align: top;\n",
       "    }\n",
       "\n",
       "    .dataframe thead th {\n",
       "        text-align: right;\n",
       "    }\n",
       "</style>\n",
       "<table border=\"1\" class=\"dataframe\">\n",
       "  <thead>\n",
       "    <tr style=\"text-align: right;\">\n",
       "      <th></th>\n",
       "      <th>x</th>\n",
       "      <th>y</th>\n",
       "    </tr>\n",
       "  </thead>\n",
       "  <tbody>\n",
       "    <tr>\n",
       "      <th>0</th>\n",
       "      <td>1</td>\n",
       "      <td>2</td>\n",
       "    </tr>\n",
       "    <tr>\n",
       "      <th>1</th>\n",
       "      <td>2</td>\n",
       "      <td>4</td>\n",
       "    </tr>\n",
       "    <tr>\n",
       "      <th>2</th>\n",
       "      <td>3</td>\n",
       "      <td>6</td>\n",
       "    </tr>\n",
       "    <tr>\n",
       "      <th>3</th>\n",
       "      <td>4</td>\n",
       "      <td>8</td>\n",
       "    </tr>\n",
       "    <tr>\n",
       "      <th>4</th>\n",
       "      <td>5</td>\n",
       "      <td>10</td>\n",
       "    </tr>\n",
       "    <tr>\n",
       "      <th>...</th>\n",
       "      <td>...</td>\n",
       "      <td>...</td>\n",
       "    </tr>\n",
       "    <tr>\n",
       "      <th>95</th>\n",
       "      <td>96</td>\n",
       "      <td>192</td>\n",
       "    </tr>\n",
       "    <tr>\n",
       "      <th>96</th>\n",
       "      <td>97</td>\n",
       "      <td>194</td>\n",
       "    </tr>\n",
       "    <tr>\n",
       "      <th>97</th>\n",
       "      <td>98</td>\n",
       "      <td>196</td>\n",
       "    </tr>\n",
       "    <tr>\n",
       "      <th>98</th>\n",
       "      <td>99</td>\n",
       "      <td>198</td>\n",
       "    </tr>\n",
       "    <tr>\n",
       "      <th>99</th>\n",
       "      <td>100</td>\n",
       "      <td>200</td>\n",
       "    </tr>\n",
       "  </tbody>\n",
       "</table>\n",
       "<p>100 rows × 2 columns</p>\n",
       "</div>"
      ],
      "text/plain": [
       "      x    y\n",
       "0     1    2\n",
       "1     2    4\n",
       "2     3    6\n",
       "3     4    8\n",
       "4     5   10\n",
       "..  ...  ...\n",
       "95   96  192\n",
       "96   97  194\n",
       "97   98  196\n",
       "98   99  198\n",
       "99  100  200\n",
       "\n",
       "[100 rows x 2 columns]"
      ]
     },
     "execution_count": 2,
     "metadata": {},
     "output_type": "execute_result"
    }
   ],
   "source": [
    "data = {'x' : [x for x in range(1, 101)],\n",
    "'y' : [2*x for x in range(1, 101)]}\n",
    "df = pd.DataFrame(data)\n",
    "df"
   ]
  },
  {
   "cell_type": "code",
   "execution_count": 4,
   "id": "863bb45f-03f2-4652-8e7b-e9215de98f5f",
   "metadata": {},
   "outputs": [],
   "source": [
    "from tensorflow import keras\n",
    "from sklearn.model_selection import train_test_split\n",
    "train_input, test_input, train_target, test_target = train_test_split(df.x.to_numpy().reshape(-1, 1), df.y.to_numpy().reshape(-1, 1), test_size=0.2, random_state=42)\n",
    "train_input, val_input, train_target, val_target = train_test_split(train_input, train_target, test_size=0.2, random_state=42)"
   ]
  },
  {
   "cell_type": "code",
   "execution_count": 5,
   "id": "ca8ec4a7-ea7d-4a58-b3c3-7def54216ade",
   "metadata": {},
   "outputs": [
    {
     "name": "stdout",
     "output_type": "stream",
     "text": [
      "1.0\n"
     ]
    }
   ],
   "source": [
    "from sklearn.linear_model import LinearRegression\n",
    "\n",
    "lr = LinearRegression()\n",
    "lr.fit(train_input, train_target)\n",
    "print(lr.score(test_input, test_target)) "
   ]
  },
  {
   "cell_type": "code",
   "execution_count": 6,
   "id": "0f53af39-6653-40f2-ace5-759865cff65a",
   "metadata": {},
   "outputs": [
    {
     "name": "stdout",
     "output_type": "stream",
     "text": [
      "(64, 1) (64, 1) (20, 1) (20, 1)\n"
     ]
    }
   ],
   "source": [
    "print(train_input.shape, train_target.shape, test_input.shape, test_target.shape)"
   ]
  },
  {
   "cell_type": "code",
   "execution_count": 52,
   "id": "825ea042-05e6-4b83-8773-6cbdaa99affe",
   "metadata": {},
   "outputs": [
    {
     "name": "stdout",
     "output_type": "stream",
     "text": [
      "Model: \"sequential_5\"\n",
      "_________________________________________________________________\n",
      " Layer (type)                Output Shape              Param #   \n",
      "=================================================================\n",
      " dense_9 (Dense)             (None, 50)                100       \n",
      "                                                                 \n",
      " dense_10 (Dense)            (None, 50)                2550      \n",
      "                                                                 \n",
      " dense_11 (Dense)            (None, 1)                 51        \n",
      "                                                                 \n",
      "=================================================================\n",
      "Total params: 2,701\n",
      "Trainable params: 2,701\n",
      "Non-trainable params: 0\n",
      "_________________________________________________________________\n"
     ]
    }
   ],
   "source": [
    "from tensorflow import keras\n",
    "model = keras.Sequential()\n",
    "# model.add(keras.layers.Flatten(input_shape=(1,)))\n",
    "model.add(keras.layers.Dense(50, activation='linear', input_dim=1))\n",
    "model.add(keras.layers.Dense(50, activation='linear', input_dim=1))\n",
    "model.add(keras.layers.Dense(1, activation='linear', input_dim=1))\n",
    "\n",
    "model.summary()"
   ]
  },
  {
   "cell_type": "code",
   "execution_count": 53,
   "id": "b9549f34-1182-49ca-92f8-a4d72184c522",
   "metadata": {},
   "outputs": [
    {
     "name": "stdout",
     "output_type": "stream",
     "text": [
      "Epoch 1/300\n"
     ]
    },
    {
     "name": "stderr",
     "output_type": "stream",
     "text": [
      "2023-09-07 11:11:48.059589: I tensorflow/core/grappler/optimizers/custom_graph_optimizer_registry.cc:114] Plugin optimizer for device_type GPU is enabled.\n"
     ]
    },
    {
     "name": "stdout",
     "output_type": "stream",
     "text": [
      "2/2 [==============================] - 1s 133ms/step - loss: 9665.1738 - mae: 82.4277 - val_loss: 0.1886 - val_mae: 0.4331\n",
      "Epoch 2/300\n",
      "2/2 [==============================] - 0s 23ms/step - loss: 1168.3319 - mae: 21.4013 - val_loss: 4128.6709 - val_mae: 53.6201\n",
      "Epoch 3/300\n",
      "2/2 [==============================] - 0s 22ms/step - loss: 4154.8115 - mae: 57.1101 - val_loss: 1783.9917 - val_mae: 35.2402\n",
      "Epoch 4/300\n",
      "2/2 [==============================] - 0s 22ms/step - loss: 1116.4070 - mae: 28.4995 - val_loss: 1.2707 - val_mae: 0.9689\n",
      "Epoch 5/300\n",
      "1/2 [==============>...............] - ETA: 0s - loss: 1.3484 - mae: 1.0543"
     ]
    },
    {
     "name": "stderr",
     "output_type": "stream",
     "text": [
      "2023-09-07 11:11:48.325153: I tensorflow/core/grappler/optimizers/custom_graph_optimizer_registry.cc:114] Plugin optimizer for device_type GPU is enabled.\n"
     ]
    },
    {
     "name": "stdout",
     "output_type": "stream",
     "text": [
      "2/2 [==============================] - 0s 23ms/step - loss: 142.0280 - mae: 7.9008 - val_loss: 783.4391 - val_mae: 23.2954\n",
      "Epoch 6/300\n",
      "2/2 [==============================] - 0s 22ms/step - loss: 1100.9666 - mae: 29.1817 - val_loss: 1384.8438 - val_mae: 30.9809\n",
      "Epoch 7/300\n",
      "2/2 [==============================] - 0s 21ms/step - loss: 1431.6755 - mae: 33.3780 - val_loss: 929.7483 - val_mae: 25.3837\n",
      "Epoch 8/300\n",
      "2/2 [==============================] - 0s 24ms/step - loss: 790.4351 - mae: 24.8216 - val_loss: 247.6944 - val_mae: 13.0975\n",
      "Epoch 9/300\n",
      "2/2 [==============================] - 0s 22ms/step - loss: 138.9170 - mae: 9.8971 - val_loss: 3.1218 - val_mae: 1.4798\n",
      "Epoch 10/300\n",
      "2/2 [==============================] - 0s 22ms/step - loss: 46.2869 - mae: 5.0261 - val_loss: 248.4864 - val_mae: 13.1347\n",
      "Epoch 11/300\n",
      "2/2 [==============================] - 0s 24ms/step - loss: 371.0804 - mae: 16.7699 - val_loss: 434.5734 - val_mae: 17.3649\n"
     ]
    }
   ],
   "source": [
    "from keras.optimizers import Adam\n",
    "\n",
    "model.compile(optimizer=Adam(learning_rate=0.01), loss='mean_squared_error', metrics=['mae'])\n",
    "\n",
    "checkpoint_cb = keras.callbacks.ModelCheckpoint('quiz_best_model.h5', save_best_only=True)\n",
    "\n",
    "early_stopping_cb = keras.callbacks.EarlyStopping(patience=10, restore_best_weights=True)\n",
    "\n",
    "history= model.fit(train_input, train_target, epochs=300, validation_data=(val_input, val_target), callbacks=[checkpoint_cb, early_stopping_cb])"
   ]
  },
  {
   "cell_type": "code",
   "execution_count": 54,
   "id": "e7ec7ec6-1c8f-46f3-9afc-cffc8ef1962b",
   "metadata": {},
   "outputs": [
    {
     "data": {
      "image/png": "[encoded data removed]",
      "text/plain": [
       "<Figure size 640x480 with 1 Axes>"
      ]
     },
     "metadata": {},
     "output_type": "display_data"
    }
   ],
   "source": [
    "import matplotlib.pyplot as plt\n",
    "plt.plot(history.history['loss'])\n",
    "plt.plot(history.history['val_loss'])\n",
    "plt.xlabel('epoch')\n",
    "plt.ylabel('loss')\n",
    "plt.show()"
   ]
  },
  {
   "cell_type": "code",
   "execution_count": 55,
   "id": "c4d6c37f-2fe4-4f8b-bb71-6029208c7c50",
   "metadata": {},
   "outputs": [
    {
     "name": "stdout",
     "output_type": "stream",
     "text": [
      "1/1 [==============================] - 0s 15ms/step - loss: 0.1886 - mae: 0.4331\n"
     ]
    },
    {
     "data": {
      "text/plain": [
       "[0.18864527344703674, 0.43309009075164795]"
      ]
     },
     "execution_count": 55,
     "metadata": {},
     "output_type": "execute_result"
    }
   ],
   "source": [
    "model.evaluate(val_input, val_target)"
   ]
  },
  {
   "cell_type": "code",
   "execution_count": 56,
   "id": "de80d988-495a-4226-b567-d4cd17c11fe1",
   "metadata": {},
   "outputs": [
    {
     "name": "stdout",
     "output_type": "stream",
     "text": [
      "1/1 [==============================] - 0s 30ms/step - loss: 0.1865 - mae: 0.4308\n"
     ]
    },
    {
     "data": {
      "text/plain": [
       "[0.18647193908691406, 0.4308345913887024]"
      ]
     },
     "execution_count": 56,
     "metadata": {},
     "output_type": "execute_result"
    }
   ],
   "source": [
    "model.evaluate(test_input, test_target)"
   ]
  },
  {
   "cell_type": "code",
   "execution_count": 57,
   "id": "a288e708-ad1f-4e73-affe-df158365471d",
   "metadata": {},
   "outputs": [
    {
     "data": {
      "text/plain": [
       "[array([[ 0.3525818 ,  0.31662545,  0.12653542, -0.29854512,  0.06571366,\n",
       "          0.26202032, -0.23163919,  0.07865377,  0.32052407,  0.10247781,\n",
       "          0.3164214 , -0.09764484, -0.04211077, -0.28599522,  0.22163846,\n",
       "          0.33763513,  0.31288844,  0.02189083, -0.24203631, -0.02620702,\n",
       "          0.12329032, -0.1596724 , -0.11518298,  0.20216307, -0.29586646,\n",
       "          0.35050386,  0.03341442, -0.07624061,  0.04915296,  0.07866412,\n",
       "         -0.09968819,  0.17839755,  0.15430775,  0.33075178,  0.24236555,\n",
       "         -0.00956022, -0.01043168,  0.07620635, -0.13399905, -0.14961019,\n",
       "          0.26453775, -0.31729385, -0.20092233,  0.32788014, -0.06640081,\n",
       "          0.25151944,  0.00721398,  0.24995935,  0.3348799 ,  0.28103918]],\n",
       "       dtype=float32),\n",
       " array([ 0.0196331 , -0.01668433,  0.02001367,  0.01637017, -0.0138389 ,\n",
       "        -0.01865472,  0.01678819, -0.01862668,  0.01996147, -0.0178482 ,\n",
       "         0.02001345,  0.01273145, -0.01926567,  0.01833325,  0.01977592,\n",
       "        -0.00447126, -0.00516837, -0.01833013, -0.01980536, -0.01964993,\n",
       "         0.01994651,  0.01584579,  0.01782136, -0.01703747, -0.01992692,\n",
       "         0.01959209,  0.0200024 ,  0.0182205 ,  0.01969071, -0.01874659,\n",
       "        -0.01994269, -0.01820646, -0.01859288,  0.01969074, -0.01874184,\n",
       "        -0.01753662,  0.01640932,  0.01968948, -0.01998334,  0.01871486,\n",
       "        -0.01861475, -0.01974532, -0.01951541,  0.02000417, -0.01999255,\n",
       "         0.01978555,  0.01287456, -0.01834787,  0.01979741, -0.0135433 ],\n",
       "       dtype=float32),\n",
       " array([[-0.21625702,  0.1467727 , -0.00066418, ...,  0.02116929,\n",
       "         -0.06770147, -0.24570398],\n",
       "        [ 0.07780229, -0.04567098, -0.1182159 , ..., -0.05693492,\n",
       "          0.00470607,  0.01581965],\n",
       "        [ 0.13955899,  0.03687845, -0.24387279, ..., -0.23843262,\n",
       "          0.06145258,  0.07853846],\n",
       "        ...,\n",
       "        [ 0.10289025, -0.06354214, -0.21854182, ...,  0.19390865,\n",
       "         -0.24493979, -0.01711388],\n",
       "        [-0.00302691, -0.21767789,  0.21662138, ..., -0.00258698,\n",
       "         -0.2602933 , -0.02087332],\n",
       "        [-0.05825872, -0.1674467 ,  0.06786556, ..., -0.03807494,\n",
       "          0.08875658,  0.14436659]], dtype=float32),\n",
       " array([ 0.01917436, -0.01941293, -0.01904958,  0.01938542,  0.0194154 ,\n",
       "        -0.01916884, -0.01947046, -0.01916992, -0.01916711, -0.01914914,\n",
       "        -0.01930694, -0.01911418,  0.01916525, -0.01984689,  0.01902451,\n",
       "         0.01938367, -0.01918042, -0.01930012,  0.01917786, -0.01919057,\n",
       "        -0.01927849,  0.01929059, -0.01941297, -0.01942699,  0.01892084,\n",
       "         0.01914463,  0.01916079, -0.01927824, -0.01928017,  0.01916393,\n",
       "         0.01928885, -0.01929964,  0.01917248,  0.01916537, -0.01928063,\n",
       "        -0.01918446,  0.01929884, -0.01918022, -0.01940124, -0.01918487,\n",
       "         0.01928505,  0.01928604,  0.01933657, -0.01915869, -0.0194807 ,\n",
       "        -0.01918595,  0.01913736, -0.01913698, -0.01912569, -0.01928639],\n",
       "       dtype=float32),\n",
       " array([[ 0.24597047],\n",
       "        [-0.09727092],\n",
       "        [-0.06876678],\n",
       "        [ 0.11277241],\n",
       "        [ 0.09598836],\n",
       "        [-0.2120856 ],\n",
       "        [-0.07657727],\n",
       "        [-0.21728024],\n",
       "        [-0.20750436],\n",
       "        [-0.16217773],\n",
       "        [-0.22137608],\n",
       "        [-0.12078474],\n",
       "        [ 0.20052192],\n",
       "        [-0.03478574],\n",
       "        [ 0.06196869],\n",
       "        [ 0.11382158],\n",
       "        [-0.2686699 ],\n",
       "        [-0.2438344 ],\n",
       "        [ 0.24921937],\n",
       "        [-0.32205462],\n",
       "        [-0.35909688],\n",
       "        [ 0.2826066 ],\n",
       "        [-0.09702741],\n",
       "        [-0.09090185],\n",
       "        [ 0.03459508],\n",
       "        [ 0.15387812],\n",
       "        [ 0.18860409],\n",
       "        [-0.3615192 ],\n",
       "        [-0.34621888],\n",
       "        [ 0.19744608],\n",
       "        [ 0.2925288 ],\n",
       "        [-0.24552666],\n",
       "        [ 0.2252943 ],\n",
       "        [ 0.20412013],\n",
       "        [-0.34307975],\n",
       "        [-0.28146774],\n",
       "        [ 0.24865164],\n",
       "        [-0.2642927 ],\n",
       "        [-0.10325369],\n",
       "        [-0.2843704 ],\n",
       "        [ 0.3138016 ],\n",
       "        [ 0.30785897],\n",
       "        [ 0.16089216],\n",
       "        [-0.19861299],\n",
       "        [-0.07341721],\n",
       "        [-0.2951877 ],\n",
       "        [ 0.14844523],\n",
       "        [-0.13942742],\n",
       "        [-0.13962716],\n",
       "        [-0.3058643 ]], dtype=float32),\n",
       " array([0.01923533], dtype=float32)]"
      ]
     },
     "execution_count": 57,
     "metadata": {},
     "output_type": "execute_result"
    }
   ],
   "source": [
    "model.get_weights()"
   ]
  },
  {
   "cell_type": "code",
   "execution_count": 58,
   "id": "9e80a8d2-2c04-4482-9b31-24d637be7781",
   "metadata": {},
   "outputs": [
    {
     "name": "stdout",
     "output_type": "stream",
     "text": [
      "1/1 [==============================] - 0s 52ms/step\n"
     ]
    },
    {
     "name": "stderr",
     "output_type": "stream",
     "text": [
      "2023-09-07 11:11:50.352754: I tensorflow/core/grappler/optimizers/custom_graph_optimizer_registry.cc:114] Plugin optimizer for device_type GPU is enabled.\n"
     ]
    },
    {
     "data": {
      "text/plain": [
       "200.48709"
      ]
     },
     "execution_count": 58,
     "metadata": {},
     "output_type": "execute_result"
    }
   ],
   "source": [
    "model.predict(np.array([[100]]))[0][0]"
   ]
  },
  {
   "cell_type": "code",
   "execution_count": 13,
   "id": "69991eaf-8ea8-4b43-ba52-f6b2baba7f97",
   "metadata": {},
   "outputs": [
    {
     "name": "stdout",
     "output_type": "stream",
     "text": [
      "Epoch 1/100\n",
      " 1/10 [==>...........................] - ETA: 1s - loss: 6171.8623"
     ]
    },
    {
     "name": "stderr",
     "output_type": "stream",
     "text": [
      "2023-09-07 10:49:10.481063: I tensorflow/core/grappler/optimizers/custom_graph_optimizer_registry.cc:114] Plugin optimizer for device_type GPU is enabled.\n"
     ]
    },
    {
     "name": "stdout",
     "output_type": "stream",
     "text": [
      "10/10 [==============================] - 0s 3ms/step - loss: 6489.7017\n",
      "Epoch 2/100\n",
      "10/10 [==============================] - 0s 3ms/step - loss: 5631.0684\n",
      "Epoch 3/100\n",
      "10/10 [==============================] - 0s 3ms/step - loss: 4809.8564\n",
      "Epoch 4/100\n",
      "10/10 [==============================] - 0s 3ms/step - loss: 4096.4189\n",
      "Epoch 5/100\n",
      "10/10 [==============================] - 0s 3ms/step - loss: 3468.9211\n",
      "Epoch 6/100\n",
      "10/10 [==============================] - 0s 3ms/step - loss: 2898.3799\n",
      "Epoch 7/100\n",
      "10/10 [==============================] - 0s 3ms/step - loss: 2411.0476\n",
      "Epoch 8/100\n",
      "10/10 [==============================] - 0s 3ms/step - loss: 1987.2306\n",
      "Epoch 9/100\n",
      "10/10 [==============================] - 0s 3ms/step - loss: 1626.3397\n",
      "Epoch 10/100\n",
      "10/10 [==============================] - 0s 3ms/step - loss: 1325.8158\n",
      "Epoch 11/100\n",
      "10/10 [==============================] - 0s 3ms/step - loss: 1058.7111\n",
      "Epoch 12/100\n",
      "10/10 [==============================] - 0s 3ms/step - loss: 855.2131\n",
      "Epoch 13/100\n",
      "10/10 [==============================] - 0s 3ms/step - loss: 671.9767\n",
      "Epoch 14/100\n",
      "10/10 [==============================] - 0s 3ms/step - loss: 528.0878\n",
      "Epoch 15/100\n",
      "10/10 [==============================] - 0s 3ms/step - loss: 411.6805\n",
      "Epoch 16/100\n",
      "10/10 [==============================] - 0s 3ms/step - loss: 315.1927\n",
      "Epoch 17/100\n",
      "10/10 [==============================] - 0s 3ms/step - loss: 240.3125\n",
      "Epoch 18/100\n",
      "10/10 [==============================] - 0s 3ms/step - loss: 183.7878\n",
      "Epoch 19/100\n",
      "10/10 [==============================] - 0s 3ms/step - loss: 135.8876\n",
      "Epoch 20/100\n",
      "10/10 [==============================] - 0s 3ms/step - loss: 102.6728\n",
      "Epoch 21/100\n",
      "10/10 [==============================] - 0s 3ms/step - loss: 75.0513\n",
      "Epoch 22/100\n",
      "10/10 [==============================] - 0s 3ms/step - loss: 54.2839\n",
      "Epoch 23/100\n",
      "10/10 [==============================] - 0s 3ms/step - loss: 39.8622\n",
      "Epoch 24/100\n",
      "10/10 [==============================] - 0s 3ms/step - loss: 28.1433\n",
      "Epoch 25/100\n",
      "10/10 [==============================] - 0s 3ms/step - loss: 20.0744\n",
      "Epoch 26/100\n",
      "10/10 [==============================] - 0s 3ms/step - loss: 14.5365\n",
      "Epoch 27/100\n",
      "10/10 [==============================] - 0s 3ms/step - loss: 9.9496\n",
      "Epoch 28/100\n",
      "10/10 [==============================] - 0s 3ms/step - loss: 6.9942\n",
      "Epoch 29/100\n",
      "10/10 [==============================] - 0s 3ms/step - loss: 4.9602\n",
      "Epoch 30/100\n",
      "10/10 [==============================] - 0s 3ms/step - loss: 3.4671\n",
      "Epoch 31/100\n",
      "10/10 [==============================] - 0s 3ms/step - loss: 2.4756\n",
      "Epoch 32/100\n",
      "10/10 [==============================] - 0s 3ms/step - loss: 1.7907\n",
      "Epoch 33/100\n",
      "10/10 [==============================] - 0s 3ms/step - loss: 1.3534\n",
      "Epoch 34/100\n",
      "10/10 [==============================] - 0s 3ms/step - loss: 1.0368\n",
      "Epoch 35/100\n",
      "10/10 [==============================] - 0s 3ms/step - loss: 0.8330\n",
      "Epoch 36/100\n",
      "10/10 [==============================] - 0s 3ms/step - loss: 0.7152\n",
      "Epoch 37/100\n",
      "10/10 [==============================] - 0s 3ms/step - loss: 0.6321\n",
      "Epoch 38/100\n",
      "10/10 [==============================] - 0s 3ms/step - loss: 0.5754\n",
      "Epoch 39/100\n",
      "10/10 [==============================] - 0s 3ms/step - loss: 0.5427\n",
      "Epoch 40/100\n",
      "10/10 [==============================] - 0s 3ms/step - loss: 0.5243\n",
      "Epoch 41/100\n",
      "10/10 [==============================] - 0s 3ms/step - loss: 0.5068\n",
      "Epoch 42/100\n",
      "10/10 [==============================] - 0s 3ms/step - loss: 0.4993\n",
      "Epoch 43/100\n",
      "10/10 [==============================] - 0s 4ms/step - loss: 0.4932\n",
      "Epoch 44/100\n",
      "10/10 [==============================] - 0s 3ms/step - loss: 0.4900\n",
      "Epoch 45/100\n",
      "10/10 [==============================] - 0s 3ms/step - loss: 0.4883\n",
      "Epoch 46/100\n",
      "10/10 [==============================] - 0s 3ms/step - loss: 0.4855\n",
      "Epoch 47/100\n",
      "10/10 [==============================] - 0s 3ms/step - loss: 0.4841\n",
      "Epoch 48/100\n",
      "10/10 [==============================] - 0s 3ms/step - loss: 0.4827\n",
      "Epoch 49/100\n",
      "10/10 [==============================] - 0s 3ms/step - loss: 0.4818\n",
      "Epoch 50/100\n",
      "10/10 [==============================] - 0s 3ms/step - loss: 0.4805\n",
      "Epoch 51/100\n",
      "10/10 [==============================] - 0s 3ms/step - loss: 0.4795\n",
      "Epoch 52/100\n",
      "10/10 [==============================] - 0s 3ms/step - loss: 0.4782\n",
      "Epoch 53/100\n",
      "10/10 [==============================] - 0s 3ms/step - loss: 0.4775\n",
      "Epoch 54/100\n",
      "10/10 [==============================] - 0s 3ms/step - loss: 0.4762\n",
      "Epoch 55/100\n",
      "10/10 [==============================] - 0s 3ms/step - loss: 0.4750\n",
      "Epoch 56/100\n",
      "10/10 [==============================] - 0s 3ms/step - loss: 0.4740\n",
      "Epoch 57/100\n",
      "10/10 [==============================] - 0s 3ms/step - loss: 0.4727\n",
      "Epoch 58/100\n",
      "10/10 [==============================] - 0s 3ms/step - loss: 0.4716\n",
      "Epoch 59/100\n",
      "10/10 [==============================] - 0s 4ms/step - loss: 0.4708\n",
      "Epoch 60/100\n",
      "10/10 [==============================] - 0s 4ms/step - loss: 0.4694\n",
      "Epoch 61/100\n",
      "10/10 [==============================] - 0s 5ms/step - loss: 0.4682\n",
      "Epoch 62/100\n",
      "10/10 [==============================] - 0s 4ms/step - loss: 0.4673\n",
      "Epoch 63/100\n",
      "10/10 [==============================] - 0s 4ms/step - loss: 0.4660\n",
      "Epoch 64/100\n",
      "10/10 [==============================] - 0s 3ms/step - loss: 0.4647\n",
      "Epoch 65/100\n",
      "10/10 [==============================] - 0s 3ms/step - loss: 0.4634\n",
      "Epoch 66/100\n",
      "10/10 [==============================] - 0s 3ms/step - loss: 0.4624\n",
      "Epoch 67/100\n",
      "10/10 [==============================] - 0s 3ms/step - loss: 0.4610\n",
      "Epoch 68/100\n",
      "10/10 [==============================] - 0s 3ms/step - loss: 0.4600\n",
      "Epoch 69/100\n",
      "10/10 [==============================] - 0s 3ms/step - loss: 0.4586\n",
      "Epoch 70/100\n",
      "10/10 [==============================] - 0s 4ms/step - loss: 0.4575\n",
      "Epoch 71/100\n",
      "10/10 [==============================] - 0s 3ms/step - loss: 0.4562\n",
      "Epoch 72/100\n",
      "10/10 [==============================] - 0s 3ms/step - loss: 0.4551\n",
      "Epoch 73/100\n",
      "10/10 [==============================] - 0s 3ms/step - loss: 0.4536\n",
      "Epoch 74/100\n",
      "10/10 [==============================] - 0s 3ms/step - loss: 0.4523\n",
      "Epoch 75/100\n",
      "10/10 [==============================] - 0s 4ms/step - loss: 0.4511\n",
      "Epoch 76/100\n",
      "10/10 [==============================] - 0s 3ms/step - loss: 0.4498\n",
      "Epoch 77/100\n",
      "10/10 [==============================] - 0s 4ms/step - loss: 0.4486\n",
      "Epoch 78/100\n",
      "10/10 [==============================] - 0s 3ms/step - loss: 0.4473\n",
      "Epoch 79/100\n",
      "10/10 [==============================] - 0s 3ms/step - loss: 0.4458\n",
      "Epoch 80/100\n",
      "10/10 [==============================] - 0s 3ms/step - loss: 0.4446\n",
      "Epoch 81/100\n",
      "10/10 [==============================] - 0s 4ms/step - loss: 0.4431\n",
      "Epoch 82/100\n",
      "10/10 [==============================] - 0s 3ms/step - loss: 0.4419\n",
      "Epoch 83/100\n",
      "10/10 [==============================] - 0s 3ms/step - loss: 0.4405\n",
      "Epoch 84/100\n",
      "10/10 [==============================] - 0s 3ms/step - loss: 0.4390\n",
      "Epoch 85/100\n",
      "10/10 [==============================] - 0s 3ms/step - loss: 0.4378\n",
      "Epoch 86/100\n",
      "10/10 [==============================] - 0s 4ms/step - loss: 0.4363\n",
      "Epoch 87/100\n",
      "10/10 [==============================] - 0s 3ms/step - loss: 0.4352\n",
      "Epoch 88/100\n",
      "10/10 [==============================] - 0s 3ms/step - loss: 0.4336\n",
      "Epoch 89/100\n",
      "10/10 [==============================] - 0s 3ms/step - loss: 0.4322\n",
      "Epoch 90/100\n",
      "10/10 [==============================] - 0s 3ms/step - loss: 0.4308\n",
      "Epoch 91/100\n",
      "10/10 [==============================] - 0s 3ms/step - loss: 0.4295\n",
      "Epoch 92/100\n",
      "10/10 [==============================] - 0s 3ms/step - loss: 0.4279\n",
      "Epoch 93/100\n",
      "10/10 [==============================] - 0s 3ms/step - loss: 0.4265\n",
      "Epoch 94/100\n",
      "10/10 [==============================] - 0s 3ms/step - loss: 0.4252\n",
      "Epoch 95/100\n",
      "10/10 [==============================] - 0s 3ms/step - loss: 0.4244\n",
      "Epoch 96/100\n",
      "10/10 [==============================] - 0s 3ms/step - loss: 0.4221\n",
      "Epoch 97/100\n",
      "10/10 [==============================] - 0s 3ms/step - loss: 0.4208\n",
      "Epoch 98/100\n",
      "10/10 [==============================] - 0s 3ms/step - loss: 0.4193\n",
      "Epoch 99/100\n",
      "10/10 [==============================] - 0s 3ms/step - loss: 0.4178\n",
      "Epoch 100/100\n",
      "10/10 [==============================] - 0s 3ms/step - loss: 0.4163\n",
      "4/4 [==============================] - 0s 5ms/step\n",
      "[[ 3.279283]\n",
      " [ 5.259802]\n",
      " [ 7.240321]\n",
      " [ 9.22084 ]\n",
      " [11.201359]]\n"
     ]
    },
    {
     "name": "stderr",
     "output_type": "stream",
     "text": [
      "2023-09-07 10:49:14.054690: I tensorflow/core/grappler/optimizers/custom_graph_optimizer_registry.cc:114] Plugin optimizer for device_type GPU is enabled.\n"
     ]
    }
   ],
   "source": [
    "# 필요한 라이브러리들 임포트\n",
    "import numpy as np\n",
    "import pandas as pd\n",
    "from keras.models import Sequential\n",
    "from keras.layers import Dense\n",
    "from keras.optimizers import Adam\n",
    "\n",
    "# 데이터 준비\n",
    "data = {'x': [x for x in range(1, 101)],\n",
    "        'y': [2*x for x in range(1, 101)]}\n",
    "df = pd.DataFrame(data)\n",
    "X = np.array(df['x']).reshape(-1, 1)\n",
    "Y = np.array(df['y']).reshape(-1, 1)\n",
    "\n",
    "# Keras Sequential 모델 구성\n",
    "model = Sequential()\n",
    "model.add(Dense(1, input_dim=1, activation='linear'))\n",
    "\n",
    "# 모델 컴파일\n",
    "model.compile(loss='mean_squared_error', optimizer=Adam(learning_rate=0.01))\n",
    "\n",
    "# 모델 훈련\n",
    "model.fit(X, Y, epochs=100, batch_size=10)\n",
    "\n",
    "# 예측 수행\n",
    "predictions = model.predict(X)\n",
    "\n",
    "# 몇몇 예측 결과 출력\n",
    "print(predictions[:5])\n"
   ]
  },
  {
   "cell_type": "code",
   "execution_count": null,
   "id": "3f7ab186-2662-4071-95ce-131504641e64",
   "metadata": {},
   "outputs": [],
   "source": []
  }
 ],
 "metadata": {
  "kernelspec": {
   "display_name": "Python 3.9 (tensorflow)",
   "language": "python",
   "name": "tensorflow"
  },
  "language_info": {
   "codemirror_mode": {
    "name": "ipython",
    "version": 3
   },
   "file_extension": ".py",
   "mimetype": "text/x-python",
   "name": "python",
   "nbconvert_exporter": "python",
   "pygments_lexer": "ipython3",
   "version": "3.9.16"
  }
 },
 "nbformat": 4,
 "nbformat_minor": 5
}
