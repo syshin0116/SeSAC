{
 "cells": [
  {
   "cell_type": "code",
   "execution_count": null,
   "id": "9769b6a4-201b-4b19-b14e-0c937a9a0c11",
   "metadata": {},
   "outputs": [],
   "source": [
    "## import gradio as gr # gradio 라이브러리를 gr로 호출\n",
    "\n",
    "from PIL import Image\n",
    "\n",
    "import matplotlib.pyplot as plt\n",
    "\n",
    "import io\n",
    "\n",
    "import cv2\n",
    "\n",
    "import numpy\n",
    "\n",
    "from PIL import Image, ImageDraw, ImageFont\n",
    "\n",
    "from ultralytics import YOLO\n",
    "\n",
    "\n",
    "\n",
    "# Load a model\n",
    "\n",
    "model = YOLO('yolov8n.pt')  # load an official model\n",
    "\n",
    "\n",
    "\n",
    "\n",
    "\n",
    "def image_predict_yolo(img):\n",
    "\n",
    "    # Run inference on 'bus.jpg' with arguments\n",
    "\n",
    "    result = model(img)\n",
    "\n",
    "\n",
    "\n",
    "    im = result[0].plot()\n",
    "\n",
    "\n",
    "\n",
    "    ex = Image.fromarray(result[0].plot()[:,:,::-1]) # RGB -> BGR\n",
    "\n",
    "\n",
    "    plt.imshow(im)\n",
    "\n",
    "    plt.show()\n",
    "\n",
    "    return im\n",
    "\n",
    "\n",
    "\n",
    "demo = gr.Interface(fn= image_predict_yolo, inputs=[\n",
    "\n",
    "            gr.Image(tool=\"select\",label=\"Image to Convert\", show_label=True)], outputs=\"image\")\n",
    "\n",
    "demo.launch(share=True)"
   ]
  },
  {
   "cell_type": "code",
   "execution_count": null,
   "id": "407fc413-3d57-47b7-b1ce-d8f88bb85c02",
   "metadata": {},
   "outputs": [],
   "source": []
  }
 ],
 "metadata": {
  "kernelspec": {
   "display_name": "Python 3.10(pytorch)",
   "language": "python",
   "name": "pytorch"
  },
  "language_info": {
   "codemirror_mode": {
    "name": "ipython",
    "version": 3
   },
   "file_extension": ".py",
   "mimetype": "text/x-python",
   "name": "python",
   "nbconvert_exporter": "python",
   "pygments_lexer": "ipython3",
   "version": "3.10.12"
  }
 },
 "nbformat": 4,
 "nbformat_minor": 5
}
