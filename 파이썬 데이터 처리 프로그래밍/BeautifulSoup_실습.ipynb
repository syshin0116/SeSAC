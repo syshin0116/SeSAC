{
 "cells": [
  {
   "cell_type": "code",
   "execution_count": 5,
   "id": "9ffbc89e-56eb-4c9e-8443-8b9ff108ae33",
   "metadata": {},
   "outputs": [],
   "source": [
    "import requests\n",
    "\n",
    "res = requests.get(\"https://www.naver.com\")\n",
    "# res.text"
   ]
  },
  {
   "cell_type": "code",
   "execution_count": 6,
   "id": "8b7b86f9-99dc-4955-b09b-7672fa6c90c3",
   "metadata": {},
   "outputs": [
    {
     "name": "stdout",
     "output_type": "stream",
     "text": [
      "Collecting fake_useragent\n",
      "  Downloading fake_useragent-1.1.3-py3-none-any.whl (50 kB)\n",
      "\u001b[2K     \u001b[90m━━━━━━━━━━━━━━━━━━━━━━━━━━━━━━━━━━━━━━━━\u001b[0m \u001b[32m50.5/50.5 kB\u001b[0m \u001b[31m4.2 MB/s\u001b[0m eta \u001b[36m0:00:00\u001b[0m\n",
      "\u001b[?25hRequirement already satisfied: importlib-resources>=5.0 in /Users/syshin/miniforge3/lib/python3.9/site-packages (from fake_useragent) (5.7.1)\n",
      "Requirement already satisfied: zipp>=3.1.0 in /Users/syshin/miniforge3/lib/python3.9/site-packages (from importlib-resources>=5.0->fake_useragent) (3.8.0)\n",
      "Installing collected packages: fake_useragent\n",
      "Successfully installed fake_useragent-1.1.3\n",
      "\n",
      "\u001b[1m[\u001b[0m\u001b[34;49mnotice\u001b[0m\u001b[1;39;49m]\u001b[0m\u001b[39;49m A new release of pip is available: \u001b[0m\u001b[31;49m23.1.2\u001b[0m\u001b[39;49m -> \u001b[0m\u001b[32;49m23.2.1\u001b[0m\n",
      "\u001b[1m[\u001b[0m\u001b[34;49mnotice\u001b[0m\u001b[1;39;49m]\u001b[0m\u001b[39;49m To update, run: \u001b[0m\u001b[32;49mpip install --upgrade pip\u001b[0m\n"
     ]
    }
   ],
   "source": [
    "#!pip install fake_useragent"
   ]
  },
  {
   "cell_type": "code",
   "execution_count": 64,
   "id": "bf2313f4-b484-4f0c-8040-2c55d59079f7",
   "metadata": {},
   "outputs": [
    {
     "name": "stdout",
     "output_type": "stream",
     "text": [
      "목성보다 크지만 더 가벼운 ‘솜사탕’ 행성…초저밀도의 비밀\n",
      "https://n.news.naver.com/mnews/ranking/article/028/0002650344?ntype=RANKING&sid=001\n",
      "\"빌라 전세금 2억3,680만 원\"... 10만 원도 못  …\n",
      "https://n.news.naver.com/mnews/ranking/article/469/0000752574?ntype=RANKING&sid=001\n",
      "혼자 넘어진 할머니 도왔더니…\"너 때문에\" 적반하장\n",
      "https://n.news.naver.com/mnews/ranking/article/437/0000353354?ntype=RANKING&sid=001\n",
      "출근길 만원 지하철, 한 손에 쥐고 동영상 시청···확 달 …\n",
      "https://n.news.naver.com/mnews/ranking/article/032/0003239479?ntype=RANKING&sid=001\n",
      "관광객 다 뺏겼다…한국인도 300만명, 우르르 몰려간 이  …\n",
      "https://n.news.naver.com/mnews/ranking/article/025/0003297577?ntype=RANKING&sid=001\n"
     ]
    }
   ],
   "source": [
    "import requests\n",
    "from bs4 import BeautifulSoup\n",
    "from fake_useragent import UserAgent\n",
    "\n",
    "ua = UserAgent()\n",
    "headers = {\n",
    "    \"User-Agent\":ua.random\n",
    "}\n",
    "# print(headers)\n",
    "\n",
    "res = requests.get(\"https://news.naver.com/main/main.naver?mode=LSD&mid=shm&sid1=105\", headers=headers)\n",
    "bs = BeautifulSoup(res.text, 'html.parser')\n",
    "area = bs.select_one(\"#_rankingList0\")\n",
    "elem = area.select(\"a.list_tit\")\n",
    "for e in elem:\n",
    "    print(e.text)\n",
    "    print(e.attrs.get(\"href\"))\n"
   ]
  },
  {
   "cell_type": "code",
   "execution_count": 65,
   "id": "eee8d396-35cd-4fec-85c8-6e41e79467af",
   "metadata": {},
   "outputs": [],
   "source": [
    "# https://news.naver.com/main/main.naver?mode=LSD&mid=shm&sid1=105\n",
    "# 분야별 주요뉴스 15개 수집\n",
    "# 수집한 내용은 article.csv 파일에 저장\n",
    "# 제목, 공백의 수, 링크"
   ]
  },
  {
   "cell_type": "code",
   "execution_count": 72,
   "id": "8e1ca8f9-f8a7-4485-beaa-d2d07b550165",
   "metadata": {},
   "outputs": [
    {
     "name": "stdout",
     "output_type": "stream",
     "text": [
      "與 \"민주, 이동관 반대...공영방송 정상화 두려운 것\"\n",
      "https://n.news.naver.com/mnews/article/052/0001916870?sid=100\n",
      "與, 쌍방울 수사 檢명단 공개에 \"이재명 방탄, 사법방해 수준\"\n",
      "https://n.news.naver.com/mnews/article/277/0005293683?sid=100\n",
      "민주당 \"윤 대통령, 특별감찰관 도입해 친인척 비리 척결 천명해야\"\n",
      "https://n.news.naver.com/mnews/article/055/0001077444?sid=100\n",
      "모스크바 드론 공격한 젤렌스키… “전쟁, 러 영토로 옮겨갈 것”\n",
      "https://n.news.naver.com/mnews/article/021/0002585753?sid=104\n",
      "\"남성 생식기 온전한 트랜스젠더 선수 앞, 일주일 18번씩 옷 벗었다\"\n",
      "https://n.news.naver.com/mnews/article/421/0006962291?sid=104\n",
      "윤 대통령, “아파트 지하주차장 부실 공사 전수 조사” 지시\n",
      "https://n.news.naver.com/mnews/article/056/0011535860?sid=100\n",
      "빙그레, ESG 평가서 4년 연속 A등급…\"지속가능 기업 책임 다할 것\"\n",
      "https://n.news.naver.com/mnews/article/003/0012004945?sid=101\n",
      "커지는 세수 '펑크'…상반기 국세수입 감소분 40조원 육박\n",
      "https://n.news.naver.com/mnews/article/001/0014102753?sid=101\n",
      "‘텔레그램 피싱’ 7월에만 253건…2차 피해발생 ‘주의보’\n",
      "https://n.news.naver.com/mnews/article/119/0002735745?sid=101\n",
      "과기정통부, ITU 국제표준 3건 승인·신규 표준화 과제 7건 채택\n",
      "https://n.news.naver.com/mnews/article/366/0000920923?sid=105\n",
      "살인 폭염에 온열질환자 속출…주말간 12명 사망 추정(종합3보)\n",
      "https://n.news.naver.com/mnews/article/421/0006961568?sid=102\n",
      "평일 대낮에 강남서 성매매한 현직 판사, 뒤늦게 재판 배제\n",
      "https://n.news.naver.com/mnews/article/015/0004874053?sid=102\n",
      "'총경회의 주도' 류삼영 \"보복인사에 사직 결심\"(종합)\n",
      "https://n.news.naver.com/mnews/article/001/0014102599?sid=102\n",
      "전국 대부분 폭염경보…태풍 '카눈' 방향 틀었다\n",
      "https://n.news.naver.com/mnews/article/422/0000611783?sid=103\n",
      "댄스클럽으로 변모하는 광화문광장…세종썸머페스티벌 '그루브'\n",
      "https://n.news.naver.com/mnews/article/015/0004874424?sid=103\n"
     ]
    }
   ],
   "source": [
    "res = requests.get(\"https://news.naver.com/main/main.naver?mode=LSD&mid=shm&sid1=105\", headers=headers)\n",
    "bs = BeautifulSoup(res.text, 'html.parser')\n",
    "area = bs.select_one(\"#right_dailyList\")\n",
    "elem = bs.select(\"#right_dailyList > div > ul > li > a\")\n",
    "for e in elem:\n",
    "    print(e.text)\n",
    "    print(e.attrs.get(\"href\"))"
   ]
  },
  {
   "cell_type": "code",
   "execution_count": 78,
   "id": "1ea6f283-8863-4d85-8db0-ff7766adacea",
   "metadata": {},
   "outputs": [],
   "source": [
    "with open(\"article.csv\", \"w\", encoding=\"utf-8\") as f:\n",
    "    f.write(\"제목,\" + \"띄어쓰기 개수,\"+ \"링크\\n\")\n",
    "    for e in elem:\n",
    "        title = e.text.replace(\",\", \"-\")\n",
    "        count = title.count(\" \")\n",
    "        link = e.attrs['href']\n",
    "        f.write(f'{title},{count},{link}\\n')"
   ]
  },
  {
   "cell_type": "code",
   "execution_count": 170,
   "id": "bb6c53be-69a3-4bbf-8085-03c258442e11",
   "metadata": {},
   "outputs": [],
   "source": [
    "res = requests.get(\"https://search.naver.com/search.naver?where=view&sm=tab_jum&query=%ED%8C%8C%EC%9D%B4%EC%8D%AC\")\n",
    "bs = BeautifulSoup(res.text, 'html.parser')\n",
    "li_list = bs.select('#main_pack > section > div > div._list > panel-list > div > more-contents > div > ul > li')\n",
    "with open(\"python.csv\", \"w\", encoding=\"utf-8\") as f:\n",
    "    f.write(f\"제목,내용,시간\\n\")\n",
    "    for li in li_list:\n",
    "        title=li.select_one(\"a.api_txt_lines\").text.replace(\",\", \"-\")\n",
    "        description=li.select_one(\"div.dsc_txt\").text.replace(\",\", \"-\")\n",
    "        try:\n",
    "            date=li.select_one(\"span.sub_txt\").text\n",
    "        except:\n",
    "            date=li.select_one(\"span.date\").text\n",
    "        f.write(f'{title},{description},{date}\\n')\n",
    "    "
   ]
  },
  {
   "cell_type": "code",
   "execution_count": 168,
   "id": "70986861-7de2-4628-adb8-07daf503c678",
   "metadata": {},
   "outputs": [],
   "source": [
    "area = bs.select_one(\".lst_total\")\n",
    "lis = area.select(\"._svp_item\")\n",
    "with open(\"python2.csv\", \"w\", encoding=\"utf-8\") as f:\n",
    "    f.write(\"제목,내용,시간\"+\"\\n\")\n",
    "    for li in lis:\n",
    "        title = li.select_one(\".total_tit\").text.replace(\",\", \"-\")\n",
    "        summary = li.select_one(\".dsc_txt\").text.replace(\",\", \"-\")\n",
    "        date = li.select_one(\".date\")\n",
    "        if not date:\n",
    "            date=li.select_one(\".sub_time\")\n",
    "        date = date.text\n",
    "        f.write(f'{title},{summary},{date}\\n')\n",
    "\n"
   ]
  },
  {
   "cell_type": "code",
   "execution_count": 176,
   "id": "13ddd1cf-9d10-434e-8845-70cb837aeaa0",
   "metadata": {},
   "outputs": [],
   "source": [
    "res = requests.get(\"https://finance.naver.com/\")\n",
    "bs = BeautifulSoup(res.text, 'html.parser')\n",
    "tr_list = bs.select(\"#_topItems1 > tr\")\n",
    "for tr in tr_list:\n",
    "    th = tr.select_one('th').text\n",
    "    td = tr.select('td')[0].text\n",
    "    print(th, td)"
   ]
  },
  {
   "cell_type": "code",
   "execution_count": 183,
   "id": "868ea570-02df-4ea0-97fc-ba0440aacf52",
   "metadata": {},
   "outputs": [
    {
     "name": "stdout",
     "output_type": "stream",
     "text": [
      "KODEX 코스닥150선물인버스 3,380\n",
      "KODEX 200선물인버스2X 2,440\n",
      "삼성 인버스 2X WTI원유 선물 ETN 110\n",
      "신성이엔지 2,910\n",
      "KODEX 코스닥150레버리지 14,775\n",
      "폴라리스오피스 4,830\n",
      "테라사이언스 4,245\n",
      "삼부토건 3,770\n",
      "휴마시스 2,355\n",
      "서남 5,000\n",
      "지니너스 5,290\n",
      "포스코인터내셔널 90,100\n",
      "TIGER 2차전지소재Fn 12,585\n",
      "웰바이오텍 4,610\n",
      "코스나인 1,763\n"
     ]
    }
   ],
   "source": [
    "for tr in tr_list:\n",
    "    th = tr.select_one('th').text\n",
    "    td = tr.select('td')[0].text\n",
    "    print(th, td)"
   ]
  },
  {
   "cell_type": "code",
   "execution_count": null,
   "id": "a6d19945-7704-4cb7-a452-087bf23b8b48",
   "metadata": {},
   "outputs": [],
   "source": [
    "import requests\n",
    "from bs4 import BeautifulSoup\n",
    "from fake_useragent import UserAgent\n",
    "\n",
    "ua = UserAgent()\n",
    "headers = {\n",
    "    \"User-Agent\":ua.random\n",
    "}\n",
    "\n",
    "res = requests.get(\"https://kin.naver.com/search/list.naver?query=%ED%8C%8C%EC%9D%B4%EC%8D%AC\", headers=headers)\n",
    "bs = BeautifulSoup(res.text, 'html.parser')\n",
    "\n",
    "for i in range(1, 10):\n",
    "    link = f'https://kin.naver.com/search/list.naver?query=%ED%8C%8C%EC%9D%B4%EC%8D%AC&page={i}'\n",
    "    res = requests.get(link, headers=headers)\n",
    "    bs = BeautifulSoup(res.text, 'html.parser')\n",
    "\n",
    "\n",
    "    uls = bs.select_one('#s_content > div.section > ul')\n",
    "    titles = uls.select('dt > a')\n",
    "    for title in titles:\n",
    "        print(title.text)\n",
    "        print(title.attrs.get(\"href\"))"
   ]
  }
 ],
 "metadata": {
  "kernelspec": {
   "display_name": "Python 3 (ipykernel)",
   "language": "python",
   "name": "python3"
  },
  "language_info": {
   "codemirror_mode": {
    "name": "ipython",
    "version": 3
   },
   "file_extension": ".py",
   "mimetype": "text/x-python",
   "name": "python",
   "nbconvert_exporter": "python",
   "pygments_lexer": "ipython3",
   "version": "3.9.10"
  }
 },
 "nbformat": 4,
 "nbformat_minor": 5
}
