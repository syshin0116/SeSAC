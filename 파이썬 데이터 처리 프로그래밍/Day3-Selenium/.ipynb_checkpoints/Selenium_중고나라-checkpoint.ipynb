{
 "cells": [
  {
   "cell_type": "code",
   "execution_count": 8,
   "id": "d4d1a194-1ffe-4143-87e3-9560715a66a8",
   "metadata": {},
   "outputs": [],
   "source": [
    "from selenium import webdriver\n",
    "from selenium.webdriver.chrome.service import Service\n",
    "from webdriver_manager.chrome import ChromeDriverManager\n",
    "from selenium.webdriver.common.by import By\n",
    "import requests\n",
    "import time\n",
    "from selenium.webdriver.support.ui import WebDriverWait\n",
    "from selenium.webdriver.support import expected_conditions as EC\n",
    "from selenium.webdriver.common.keys import Keys\n",
    "\n",
    "release = 'https://chromedriver.storage.googleapis.com/LATEST_RELEASE'\n",
    "version = requests.get(release).text\n",
    "service = Service(ChromeDriverManager(version=version).install())\n",
    "d = webdriver.Chrome(service=service)\n",
    "try:\n",
    "    d.get(\"https://cafe.naver.com/joonggonara\")\n",
    "    elem = d.find_element(By.CSS_SELECTOR, \"#topLayerQueryInput\")\n",
    "    elem.send_keys(\"자전거\")\n",
    "    elem.send_keys(Keys.RETURN)\n",
    "except Exception as e:\n",
    "    print(e)\n",
    "finally:\n",
    "    time.sleep(2)\n",
    "    d.close()\n",
    "    d.quit()"
   ]
  },
  {
   "cell_type": "code",
   "execution_count": 12,
   "id": "b28f77e2-aba0-4637-9794-aef339f7665d",
   "metadata": {},
   "outputs": [],
   "source": []
  },
  {
   "cell_type": "code",
   "execution_count": null,
   "id": "5b97613e-ca8c-4cda-ad83-58a57da1507c",
   "metadata": {},
   "outputs": [],
   "source": []
  }
 ],
 "metadata": {
  "kernelspec": {
   "display_name": "Python 3 (ipykernel)",
   "language": "python",
   "name": "python3"
  },
  "language_info": {
   "codemirror_mode": {
    "name": "ipython",
    "version": 3
   },
   "file_extension": ".py",
   "mimetype": "text/x-python",
   "name": "python",
   "nbconvert_exporter": "python",
   "pygments_lexer": "ipython3",
   "version": "3.9.10"
  }
 },
 "nbformat": 4,
 "nbformat_minor": 5
}
