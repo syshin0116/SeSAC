{
 "cells": [
  {
   "cell_type": "code",
   "execution_count": 10,
   "id": "d4d1a194-1ffe-4143-87e3-9560715a66a8",
   "metadata": {},
   "outputs": [
    {
     "name": "stdout",
     "output_type": "stream",
     "text": [
      "남녀 전문 자전거 라이딩 반바지빕 판매 합니다\n"
     ]
    }
   ],
   "source": [
    "from selenium import webdriver\n",
    "from selenium.webdriver.chrome.service import Service\n",
    "from webdriver_manager.chrome import ChromeDriverManager\n",
    "from selenium.webdriver.common.by import By\n",
    "import requests\n",
    "import time\n",
    "from selenium.webdriver.support.ui import WebDriverWait\n",
    "from selenium.webdriver.support import expected_conditions as EC\n",
    "from selenium.webdriver.common.keys import Keys\n",
    "\n",
    "release = 'https://chromedriver.storage.googleapis.com/LATEST_RELEASE'\n",
    "version = requests.get(release).text\n",
    "service = Service(ChromeDriverManager(version=version).install())\n",
    "d = webdriver.Chrome(service=service)\n",
    "try:\n",
    "    d.get(\"https://cafe.naver.com/joonggonara\")\n",
    "    elem = WebDriverWait(d, 10).until(EC.presence_of_element_located((By.CSS_SELECTOR, \"#topLayerQueryInput\")))\n",
    "    elem.send_keys(\"자전거\")\n",
    "    elem.send_keys(Keys.RETURN)\n",
    "    \n",
    "    iframe = WebDriverWait(d, 10).until(EC.presence_of_element_located((By.CSS_SELECTOR, \"#cafe_main\")))\n",
    "    d.switch_to.frame(iframe)\n",
    "    \n",
    "    article = WebDriverWait(d, 10).until(EC.presence_of_element_located((By.CSS_SELECTOR, \".article\")))\n",
    "    print(article.text)\n",
    "except Exception as e:\n",
    "    print(e)\n",
    "finally:\n",
    "    d.close()\n",
    "    d.quit()"
   ]
  },
  {
   "cell_type": "code",
   "execution_count": 30,
   "id": "b28f77e2-aba0-4637-9794-aef339f7665d",
   "metadata": {},
   "outputs": [],
   "source": [
    "# 중고나라에서 자전거 검색하여 1~5페이지 제목, 작성자, 작성일 excel에 표시\n",
    "\n",
    "from selenium import webdriver\n",
    "from selenium.webdriver.chrome.service import Service\n",
    "from webdriver_manager.chrome import ChromeDriverManager\n",
    "from selenium.webdriver.common.by import By\n",
    "import requests\n",
    "import time\n",
    "from selenium.webdriver.support.ui import WebDriverWait\n",
    "from selenium.webdriver.support import expected_conditions as EC\n",
    "from selenium.webdriver.common.keys import Keys\n",
    "from openpyxl import Workbook\n",
    "from selenium import webdriver\n",
    "\n",
    "\n",
    "def crawl(*args):\n",
    "    # Excel 연결\n",
    "    wb = Workbook()\n",
    "\n",
    "    # 중고나라 접속\n",
    "    release = 'https://chromedriver.storage.googleapis.com/LATEST_RELEASE'\n",
    "    version = requests.get(release).text\n",
    "    service = Service(ChromeDriverManager(version=version).install())\n",
    "    d = webdriver.Chrome(service=service)\n",
    "    try:\n",
    "        for arg in args:\n",
    "            ws = wb.create_sheet(arg)\n",
    "            # ws.append([arg])\n",
    "            ws.append(['title', 'writer', 'date'])\n",
    "\n",
    "            d.get(\"https://cafe.naver.com/joonggonara\")\n",
    "            elem = WebDriverWait(d, 10).until(EC.presence_of_element_located((By.CSS_SELECTOR, \"#topLayerQueryInput\")))\n",
    "            elem.send_keys(arg)\n",
    "            elem.send_keys(Keys.RETURN)\n",
    "\n",
    "            iframe = WebDriverWait(d, 10).until(EC.presence_of_element_located((By.CSS_SELECTOR, \"#cafe_main\")))\n",
    "            d.switch_to.frame(iframe)\n",
    "            for i in range(2, 6):\n",
    "                trs = d.find_elements(By.CSS_SELECTOR, '#main-area > div:nth-child(5) > table > tbody > tr')\n",
    "                for tr in trs:\n",
    "                    title = tr.find_element(By.CSS_SELECTOR, 'td.td_article > div.board-list > div > a').text\n",
    "                    writer = tr.find_element(By.CSS_SELECTOR, 'td.td_name > div > table > tbody > tr > td > a').text\n",
    "                    date = tr.find_element(By.CSS_SELECTOR, 'td.td_date').text\n",
    "                    ws.append([title, writer, date])\n",
    "                if i==6:\n",
    "                    break\n",
    "                page_area = WebDriverWait(d, 10).until(EC.presence_of_element_located((By.CSS_SELECTOR, \"#main-area > div.prev-next\")))\n",
    "                go_to_page = page_area.find_element(By.LINK_TEXT, str(i))\n",
    "                go_to_page.click()\n",
    "            d.switch_to.default_content()\n",
    "    except Exception as e:\n",
    "        print(e)\n",
    "    finally:\n",
    "        d.close()\n",
    "        d.quit()\n",
    "        wb.save(\"joonggonara.xlsx\")"
   ]
  },
  {
   "cell_type": "code",
   "execution_count": 31,
   "id": "5b97613e-ca8c-4cda-ad83-58a57da1507c",
   "metadata": {},
   "outputs": [],
   "source": [
    "crawl(\"자전거\", \"노트북\", \"키보드\", \"모니터\")"
   ]
  },
  {
   "cell_type": "code",
   "execution_count": null,
   "id": "8a0f3483-961e-4866-b561-8c2184d3940f",
   "metadata": {},
   "outputs": [],
   "source": []
  }
 ],
 "metadata": {
  "kernelspec": {
   "display_name": "Python 3 (ipykernel)",
   "language": "python",
   "name": "python3"
  },
  "language_info": {
   "codemirror_mode": {
    "name": "ipython",
    "version": 3
   },
   "file_extension": ".py",
   "mimetype": "text/x-python",
   "name": "python",
   "nbconvert_exporter": "python",
   "pygments_lexer": "ipython3",
   "version": "3.9.10"
  }
 },
 "nbformat": 4,
 "nbformat_minor": 5
}
