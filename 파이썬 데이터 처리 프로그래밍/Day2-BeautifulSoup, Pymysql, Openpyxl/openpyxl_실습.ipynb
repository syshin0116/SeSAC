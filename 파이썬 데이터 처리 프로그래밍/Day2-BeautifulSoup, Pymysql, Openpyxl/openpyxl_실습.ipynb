{
 "cells": [
  {
   "cell_type": "code",
   "execution_count": 1,
   "id": "d322397f-17be-4f1e-bfc3-2d3dc9a26361",
   "metadata": {},
   "outputs": [],
   "source": [
    "#pip install openpyxl"
   ]
  },
  {
   "cell_type": "code",
   "execution_count": 3,
   "id": "34929671-3ac8-49c2-a8a2-1eab60e8397f",
   "metadata": {},
   "outputs": [],
   "source": [
    "#pip install openpyxl\n",
    "from openpyxl import Workbook\n",
    "\n",
    "wb = Workbook()\n",
    "ws = wb.active\n",
    "\n",
    "for row in range(10):\n",
    "    ws.append([row, f\"{row}-data\"])\n",
    "wb.save(\"result.xlsx\")"
   ]
  },
  {
   "cell_type": "code",
   "execution_count": 6,
   "id": "a1ce9919-fa32-42b3-9448-8a834e832152",
   "metadata": {},
   "outputs": [
    {
     "name": "stdout",
     "output_type": "stream",
     "text": [
      "0 0-data\n",
      "1 1-data\n",
      "2 2-data\n",
      "3 3-data\n",
      "4 4-data\n",
      "5 5-data\n",
      "6 6-data\n",
      "7 7-data\n",
      "8 8-data\n",
      "9 9-data\n"
     ]
    }
   ],
   "source": [
    "#pip install openpyxl\n",
    "from openpyxl import load_workbook\n",
    "\n",
    "wb = load_workbook(\"result.xlsx\")\n",
    "ws = wb.active\n",
    "\n",
    "for row in ws.iter_rows():\n",
    "    print(row[0].value, row[1].value)"
   ]
  },
  {
   "cell_type": "code",
   "execution_count": 11,
   "id": "cec5c064-ae22-4eed-85ea-4fdeec3dd6df",
   "metadata": {},
   "outputs": [
    {
     "name": "stdout",
     "output_type": "stream",
     "text": [
      "0\n"
     ]
    }
   ],
   "source": [
    "## 각 링크 안에 있는 내용을 읽어와서 content에 저장\n",
    "# count도 실제 content에서 갯수를 세서 저장\n",
    "# content가 너무 길다는 에러 메시지가 나온다면 content[:10000] 슬라이싱 해서 저장\n",
    "\n",
    "# 네이버 뉴스에서 파이썬 검색시 1000 페이지 크롤링\n",
    "import requests\n",
    "from bs4 import BeautifulSoup\n",
    "from fake_useragent import UserAgent\n",
    "import time\n",
    "from openpyxl import Workbook\n",
    "\n",
    "wb = Workbook()\n",
    "ws = wb.active\n",
    "\n",
    "ua = UserAgent()\n",
    "headers = {\n",
    "    \"User-Agent\":ua.random\n",
    "}\n",
    "\n",
    "ws.append([\"row\", \"title\", \"link\", \"content\", \"count\"])\n",
    "\n",
    "for i in range(10):\n",
    "    url=f\"https://search.naver.com/search.naver?where=news&sm=tab_pge&query=%ED%8C%8C%EC%9D%B4%EC%8D%AC&sort=0&photo=0&field=0&pd=0&ds=&de=&cluster_rank=41&mynews=0&office_type=0&office_section_code=0&news_office_checked=&nso=so:r,p:all,a:all&start={i*10+1}\"\n",
    "    res = requests.get(url, headers=headers)\n",
    "    bs = BeautifulSoup(res.text, 'html.parser')\n",
    "    \n",
    "    try:\n",
    "        print(i)\n",
    "        ul = bs.select_one('#main_pack > section > div > div.group_news > ul')#main_pack > section > div > div.group_news > ul\n",
    "        divs = ul.select('div.news_wrap.api_ani_send')\n",
    "        for div in divs:\n",
    "            title = div.select_one('a.news_tit').text.replace(\"'\", '\"')\n",
    "            link = div.select_one('a.news_tit').attrs.get(\"href\").replace(\"'\", '\"')\n",
    "            headers = {\"User-Agent\":ua.random}\n",
    "            content = requests.get(link, headers=headers).text[:20000].replace(\"'\", '\"')\n",
    "            count = content.count('파이썬')\n",
    "            ws.append([i, title, link, content, count])\n",
    "        break\n",
    "    except Exception as e:\n",
    "        print(\"error\", i, e)\n",
    "wb.save(\"result.xlsx\")"
   ]
  },
  {
   "cell_type": "code",
   "execution_count": null,
   "id": "8a5baab0-56a5-4bd8-b6de-5bdcefdfb311",
   "metadata": {},
   "outputs": [],
   "source": []
  }
 ],
 "metadata": {
  "kernelspec": {
   "display_name": "Python 3 (ipykernel)",
   "language": "python",
   "name": "python3"
  },
  "language_info": {
   "codemirror_mode": {
    "name": "ipython",
    "version": 3
   },
   "file_extension": ".py",
   "mimetype": "text/x-python",
   "name": "python",
   "nbconvert_exporter": "python",
   "pygments_lexer": "ipython3",
   "version": "3.9.10"
  }
 },
 "nbformat": 4,
 "nbformat_minor": 5
}
