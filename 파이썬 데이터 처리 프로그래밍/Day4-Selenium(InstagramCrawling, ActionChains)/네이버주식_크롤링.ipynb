{
 "cells": [
  {
   "cell_type": "code",
   "execution_count": 23,
   "id": "4b4f9b0d-dc9b-4944-ad6c-cc349eb7c3f4",
   "metadata": {},
   "outputs": [
    {
     "name": "stdout",
     "output_type": "stream",
     "text": [
      "KODEX 코스닥150선물인버스, 3,495, 하락50, -1.41%\n",
      "KODEX 200선물인버스2X, 2,470, 보합, 0.00%\n",
      "대창, 1,844, 상승217, +13.34%\n",
      "휴마시스, 2,845, 상승410, +16.84%\n",
      "상보, 2,155, 상승60, +2.86%\n",
      "이구산업, 6,440, 상승230, +3.70%\n",
      "원익피앤이, 13,340, 상승1,340, +11.17%\n",
      "서원, 2,135, 상승427, +25.00%\n",
      "모비스, 4,570, 상승885, +24.02%\n",
      "파워로직스, 11,650, 상승1,590, +15.81%\n",
      "크리스탈신소재, 3,000, 하락50, -1.64%\n",
      "LS전선아시아, 12,120, 상승1,630, +15.54%\n",
      "KODEX 코스닥150레버리지, 13,770, 상승365, +2.72%\n",
      "KODEX 인버스, 4,460, 보합, 0.00%\n",
      "광명전기, 2,835, 상승55, +1.98%\n"
     ]
    }
   ],
   "source": [
    "from selenium import webdriver\n",
    "from selenium.webdriver.chrome.service import Service\n",
    "from webdriver_manager.chrome import ChromeDriverManager\n",
    "from selenium.webdriver.common.by import By\n",
    "import requests\n",
    "import time\n",
    "from selenium.webdriver.support.ui import WebDriverWait\n",
    "from selenium.webdriver.support import expected_conditions as EC\n",
    "from selenium.webdriver.common.keys import Keys\n",
    "\n",
    "\n",
    "service = Service()\n",
    "d = webdriver.Chrome(service=service)\n",
    "\n",
    "try:\n",
    "    url = 'https://finance.naver.com/'\n",
    "    d.get(url)\n",
    "    trs = WebDriverWait(d, 10).until(EC.presence_of_all_elements_located((By.CSS_SELECTOR, '#_topItems1 > tr')))\n",
    "    for tr in trs:\n",
    "        updown = tr.get_attribute(\"class\")\n",
    "        if updown == \"up\":\n",
    "            sign = \"+\"\n",
    "        elif updown == \"down\":\n",
    "            sign = \"-\"\n",
    "        else: sign = \"\"\n",
    "        item = tr.find_element(By.CSS_SELECTOR, \"th > a\").text.strip()\n",
    "        tds = tr.find_elements(By.CSS_SELECTOR, \"td\")\n",
    "        price = tds[0].text.strip()\n",
    "        num = tds[1].text.strip().replace(\"\\n\", \"\")\n",
    "        rate = tds[2].text.strip()\n",
    "        print(f\"{item}, {price}, {num}, {rate}\")\n",
    "except Exception as e:\n",
    "    print(e)\n",
    "finally:\n",
    "    d.close()\n",
    "    d.quit()\n",
    "    "
   ]
  },
  {
   "cell_type": "code",
   "execution_count": 41,
   "id": "d23bff14-511c-47f1-bcc1-42f6d4bc89eb",
   "metadata": {},
   "outputs": [],
   "source": [
    "from selenium import webdriver\n",
    "from selenium.webdriver.chrome.service import Service\n",
    "from webdriver_manager.chrome import ChromeDriverManager\n",
    "from selenium.webdriver.common.by import By\n",
    "import requests\n",
    "import time\n",
    "from selenium.webdriver.support.ui import WebDriverWait\n",
    "from selenium.webdriver.support import expected_conditions as EC\n",
    "from selenium.webdriver.common.keys import Keys\n",
    "from selenium.webdriver.common.action_chains import ActionChains\n",
    "\n",
    "# 크롬에 정보 저장\n",
    "options = webdriver.ChromeOptions()\n",
    "options.add_argument(\"--user-data-dir=/Users/syshin/Desktop/Syshin/SeSAC/파이썬 데이터 처리 프로그래밍/4일차-/MyChrome\")\n",
    "service = Service()\n",
    "d = webdriver.Chrome(service=service, options=options)\n",
    "\n",
    "\n",
    "try:\n",
    "    url = 'https://www.instagram.com/'\n",
    "    d.get(url)\n",
    "\n",
    "    buttons = WebDriverWait(d, 10).until(EC.presence_of_all_elements_located((By.CSS_SELECTOR, \".xvy4d1p\")))\n",
    "    # buttons = d.find_elements(By.CSS_SELECTOR, \".xvy4d1p\")\n",
    "    search_button = buttons[2]\n",
    "    \n",
    "    ac = ActionChains(d)\n",
    "    ac.move_to_element(search_button)\n",
    "    ac.click()\n",
    "    ac.perform()\n",
    "    time.sleep(5)\n",
    "except Exception as e:\n",
    "    print(e)\n",
    "finally:\n",
    "    time.sleep(2)\n",
    "    d.close()\n",
    "    d.quit()\n",
    "    "
   ]
  },
  {
   "cell_type": "code",
   "execution_count": null,
   "id": "fa49aff2-fb05-40c5-aeb0-55f176acec33",
   "metadata": {},
   "outputs": [],
   "source": []
  },
  {
   "cell_type": "code",
   "execution_count": null,
   "id": "a68a30b4-f65e-4646-be82-df6ef03189dc",
   "metadata": {},
   "outputs": [],
   "source": []
  }
 ],
 "metadata": {
  "kernelspec": {
   "display_name": "Python 3 (ipykernel)",
   "language": "python",
   "name": "python3"
  },
  "language_info": {
   "codemirror_mode": {
    "name": "ipython",
    "version": 3
   },
   "file_extension": ".py",
   "mimetype": "text/x-python",
   "name": "python",
   "nbconvert_exporter": "python",
   "pygments_lexer": "ipython3",
   "version": "3.9.10"
  }
 },
 "nbformat": 4,
 "nbformat_minor": 5
}
