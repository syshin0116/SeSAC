{
 "cells": [
  {
   "cell_type": "code",
   "execution_count": 57,
   "id": "ba5adad2-bb0d-448a-a8a9-058768468765",
   "metadata": {},
   "outputs": [
    {
     "name": "stdout",
     "output_type": "stream",
     "text": [
      "insta exception: Message: \n",
      "Stacktrace:\n",
      "0   chromedriver                        0x0000000100626a6c chromedriver + 4303468\n",
      "1   chromedriver                        0x000000010061f198 chromedriver + 4272536\n",
      "2   chromedriver                        0x0000000100253594 chromedriver + 292244\n",
      "3   chromedriver                        0x00000001002908fc chromedriver + 542972\n",
      "4   chromedriver                        0x00000001002c9628 chromedriver + 775720\n",
      "5   chromedriver                        0x0000000100284b40 chromedriver + 494400\n",
      "6   chromedriver                        0x0000000100285988 chromedriver + 498056\n",
      "7   chromedriver                        0x00000001005e7924 chromedriver + 4045092\n",
      "8   chromedriver                        0x00000001005ebe68 chromedriver + 4062824\n",
      "9   chromedriver                        0x00000001005f2088 chromedriver + 4087944\n",
      "10  chromedriver                        0x00000001005ec96c chromedriver + 4065644\n",
      "11  chromedriver                        0x00000001005c4e64 chromedriver + 3903076\n",
      "12  chromedriver                        0x000000010060855c chromedriver + 4179292\n",
      "13  chromedriver                        0x00000001006086b4 chromedriver + 4179636\n",
      "14  chromedriver                        0x0000000100618978 chromedriver + 4245880\n",
      "15  libsystem_pthread.dylib             0x000000018dda3fa8 _pthread_start + 148\n",
      "16  libsystem_pthread.dylib             0x000000018dd9eda0 thread_start + 8\n",
      "\n"
     ]
    },
    {
     "name": "stderr",
     "output_type": "stream",
     "text": [
      "Traceback (most recent call last):\n",
      "  File \"/var/folders/3m/knb96f9s4xg2t2gcrl96r6jh0000gn/T/ipykernel_58557/1425380851.py\", line 64, in <cell line: 24>\n",
      "    followers = WebDriverWait(d, 10).until(EC.presence_of_element_located((By.CSS_SELECTOR, '#mount_0_0_6B > div > div > div.x9f619.x1n2onr6.x1ja2u2z > div > div > div > div.x78zum5.xdt5ytf.x1t2pt76.x1n2onr6.x1ja2u2z.x10cihs4 > div.x9f619.xvbhtw8.x78zum5.x168nmei.x13lgxp2.x5pf9jr.xo71vjh.x1uhb9sk.x1plvlek.xryxfnj.x1c4vz4f.x2lah0s.x1q0g3np.xqjyukv.x1qjc9v5.x1oa3qoh.x1qughib > div.x9f619.xjbqb8w.x78zum5.x168nmei.x13lgxp2.x5pf9jr.xo71vjh.x1plvlek.xryxfnj.x1c4vz4f.x2lah0s.xdt5ytf.xqjyukv.x1qjc9v5.x1oa3qoh.x1nhvcw1.x1dr59a3.xixxii4.x13vifvy.xeq5yr9.x1n327nk > div > div > div.x10l6tqk.x1u3tz30.x1ja2u2z > div > div > div.x9f619.xjbqb8w.x78zum5.x168nmei.x13lgxp2.x5pf9jr.xo71vjh.x1n2onr6.x1plvlek.xryxfnj.x1iyjqo2.x2lwn1j.xeuugli.xdt5ytf.xqjyukv.x1qjc9v5.x1oa3qoh.x1nhvcw1 > div > div > div.x6s0dn4.x78zum5.xdt5ytf.x5yr21d.x1odjw0f.x1n2onr6.xh8yej3 > div > a:nth-child(1) > div.x9f619.xjbqb8w.x78zum5.x168nmei.x13lgxp2.x5pf9jr.xo71vjh.xxbr6pl.xbbxn1n.xwib8y2.x1y1aw1k.x1uhb9sk.x1plvlek.xryxfnj.x1c4vz4f.x2lah0s.xdt5ytf.xqjyukv.x1qjc9v5.x1oa3qoh.x1nhvcw1 > div > div > div.x9f619.x1n2onr6.x1ja2u2z.x78zum5.x1iyjqo2.xs83m0k.xeuugli.x1qughib.x6s0dn4.x1a02dak.x1q0g3np.xdl72j9 > div > div > span > span'))).text\n",
      "  File \"/Users/syshin/miniforge3/lib/python3.9/site-packages/selenium/webdriver/support/wait.py\", line 95, in until\n",
      "    raise TimeoutException(message, screen, stacktrace)\n",
      "selenium.common.exceptions.TimeoutException: Message: \n",
      "Stacktrace:\n",
      "0   chromedriver                        0x0000000100626a6c chromedriver + 4303468\n",
      "1   chromedriver                        0x000000010061f198 chromedriver + 4272536\n",
      "2   chromedriver                        0x0000000100253594 chromedriver + 292244\n",
      "3   chromedriver                        0x00000001002908fc chromedriver + 542972\n",
      "4   chromedriver                        0x00000001002c9628 chromedriver + 775720\n",
      "5   chromedriver                        0x0000000100284b40 chromedriver + 494400\n",
      "6   chromedriver                        0x0000000100285988 chromedriver + 498056\n",
      "7   chromedriver                        0x00000001005e7924 chromedriver + 4045092\n",
      "8   chromedriver                        0x00000001005ebe68 chromedriver + 4062824\n",
      "9   chromedriver                        0x00000001005f2088 chromedriver + 4087944\n",
      "10  chromedriver                        0x00000001005ec96c chromedriver + 4065644\n",
      "11  chromedriver                        0x00000001005c4e64 chromedriver + 3903076\n",
      "12  chromedriver                        0x000000010060855c chromedriver + 4179292\n",
      "13  chromedriver                        0x00000001006086b4 chromedriver + 4179636\n",
      "14  chromedriver                        0x0000000100618978 chromedriver + 4245880\n",
      "15  libsystem_pthread.dylib             0x000000018dda3fa8 _pthread_start + 148\n",
      "16  libsystem_pthread.dylib             0x000000018dd9eda0 thread_start + 8\n",
      "\n"
     ]
    }
   ],
   "source": [
    "import traceback\n",
    "from selenium import webdriver\n",
    "from selenium.webdriver import ChromeOptions\n",
    "from webdriver_manager.chrome import ChromeDriverManager\n",
    "from selenium.webdriver.common.by import By\n",
    "from selenium.webdriver.support.ui import WebDriverWait\n",
    "from selenium.webdriver.support import expected_conditions as EC\n",
    "from selenium.webdriver.common.keys import Keys\n",
    "from selenium.webdriver.common.action_chains import ActionChains\n",
    "import pymysql\n",
    "from selenium.webdriver.chrome.service import Service\n",
    "import time\n",
    "\n",
    "db = pymysql.connect(host=\"localhost\", port=3306, user=\"root\", password=\"peter2012!\", db=\"sba\")\n",
    "cursor = db.cursor()\n",
    "\n",
    "options = webdriver.ChromeOptions()\n",
    "options.add_argument(\"--user-data-dir=/Users/syshin/Desktop/Syshin/SeSAC/파이썬 데이터 처리 프로그래밍/4일차-/MyChrome\")\n",
    "service = Service()\n",
    "d = webdriver.Chrome(service=service, options=options)\n",
    "url_melon = \"https://www.melon.com/chart/index.htm\"\n",
    "url_instagram = \"https://www.instagram.com\"\n",
    "\n",
    "try:\n",
    "    # 멜론 TOP 100\n",
    "    d.get(url_melon)\n",
    "    trs = WebDriverWait(d, 10).until(EC.presence_of_all_elements_located((By.CSS_SELECTOR, \"#frm > div > table > tbody > tr\")))\n",
    "    already = []\n",
    "    for tr in trs:\n",
    "        title = tr.find_element(By.CSS_SELECTOR, 'div.rank01 > span > a').text.strip().replace(\"'\", '\"')\n",
    "        singer = tr.find_element(By.CSS_SELECTOR, 'div.ellipsis.rank02 > a').text.strip().replace(\"'\", '\"')\n",
    "        album = tr.find_element(By.CSS_SELECTOR, 'div.ellipsis.rank03 > a').text.strip().replace(\"'\", '\"')\n",
    "        \n",
    "        already.append(singer) # 중복 확인\n",
    "        \n",
    "        # 쿼리 생성 (SINGER)\n",
    "        if singer not in already:\n",
    "            sql_singer = f\"\"\"\n",
    "            INSERT INTO SINGER VALUES(NULL, '{singer}', 0)\n",
    "            \"\"\"\n",
    "            cursor.execute(sql_singer)\n",
    "        \n",
    "        # 쿼리 생성 (SONG)\n",
    "        sql_song = f\"\"\"\n",
    "        INSERT INTO SONG VALUES(NULL, (SELECT id FROM SINGER WHERE name='{singer}' LIMIT 1), '{title}', '{album}')\n",
    "        \"\"\"    \n",
    "        cursor.execute(sql_song)\n",
    "    \n",
    "    # 인스타\n",
    "    d.get(url_instagram)\n",
    "    buttons = WebDriverWait(d, 10).until(EC.presence_of_all_elements_located((By.CSS_SELECTOR, '.xvy4d1p')))\n",
    "    search_button = buttons[2]\n",
    "    \n",
    "    ac = ActionChains(d)\n",
    "    ac.move_to_element(search_button).click().pause(1).perform()\n",
    "    \n",
    "    elem = WebDriverWait(d, 10).until(EC.presence_of_element_located((By.CSS_SELECTOR, \"input.x7xwk5j\")))\n",
    "    \n",
    "    ac.reset_actions()\n",
    "    ac.send_keys_to_element(elem, singer).pause(2).perform()\n",
    "\n",
    "    try:\n",
    "        authorized = WebDriverWait(d, 10).until(EC.presence_of_element_located((By.CSS_SELECTOR, 'div.x9f619.xjbqb8w.x1rg5ohu.x168nmei.x13lgxp2.x5pf9jr.xo71vjh.xsgj6o6.x1uhb9sk.x1plvlek.xryxfnj.x1c4vz4f.x2lah0s.xdt5ytf.xqjyukv.x1qjc9v5.x1oa3qoh.x1nhvcw1 title')))\n",
    "        followers = WebDriverWait(d, 10).until(EC.presence_of_element_located((By.CSS_SELECTOR, '#mount_0_0_6B > div > div > div.x9f619.x1n2onr6.x1ja2u2z > div > div > div > div.x78zum5.xdt5ytf.x1t2pt76.x1n2onr6.x1ja2u2z.x10cihs4 > div.x9f619.xvbhtw8.x78zum5.x168nmei.x13lgxp2.x5pf9jr.xo71vjh.x1uhb9sk.x1plvlek.xryxfnj.x1c4vz4f.x2lah0s.x1q0g3np.xqjyukv.x1qjc9v5.x1oa3qoh.x1qughib > div.x9f619.xjbqb8w.x78zum5.x168nmei.x13lgxp2.x5pf9jr.xo71vjh.x1plvlek.xryxfnj.x1c4vz4f.x2lah0s.xdt5ytf.xqjyukv.x1qjc9v5.x1oa3qoh.x1nhvcw1.x1dr59a3.xixxii4.x13vifvy.xeq5yr9.x1n327nk > div > div > div.x10l6tqk.x1u3tz30.x1ja2u2z > div > div > div.x9f619.xjbqb8w.x78zum5.x168nmei.x13lgxp2.x5pf9jr.xo71vjh.x1n2onr6.x1plvlek.xryxfnj.x1iyjqo2.x2lwn1j.xeuugli.xdt5ytf.xqjyukv.x1qjc9v5.x1oa3qoh.x1nhvcw1 > div > div > div.x6s0dn4.x78zum5.xdt5ytf.x5yr21d.x1odjw0f.x1n2onr6.xh8yej3 > div > a:nth-child(1) > div.x9f619.xjbqb8w.x78zum5.x168nmei.x13lgxp2.x5pf9jr.xo71vjh.xxbr6pl.xbbxn1n.xwib8y2.x1y1aw1k.x1uhb9sk.x1plvlek.xryxfnj.x1c4vz4f.x2lah0s.xdt5ytf.xqjyukv.x1qjc9v5.x1oa3qoh.x1nhvcw1 > div > div > div.x9f619.x1n2onr6.x1ja2u2z.x78zum5.x1iyjqo2.xs83m0k.xeuugli.x1qughib.x6s0dn4.x1a02dak.x1q0g3np.xdl72j9 > div > div > span > span'))).text\n",
    "        followers = followers[followers.find(\"팔로워\")+1:]\n",
    "        sql_update_singer = f\"\"\"\n",
    "        adfasdf\n",
    "        \"\"\"\n",
    "        print(singer, folowers)\n",
    "    except Exception as e:\n",
    "        print(\"insta exception:\", e)\n",
    "        traceback.print_exc()\n",
    "except Exception as e:\n",
    "    print(e)\n",
    "    traceback.print_exc()\n",
    "finally:\n",
    "    d.close()\n",
    "    d.quit()\n",
    "    db.commit()\n",
    "    db.close()"
   ]
  },
  {
   "cell_type": "code",
   "execution_count": 48,
   "id": "0df239b3-cb74-4aef-88ea-601ea7e8768b",
   "metadata": {},
   "outputs": [
    {
     "data": {
      "text/plain": [
       "'x9f619.xjbqb8w.x78zum5.x168nmei.x13lgxp2.x5pf9jr.xo71vjh.x1uhb9sk.x1plvlek.xryxfnj.x1iyjqo2.x2lwn1j.xeuugli.xdt5ytf.xqjyukv.x1cy8zhl.x1oa3qoh.x1nhvcw1'"
      ]
     },
     "execution_count": 48,
     "metadata": {},
     "output_type": "execute_result"
    }
   ],
   "source": []
  },
  {
   "cell_type": "code",
   "execution_count": 56,
   "id": "d37ab27f-3637-47c0-bd87-ebcdc73200eb",
   "metadata": {},
   "outputs": [
    {
     "data": {
      "text/plain": [
       "'x1lliihq.x193iq5w.x6ikm8r.x10wlt62.xlyipyv.xuxw1ft'"
      ]
     },
     "execution_count": 56,
     "metadata": {},
     "output_type": "execute_result"
    }
   ],
   "source": [
    "'x1lliihq x193iq5w x6ikm8r x10wlt62 xlyipyv xuxw1ft'.replace(\" \", \".\")"
   ]
  },
  {
   "cell_type": "code",
   "execution_count": null,
   "id": "a9fd5fea-eaf5-40a4-9be2-03a5940ed3d8",
   "metadata": {},
   "outputs": [],
   "source": [
    "#mount_0_0_6B > div > div > div.x9f619.x1n2onr6.x1ja2u2z > div > div > div > div.x78zum5.xdt5ytf.x1t2pt76.x1n2onr6.x1ja2u2z.x10cihs4 > div.x9f619.xvbhtw8.x78zum5.x168nmei.x13lgxp2.x5pf9jr.xo71vjh.x1uhb9sk.x1plvlek.xryxfnj.x1c4vz4f.x2lah0s.x1q0g3np.xqjyukv.x1qjc9v5.x1oa3qoh.x1qughib > div.x9f619.xjbqb8w.x78zum5.x168nmei.x13lgxp2.x5pf9jr.xo71vjh.x1plvlek.xryxfnj.x1c4vz4f.x2lah0s.xdt5ytf.xqjyukv.x1qjc9v5.x1oa3qoh.x1nhvcw1.x1dr59a3.xixxii4.x13vifvy.xeq5yr9.x1n327nk > div > div > div.x10l6tqk.x1u3tz30.x1ja2u2z > div > div > div.x9f619.xjbqb8w.x78zum5.x168nmei.x13lgxp2.x5pf9jr.xo71vjh.x1n2onr6.x1plvlek.xryxfnj.x1iyjqo2.x2lwn1j.xeuugli.xdt5ytf.xqjyukv.x1qjc9v5.x1oa3qoh.x1nhvcw1 > div > div > div.x6s0dn4.x78zum5.xdt5ytf.x5yr21d.x1odjw0f.x1n2onr6.xh8yej3 > div > a:nth-child(1) > div.x9f619.xjbqb8w.x78zum5.x168nmei.x13lgxp2.x5pf9jr.xo71vjh.xxbr6pl.xbbxn1n.xwib8y2.x1y1aw1k.x1uhb9sk.x1plvlek.xryxfnj.x1c4vz4f.x2lah0s.xdt5ytf.xqjyukv.x1qjc9v5.x1oa3qoh.x1nhvcw1 > div > div > div.x9f619.x1n2onr6.x1ja2u2z.x78zum5.x1iyjqo2.xs83m0k.xeuugli.x1qughib.x6s0dn4.x1a02dak.x1q0g3np.xdl72j9 > div > div > span > span"
   ]
  }
 ],
 "metadata": {
  "kernelspec": {
   "display_name": "Python 3 (ipykernel)",
   "language": "python",
   "name": "python3"
  },
  "language_info": {
   "codemirror_mode": {
    "name": "ipython",
    "version": 3
   },
   "file_extension": ".py",
   "mimetype": "text/x-python",
   "name": "python",
   "nbconvert_exporter": "python",
   "pygments_lexer": "ipython3",
   "version": "3.9.10"
  }
 },
 "nbformat": 4,
 "nbformat_minor": 5
}
