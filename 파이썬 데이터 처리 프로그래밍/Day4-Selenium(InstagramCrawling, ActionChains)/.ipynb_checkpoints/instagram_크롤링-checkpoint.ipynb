{
 "cells": [
  {
   "cell_type": "code",
   "execution_count": 19,
   "id": "c3f2dc60-f3fe-49dc-ad6c-7f5e9c28fcce",
   "metadata": {},
   "outputs": [],
   "source": [
    "from selenium import webdriver\n",
    "from selenium.webdriver.chrome.service import Service\n",
    "from webdriver_manager.chrome import ChromeDriverManager\n",
    "from selenium.webdriver.common.by import By\n",
    "import requests\n",
    "import time\n",
    "from selenium.webdriver.support.ui import WebDriverWait\n",
    "from selenium.webdriver.support import expected_conditions as EC\n",
    "from selenium.webdriver.common.keys import Keys\n",
    "from selenium.webdriver.common.action_chains import ActionChains\n",
    "\n",
    "# 크롬에 정보 저장\n",
    "options = webdriver.ChromeOptions()\n",
    "options.add_argument(\"--user-data-dir=/Users/syshin/Desktop/Syshin/SeSAC/파이썬 데이터 처리 프로그래밍/4일차-/MyChrome\")\n",
    "service = Service()\n",
    "d = webdriver.Chrome(service=service, options=options)\n",
    "\n",
    "\n",
    "try:\n",
    "    url = 'https://www.instagram.com/'\n",
    "    d.get(url)\n",
    "\n",
    "    # 검색 버튼\n",
    "    buttons = WebDriverWait(d, 10).until(EC.presence_of_all_elements_located((By.CSS_SELECTOR, \".xvy4d1p\")))\n",
    "    # buttons = d.find_elements(By.CSS_SELECTOR, \".xvy4d1p\")\n",
    "    search_button = buttons[2]\n",
    "    \n",
    "    # 검색 버튼 클릭\n",
    "    ac = ActionChains(d)\n",
    "    ac.move_to_element(search_button).click().pause(1)\n",
    "    ac.perform()\n",
    "    \n",
    "    elem = WebDriverWait(d, 10).until(EC.presence_of_element_located((By.CSS_SELECTOR, \".x7xwk5j\")))\n",
    "    ac.reset_actions()\n",
    "    # ac.move_to_element(elem).click().send_keys(\"#파이썬\")\n",
    "    ac.send_keys_to_element(elem, \"#파이썬\")\n",
    "    ac.pause(1)\n",
    "    ac.move_by_offset(0,100)\n",
    "    ac.click()\n",
    "    ac.perform()\n",
    "    \n",
    "    posts = WebDriverWait(d, 10).until(EC.presence_of_all_elements_located((By.CSS_SELECTOR, \"._aabd\")))\n",
    "    for post in posts:\n",
    "        ac.reset_actions()\n",
    "        ac.click(post)\n",
    "        ac.pause(1)\n",
    "        ac.send_keys(Keys.ESCAPE)\n",
    "        ac.perform()\n",
    "\n",
    "    \n",
    "except Exception as e:\n",
    "    print(e)\n",
    "finally:\n",
    "    time.sleep(3)\n",
    "    d.close()\n",
    "    d.quit()\n",
    "    "
   ]
  },
  {
   "cell_type": "code",
   "execution_count": null,
   "id": "7245bc61-0c67-4e21-a399-8400c6e2f50a",
   "metadata": {},
   "outputs": [],
   "source": []
  }
 ],
 "metadata": {
  "kernelspec": {
   "display_name": "Python 3 (ipykernel)",
   "language": "python",
   "name": "python3"
  },
  "language_info": {
   "codemirror_mode": {
    "name": "ipython",
    "version": 3
   },
   "file_extension": ".py",
   "mimetype": "text/x-python",
   "name": "python",
   "nbconvert_exporter": "python",
   "pygments_lexer": "ipython3",
   "version": "3.9.10"
  }
 },
 "nbformat": 4,
 "nbformat_minor": 5
}
