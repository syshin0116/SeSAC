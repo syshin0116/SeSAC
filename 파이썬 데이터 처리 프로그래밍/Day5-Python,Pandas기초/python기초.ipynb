{
 "cells": [
  {
   "cell_type": "code",
   "execution_count": 1,
   "id": "ee089148-9a44-4187-b2a7-b90768668b42",
   "metadata": {},
   "outputs": [
    {
     "name": "stdout",
     "output_type": "stream",
     "text": [
      "48\n"
     ]
    }
   ],
   "source": [
    "import random\n",
    "\n",
    "computer = random.randint(1, 100)\n",
    "print(computer)"
   ]
  },
  {
   "cell_type": "code",
   "execution_count": 7,
   "id": "67f4430f-0563-43db-a79a-3c8a8d02b2de",
   "metadata": {},
   "outputs": [
    {
     "name": "stdin",
     "output_type": "stream",
     "text": [
      "[1/10번째 기회]숫자 입력: 1\n"
     ]
    },
    {
     "name": "stdout",
     "output_type": "stream",
     "text": [
      "up\n"
     ]
    },
    {
     "name": "stdin",
     "output_type": "stream",
     "text": [
      "[2/10번째 기회]숫자 입력: 1\n"
     ]
    },
    {
     "name": "stdout",
     "output_type": "stream",
     "text": [
      "up\n"
     ]
    },
    {
     "name": "stdin",
     "output_type": "stream",
     "text": [
      "[3/10번째 기회]숫자 입력: 1\n"
     ]
    },
    {
     "name": "stdout",
     "output_type": "stream",
     "text": [
      "up\n"
     ]
    },
    {
     "name": "stdin",
     "output_type": "stream",
     "text": [
      "[4/10번째 기회]숫자 입력: 1\n"
     ]
    },
    {
     "name": "stdout",
     "output_type": "stream",
     "text": [
      "up\n"
     ]
    },
    {
     "name": "stdin",
     "output_type": "stream",
     "text": [
      "[5/10번째 기회]숫자 입력: 1\n"
     ]
    },
    {
     "name": "stdout",
     "output_type": "stream",
     "text": [
      "up\n"
     ]
    },
    {
     "name": "stdin",
     "output_type": "stream",
     "text": [
      "[6/10번째 기회]숫자 입력: 1\n"
     ]
    },
    {
     "name": "stdout",
     "output_type": "stream",
     "text": [
      "up\n"
     ]
    },
    {
     "name": "stdin",
     "output_type": "stream",
     "text": [
      "[7/10번째 기회]숫자 입력: 1\n"
     ]
    },
    {
     "name": "stdout",
     "output_type": "stream",
     "text": [
      "up\n"
     ]
    },
    {
     "name": "stdin",
     "output_type": "stream",
     "text": [
      "[8/10번째 기회]숫자 입력: 1\n"
     ]
    },
    {
     "name": "stdout",
     "output_type": "stream",
     "text": [
      "up\n"
     ]
    },
    {
     "name": "stdin",
     "output_type": "stream",
     "text": [
      "[9/10번째 기회]숫자 입력: 1\n"
     ]
    },
    {
     "name": "stdout",
     "output_type": "stream",
     "text": [
      "up\n"
     ]
    },
    {
     "name": "stdin",
     "output_type": "stream",
     "text": [
      "[10/10번째 기회]숫자 입력: 1\n"
     ]
    },
    {
     "name": "stdout",
     "output_type": "stream",
     "text": [
      "up\n",
      "실패!\n"
     ]
    }
   ],
   "source": [
    "# 프로그램 실행시 랜덤으로 1~100 사이의 숫자를 생성\n",
    "# 10번의 기회가 있고, 10번 동안 숫자를 입력 받아 숫자를 맞추는 게임\n",
    "# 정답이 아닐 때마다 up/down을 출력\n",
    "# 정답을 맞추면 \"정답\"을 출력\n",
    "# 10번의 기회동안 정답을 못 맟췄다면 \"실패\" 출력\n",
    "\n",
    "import random\n",
    "answer = random.randint(1,100)\n",
    "\n",
    "for i in range(10):\n",
    "    try:\n",
    "        guess = int(input(f\"[{i+1}/10번째 기회]숫자 입력:\").strip())\n",
    "        if guess == answer:\n",
    "            break\n",
    "        elif guess > answer:\n",
    "            print(\"down\")\n",
    "        elif guess < answer:\n",
    "            print(\"up\")\n",
    "    except:\n",
    "        print(\"숫자를 입력해주세요\")\n",
    "        \n",
    "if guess == answer:\n",
    "    print(\"성공!\")\n",
    "else: print(\"실패!\")"
   ]
  },
  {
   "cell_type": "code",
   "execution_count": 1,
   "id": "b564a0df-73ac-47d0-a2eb-f03f73c975c4",
   "metadata": {},
   "outputs": [
    {
     "name": "stdin",
     "output_type": "stream",
     "text": [
      "[1/10번째 기회]숫자 입력: -10\n"
     ]
    },
    {
     "name": "stdout",
     "output_type": "stream",
     "text": [
      "1~100 사이의 숫자를 입력해주세요\n"
     ]
    },
    {
     "name": "stdin",
     "output_type": "stream",
     "text": [
      "[1/10번째 기회]숫자 입력: ;dsif\n"
     ]
    },
    {
     "name": "stdout",
     "output_type": "stream",
     "text": [
      "숫자를 입력해주세요\n"
     ]
    },
    {
     "name": "stdin",
     "output_type": "stream",
     "text": [
      "[1/10번째 기회]숫자 입력: a;slfjqwl;efqwef\n"
     ]
    },
    {
     "name": "stdout",
     "output_type": "stream",
     "text": [
      "숫자를 입력해주세요\n"
     ]
    },
    {
     "name": "stdin",
     "output_type": "stream",
     "text": [
      "[1/10번째 기회]숫자 입력: 101\n"
     ]
    },
    {
     "name": "stdout",
     "output_type": "stream",
     "text": [
      "1~100 사이의 숫자를 입력해주세요\n"
     ]
    },
    {
     "name": "stdin",
     "output_type": "stream",
     "text": [
      "[1/10번째 기회]숫자 입력: 500\n"
     ]
    },
    {
     "name": "stdout",
     "output_type": "stream",
     "text": [
      "1~100 사이의 숫자를 입력해주세요\n"
     ]
    },
    {
     "name": "stdin",
     "output_type": "stream",
     "text": [
      "[1/10번째 기회]숫자 입력: 100\n"
     ]
    },
    {
     "name": "stdout",
     "output_type": "stream",
     "text": [
      "down\n"
     ]
    },
    {
     "name": "stdin",
     "output_type": "stream",
     "text": [
      "[2/10번째 기회]숫자 입력: 50\n"
     ]
    },
    {
     "name": "stdout",
     "output_type": "stream",
     "text": [
      "up\n"
     ]
    },
    {
     "name": "stdin",
     "output_type": "stream",
     "text": [
      "[3/10번째 기회]숫자 입력: 75\n"
     ]
    },
    {
     "name": "stdout",
     "output_type": "stream",
     "text": [
      "up\n"
     ]
    },
    {
     "name": "stdin",
     "output_type": "stream",
     "text": [
      "[4/10번째 기회]숫자 입력: 85\n"
     ]
    },
    {
     "name": "stdout",
     "output_type": "stream",
     "text": [
      "up\n"
     ]
    },
    {
     "name": "stdin",
     "output_type": "stream",
     "text": [
      "[5/10번째 기회]숫자 입력: 90\n"
     ]
    },
    {
     "name": "stdout",
     "output_type": "stream",
     "text": [
      "up\n"
     ]
    },
    {
     "name": "stdin",
     "output_type": "stream",
     "text": [
      "[6/10번째 기회]숫자 입력: 95\n"
     ]
    },
    {
     "name": "stdout",
     "output_type": "stream",
     "text": [
      "성공\n"
     ]
    }
   ],
   "source": [
    "# 숫자 맞추기\n",
    "# 입력값이 숫자가 아니거나 1~100 사이의 숫자가 아닐 경우\n",
    "# 기회를 차감하지 않도록 변경\n",
    "\n",
    "# 프로그램 실행시 랜덤으로 1~100 사이의 숫자를 생성\n",
    "# 10번의 기회가 있고, 10번 동안 숫자를 입력 받아 숫자를 맞추는 게임\n",
    "# 정답이 아닐 때마다 up/down을 출력\n",
    "# 정답을 맞추면 \"정답\"을 출력\n",
    "# 10번의 기회동안 정답을 못 맟췄다면 \"실패\" 출력\n",
    "\n",
    "import random\n",
    "answer = random.randint(1,100)\n",
    "\n",
    "count = 0\n",
    "while count < 10:\n",
    "    try:\n",
    "        guess = int(input(f\"[{count+1}/10번째 기회]숫자 입력:\"))\n",
    "    except:\n",
    "        print(\"숫자를 입력해주세요\")\n",
    "        continue\n",
    "    if not (1 <= guess <= 100):\n",
    "        print(\"1~100 사이의 숫자를 입력해주세요\")\n",
    "        continue\n",
    "\n",
    "    if guess == answer:\n",
    "        print(\"성공\")\n",
    "        break\n",
    "    elif guess > answer:\n",
    "        print(\"down\")\n",
    "    elif guess < answer:\n",
    "        print(\"up\")\n",
    "    count+=1\n",
    "    \n",
    "        \n",
    "if guess != answer:\n",
    "    print(\"실패!\")"
   ]
  },
  {
   "cell_type": "code",
   "execution_count": 3,
   "id": "9b19e95e-fca1-49de-9f5b-6c84bd0dc375",
   "metadata": {},
   "outputs": [
    {
     "name": "stdin",
     "output_type": "stream",
     "text": [
      "이름을 입력하세요 승엽\n"
     ]
    },
    {
     "name": "stdout",
     "output_type": "stream",
     "text": [
      "====메뉴====\n",
      "1. 게임 시작\n",
      "2. 기록 보기\n",
      "3. 게임 종료\n"
     ]
    },
    {
     "name": "stdin",
     "output_type": "stream",
     "text": [
      "메뉴 선택: 1\n"
     ]
    },
    {
     "name": "stdout",
     "output_type": "stream",
     "text": [
      "====게임 시작====\n"
     ]
    },
    {
     "name": "stdin",
     "output_type": "stream",
     "text": [
      "[1/10번째 기회]숫자 입력: 50\n"
     ]
    },
    {
     "name": "stdout",
     "output_type": "stream",
     "text": [
      "down\n"
     ]
    },
    {
     "name": "stdin",
     "output_type": "stream",
     "text": [
      "[2/10번째 기회]숫자 입력: 25\n"
     ]
    },
    {
     "name": "stdout",
     "output_type": "stream",
     "text": [
      "down\n"
     ]
    },
    {
     "name": "stdin",
     "output_type": "stream",
     "text": [
      "[3/10번째 기회]숫자 입력: 15\n"
     ]
    },
    {
     "name": "stdout",
     "output_type": "stream",
     "text": [
      "down\n"
     ]
    },
    {
     "name": "stdin",
     "output_type": "stream",
     "text": [
      "[4/10번째 기회]숫자 입력: 10\n"
     ]
    },
    {
     "name": "stdout",
     "output_type": "stream",
     "text": [
      "up\n"
     ]
    },
    {
     "name": "stdin",
     "output_type": "stream",
     "text": [
      "[5/10번째 기회]숫자 입력: 13\n"
     ]
    },
    {
     "name": "stdout",
     "output_type": "stream",
     "text": [
      "down\n"
     ]
    },
    {
     "name": "stdin",
     "output_type": "stream",
     "text": [
      "[6/10번째 기회]숫자 입력: 12\n"
     ]
    },
    {
     "name": "stdout",
     "output_type": "stream",
     "text": [
      "승엽성공\n",
      "====메뉴====\n",
      "1. 게임 시작\n",
      "2. 기록 보기\n",
      "3. 게임 종료\n"
     ]
    },
    {
     "name": "stdin",
     "output_type": "stream",
     "text": [
      "메뉴 선택: 2\n"
     ]
    },
    {
     "name": "stdout",
     "output_type": "stream",
     "text": [
      "====승엽님의 성적====\n",
      "성공 횟수:1\n",
      "실패 횟수:0\n",
      "====메뉴====\n",
      "1. 게임 시작\n",
      "2. 기록 보기\n",
      "3. 게임 종료\n"
     ]
    },
    {
     "name": "stdin",
     "output_type": "stream",
     "text": [
      "메뉴 선택: 1\n"
     ]
    },
    {
     "name": "stdout",
     "output_type": "stream",
     "text": [
      "====게임 시작====\n"
     ]
    },
    {
     "name": "stdin",
     "output_type": "stream",
     "text": [
      "[1/10번째 기회]숫자 입력: 1\n"
     ]
    },
    {
     "name": "stdout",
     "output_type": "stream",
     "text": [
      "up\n"
     ]
    },
    {
     "name": "stdin",
     "output_type": "stream",
     "text": [
      "[2/10번째 기회]숫자 입력: 1\n"
     ]
    },
    {
     "name": "stdout",
     "output_type": "stream",
     "text": [
      "up\n"
     ]
    },
    {
     "name": "stdin",
     "output_type": "stream",
     "text": [
      "[3/10번째 기회]숫자 입력: 1\n"
     ]
    },
    {
     "name": "stdout",
     "output_type": "stream",
     "text": [
      "up\n"
     ]
    },
    {
     "name": "stdin",
     "output_type": "stream",
     "text": [
      "[4/10번째 기회]숫자 입력: 1\n"
     ]
    },
    {
     "name": "stdout",
     "output_type": "stream",
     "text": [
      "up\n"
     ]
    },
    {
     "name": "stdin",
     "output_type": "stream",
     "text": [
      "[5/10번째 기회]숫자 입력: 1\n"
     ]
    },
    {
     "name": "stdout",
     "output_type": "stream",
     "text": [
      "up\n"
     ]
    },
    {
     "name": "stdin",
     "output_type": "stream",
     "text": [
      "[6/10번째 기회]숫자 입력: 1\n"
     ]
    },
    {
     "name": "stdout",
     "output_type": "stream",
     "text": [
      "up\n"
     ]
    },
    {
     "name": "stdin",
     "output_type": "stream",
     "text": [
      "[7/10번째 기회]숫자 입력: 1\n"
     ]
    },
    {
     "name": "stdout",
     "output_type": "stream",
     "text": [
      "up\n"
     ]
    },
    {
     "name": "stdin",
     "output_type": "stream",
     "text": [
      "[8/10번째 기회]숫자 입력: 1\n"
     ]
    },
    {
     "name": "stdout",
     "output_type": "stream",
     "text": [
      "up\n"
     ]
    },
    {
     "name": "stdin",
     "output_type": "stream",
     "text": [
      "[9/10번째 기회]숫자 입력: 1\n"
     ]
    },
    {
     "name": "stdout",
     "output_type": "stream",
     "text": [
      "up\n"
     ]
    },
    {
     "name": "stdin",
     "output_type": "stream",
     "text": [
      "[10/10번째 기회]숫자 입력: 1\n"
     ]
    },
    {
     "name": "stdout",
     "output_type": "stream",
     "text": [
      "up\n",
      "승엽실패!\n",
      "====메뉴====\n",
      "1. 게임 시작\n",
      "2. 기록 보기\n",
      "3. 게임 종료\n"
     ]
    },
    {
     "name": "stdin",
     "output_type": "stream",
     "text": [
      "메뉴 선택: 2\n"
     ]
    },
    {
     "name": "stdout",
     "output_type": "stream",
     "text": [
      "====승엽님의 성적====\n",
      "성공 횟수:1\n",
      "실패 횟수:1\n",
      "====메뉴====\n",
      "1. 게임 시작\n",
      "2. 기록 보기\n",
      "3. 게임 종료\n"
     ]
    },
    {
     "name": "stdin",
     "output_type": "stream",
     "text": [
      "메뉴 선택: 1\n"
     ]
    },
    {
     "name": "stdout",
     "output_type": "stream",
     "text": [
      "====게임 시작====\n"
     ]
    },
    {
     "name": "stdin",
     "output_type": "stream",
     "text": [
      "[1/10번째 기회]숫자 입력: 1\n"
     ]
    },
    {
     "name": "stdout",
     "output_type": "stream",
     "text": [
      "up\n"
     ]
    },
    {
     "name": "stdin",
     "output_type": "stream",
     "text": [
      "[2/10번째 기회]숫자 입력: 1\n"
     ]
    },
    {
     "name": "stdout",
     "output_type": "stream",
     "text": [
      "up\n"
     ]
    },
    {
     "name": "stdin",
     "output_type": "stream",
     "text": [
      "[3/10번째 기회]숫자 입력: 1\n"
     ]
    },
    {
     "name": "stdout",
     "output_type": "stream",
     "text": [
      "up\n"
     ]
    },
    {
     "name": "stdin",
     "output_type": "stream",
     "text": [
      "[4/10번째 기회]숫자 입력: 1\n"
     ]
    },
    {
     "name": "stdout",
     "output_type": "stream",
     "text": [
      "up\n"
     ]
    },
    {
     "name": "stdin",
     "output_type": "stream",
     "text": [
      "[5/10번째 기회]숫자 입력: 1\n"
     ]
    },
    {
     "name": "stdout",
     "output_type": "stream",
     "text": [
      "up\n"
     ]
    },
    {
     "name": "stdin",
     "output_type": "stream",
     "text": [
      "[6/10번째 기회]숫자 입력: 1\n"
     ]
    },
    {
     "name": "stdout",
     "output_type": "stream",
     "text": [
      "up\n"
     ]
    },
    {
     "name": "stdin",
     "output_type": "stream",
     "text": [
      "[7/10번째 기회]숫자 입력: 1\n"
     ]
    },
    {
     "name": "stdout",
     "output_type": "stream",
     "text": [
      "up\n"
     ]
    },
    {
     "name": "stdin",
     "output_type": "stream",
     "text": [
      "[8/10번째 기회]숫자 입력: 1\n"
     ]
    },
    {
     "name": "stdout",
     "output_type": "stream",
     "text": [
      "up\n"
     ]
    },
    {
     "name": "stdin",
     "output_type": "stream",
     "text": [
      "[9/10번째 기회]숫자 입력: 1\n"
     ]
    },
    {
     "name": "stdout",
     "output_type": "stream",
     "text": [
      "up\n"
     ]
    },
    {
     "name": "stdin",
     "output_type": "stream",
     "text": [
      "[10/10번째 기회]숫자 입력: 1\n"
     ]
    },
    {
     "name": "stdout",
     "output_type": "stream",
     "text": [
      "up\n",
      "승엽실패!\n",
      "====메뉴====\n",
      "1. 게임 시작\n",
      "2. 기록 보기\n",
      "3. 게임 종료\n"
     ]
    },
    {
     "name": "stdin",
     "output_type": "stream",
     "text": [
      "메뉴 선택: 2\n"
     ]
    },
    {
     "name": "stdout",
     "output_type": "stream",
     "text": [
      "====승엽님의 성적====\n",
      "성공 횟수:1\n",
      "실패 횟수:2\n",
      "====메뉴====\n",
      "1. 게임 시작\n",
      "2. 기록 보기\n",
      "3. 게임 종료\n"
     ]
    },
    {
     "name": "stdin",
     "output_type": "stream",
     "text": [
      "메뉴 선택: 3\n"
     ]
    },
    {
     "name": "stdout",
     "output_type": "stream",
     "text": [
      "====게임 종료====\n"
     ]
    }
   ],
   "source": [
    "# 숫자 맞추기 스무고개 게임\n",
    "# 메뉴를 출력하고 \"게임 시작\"\n",
    "# 사용자 이름 입력\n",
    "import random\n",
    "\n",
    "# 게임\n",
    "def start_game(username, win, lose):\n",
    "    answer = random.randint(1,100)\n",
    "    count = 0\n",
    "    while count < 10:\n",
    "        try:\n",
    "            guess = int(input(f\"[{count+1}/10번째 기회]숫자 입력:\"))\n",
    "        except:\n",
    "            print(\"숫자를 입력해주세요\")\n",
    "            continue\n",
    "        if not (1 <= guess <= 100):\n",
    "            print(\"1~100 사이의 숫자를 입력해주세요\")\n",
    "            continue\n",
    "\n",
    "        if guess == answer:\n",
    "            print(f\"{username}성공\")\n",
    "            win += 1\n",
    "            return win, lose\n",
    "        elif guess > answer:\n",
    "            print(\"down\")\n",
    "        elif guess < answer:\n",
    "            print(\"up\")\n",
    "        count+=1\n",
    "    if guess != answer:\n",
    "        print(f\"{username}실패!\")\n",
    "        lose += 1\n",
    "    return win, lose\n",
    "        \n",
    "# 메뉴\n",
    "def print_menu():\n",
    "    print()\n",
    "    print(\"====메뉴====\")\n",
    "    print(\"1. 게임 시작\")\n",
    "    print(\"2. 기록 보기\")\n",
    "    print(\"3. 게임 종료\")\n",
    "\n",
    "# 기록보기\n",
    "def show_score(username, win, lose):\n",
    "    print()\n",
    "    print(f\"===={username}님의 성적====\")\n",
    "    print(f\"성공 횟수:{win}\")\n",
    "    print(f\"실패 횟수:{lose}\")\n",
    "    \n",
    "# 실행\n",
    "username = input(\"이름을 입력하세요\")\n",
    "win = 0\n",
    "lose = 0\n",
    "while True:\n",
    "    print_menu()\n",
    "    choice = input(\"메뉴 선택:\")\n",
    "    \n",
    "    if choice == '1':\n",
    "        print(\"====게임 시작====\")\n",
    "        win, lose = start_game(username, win, lose)\n",
    "    elif choice == '2':\n",
    "        show_score(username, win, lose)\n",
    "    elif choice == '3':\n",
    "        print()\n",
    "        print(\"====게임 종료====\")\n",
    "        break\n",
    "    else:\n",
    "        print()\n",
    "        print(\"잘못된 입력입니다\")"
   ]
  },
  {
   "cell_type": "code",
   "execution_count": 4,
   "id": "3948ee9b-d87e-47ed-b645-30e33fcad92e",
   "metadata": {},
   "outputs": [
    {
     "ename": "TypeError",
     "evalue": "raw_input() got an unexpected keyword argument 'end'",
     "output_type": "error",
     "traceback": [
      "\u001b[0;31m---------------------------------------------------------------------------\u001b[0m",
      "\u001b[0;31mTypeError\u001b[0m                                 Traceback (most recent call last)",
      "Input \u001b[0;32mIn [4]\u001b[0m, in \u001b[0;36m<cell line: 1>\u001b[0;34m()\u001b[0m\n\u001b[0;32m----> 1\u001b[0m \u001b[38;5;28;43minput\u001b[39;49m\u001b[43m(\u001b[49m\u001b[43mend\u001b[49m\u001b[38;5;241;43m=\u001b[39;49m\u001b[38;5;124;43m\"\u001b[39;49m\u001b[38;5;124;43m\"\u001b[39;49m\u001b[43m)\u001b[49m\n\u001b[1;32m      2\u001b[0m \u001b[38;5;28minput\u001b[39m(end\u001b[38;5;241m=\u001b[39m\u001b[38;5;124m\"\u001b[39m\u001b[38;5;124m\"\u001b[39m)\n\u001b[1;32m      3\u001b[0m \u001b[38;5;28minput\u001b[39m(end\u001b[38;5;241m=\u001b[39m\u001b[38;5;124m\"\u001b[39m\u001b[38;5;124m\"\u001b[39m)\n",
      "\u001b[0;31mTypeError\u001b[0m: raw_input() got an unexpected keyword argument 'end'"
     ]
    }
   ],
   "source": []
  },
  {
   "cell_type": "code",
   "execution_count": null,
   "id": "b8400557-6917-43d1-a732-54f7226f7f9c",
   "metadata": {},
   "outputs": [],
   "source": []
  }
 ],
 "metadata": {
  "kernelspec": {
   "display_name": "Python 3 (ipykernel)",
   "language": "python",
   "name": "python3"
  },
  "language_info": {
   "codemirror_mode": {
    "name": "ipython",
    "version": 3
   },
   "file_extension": ".py",
   "mimetype": "text/x-python",
   "name": "python",
   "nbconvert_exporter": "python",
   "pygments_lexer": "ipython3",
   "version": "3.9.10"
  }
 },
 "nbformat": 4,
 "nbformat_minor": 5
}
