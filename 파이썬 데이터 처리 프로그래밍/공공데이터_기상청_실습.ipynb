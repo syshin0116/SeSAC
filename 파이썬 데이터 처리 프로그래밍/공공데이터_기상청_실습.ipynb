{
 "cells": [
  {
   "cell_type": "code",
   "execution_count": 4,
   "id": "97fd4129-9da3-4eb3-96c7-cbc86ff9c4a5",
   "metadata": {},
   "outputs": [],
   "source": [
    "import requests\n",
    "\n",
    "res = requests.get(\"https://jsonplaceholder.typicode.com/posts\")\n",
    "posts = res.json()\n",
    "\n",
    "# for post in posts:\n",
    "#     print(post[\"userId\"], post[\"title\"])"
   ]
  },
  {
   "cell_type": "code",
   "execution_count": 20,
   "id": "0911cb54-b599-4996-9752-7f37d5f07f18",
   "metadata": {},
   "outputs": [
    {
     "name": "stdout",
     "output_type": "stream",
     "text": [
      "{'response': {'body': {'dataType': 'JSON',\n",
      "                       'items': {'item': [{'wfSv': '○ (강수) 5일(토) 제주도에 비가 '\n",
      "                                                   '오겠습니다.\\n'\n",
      "                                                   '○ (기온) 이번 예보기간 아침 기온은 '\n",
      "                                                   '23~27도, 낮 기온은 29~35도로 '\n",
      "                                                   '평년(최저기온 22~24도, 최고기온 '\n",
      "                                                   '29~33도)과 비슷하거나 조금 높겠습니다.\\n'\n",
      "                                                   '○ (해상) 당분간 서해남부해상과 남해상, '\n",
      "                                                   '제주도해상에서 물결이 1.0~4.0m(제주도해상 '\n",
      "                                                   '5.0m 이상)로 매우 높게 일겠습니다.\\n'\n",
      "                                                   '○ (주말전망) 5일(토)과 6일(일)은 전국이 '\n",
      "                                                   '구름많겠으나, 제주도는 5일(토) 흐리고 비가 '\n",
      "                                                   '오겠습니다. 아침 기온은 25~27도, 낮 '\n",
      "                                                   '기온은 32~35도가 되겠습니다.\\n'\n",
      "                                                   '\\n'\n",
      "                                                   '* 이번 예보기간 제6호 태풍(카눈)의 '\n",
      "                                                   '이동경로에 따라 강수구역과 시점이 변경될 '\n",
      "                                                   '가능성이 있으며, 내륙을 중심으로 소나기가 내릴 '\n",
      "                                                   '가능성이 있으니, 앞으로 발표되는 최신 예보를 '\n",
      "                                                   '참고하기 바랍니다.'}]},\n",
      "                       'numOfRows': 10,\n",
      "                       'pageNo': 1,\n",
      "                       'totalCount': 1},\n",
      "              'header': {'resultCode': '00', 'resultMsg': 'NORMAL_SERVICE'}}}\n"
     ]
    }
   ],
   "source": [
    "import requests\n",
    "import pprint\n",
    "\n",
    "url = \"http://apis.data.go.kr/1360000/MidFcstInfoService/getMidFcst\"\n",
    "params = {\n",
    "    'serviceKey':'1TanxHdS/5oT82LY6mFLABvV2vxxgnDfSMurOex4q4pDqMLbWSmajH8lolOLqqFKtLxfshqqC0BlSytwCL1KBA==',\n",
    "    'numOfRows':'10',\n",
    "    'pageNo':'1',\n",
    "    'dataType':'JSON',\n",
    "    'stnId':'108',\n",
    "    'tmFc':'202308020600'\n",
    "}\n",
    "response = requests.get(url,params=params)\n",
    "data = response.json()\n",
    "pprint.pprint(data)\n",
    "# for item in data['response']['body']['items']['item']:\n",
    "#     print(item['wfSv'])"
   ]
  },
  {
   "cell_type": "code",
   "execution_count": null,
   "id": "8f010abb-d1fe-4090-a934-71fc4186a7c8",
   "metadata": {},
   "outputs": [],
   "source": []
  },
  {
   "cell_type": "code",
   "execution_count": 16,
   "id": "384c4622-89fb-4f47-8046-bdba24431816",
   "metadata": {},
   "outputs": [
    {
     "data": {
      "text/plain": [
       "{'response': {'header': {'resultCode': '00', 'resultMsg': 'NORMAL_SERVICE'},\n",
       "  'body': {'dataType': 'JSON',\n",
       "   'items': {'item': [{'regId': '11B10101',\n",
       "      'taMin3': 27,\n",
       "      'taMin3Low': 1,\n",
       "      'taMin3High': 1,\n",
       "      'taMax3': 35,\n",
       "      'taMax3Low': 1,\n",
       "      'taMax3High': 1,\n",
       "      'taMin4': 27,\n",
       "      'taMin4Low': 1,\n",
       "      'taMin4High': 1,\n",
       "      'taMax4': 35,\n",
       "      'taMax4Low': 1,\n",
       "      'taMax4High': 1,\n",
       "      'taMin5': 26,\n",
       "      'taMin5Low': 1,\n",
       "      'taMin5High': 1,\n",
       "      'taMax5': 34,\n",
       "      'taMax5Low': 1,\n",
       "      'taMax5High': 1,\n",
       "      'taMin6': 26,\n",
       "      'taMin6Low': 1,\n",
       "      'taMin6High': 1,\n",
       "      'taMax6': 34,\n",
       "      'taMax6Low': 1,\n",
       "      'taMax6High': 1,\n",
       "      'taMin7': 26,\n",
       "      'taMin7Low': 1,\n",
       "      'taMin7High': 1,\n",
       "      'taMax7': 33,\n",
       "      'taMax7Low': 1,\n",
       "      'taMax7High': 1,\n",
       "      'taMin8': 25,\n",
       "      'taMin8Low': 0,\n",
       "      'taMin8High': 1,\n",
       "      'taMax8': 32,\n",
       "      'taMax8Low': 0,\n",
       "      'taMax8High': 1,\n",
       "      'taMin9': 25,\n",
       "      'taMin9Low': 0,\n",
       "      'taMin9High': 1,\n",
       "      'taMax9': 32,\n",
       "      'taMax9Low': 0,\n",
       "      'taMax9High': 2,\n",
       "      'taMin10': 25,\n",
       "      'taMin10Low': 0,\n",
       "      'taMin10High': 1,\n",
       "      'taMax10': 32,\n",
       "      'taMax10Low': 0,\n",
       "      'taMax10High': 2}]},\n",
       "   'pageNo': 1,\n",
       "   'numOfRows': 10,\n",
       "   'totalCount': 1}}}"
      ]
     },
     "execution_count": 16,
     "metadata": {},
     "output_type": "execute_result"
    }
   ],
   "source": [
    "import requests\n",
    "\n",
    "url = 'http://apis.data.go.kr/1360000/MidFcstInfoService/getMidTa'\n",
    "params ={'serviceKey' : '1TanxHdS/5oT82LY6mFLABvV2vxxgnDfSMurOex4q4pDqMLbWSmajH8lolOLqqFKtLxfshqqC0BlSytwCL1KBA==', 'pageNo' : '1', 'numOfRows' : '10', 'dataType' : 'JSON', 'regId' : '11B10101', 'tmFc' : '202308020600' }\n",
    "\n",
    "response = requests.get(url, params=params)\n",
    "data = response.json()\n",
    "data"
   ]
  },
  {
   "cell_type": "code",
   "execution_count": null,
   "id": "c55447fd-d00f-4f98-9ae4-6df7a5c82d9a",
   "metadata": {},
   "outputs": [],
   "source": []
  }
 ],
 "metadata": {
  "kernelspec": {
   "display_name": "Python 3 (ipykernel)",
   "language": "python",
   "name": "python3"
  },
  "language_info": {
   "codemirror_mode": {
    "name": "ipython",
    "version": 3
   },
   "file_extension": ".py",
   "mimetype": "text/x-python",
   "name": "python",
   "nbconvert_exporter": "python",
   "pygments_lexer": "ipython3",
   "version": "3.9.10"
  }
 },
 "nbformat": 4,
 "nbformat_minor": 5
}
