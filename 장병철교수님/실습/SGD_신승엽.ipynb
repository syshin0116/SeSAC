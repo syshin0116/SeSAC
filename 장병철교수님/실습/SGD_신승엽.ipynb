{
 "cells": [
  {
   "cell_type": "markdown",
   "id": "7ca81aa6-dce2-497c-bad5-5c525cec9d7f",
   "metadata": {},
   "source": [
    "5장의 와인데이터를 이용하여 k-NN모델과 SGD 모델을 만들어 \n",
    "k-NN_성명.ipynb, SGD_성명.ipynb 두개를 만들어 제출합니다. \n",
    "\n",
    "조건\n",
    "1. 반드시 훈련데이터와 테스트 데이터로 나누고, 마지막줄에 test 데이터로 평가 한결과를 출력하면 됩니다.\n",
    "2. K-NN에서는 Neighbour의 3~10중 가장 좋은 성능을 보이는 것을 찾으시오. \n",
    "3. SGD의 loss Function 은 hinge를 사용합니다. \n",
    "\n",
    "그래프는 그릴필요 없습니다."
   ]
  },
  {
   "cell_type": "code",
   "execution_count": 1,
   "id": "ad9ffed1-a875-465f-a1f0-d0e99dab7e07",
   "metadata": {},
   "outputs": [],
   "source": [
    "import pandas as pd\n",
    "wine = pd.read_csv('https://bit.ly/wine_csv_data')\n",
    "data = wine[['alcohol', 'sugar', 'pH']].to_numpy()\n",
    "target = wine['class'].to_numpy()"
   ]
  },
  {
   "cell_type": "code",
   "execution_count": 2,
   "id": "69879cbc-f6bf-4687-9637-8f0f89a9da56",
   "metadata": {},
   "outputs": [
    {
     "name": "stdout",
     "output_type": "stream",
     "text": [
      "(5197, 3) (1300, 3)\n"
     ]
    }
   ],
   "source": [
    "from sklearn.model_selection import train_test_split\n",
    "train_input, test_input, train_target, test_target = train_test_split(data, target, test_size=0.2, random_state=42)\n",
    "print(train_input.shape, test_input.shape)"
   ]
  },
  {
   "cell_type": "code",
   "execution_count": 3,
   "id": "5d27f275-0a4d-43c8-8059-4147a494734d",
   "metadata": {},
   "outputs": [],
   "source": [
    "from sklearn.preprocessing import StandardScaler\n",
    "ss = StandardScaler()\n",
    "ss.fit(train_input)\n",
    "train_scaled = ss.transform(train_input)\n",
    "test_scaled = ss.transform(test_input)"
   ]
  },
  {
   "cell_type": "code",
   "execution_count": 20,
   "id": "0f814c66-5a9b-47cc-bdfb-8153e11132db",
   "metadata": {},
   "outputs": [
    {
     "name": "stdout",
     "output_type": "stream",
     "text": [
      "0.7766018857032904\n",
      "0.7807692307692308\n"
     ]
    }
   ],
   "source": [
    "from sklearn.linear_model import SGDClassifier\n",
    "sc = SGDClassifier(loss='hinge', max_iter=50, tol=0.008, random_state=42)\n",
    "sc.fit(train_scaled, train_target)\n",
    "\n",
    "print(sc.score(train_scaled, train_target))\n",
    "print(sc.score(test_scaled, test_target))"
   ]
  },
  {
   "cell_type": "code",
   "execution_count": null,
   "id": "b1cd3233-9325-4341-b96d-b9e90a2510c3",
   "metadata": {},
   "outputs": [],
   "source": []
  }
 ],
 "metadata": {
  "kernelspec": {
   "display_name": "Python 3 (ipykernel)",
   "language": "python",
   "name": "python3"
  },
  "language_info": {
   "codemirror_mode": {
    "name": "ipython",
    "version": 3
   },
   "file_extension": ".py",
   "mimetype": "text/x-python",
   "name": "python",
   "nbconvert_exporter": "python",
   "pygments_lexer": "ipython3",
   "version": "3.9.10"
  }
 },
 "nbformat": 4,
 "nbformat_minor": 5
}
