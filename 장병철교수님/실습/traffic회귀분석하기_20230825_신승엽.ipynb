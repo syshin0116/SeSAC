{
 "cells": [
  {
   "cell_type": "markdown",
   "id": "54695f7a-8a4a-45f7-94cd-0ad8ba5f9edb",
   "metadata": {},
   "source": [
    "주어진 데이터를 이용하여 회귀 분석 프로그램을 작성하고 \n",
    "이름.ipynb화일을 제출하시오.\n",
    "\n",
    "1. 사상자 수가 종속변수이고 나머지가 독립변수 입니다.\n",
    "     (날짜는 사용하지 않습니다.) \n",
    "2. 8:2로 훈련데이터 테스트 데이터를 나누세요. \n",
    "3. 테스트 데이터에 대한 R2값을 출력하면 됩니다. \n",
    "    (성능에 너무 집착하지 않아도 됩니다. )"
   ]
  },
  {
   "cell_type": "code",
   "execution_count": 1,
   "id": "4e93a240-31e2-49a5-a33c-21947084f11e",
   "metadata": {},
   "outputs": [],
   "source": [
    "import numpy as np\n",
    "import pandas as pd\n",
    "import seaborn as sns\n",
    "import matplotlib.pyplot as plt\n",
    "from sklearn.preprocessing import StandardScaler\n",
    "\n",
    "from sklearn.preprocessing import PolynomialFeatures\n",
    "from sklearn.model_selection import train_test_split\n",
    "from sklearn.linear_model import LinearRegression\n",
    "from sklearn.linear_model import Ridge\n",
    "from sklearn.linear_model import Lasso\n",
    "from sklearn.neighbors import KNeighborsRegressor\n",
    "from sklearn.linear_model import LinearRegression\n",
    "from sklearn.metrics import r2_score\n"
   ]
  },
  {
   "cell_type": "code",
   "execution_count": 2,
   "id": "169c1e86-b520-457b-8e95-54c6ec968715",
   "metadata": {},
   "outputs": [
    {
     "data": {
      "text/html": [
       "<div>\n",
       "<style scoped>\n",
       "    .dataframe tbody tr th:only-of-type {\n",
       "        vertical-align: middle;\n",
       "    }\n",
       "\n",
       "    .dataframe tbody tr th {\n",
       "        vertical-align: top;\n",
       "    }\n",
       "\n",
       "    .dataframe thead th {\n",
       "        text-align: right;\n",
       "    }\n",
       "</style>\n",
       "<table border=\"1\" class=\"dataframe\">\n",
       "  <thead>\n",
       "    <tr style=\"text-align: right;\">\n",
       "      <th></th>\n",
       "      <th>기온</th>\n",
       "      <th>강수량</th>\n",
       "      <th>풍속</th>\n",
       "      <th>습도</th>\n",
       "      <th>일조</th>\n",
       "      <th>적설</th>\n",
       "      <th>지면온도</th>\n",
       "      <th>사상자</th>\n",
       "    </tr>\n",
       "  </thead>\n",
       "  <tbody>\n",
       "    <tr>\n",
       "      <th>0</th>\n",
       "      <td>2.395833</td>\n",
       "      <td>0.000000</td>\n",
       "      <td>1.575000</td>\n",
       "      <td>75.833333</td>\n",
       "      <td>0.070833</td>\n",
       "      <td>0.000000</td>\n",
       "      <td>0.925000</td>\n",
       "      <td>4</td>\n",
       "    </tr>\n",
       "    <tr>\n",
       "      <th>1</th>\n",
       "      <td>5.241667</td>\n",
       "      <td>0.030000</td>\n",
       "      <td>2.220833</td>\n",
       "      <td>76.875000</td>\n",
       "      <td>0.112500</td>\n",
       "      <td>0.000000</td>\n",
       "      <td>5.075000</td>\n",
       "      <td>16</td>\n",
       "    </tr>\n",
       "    <tr>\n",
       "      <th>2</th>\n",
       "      <td>2.108333</td>\n",
       "      <td>0.000000</td>\n",
       "      <td>1.908333</td>\n",
       "      <td>62.416667</td>\n",
       "      <td>0.370833</td>\n",
       "      <td>0.000000</td>\n",
       "      <td>1.533333</td>\n",
       "      <td>2</td>\n",
       "    </tr>\n",
       "    <tr>\n",
       "      <th>3</th>\n",
       "      <td>4.037500</td>\n",
       "      <td>0.000000</td>\n",
       "      <td>1.708333</td>\n",
       "      <td>58.083333</td>\n",
       "      <td>0.358333</td>\n",
       "      <td>0.000000</td>\n",
       "      <td>3.229167</td>\n",
       "      <td>2</td>\n",
       "    </tr>\n",
       "    <tr>\n",
       "      <th>4</th>\n",
       "      <td>3.600000</td>\n",
       "      <td>0.000000</td>\n",
       "      <td>3.058333</td>\n",
       "      <td>52.041667</td>\n",
       "      <td>0.000000</td>\n",
       "      <td>0.000000</td>\n",
       "      <td>1.875000</td>\n",
       "      <td>2</td>\n",
       "    </tr>\n",
       "    <tr>\n",
       "      <th>...</th>\n",
       "      <td>...</td>\n",
       "      <td>...</td>\n",
       "      <td>...</td>\n",
       "      <td>...</td>\n",
       "      <td>...</td>\n",
       "      <td>...</td>\n",
       "      <td>...</td>\n",
       "      <td>...</td>\n",
       "    </tr>\n",
       "    <tr>\n",
       "      <th>359</th>\n",
       "      <td>-4.358333</td>\n",
       "      <td>0.000000</td>\n",
       "      <td>2.954167</td>\n",
       "      <td>39.041667</td>\n",
       "      <td>0.358333</td>\n",
       "      <td>0.000000</td>\n",
       "      <td>-3.004167</td>\n",
       "      <td>0</td>\n",
       "    </tr>\n",
       "    <tr>\n",
       "      <th>360</th>\n",
       "      <td>-6.658333</td>\n",
       "      <td>0.000000</td>\n",
       "      <td>1.991667</td>\n",
       "      <td>30.958333</td>\n",
       "      <td>0.370833</td>\n",
       "      <td>0.000000</td>\n",
       "      <td>-4.254167</td>\n",
       "      <td>0</td>\n",
       "    </tr>\n",
       "    <tr>\n",
       "      <th>361</th>\n",
       "      <td>-1.441667</td>\n",
       "      <td>0.000000</td>\n",
       "      <td>1.162500</td>\n",
       "      <td>49.500000</td>\n",
       "      <td>0.137500</td>\n",
       "      <td>0.000000</td>\n",
       "      <td>-0.837500</td>\n",
       "      <td>0</td>\n",
       "    </tr>\n",
       "    <tr>\n",
       "      <th>362</th>\n",
       "      <td>2.008333</td>\n",
       "      <td>0.000000</td>\n",
       "      <td>1.195833</td>\n",
       "      <td>68.333333</td>\n",
       "      <td>0.170833</td>\n",
       "      <td>0.000000</td>\n",
       "      <td>0.045833</td>\n",
       "      <td>0</td>\n",
       "    </tr>\n",
       "    <tr>\n",
       "      <th>363</th>\n",
       "      <td>1.680952</td>\n",
       "      <td>0.233333</td>\n",
       "      <td>1.000000</td>\n",
       "      <td>77.523810</td>\n",
       "      <td>0.000000</td>\n",
       "      <td>0.009524</td>\n",
       "      <td>-0.033333</td>\n",
       "      <td>0</td>\n",
       "    </tr>\n",
       "  </tbody>\n",
       "</table>\n",
       "<p>364 rows × 8 columns</p>\n",
       "</div>"
      ],
      "text/plain": [
       "           기온       강수량        풍속         습도        일조        적설      지면온도  \\\n",
       "0    2.395833  0.000000  1.575000  75.833333  0.070833  0.000000  0.925000   \n",
       "1    5.241667  0.030000  2.220833  76.875000  0.112500  0.000000  5.075000   \n",
       "2    2.108333  0.000000  1.908333  62.416667  0.370833  0.000000  1.533333   \n",
       "3    4.037500  0.000000  1.708333  58.083333  0.358333  0.000000  3.229167   \n",
       "4    3.600000  0.000000  3.058333  52.041667  0.000000  0.000000  1.875000   \n",
       "..        ...       ...       ...        ...       ...       ...       ...   \n",
       "359 -4.358333  0.000000  2.954167  39.041667  0.358333  0.000000 -3.004167   \n",
       "360 -6.658333  0.000000  1.991667  30.958333  0.370833  0.000000 -4.254167   \n",
       "361 -1.441667  0.000000  1.162500  49.500000  0.137500  0.000000 -0.837500   \n",
       "362  2.008333  0.000000  1.195833  68.333333  0.170833  0.000000  0.045833   \n",
       "363  1.680952  0.233333  1.000000  77.523810  0.000000  0.009524 -0.033333   \n",
       "\n",
       "     사상자  \n",
       "0      4  \n",
       "1     16  \n",
       "2      2  \n",
       "3      2  \n",
       "4      2  \n",
       "..   ...  \n",
       "359    0  \n",
       "360    0  \n",
       "361    0  \n",
       "362    0  \n",
       "363    0  \n",
       "\n",
       "[364 rows x 8 columns]"
      ]
     },
     "execution_count": 2,
     "metadata": {},
     "output_type": "execute_result"
    }
   ],
   "source": [
    "df = pd.read_csv('traffic_clean_utf.csv')\n",
    "df = df.drop(columns='날짜')\n",
    "df"
   ]
  },
  {
   "cell_type": "code",
   "execution_count": 3,
   "id": "df6796e0-a61e-40d3-8a3a-68dc52457bbf",
   "metadata": {},
   "outputs": [
    {
     "name": "stdout",
     "output_type": "stream",
     "text": [
      "<class 'pandas.core.frame.DataFrame'>\n",
      "RangeIndex: 364 entries, 0 to 363\n",
      "Data columns (total 8 columns):\n",
      " #   Column  Non-Null Count  Dtype  \n",
      "---  ------  --------------  -----  \n",
      " 0   기온      364 non-null    float64\n",
      " 1   강수량     364 non-null    float64\n",
      " 2   풍속      364 non-null    float64\n",
      " 3   습도      364 non-null    float64\n",
      " 4   일조      364 non-null    float64\n",
      " 5   적설      364 non-null    float64\n",
      " 6   지면온도    364 non-null    float64\n",
      " 7   사상자     364 non-null    int64  \n",
      "dtypes: float64(7), int64(1)\n",
      "memory usage: 22.9 KB\n"
     ]
    }
   ],
   "source": [
    "df.info()"
   ]
  },
  {
   "cell_type": "code",
   "execution_count": 4,
   "id": "20bd1825-d1bf-4e08-afb8-6569d66d2f12",
   "metadata": {
    "scrolled": true
   },
   "outputs": [
    {
     "data": {
      "text/html": [
       "<div>\n",
       "<style scoped>\n",
       "    .dataframe tbody tr th:only-of-type {\n",
       "        vertical-align: middle;\n",
       "    }\n",
       "\n",
       "    .dataframe tbody tr th {\n",
       "        vertical-align: top;\n",
       "    }\n",
       "\n",
       "    .dataframe thead th {\n",
       "        text-align: right;\n",
       "    }\n",
       "</style>\n",
       "<table border=\"1\" class=\"dataframe\">\n",
       "  <thead>\n",
       "    <tr style=\"text-align: right;\">\n",
       "      <th></th>\n",
       "      <th>기온</th>\n",
       "      <th>강수량</th>\n",
       "      <th>풍속</th>\n",
       "      <th>습도</th>\n",
       "      <th>일조</th>\n",
       "      <th>적설</th>\n",
       "      <th>지면온도</th>\n",
       "      <th>사상자</th>\n",
       "    </tr>\n",
       "  </thead>\n",
       "  <tbody>\n",
       "    <tr>\n",
       "      <th>count</th>\n",
       "      <td>364.000000</td>\n",
       "      <td>364.000000</td>\n",
       "      <td>364.000000</td>\n",
       "      <td>364.000000</td>\n",
       "      <td>364.000000</td>\n",
       "      <td>364.000000</td>\n",
       "      <td>364.000000</td>\n",
       "      <td>364.000000</td>\n",
       "    </tr>\n",
       "    <tr>\n",
       "      <th>mean</th>\n",
       "      <td>13.090401</td>\n",
       "      <td>0.345160</td>\n",
       "      <td>2.211361</td>\n",
       "      <td>57.777881</td>\n",
       "      <td>0.299141</td>\n",
       "      <td>0.101022</td>\n",
       "      <td>14.878354</td>\n",
       "      <td>0.802198</td>\n",
       "    </tr>\n",
       "    <tr>\n",
       "      <th>std</th>\n",
       "      <td>10.957455</td>\n",
       "      <td>1.153717</td>\n",
       "      <td>0.681061</td>\n",
       "      <td>14.456319</td>\n",
       "      <td>0.167892</td>\n",
       "      <td>0.517865</td>\n",
       "      <td>11.775967</td>\n",
       "      <td>2.064896</td>\n",
       "    </tr>\n",
       "    <tr>\n",
       "      <th>min</th>\n",
       "      <td>-9.287500</td>\n",
       "      <td>0.000000</td>\n",
       "      <td>0.858333</td>\n",
       "      <td>18.291667</td>\n",
       "      <td>0.000000</td>\n",
       "      <td>0.000000</td>\n",
       "      <td>-6.237500</td>\n",
       "      <td>0.000000</td>\n",
       "    </tr>\n",
       "    <tr>\n",
       "      <th>25%</th>\n",
       "      <td>2.931250</td>\n",
       "      <td>0.000000</td>\n",
       "      <td>1.757292</td>\n",
       "      <td>46.687500</td>\n",
       "      <td>0.141667</td>\n",
       "      <td>0.000000</td>\n",
       "      <td>2.858333</td>\n",
       "      <td>0.000000</td>\n",
       "    </tr>\n",
       "    <tr>\n",
       "      <th>50%</th>\n",
       "      <td>15.281250</td>\n",
       "      <td>0.000000</td>\n",
       "      <td>2.118750</td>\n",
       "      <td>57.208333</td>\n",
       "      <td>0.356250</td>\n",
       "      <td>0.000000</td>\n",
       "      <td>16.383333</td>\n",
       "      <td>0.000000</td>\n",
       "    </tr>\n",
       "    <tr>\n",
       "      <th>75%</th>\n",
       "      <td>22.608333</td>\n",
       "      <td>0.100000</td>\n",
       "      <td>2.585417</td>\n",
       "      <td>67.312500</td>\n",
       "      <td>0.429167</td>\n",
       "      <td>0.000000</td>\n",
       "      <td>25.879167</td>\n",
       "      <td>0.000000</td>\n",
       "    </tr>\n",
       "    <tr>\n",
       "      <th>max</th>\n",
       "      <td>31.333333</td>\n",
       "      <td>12.136364</td>\n",
       "      <td>4.245833</td>\n",
       "      <td>96.333333</td>\n",
       "      <td>0.570833</td>\n",
       "      <td>4.604167</td>\n",
       "      <td>34.495833</td>\n",
       "      <td>16.000000</td>\n",
       "    </tr>\n",
       "  </tbody>\n",
       "</table>\n",
       "</div>"
      ],
      "text/plain": [
       "               기온         강수량          풍속          습도          일조          적설  \\\n",
       "count  364.000000  364.000000  364.000000  364.000000  364.000000  364.000000   \n",
       "mean    13.090401    0.345160    2.211361   57.777881    0.299141    0.101022   \n",
       "std     10.957455    1.153717    0.681061   14.456319    0.167892    0.517865   \n",
       "min     -9.287500    0.000000    0.858333   18.291667    0.000000    0.000000   \n",
       "25%      2.931250    0.000000    1.757292   46.687500    0.141667    0.000000   \n",
       "50%     15.281250    0.000000    2.118750   57.208333    0.356250    0.000000   \n",
       "75%     22.608333    0.100000    2.585417   67.312500    0.429167    0.000000   \n",
       "max     31.333333   12.136364    4.245833   96.333333    0.570833    4.604167   \n",
       "\n",
       "             지면온도         사상자  \n",
       "count  364.000000  364.000000  \n",
       "mean    14.878354    0.802198  \n",
       "std     11.775967    2.064896  \n",
       "min     -6.237500    0.000000  \n",
       "25%      2.858333    0.000000  \n",
       "50%     16.383333    0.000000  \n",
       "75%     25.879167    0.000000  \n",
       "max     34.495833   16.000000  "
      ]
     },
     "execution_count": 4,
     "metadata": {},
     "output_type": "execute_result"
    }
   ],
   "source": [
    "df.describe()"
   ]
  },
  {
   "cell_type": "code",
   "execution_count": 5,
   "id": "7764f547-add2-41bb-bdd2-4d38c3181dbe",
   "metadata": {},
   "outputs": [
    {
     "data": {
      "text/html": [
       "<div>\n",
       "<style scoped>\n",
       "    .dataframe tbody tr th:only-of-type {\n",
       "        vertical-align: middle;\n",
       "    }\n",
       "\n",
       "    .dataframe tbody tr th {\n",
       "        vertical-align: top;\n",
       "    }\n",
       "\n",
       "    .dataframe thead th {\n",
       "        text-align: right;\n",
       "    }\n",
       "</style>\n",
       "<table border=\"1\" class=\"dataframe\">\n",
       "  <thead>\n",
       "    <tr style=\"text-align: right;\">\n",
       "      <th></th>\n",
       "      <th>사상자</th>\n",
       "    </tr>\n",
       "  </thead>\n",
       "  <tbody>\n",
       "    <tr>\n",
       "      <th>0</th>\n",
       "      <td>4</td>\n",
       "    </tr>\n",
       "    <tr>\n",
       "      <th>1</th>\n",
       "      <td>16</td>\n",
       "    </tr>\n",
       "    <tr>\n",
       "      <th>2</th>\n",
       "      <td>2</td>\n",
       "    </tr>\n",
       "    <tr>\n",
       "      <th>3</th>\n",
       "      <td>2</td>\n",
       "    </tr>\n",
       "    <tr>\n",
       "      <th>4</th>\n",
       "      <td>2</td>\n",
       "    </tr>\n",
       "    <tr>\n",
       "      <th>...</th>\n",
       "      <td>...</td>\n",
       "    </tr>\n",
       "    <tr>\n",
       "      <th>359</th>\n",
       "      <td>0</td>\n",
       "    </tr>\n",
       "    <tr>\n",
       "      <th>360</th>\n",
       "      <td>0</td>\n",
       "    </tr>\n",
       "    <tr>\n",
       "      <th>361</th>\n",
       "      <td>0</td>\n",
       "    </tr>\n",
       "    <tr>\n",
       "      <th>362</th>\n",
       "      <td>0</td>\n",
       "    </tr>\n",
       "    <tr>\n",
       "      <th>363</th>\n",
       "      <td>0</td>\n",
       "    </tr>\n",
       "  </tbody>\n",
       "</table>\n",
       "<p>364 rows × 1 columns</p>\n",
       "</div>"
      ],
      "text/plain": [
       "     사상자\n",
       "0      4\n",
       "1     16\n",
       "2      2\n",
       "3      2\n",
       "4      2\n",
       "..   ...\n",
       "359    0\n",
       "360    0\n",
       "361    0\n",
       "362    0\n",
       "363    0\n",
       "\n",
       "[364 rows x 1 columns]"
      ]
     },
     "execution_count": 5,
     "metadata": {},
     "output_type": "execute_result"
    }
   ],
   "source": [
    "df.iloc[:, -1:]"
   ]
  },
  {
   "cell_type": "code",
   "execution_count": 6,
   "id": "211e6fea-e435-42f4-b98f-d8da0f88124f",
   "metadata": {},
   "outputs": [],
   "source": [
    "data = df[['기온', '강수량', '풍속', '습도', '일조', '적설', '지면온도']]\n",
    "target = df[['사상자']]"
   ]
  },
  {
   "cell_type": "code",
   "execution_count": 7,
   "id": "6331a42f-7ac5-43b4-a0e5-c2f5416263a9",
   "metadata": {},
   "outputs": [
    {
     "name": "stdout",
     "output_type": "stream",
     "text": [
      "(291, 7)\n",
      "(73, 7)\n",
      "(291, 1)\n",
      "(73, 1)\n"
     ]
    }
   ],
   "source": [
    "# 데이터 split\n",
    "X_train, X_test, y_train, y_test = train_test_split(data, target, test_size=0.2, random_state=42)\n",
    "print(X_train.shape)\n",
    "print(X_test.shape)\n",
    "print(y_train.shape)\n",
    "print(y_test.shape)"
   ]
  },
  {
   "cell_type": "markdown",
   "id": "da357dad-a2b4-4dde-baec-6c5b223879f5",
   "metadata": {},
   "source": [
    "## KNN"
   ]
  },
  {
   "cell_type": "code",
   "execution_count": 8,
   "id": "0264d5d5-b53b-47c9-9320-ec34dd326111",
   "metadata": {
    "scrolled": true
   },
   "outputs": [
    {
     "name": "stdout",
     "output_type": "stream",
     "text": [
      "k=10 : -0.09083650190114056\n",
      "k=13 : -0.054541685281667585\n",
      "k=15 : -0.0590705534431768\n",
      "k=17 : -0.05967166557967385\n",
      "k=20 : -0.028557509505703127\n"
     ]
    }
   ],
   "source": [
    "for n in [10, 13, 15, 17, 20]:\n",
    "    knr = KNeighborsRegressor(n_neighbors=n)\n",
    "    knr.fit(X_train, y_train)\n",
    "    score = knr.score(X_test, y_test)\n",
    "    print(f\"k={n} : {score}\")\n",
    "    "
   ]
  },
  {
   "cell_type": "code",
   "execution_count": null,
   "id": "c6e33de9-a6ff-4834-bce0-b36bde89c7d1",
   "metadata": {},
   "outputs": [],
   "source": []
  },
  {
   "cell_type": "markdown",
   "id": "660e65d8-48e6-424b-b8a6-cee43e7ae949",
   "metadata": {},
   "source": [
    "## LinearRegression"
   ]
  },
  {
   "cell_type": "markdown",
   "id": "c917a1b9-e4f7-484a-8ebb-31ab74042569",
   "metadata": {},
   "source": [
    "### Polynomial Features 적용 전"
   ]
  },
  {
   "cell_type": "code",
   "execution_count": 9,
   "id": "46ea557a-695a-4348-997b-0cfd580b250a",
   "metadata": {},
   "outputs": [
    {
     "name": "stdout",
     "output_type": "stream",
     "text": [
      "-0.16207889729905944\n"
     ]
    }
   ],
   "source": [
    "# polynomical 적용 전\n",
    "lr2 = LinearRegression()\n",
    "lr2.fit(X_train, y_train)\n",
    "print(lr2.score(X_test, y_test)) "
   ]
  },
  {
   "cell_type": "code",
   "execution_count": 10,
   "id": "2d6e4807-4e09-4c85-bdc9-263b57d7cfce",
   "metadata": {},
   "outputs": [
    {
     "name": "stdout",
     "output_type": "stream",
     "text": [
      "[[ 0.09512167 -0.10819024  0.08893587  0.00162969 -0.04248922  1.0025278\n",
      "  -0.07815815]] [0.41317411]\n"
     ]
    }
   ],
   "source": [
    "print(lr2.coef_, lr2.intercept_)"
   ]
  },
  {
   "cell_type": "markdown",
   "id": "99ec172e-3862-4b0d-820d-1d1f804e5bc7",
   "metadata": {},
   "source": [
    "### Polynomial Features 적용"
   ]
  },
  {
   "cell_type": "code",
   "execution_count": 11,
   "id": "a73ad366-158b-4b6e-b167-c441dff4dd44",
   "metadata": {},
   "outputs": [
    {
     "name": "stdout",
     "output_type": "stream",
     "text": [
      "(291, 35)\n"
     ]
    }
   ],
   "source": [
    "# degree 2\n",
    "poly = PolynomialFeatures(degree=2, include_bias=False)\n",
    "train_poly = poly.fit_transform(X_train)\n",
    "test_poly = poly.fit_transform(X_test)\n",
    "print(train_poly.shape)"
   ]
  },
  {
   "cell_type": "code",
   "execution_count": 12,
   "id": "9433d14c-7036-42ab-ad43-6664accaf433",
   "metadata": {
    "scrolled": true
   },
   "outputs": [
    {
     "data": {
      "text/plain": [
       "array(['기온', '강수량', '풍속', '습도', '일조', '적설', '지면온도', '기온^2', '기온 강수량',\n",
       "       '기온 풍속', '기온 습도', '기온 일조', '기온 적설', '기온 지면온도', '강수량^2', '강수량 풍속',\n",
       "       '강수량 습도', '강수량 일조', '강수량 적설', '강수량 지면온도', '풍속^2', '풍속 습도', '풍속 일조',\n",
       "       '풍속 적설', '풍속 지면온도', '습도^2', '습도 일조', '습도 적설', '습도 지면온도', '일조^2',\n",
       "       '일조 적설', '일조 지면온도', '적설^2', '적설 지면온도', '지면온도^2'], dtype=object)"
      ]
     },
     "execution_count": 12,
     "metadata": {},
     "output_type": "execute_result"
    }
   ],
   "source": [
    "poly.get_feature_names_out()"
   ]
  },
  {
   "cell_type": "code",
   "execution_count": 13,
   "id": "f27380dc-63f7-43ec-89aa-77f1b4b1a15d",
   "metadata": {},
   "outputs": [
    {
     "name": "stdout",
     "output_type": "stream",
     "text": [
      "-0.34938817842773107\n"
     ]
    }
   ],
   "source": [
    "# polynomial 적용 후\n",
    "lr_polynomial = LinearRegression()\n",
    "lr_polynomial.fit(train_poly, y_train)\n",
    "print(lr_polynomial.score(test_poly, y_test)) "
   ]
  },
  {
   "cell_type": "code",
   "execution_count": 14,
   "id": "6ece7d76-0c3e-4a11-9717-bd7eb1ba523b",
   "metadata": {},
   "outputs": [],
   "source": [
    "prediction = lr_polynomial.predict(train_poly)"
   ]
  },
  {
   "cell_type": "code",
   "execution_count": 15,
   "id": "96be29ff-316c-470d-abca-8ecce0e4d027",
   "metadata": {},
   "outputs": [
    {
     "name": "stdout",
     "output_type": "stream",
     "text": [
      "[[ 8.90321687e-01 -9.31382768e-02  2.39260066e+00 -2.11472667e-01\n",
      "  -1.65290723e+00 -8.59761252e+00 -6.71185248e-01 -9.72862662e-02\n",
      "   1.78195032e-02 -6.85823758e-02 -3.15948855e-03 -1.69612226e+00\n",
      "   2.60222960e-01  1.81303455e-01  4.44887479e-02  2.01101749e-01\n",
      "  -1.68659148e-02 -6.29632396e-01 -5.11254679e-02  6.17400351e-03\n",
      "  -5.64253263e-01  8.74702006e-03  6.85765137e-01  1.31975387e+00\n",
      "   4.87988871e-02  1.93824290e-03  1.24715791e-01  5.21093693e-02\n",
      "  -7.98875703e-04 -1.28895453e+01  4.51117670e+00  1.54120853e+00\n",
      "  -6.20958722e-02 -1.21983509e+00 -8.07715386e-02]] [3.00819629]\n"
     ]
    }
   ],
   "source": [
    "print(lr_polynomial.coef_, lr_polynomial.intercept_)"
   ]
  },
  {
   "cell_type": "code",
   "execution_count": 16,
   "id": "400bedf3-e8f3-462e-86ca-f271f954268f",
   "metadata": {},
   "outputs": [],
   "source": [
    "# degree 5\n",
    "poly = PolynomialFeatures(degree=5, include_bias=False)\n",
    "\n",
    "train_poly = poly.fit_transform(X_train)\n",
    "test_poly = poly.transform(X_test)"
   ]
  },
  {
   "cell_type": "code",
   "execution_count": 17,
   "id": "f5e160c8-0ce6-48a0-a1b1-891ebcaa1bb5",
   "metadata": {},
   "outputs": [
    {
     "name": "stdout",
     "output_type": "stream",
     "text": [
      "-4078007483.0769057\n"
     ]
    }
   ],
   "source": [
    "# polynomial 적용 후\n",
    "lr_polynomial_5 = LinearRegression()\n",
    "lr_polynomial_5.fit(train_poly, y_train)\n",
    "print(lr_polynomial_5.score(test_poly, y_test)) "
   ]
  },
  {
   "cell_type": "code",
   "execution_count": 18,
   "id": "499ff43c-af5b-4695-a26e-1b6ed926097c",
   "metadata": {},
   "outputs": [
    {
     "name": "stdout",
     "output_type": "stream",
     "text": [
      "[[ 8.90321687e-01 -9.31382768e-02  2.39260066e+00 -2.11472667e-01\n",
      "  -1.65290723e+00 -8.59761252e+00 -6.71185248e-01 -9.72862662e-02\n",
      "   1.78195032e-02 -6.85823758e-02 -3.15948855e-03 -1.69612226e+00\n",
      "   2.60222960e-01  1.81303455e-01  4.44887479e-02  2.01101749e-01\n",
      "  -1.68659148e-02 -6.29632396e-01 -5.11254679e-02  6.17400351e-03\n",
      "  -5.64253263e-01  8.74702006e-03  6.85765137e-01  1.31975387e+00\n",
      "   4.87988871e-02  1.93824290e-03  1.24715791e-01  5.21093693e-02\n",
      "  -7.98875703e-04 -1.28895453e+01  4.51117670e+00  1.54120853e+00\n",
      "  -6.20958722e-02 -1.21983509e+00 -8.07715386e-02]]\n"
     ]
    }
   ],
   "source": [
    "print(lr_polynomial.coef_)"
   ]
  },
  {
   "cell_type": "markdown",
   "id": "71e84477-b140-4348-8f2c-bd2ee52e79aa",
   "metadata": {},
   "source": [
    "## Standard Scaler"
   ]
  },
  {
   "cell_type": "code",
   "execution_count": 19,
   "id": "fb0e9bbe-da3e-4e51-bf5f-dc5c26a49cea",
   "metadata": {},
   "outputs": [],
   "source": [
    "ss = StandardScaler()\n",
    "train_scaled = ss.fit_transform(train_poly)\n",
    "test_scaled = ss.fit_transform(test_poly)"
   ]
  },
  {
   "cell_type": "code",
   "execution_count": 20,
   "id": "520382a6-1b1a-4b62-afe9-4691bbbdf0e0",
   "metadata": {},
   "outputs": [
    {
     "name": "stdout",
     "output_type": "stream",
     "text": [
      "-14213597.097447319\n"
     ]
    }
   ],
   "source": [
    "# polynomical 적용 전\n",
    "lr2 = LinearRegression()\n",
    "lr2.fit(train_scaled, y_train)\n",
    "print(lr2.score(test_scaled, y_test)) "
   ]
  },
  {
   "cell_type": "code",
   "execution_count": 21,
   "id": "3b3aaafa-fe44-426c-9484-95a18bf1b382",
   "metadata": {},
   "outputs": [],
   "source": [
    "ss2 = StandardScaler()\n",
    "train_scaled2 = ss.fit_transform(X_train)\n",
    "test_scaled2 = ss.fit_transform(X_test)"
   ]
  },
  {
   "cell_type": "code",
   "execution_count": 22,
   "id": "8aa417a2-7aa0-40ec-822b-1ce7e7b49d94",
   "metadata": {},
   "outputs": [
    {
     "name": "stdout",
     "output_type": "stream",
     "text": [
      "-0.13261293404915264\n"
     ]
    }
   ],
   "source": [
    "# positive 적용\n",
    "lr2 = LinearRegression(positive=True)\n",
    "lr2.fit(train_scaled2, y_train)\n",
    "print(lr2.score(test_scaled2, y_test)) "
   ]
  },
  {
   "cell_type": "markdown",
   "id": "59a4c69f-0287-4cca-a6a0-b31835ed2754",
   "metadata": {},
   "source": [
    "## Ridge"
   ]
  },
  {
   "cell_type": "code",
   "execution_count": 23,
   "id": "67010c5f-2e6a-404a-8639-e5a0106e7018",
   "metadata": {},
   "outputs": [
    {
     "name": "stdout",
     "output_type": "stream",
     "text": [
      "0.4212458423853229\n"
     ]
    }
   ],
   "source": [
    "ridge = Ridge()\n",
    "ridge.fit(train_scaled, y_train)\n",
    "print(ridge.score(train_scaled, y_train))"
   ]
  },
  {
   "cell_type": "code",
   "execution_count": 24,
   "id": "0231dc0f-1946-4572-8e63-b421cc733497",
   "metadata": {},
   "outputs": [
    {
     "name": "stdout",
     "output_type": "stream",
     "text": [
      "-4.302032265910188\n"
     ]
    }
   ],
   "source": [
    "print(ridge.score(test_scaled, y_test))"
   ]
  },
  {
   "cell_type": "code",
   "execution_count": 25,
   "id": "ffa08620-5092-4463-b0d7-53b52948f166",
   "metadata": {},
   "outputs": [
    {
     "data": {
      "image/png": "[encoded data removed]",
      "text/plain": [
       "<Figure size 640x480 with 1 Axes>"
      ]
     },
     "metadata": {},
     "output_type": "display_data"
    }
   ],
   "source": [
    "train_score = []\n",
    "test_score = []\n",
    "alpha_list = [0.001, 0.01, 0.1, 1, 10, 100, 1000, 10000]\n",
    "for alpha in alpha_list:\n",
    "    # 릿지 모델을 만듭니다\n",
    "    ridge = Ridge(alpha=alpha)\n",
    "    # 릿지 모델을 훈련합니다\n",
    "    ridge.fit(train_scaled, y_train)\n",
    "    # 훈련 점수와 테스트 점수를 저장합니다\n",
    "    train_score.append(ridge.score(train_scaled, y_train))\n",
    "    test_score.append(ridge.score(test_scaled, y_test))\n",
    "\n",
    "plt.plot(np.log10(alpha_list), train_score)\n",
    "plt.plot(np.log10(alpha_list), test_score)\n",
    "plt.xlabel('alpha')\n",
    "plt.ylabel('R^2')\n",
    "plt.show()"
   ]
  },
  {
   "cell_type": "code",
   "execution_count": 26,
   "id": "83662b2e-1083-4138-b531-793f5b61a0d7",
   "metadata": {},
   "outputs": [
    {
     "name": "stdout",
     "output_type": "stream",
     "text": [
      "0.5332049052881717\n",
      "-9.259723739743903\n"
     ]
    }
   ],
   "source": [
    "ridge = Ridge(alpha=0.1)\n",
    "ridge.fit(train_scaled, y_train)\n",
    "\n",
    "print(ridge.score(train_scaled, y_train))\n",
    "print(ridge.score(test_scaled, y_test))"
   ]
  },
  {
   "cell_type": "markdown",
   "id": "064cdbad-6894-4f0d-9811-6fe083f254a6",
   "metadata": {},
   "source": [
    "## Lasso"
   ]
  },
  {
   "cell_type": "code",
   "execution_count": 27,
   "id": "d28c83a8-b408-4eb9-8bb9-c6bd22697def",
   "metadata": {},
   "outputs": [
    {
     "name": "stdout",
     "output_type": "stream",
     "text": [
      "0.0\n"
     ]
    }
   ],
   "source": [
    "lasso = Lasso()\n",
    "lasso.fit(train_scaled, y_train)\n",
    "print(lasso.score(train_scaled, y_train))"
   ]
  },
  {
   "cell_type": "code",
   "execution_count": 28,
   "id": "13d72ce6-2908-4077-a211-5bb4ca52420b",
   "metadata": {},
   "outputs": [
    {
     "name": "stdout",
     "output_type": "stream",
     "text": [
      "-0.007785117012710785\n"
     ]
    }
   ],
   "source": [
    "print(lasso.score(test_scaled, y_test))\n"
   ]
  },
  {
   "cell_type": "code",
   "execution_count": 29,
   "id": "1c3e57a3-fdcb-4253-a564-c43561206749",
   "metadata": {},
   "outputs": [
    {
     "name": "stderr",
     "output_type": "stream",
     "text": [
      "/Users/syshin/miniforge3/envs/tensorflow/lib/python3.9/site-packages/sklearn/linear_model/_coordinate_descent.py:628: ConvergenceWarning: Objective did not converge. You might want to increase the number of iterations, check the scale of the features or consider increasing regularisation. Duality gap: 1.041e+02, tolerance: 1.345e-01\n",
      "  model = cd_fast.enet_coordinate_descent(\n",
      "/Users/syshin/miniforge3/envs/tensorflow/lib/python3.9/site-packages/sklearn/linear_model/_coordinate_descent.py:628: ConvergenceWarning: Objective did not converge. You might want to increase the number of iterations, check the scale of the features or consider increasing regularisation. Duality gap: 1.703e+00, tolerance: 1.345e-01\n",
      "  model = cd_fast.enet_coordinate_descent(\n"
     ]
    }
   ],
   "source": [
    "train_score = []\n",
    "test_score = []\n",
    "\n",
    "alpha_list = [0.0001, 0.001, 0.01, 0.1, 1, 10, 100]\n",
    "for alpha in alpha_list:\n",
    "    lasso = Lasso(alpha=alpha, max_iter=100000)\n",
    "    lasso.fit(train_scaled, y_train)\n",
    "    train_score.append(lasso.score(train_scaled, y_train))\n",
    "    test_score.append(lasso.score(test_scaled, y_test))"
   ]
  },
  {
   "cell_type": "code",
   "execution_count": 30,
   "id": "17270fd2-9fc2-4872-974f-36f832e985d9",
   "metadata": {},
   "outputs": [
    {
     "data": {
      "image/png": "[encoded data removed]",
      "text/plain": [
       "<Figure size 640x480 with 1 Axes>"
      ]
     },
     "metadata": {},
     "output_type": "display_data"
    }
   ],
   "source": [
    "plt.plot(np.log10(alpha_list), train_score)\n",
    "plt.plot(np.log10(alpha_list), test_score)\n",
    "plt.xlabel('alpha')\n",
    "plt.ylabel('R^2')\n",
    "plt.show()"
   ]
  },
  {
   "cell_type": "code",
   "execution_count": 31,
   "id": "0cf74656-0a01-4c0e-ba89-84f2bca390c2",
   "metadata": {},
   "outputs": [
    {
     "name": "stdout",
     "output_type": "stream",
     "text": [
      "0.0\n",
      "-0.007785117012710785\n"
     ]
    }
   ],
   "source": [
    "lasso = Lasso(alpha=10)\n",
    "lasso.fit(train_scaled, y_train)\n",
    "\n",
    "print(lasso.score(train_scaled, y_train))\n",
    "print(lasso.score(test_scaled, y_test))"
   ]
  },
  {
   "cell_type": "code",
   "execution_count": null,
   "id": "733391c5-977b-403c-affd-e61faed7ccf6",
   "metadata": {},
   "outputs": [],
   "source": []
  }
 ],
 "metadata": {
  "kernelspec": {
   "display_name": "Python 3 (ipykernel)",
   "language": "python",
   "name": "python3"
  },
  "language_info": {
   "codemirror_mode": {
    "name": "ipython",
    "version": 3
   },
   "file_extension": ".py",
   "mimetype": "text/x-python",
   "name": "python",
   "nbconvert_exporter": "python",
   "pygments_lexer": "ipython3",
   "version": "3.9.10"
  }
 },
 "nbformat": 4,
 "nbformat_minor": 5
}
