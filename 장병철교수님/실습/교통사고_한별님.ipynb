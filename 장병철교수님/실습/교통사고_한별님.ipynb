{
 "cells": [
  {
   "cell_type": "code",
   "execution_count": 116,
   "id": "ccd93667",
   "metadata": {},
   "outputs": [],
   "source": [
    "import pandas as pd"
   ]
  },
  {
   "cell_type": "code",
   "execution_count": 117,
   "id": "826fb6bf",
   "metadata": {},
   "outputs": [],
   "source": [
    "df = pd.read_csv('traffic_clean_utf.csv')"
   ]
  },
  {
   "cell_type": "code",
   "execution_count": 118,
   "id": "73fab209",
   "metadata": {},
   "outputs": [
    {
     "data": {
      "text/html": [
       "<div>\n",
       "<style scoped>\n",
       "    .dataframe tbody tr th:only-of-type {\n",
       "        vertical-align: middle;\n",
       "    }\n",
       "\n",
       "    .dataframe tbody tr th {\n",
       "        vertical-align: top;\n",
       "    }\n",
       "\n",
       "    .dataframe thead th {\n",
       "        text-align: right;\n",
       "    }\n",
       "</style>\n",
       "<table border=\"1\" class=\"dataframe\">\n",
       "  <thead>\n",
       "    <tr style=\"text-align: right;\">\n",
       "      <th></th>\n",
       "      <th>날짜</th>\n",
       "      <th>기온</th>\n",
       "      <th>강수량</th>\n",
       "      <th>풍속</th>\n",
       "      <th>습도</th>\n",
       "      <th>일조</th>\n",
       "      <th>적설</th>\n",
       "      <th>지면온도</th>\n",
       "      <th>사상자</th>\n",
       "    </tr>\n",
       "  </thead>\n",
       "  <tbody>\n",
       "    <tr>\n",
       "      <th>0</th>\n",
       "      <td>20170101</td>\n",
       "      <td>2.395833</td>\n",
       "      <td>0.000000</td>\n",
       "      <td>1.575000</td>\n",
       "      <td>75.833333</td>\n",
       "      <td>0.070833</td>\n",
       "      <td>0.000000</td>\n",
       "      <td>0.925000</td>\n",
       "      <td>4</td>\n",
       "    </tr>\n",
       "    <tr>\n",
       "      <th>1</th>\n",
       "      <td>20170102</td>\n",
       "      <td>5.241667</td>\n",
       "      <td>0.030000</td>\n",
       "      <td>2.220833</td>\n",
       "      <td>76.875000</td>\n",
       "      <td>0.112500</td>\n",
       "      <td>0.000000</td>\n",
       "      <td>5.075000</td>\n",
       "      <td>16</td>\n",
       "    </tr>\n",
       "    <tr>\n",
       "      <th>2</th>\n",
       "      <td>20170103</td>\n",
       "      <td>2.108333</td>\n",
       "      <td>0.000000</td>\n",
       "      <td>1.908333</td>\n",
       "      <td>62.416667</td>\n",
       "      <td>0.370833</td>\n",
       "      <td>0.000000</td>\n",
       "      <td>1.533333</td>\n",
       "      <td>2</td>\n",
       "    </tr>\n",
       "    <tr>\n",
       "      <th>3</th>\n",
       "      <td>20170104</td>\n",
       "      <td>4.037500</td>\n",
       "      <td>0.000000</td>\n",
       "      <td>1.708333</td>\n",
       "      <td>58.083333</td>\n",
       "      <td>0.358333</td>\n",
       "      <td>0.000000</td>\n",
       "      <td>3.229167</td>\n",
       "      <td>2</td>\n",
       "    </tr>\n",
       "    <tr>\n",
       "      <th>4</th>\n",
       "      <td>20170105</td>\n",
       "      <td>3.600000</td>\n",
       "      <td>0.000000</td>\n",
       "      <td>3.058333</td>\n",
       "      <td>52.041667</td>\n",
       "      <td>0.000000</td>\n",
       "      <td>0.000000</td>\n",
       "      <td>1.875000</td>\n",
       "      <td>2</td>\n",
       "    </tr>\n",
       "    <tr>\n",
       "      <th>...</th>\n",
       "      <td>...</td>\n",
       "      <td>...</td>\n",
       "      <td>...</td>\n",
       "      <td>...</td>\n",
       "      <td>...</td>\n",
       "      <td>...</td>\n",
       "      <td>...</td>\n",
       "      <td>...</td>\n",
       "      <td>...</td>\n",
       "    </tr>\n",
       "    <tr>\n",
       "      <th>359</th>\n",
       "      <td>20170460</td>\n",
       "      <td>-4.358333</td>\n",
       "      <td>0.000000</td>\n",
       "      <td>2.954167</td>\n",
       "      <td>39.041667</td>\n",
       "      <td>0.358333</td>\n",
       "      <td>0.000000</td>\n",
       "      <td>-3.004167</td>\n",
       "      <td>0</td>\n",
       "    </tr>\n",
       "    <tr>\n",
       "      <th>360</th>\n",
       "      <td>20170461</td>\n",
       "      <td>-6.658333</td>\n",
       "      <td>0.000000</td>\n",
       "      <td>1.991667</td>\n",
       "      <td>30.958333</td>\n",
       "      <td>0.370833</td>\n",
       "      <td>0.000000</td>\n",
       "      <td>-4.254167</td>\n",
       "      <td>0</td>\n",
       "    </tr>\n",
       "    <tr>\n",
       "      <th>361</th>\n",
       "      <td>20170462</td>\n",
       "      <td>-1.441667</td>\n",
       "      <td>0.000000</td>\n",
       "      <td>1.162500</td>\n",
       "      <td>49.500000</td>\n",
       "      <td>0.137500</td>\n",
       "      <td>0.000000</td>\n",
       "      <td>-0.837500</td>\n",
       "      <td>0</td>\n",
       "    </tr>\n",
       "    <tr>\n",
       "      <th>362</th>\n",
       "      <td>20170463</td>\n",
       "      <td>2.008333</td>\n",
       "      <td>0.000000</td>\n",
       "      <td>1.195833</td>\n",
       "      <td>68.333333</td>\n",
       "      <td>0.170833</td>\n",
       "      <td>0.000000</td>\n",
       "      <td>0.045833</td>\n",
       "      <td>0</td>\n",
       "    </tr>\n",
       "    <tr>\n",
       "      <th>363</th>\n",
       "      <td>20170464</td>\n",
       "      <td>1.680952</td>\n",
       "      <td>0.233333</td>\n",
       "      <td>1.000000</td>\n",
       "      <td>77.523810</td>\n",
       "      <td>0.000000</td>\n",
       "      <td>0.009524</td>\n",
       "      <td>-0.033333</td>\n",
       "      <td>0</td>\n",
       "    </tr>\n",
       "  </tbody>\n",
       "</table>\n",
       "<p>364 rows × 9 columns</p>\n",
       "</div>"
      ],
      "text/plain": [
       "           날짜        기온       강수량        풍속         습도        일조        적설  \\\n",
       "0    20170101  2.395833  0.000000  1.575000  75.833333  0.070833  0.000000   \n",
       "1    20170102  5.241667  0.030000  2.220833  76.875000  0.112500  0.000000   \n",
       "2    20170103  2.108333  0.000000  1.908333  62.416667  0.370833  0.000000   \n",
       "3    20170104  4.037500  0.000000  1.708333  58.083333  0.358333  0.000000   \n",
       "4    20170105  3.600000  0.000000  3.058333  52.041667  0.000000  0.000000   \n",
       "..        ...       ...       ...       ...        ...       ...       ...   \n",
       "359  20170460 -4.358333  0.000000  2.954167  39.041667  0.358333  0.000000   \n",
       "360  20170461 -6.658333  0.000000  1.991667  30.958333  0.370833  0.000000   \n",
       "361  20170462 -1.441667  0.000000  1.162500  49.500000  0.137500  0.000000   \n",
       "362  20170463  2.008333  0.000000  1.195833  68.333333  0.170833  0.000000   \n",
       "363  20170464  1.680952  0.233333  1.000000  77.523810  0.000000  0.009524   \n",
       "\n",
       "         지면온도  사상자  \n",
       "0    0.925000    4  \n",
       "1    5.075000   16  \n",
       "2    1.533333    2  \n",
       "3    3.229167    2  \n",
       "4    1.875000    2  \n",
       "..        ...  ...  \n",
       "359 -3.004167    0  \n",
       "360 -4.254167    0  \n",
       "361 -0.837500    0  \n",
       "362  0.045833    0  \n",
       "363 -0.033333    0  \n",
       "\n",
       "[364 rows x 9 columns]"
      ]
     },
     "execution_count": 118,
     "metadata": {},
     "output_type": "execute_result"
    }
   ],
   "source": [
    "df"
   ]
  },
  {
   "cell_type": "code",
   "execution_count": 119,
   "id": "92174725",
   "metadata": {},
   "outputs": [
    {
     "name": "stdout",
     "output_type": "stream",
     "text": [
      "<class 'pandas.core.frame.DataFrame'>\n",
      "RangeIndex: 364 entries, 0 to 363\n",
      "Data columns (total 9 columns):\n",
      " #   Column  Non-Null Count  Dtype  \n",
      "---  ------  --------------  -----  \n",
      " 0   날짜      364 non-null    int64  \n",
      " 1   기온      364 non-null    float64\n",
      " 2   강수량     364 non-null    float64\n",
      " 3   풍속      364 non-null    float64\n",
      " 4   습도      364 non-null    float64\n",
      " 5   일조      364 non-null    float64\n",
      " 6   적설      364 non-null    float64\n",
      " 7   지면온도    364 non-null    float64\n",
      " 8   사상자     364 non-null    int64  \n",
      "dtypes: float64(7), int64(2)\n",
      "memory usage: 25.7 KB\n"
     ]
    }
   ],
   "source": [
    "df.info()"
   ]
  },
  {
   "cell_type": "code",
   "execution_count": 131,
   "id": "ac2d6fea",
   "metadata": {},
   "outputs": [],
   "source": [
    "tf_input = df[['기온','강수량','풍속','습도','일조','적설','지면온도']].to_numpy()"
   ]
  },
  {
   "cell_type": "code",
   "execution_count": 132,
   "id": "df2da864",
   "metadata": {},
   "outputs": [
    {
     "data": {
      "text/plain": [
       "array([[ 2.39583333,  0.        ,  1.575     , ...,  0.07083333,\n",
       "         0.        ,  0.925     ],\n",
       "       [ 5.24166667,  0.03      ,  2.22083333, ...,  0.1125    ,\n",
       "         0.        ,  5.075     ],\n",
       "       [ 2.10833333,  0.        ,  1.90833333, ...,  0.37083333,\n",
       "         0.        ,  1.53333333],\n",
       "       ...,\n",
       "       [-1.44166667,  0.        ,  1.1625    , ...,  0.1375    ,\n",
       "         0.        , -0.8375    ],\n",
       "       [ 2.00833333,  0.        ,  1.19583333, ...,  0.17083333,\n",
       "         0.        ,  0.04583333],\n",
       "       [ 1.68095238,  0.23333333,  1.        , ...,  0.        ,\n",
       "         0.00952381, -0.03333333]])"
      ]
     },
     "execution_count": 132,
     "metadata": {},
     "output_type": "execute_result"
    }
   ],
   "source": [
    "tf_input"
   ]
  },
  {
   "cell_type": "code",
   "execution_count": 133,
   "id": "9c1ecb37",
   "metadata": {},
   "outputs": [],
   "source": [
    "mean = np.mean(tf_input, axis=0)\n",
    "std = np.std(tf_input, axis=0)"
   ]
  },
  {
   "cell_type": "code",
   "execution_count": 134,
   "id": "c66d72ee",
   "metadata": {},
   "outputs": [],
   "source": [
    "tf_scaled = (tf_input - mean) / std"
   ]
  },
  {
   "cell_type": "code",
   "execution_count": 135,
   "id": "894808d6",
   "metadata": {},
   "outputs": [
    {
     "data": {
      "text/plain": [
       "array([[-0.97735181, -0.29958378, -0.93565334, ..., -1.36172067,\n",
       "        -0.19534247, -1.18653191],\n",
       "       [-0.71727768, -0.27354508,  0.01392675, ..., -1.11320409,\n",
       "        -0.19534247, -0.83363415],\n",
       "       [-1.00362577, -0.29958378, -0.44554749, ...,  0.42759872,\n",
       "        -0.19534247, -1.13480192],\n",
       "       ...,\n",
       "       [-1.32805206, -0.29958378, -1.54215933, ..., -0.96409414,\n",
       "        -0.19534247, -1.33640717],\n",
       "       [-1.01276454, -0.29958378, -1.49314874, ..., -0.76528087,\n",
       "        -0.19534247, -1.26129238],\n",
       "       [-1.04268313, -0.0970606 , -1.78108593, ..., -1.78419886,\n",
       "        -0.17692664, -1.26802437]])"
      ]
     },
     "execution_count": 135,
     "metadata": {},
     "output_type": "execute_result"
    }
   ],
   "source": [
    "tf_scaled"
   ]
  },
  {
   "cell_type": "code",
   "execution_count": 136,
   "id": "7c14af1a",
   "metadata": {},
   "outputs": [],
   "source": [
    "tf_target = df['사상자'].to_numpy()"
   ]
  },
  {
   "cell_type": "code",
   "execution_count": 137,
   "id": "f06d62e6",
   "metadata": {},
   "outputs": [],
   "source": [
    "from sklearn.model_selection import train_test_split\n",
    "train_input, test_input, train_target, test_target = train_test_split(tf_scaled, tf_target,test_size = 0.2, random_state=42)"
   ]
  },
  {
   "cell_type": "code",
   "execution_count": 138,
   "id": "11c9152f",
   "metadata": {},
   "outputs": [],
   "source": [
    "from sklearn.preprocessing import StandardScaler\n",
    "ss = StandardScaler()\n",
    "ss.fit(train_input)\n",
    "train_scaled = ss.transform(train_input)\n",
    "test_scaled = ss.transform(test_input)"
   ]
  },
  {
   "cell_type": "code",
   "execution_count": 139,
   "id": "1c7b590b",
   "metadata": {},
   "outputs": [],
   "source": [
    "dead_indexes = (train_target > 0)\n",
    "train_dead = train_scaled[dead_indexes]\n",
    "target_dead = train_target[dead_indexes]"
   ]
  },
  {
   "cell_type": "code",
   "execution_count": 140,
   "id": "0bb69af0",
   "metadata": {},
   "outputs": [
    {
     "data": {
      "text/html": [
       "<style>#sk-container-id-7 {color: black;background-color: white;}#sk-container-id-7 pre{padding: 0;}#sk-container-id-7 div.sk-toggleable {background-color: white;}#sk-container-id-7 label.sk-toggleable__label {cursor: pointer;display: block;width: 100%;margin-bottom: 0;padding: 0.3em;box-sizing: border-box;text-align: center;}#sk-container-id-7 label.sk-toggleable__label-arrow:before {content: \"▸\";float: left;margin-right: 0.25em;color: #696969;}#sk-container-id-7 label.sk-toggleable__label-arrow:hover:before {color: black;}#sk-container-id-7 div.sk-estimator:hover label.sk-toggleable__label-arrow:before {color: black;}#sk-container-id-7 div.sk-toggleable__content {max-height: 0;max-width: 0;overflow: hidden;text-align: left;background-color: #f0f8ff;}#sk-container-id-7 div.sk-toggleable__content pre {margin: 0.2em;color: black;border-radius: 0.25em;background-color: #f0f8ff;}#sk-container-id-7 input.sk-toggleable__control:checked~div.sk-toggleable__content {max-height: 200px;max-width: 100%;overflow: auto;}#sk-container-id-7 input.sk-toggleable__control:checked~label.sk-toggleable__label-arrow:before {content: \"▾\";}#sk-container-id-7 div.sk-estimator input.sk-toggleable__control:checked~label.sk-toggleable__label {background-color: #d4ebff;}#sk-container-id-7 div.sk-label input.sk-toggleable__control:checked~label.sk-toggleable__label {background-color: #d4ebff;}#sk-container-id-7 input.sk-hidden--visually {border: 0;clip: rect(1px 1px 1px 1px);clip: rect(1px, 1px, 1px, 1px);height: 1px;margin: -1px;overflow: hidden;padding: 0;position: absolute;width: 1px;}#sk-container-id-7 div.sk-estimator {font-family: monospace;background-color: #f0f8ff;border: 1px dotted black;border-radius: 0.25em;box-sizing: border-box;margin-bottom: 0.5em;}#sk-container-id-7 div.sk-estimator:hover {background-color: #d4ebff;}#sk-container-id-7 div.sk-parallel-item::after {content: \"\";width: 100%;border-bottom: 1px solid gray;flex-grow: 1;}#sk-container-id-7 div.sk-label:hover label.sk-toggleable__label {background-color: #d4ebff;}#sk-container-id-7 div.sk-serial::before {content: \"\";position: absolute;border-left: 1px solid gray;box-sizing: border-box;top: 0;bottom: 0;left: 50%;z-index: 0;}#sk-container-id-7 div.sk-serial {display: flex;flex-direction: column;align-items: center;background-color: white;padding-right: 0.2em;padding-left: 0.2em;position: relative;}#sk-container-id-7 div.sk-item {position: relative;z-index: 1;}#sk-container-id-7 div.sk-parallel {display: flex;align-items: stretch;justify-content: center;background-color: white;position: relative;}#sk-container-id-7 div.sk-item::before, #sk-container-id-7 div.sk-parallel-item::before {content: \"\";position: absolute;border-left: 1px solid gray;box-sizing: border-box;top: 0;bottom: 0;left: 50%;z-index: -1;}#sk-container-id-7 div.sk-parallel-item {display: flex;flex-direction: column;z-index: 1;position: relative;background-color: white;}#sk-container-id-7 div.sk-parallel-item:first-child::after {align-self: flex-end;width: 50%;}#sk-container-id-7 div.sk-parallel-item:last-child::after {align-self: flex-start;width: 50%;}#sk-container-id-7 div.sk-parallel-item:only-child::after {width: 0;}#sk-container-id-7 div.sk-dashed-wrapped {border: 1px dashed gray;margin: 0 0.4em 0.5em 0.4em;box-sizing: border-box;padding-bottom: 0.4em;background-color: white;}#sk-container-id-7 div.sk-label label {font-family: monospace;font-weight: bold;display: inline-block;line-height: 1.2em;}#sk-container-id-7 div.sk-label-container {text-align: center;}#sk-container-id-7 div.sk-container {/* jupyter's `normalize.less` sets `[hidden] { display: none; }` but bootstrap.min.css set `[hidden] { display: none !important; }` so we also need the `!important` here to be able to override the default hidden behavior on the sphinx rendered scikit-learn.org. See: https://github.com/scikit-learn/scikit-learn/issues/21755 */display: inline-block !important;position: relative;}#sk-container-id-7 div.sk-text-repr-fallback {display: none;}</style><div id=\"sk-container-id-7\" class=\"sk-top-container\"><div class=\"sk-text-repr-fallback\"><pre>LogisticRegression()</pre><b>In a Jupyter environment, please rerun this cell to show the HTML representation or trust the notebook. <br />On GitHub, the HTML representation is unable to render, please try loading this page with nbviewer.org.</b></div><div class=\"sk-container\" hidden><div class=\"sk-item\"><div class=\"sk-estimator sk-toggleable\"><input class=\"sk-toggleable__control sk-hidden--visually\" id=\"sk-estimator-id-7\" type=\"checkbox\" checked><label for=\"sk-estimator-id-7\" class=\"sk-toggleable__label sk-toggleable__label-arrow\">LogisticRegression</label><div class=\"sk-toggleable__content\"><pre>LogisticRegression()</pre></div></div></div></div></div>"
      ],
      "text/plain": [
       "LogisticRegression()"
      ]
     },
     "execution_count": 140,
     "metadata": {},
     "output_type": "execute_result"
    }
   ],
   "source": [
    "from sklearn.linear_model import LogisticRegression\n",
    "lr = LogisticRegression()\n",
    "lr.fit(train_dead, target_dead)"
   ]
  },
  {
   "cell_type": "code",
   "execution_count": 141,
   "id": "38e1dca8",
   "metadata": {},
   "outputs": [
    {
     "name": "stdout",
     "output_type": "stream",
     "text": [
      "0.8075601374570447\n",
      "0.7808219178082192\n"
     ]
    }
   ],
   "source": [
    "lr = LogisticRegression(C=20, max_iter=1000)\n",
    "lr.fit(train_scaled, train_target)\n",
    "print(lr.score(train_scaled, train_target))\n",
    "print(lr.score(test_scaled, test_target))"
   ]
  },
  {
   "cell_type": "code",
   "execution_count": null,
   "id": "b6d27a02",
   "metadata": {},
   "outputs": [],
   "source": []
  }
 ],
 "metadata": {
  "kernelspec": {
   "display_name": "Python 3 (ipykernel)",
   "language": "python",
   "name": "python3"
  },
  "language_info": {
   "codemirror_mode": {
    "name": "ipython",
    "version": 3
   },
   "file_extension": ".py",
   "mimetype": "text/x-python",
   "name": "python",
   "nbconvert_exporter": "python",
   "pygments_lexer": "ipython3",
   "version": "3.9.16"
  }
 },
 "nbformat": 4,
 "nbformat_minor": 5
}
