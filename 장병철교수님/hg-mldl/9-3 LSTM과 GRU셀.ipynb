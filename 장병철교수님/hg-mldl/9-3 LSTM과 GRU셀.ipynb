{
 "cells": [
  {
   "cell_type": "code",
   "execution_count": 3,
   "id": "d877c25e-024e-4e5e-bbae-e20beb172bd2",
   "metadata": {},
   "outputs": [],
   "source": [
    "import tensorflow as tf\n",
    "\n",
    "tf.keras.utils.set_random_seed(42)\n",
    "tf.config.experimental.enable_op_determinism()"
   ]
  },
  {
   "cell_type": "code",
   "execution_count": 5,
   "id": "e281f9c6-6014-453a-9319-fb9330ab328f",
   "metadata": {},
   "outputs": [],
   "source": [
    "from tensorflow.keras.datasets import imdb\n",
    "from sklearn.model_selection import train_test_split\n",
    "\n",
    "(train_input, train_target), (test_input, test_target) = imdb.load_data(\n",
    "    num_words=500)\n",
    "\n",
    "train_input, val_input, train_target, val_target = train_test_split(\n",
    "    train_input, train_target, test_size=0.2, random_state=42)"
   ]
  },
  {
   "cell_type": "code",
   "execution_count": 6,
   "id": "83f74488-df97-46a6-a04c-64f3d9f55902",
   "metadata": {},
   "outputs": [],
   "source": [
    "from tensorflow.keras.preprocessing.sequence import pad_sequences\n",
    "\n",
    "train_seq = pad_sequences(train_input, maxlen=100)\n",
    "val_seq = pad_sequences(val_input, maxlen=100)"
   ]
  },
  {
   "cell_type": "code",
   "execution_count": 7,
   "id": "44f6aa6d-24d0-4b23-893f-6d7f89a01e88",
   "metadata": {},
   "outputs": [
    {
     "name": "stderr",
     "output_type": "stream",
     "text": [
      "2023-09-05 14:10:58.581167: I tensorflow/core/common_runtime/pluggable_device/pluggable_device_factory.cc:306] Could not identify NUMA node of platform GPU ID 0, defaulting to 0. Your kernel may not have been built with NUMA support.\n",
      "2023-09-05 14:10:58.581873: I tensorflow/core/common_runtime/pluggable_device/pluggable_device_factory.cc:272] Created TensorFlow device (/job:localhost/replica:0/task:0/device:GPU:0 with 0 MB memory) -> physical PluggableDevice (device: 0, name: METAL, pci bus id: <undefined>)\n"
     ]
    },
    {
     "name": "stdout",
     "output_type": "stream",
     "text": [
      "Metal device set to: Apple M1 Pro\n",
      "Model: \"sequential\"\n",
      "_________________________________________________________________\n",
      " Layer (type)                Output Shape              Param #   \n",
      "=================================================================\n",
      " embedding (Embedding)       (None, 100, 16)           8000      \n",
      "                                                                 \n",
      " lstm (LSTM)                 (None, 8)                 800       \n",
      "                                                                 \n",
      " dense (Dense)               (None, 1)                 9         \n",
      "                                                                 \n",
      "=================================================================\n",
      "Total params: 8,809\n",
      "Trainable params: 8,809\n",
      "Non-trainable params: 0\n",
      "_________________________________________________________________\n"
     ]
    }
   ],
   "source": [
    "from tensorflow import keras\n",
    "\n",
    "model = keras.Sequential()\n",
    "\n",
    "model.add(keras.layers.Embedding(500, 16, input_length=100))\n",
    "model.add(keras.layers.LSTM(8))\n",
    "model.add(keras.layers.Dense(1, activation='sigmoid'))\n",
    "\n",
    "model.summary()"
   ]
  },
  {
   "cell_type": "code",
   "execution_count": 9,
   "id": "32a61523-6852-436a-aec0-f6d1a5f18118",
   "metadata": {},
   "outputs": [
    {
     "name": "stdout",
     "output_type": "stream",
     "text": [
      "Epoch 1/100\n"
     ]
    },
    {
     "name": "stderr",
     "output_type": "stream",
     "text": [
      "2023-09-05 14:13:42.586677: W tensorflow/core/platform/profile_utils/cpu_utils.cc:128] Failed to get CPU frequency: 0 Hz\n",
      "2023-09-05 14:13:43.059030: I tensorflow/core/grappler/optimizers/custom_graph_optimizer_registry.cc:114] Plugin optimizer for device_type GPU is enabled.\n",
      "2023-09-05 14:13:43.312976: I tensorflow/core/grappler/optimizers/custom_graph_optimizer_registry.cc:114] Plugin optimizer for device_type GPU is enabled.\n",
      "2023-09-05 14:13:44.977475: I tensorflow/core/grappler/optimizers/custom_graph_optimizer_registry.cc:114] Plugin optimizer for device_type GPU is enabled.\n"
     ]
    },
    {
     "name": "stdout",
     "output_type": "stream",
     "text": [
      "313/313 [==============================] - ETA: 0s - loss: 0.6925 - accuracy: 0.5365"
     ]
    },
    {
     "name": "stderr",
     "output_type": "stream",
     "text": [
      "2023-09-05 14:13:57.666293: I tensorflow/core/grappler/optimizers/custom_graph_optimizer_registry.cc:114] Plugin optimizer for device_type GPU is enabled.\n",
      "2023-09-05 14:13:57.712165: I tensorflow/core/grappler/optimizers/custom_graph_optimizer_registry.cc:114] Plugin optimizer for device_type GPU is enabled.\n"
     ]
    },
    {
     "name": "stdout",
     "output_type": "stream",
     "text": [
      "313/313 [==============================] - 17s 43ms/step - loss: 0.6925 - accuracy: 0.5365 - val_loss: 0.6919 - val_accuracy: 0.5530\n",
      "Epoch 2/100\n",
      "313/313 [==============================] - 12s 37ms/step - loss: 0.6904 - accuracy: 0.5943 - val_loss: 0.6890 - val_accuracy: 0.6034\n",
      "Epoch 3/100\n",
      "313/313 [==============================] - 12s 38ms/step - loss: 0.6849 - accuracy: 0.6400 - val_loss: 0.6806 - val_accuracy: 0.6388\n",
      "Epoch 4/100\n",
      "313/313 [==============================] - 12s 38ms/step - loss: 0.6581 - accuracy: 0.6748 - val_loss: 0.6282 - val_accuracy: 0.7050\n",
      "Epoch 5/100\n",
      "313/313 [==============================] - 12s 39ms/step - loss: 0.6004 - accuracy: 0.7304 - val_loss: 0.5910 - val_accuracy: 0.7254\n",
      "Epoch 6/100\n",
      "313/313 [==============================] - 12s 39ms/step - loss: 0.5741 - accuracy: 0.7407 - val_loss: 0.5673 - val_accuracy: 0.7386\n",
      "Epoch 7/100\n",
      "313/313 [==============================] - 12s 37ms/step - loss: 0.5511 - accuracy: 0.7530 - val_loss: 0.5455 - val_accuracy: 0.7514\n",
      "Epoch 8/100\n",
      "313/313 [==============================] - 12s 37ms/step - loss: 0.5304 - accuracy: 0.7643 - val_loss: 0.5268 - val_accuracy: 0.7658\n",
      "Epoch 9/100\n",
      "313/313 [==============================] - 12s 37ms/step - loss: 0.5127 - accuracy: 0.7740 - val_loss: 0.5116 - val_accuracy: 0.7716\n",
      "Epoch 10/100\n",
      "313/313 [==============================] - 12s 37ms/step - loss: 0.4975 - accuracy: 0.7821 - val_loss: 0.4974 - val_accuracy: 0.7764\n",
      "Epoch 11/100\n",
      "313/313 [==============================] - 12s 37ms/step - loss: 0.4841 - accuracy: 0.7884 - val_loss: 0.4863 - val_accuracy: 0.7838\n",
      "Epoch 12/100\n",
      "313/313 [==============================] - 12s 37ms/step - loss: 0.4727 - accuracy: 0.7936 - val_loss: 0.4769 - val_accuracy: 0.7838\n",
      "Epoch 13/100\n",
      "313/313 [==============================] - 12s 37ms/step - loss: 0.4626 - accuracy: 0.7965 - val_loss: 0.4681 - val_accuracy: 0.7916\n",
      "Epoch 14/100\n",
      "313/313 [==============================] - 12s 38ms/step - loss: 0.4538 - accuracy: 0.7998 - val_loss: 0.4615 - val_accuracy: 0.7908\n",
      "Epoch 15/100\n",
      "313/313 [==============================] - 12s 38ms/step - loss: 0.4467 - accuracy: 0.8042 - val_loss: 0.4640 - val_accuracy: 0.7880\n",
      "Epoch 16/100\n",
      "313/313 [==============================] - 12s 38ms/step - loss: 0.4406 - accuracy: 0.8055 - val_loss: 0.4538 - val_accuracy: 0.7964\n",
      "Epoch 17/100\n",
      "313/313 [==============================] - 12s 37ms/step - loss: 0.4353 - accuracy: 0.8079 - val_loss: 0.4494 - val_accuracy: 0.7960\n",
      "Epoch 18/100\n",
      "313/313 [==============================] - 12s 38ms/step - loss: 0.4314 - accuracy: 0.8094 - val_loss: 0.4449 - val_accuracy: 0.8004\n",
      "Epoch 19/100\n",
      "313/313 [==============================] - 12s 38ms/step - loss: 0.4278 - accuracy: 0.8116 - val_loss: 0.4443 - val_accuracy: 0.7994\n",
      "Epoch 20/100\n",
      "313/313 [==============================] - 12s 38ms/step - loss: 0.4249 - accuracy: 0.8138 - val_loss: 0.4414 - val_accuracy: 0.7996\n",
      "Epoch 21/100\n",
      "313/313 [==============================] - 12s 40ms/step - loss: 0.4229 - accuracy: 0.8126 - val_loss: 0.4396 - val_accuracy: 0.8010\n",
      "Epoch 22/100\n",
      "313/313 [==============================] - 12s 39ms/step - loss: 0.4210 - accuracy: 0.8131 - val_loss: 0.4426 - val_accuracy: 0.7982\n",
      "Epoch 23/100\n",
      "313/313 [==============================] - 12s 38ms/step - loss: 0.4193 - accuracy: 0.8136 - val_loss: 0.4378 - val_accuracy: 0.8012\n",
      "Epoch 24/100\n",
      "313/313 [==============================] - 12s 38ms/step - loss: 0.4175 - accuracy: 0.8141 - val_loss: 0.4377 - val_accuracy: 0.7988\n",
      "Epoch 25/100\n",
      "313/313 [==============================] - 12s 38ms/step - loss: 0.4165 - accuracy: 0.8120 - val_loss: 0.4352 - val_accuracy: 0.8012\n",
      "Epoch 26/100\n",
      "313/313 [==============================] - 12s 38ms/step - loss: 0.4149 - accuracy: 0.8161 - val_loss: 0.4346 - val_accuracy: 0.8006\n",
      "Epoch 27/100\n",
      "313/313 [==============================] - 12s 38ms/step - loss: 0.4140 - accuracy: 0.8153 - val_loss: 0.4335 - val_accuracy: 0.8014\n",
      "Epoch 28/100\n",
      "313/313 [==============================] - 12s 38ms/step - loss: 0.4130 - accuracy: 0.8141 - val_loss: 0.4353 - val_accuracy: 0.7978\n",
      "Epoch 29/100\n",
      "313/313 [==============================] - 12s 38ms/step - loss: 0.4118 - accuracy: 0.8163 - val_loss: 0.4359 - val_accuracy: 0.8032\n",
      "Epoch 30/100\n",
      "313/313 [==============================] - 12s 38ms/step - loss: 0.4106 - accuracy: 0.8164 - val_loss: 0.4342 - val_accuracy: 0.7992\n"
     ]
    }
   ],
   "source": [
    "rmsprop = keras.optimizers.RMSprop(learning_rate=1e-4)\n",
    "model.compile(optimizer=rmsprop, loss='binary_crossentropy', metrics=['accuracy'])\n",
    "\n",
    "checkpoint_cb = keras.callbacks.ModelCheckpoint('best-lstm-model.h5', save_best_only=True)\n",
    "early_stopping_cb = keras.callbacks.EarlyStopping(patience=3, restore_best_weights=True)\n",
    "\n",
    "history = model.fit(train_seq, train_target, epochs=100, batch_size=64, validation_data=(val_seq, val_target), \n",
    "                    callbacks=[checkpoint_cb, early_stopping_cb])"
   ]
  },
  {
   "cell_type": "code",
   "execution_count": 11,
   "id": "beb39b06-aa6b-4315-b068-207b8a9c1662",
   "metadata": {},
   "outputs": [
    {
     "data": {
      "image/png": "[encoded data removed]",
      "text/plain": [
       "<Figure size 640x480 with 1 Axes>"
      ]
     },
     "metadata": {},
     "output_type": "display_data"
    }
   ],
   "source": [
    "import matplotlib.pyplot as plt\n",
    "\n",
    "plt.plot(history.history['loss'])\n",
    "plt.plot(history.history['val_loss'])\n",
    "plt.xlabel('epoch')\n",
    "plt.ylabel('loss')\n",
    "plt.legend(['train', 'val'])\n",
    "plt.show()\n",
    "         "
   ]
  },
  {
   "cell_type": "code",
   "execution_count": 12,
   "id": "39923834-b063-41ca-87be-a94505ee0ad0",
   "metadata": {},
   "outputs": [],
   "source": [
    "### 순환 층에 드롭아웃 적용하기"
   ]
  },
  {
   "cell_type": "code",
   "execution_count": 13,
   "id": "cb04a6d9-ca47-44c2-a5a4-6669515bb366",
   "metadata": {},
   "outputs": [],
   "source": [
    "model2 = keras.Sequential()\n",
    "\n",
    "model2.add(keras.layers.Embedding(500, 16, input_length=100))\n",
    "model2.add(keras.layers.LSTM(8, dropout=0.3))\n",
    "model2.add(keras.layers.Dense(1, activation='sigmoid'))"
   ]
  },
  {
   "cell_type": "code",
   "execution_count": 14,
   "id": "8e2ba415-fbb3-4a05-97cb-0d51cd639988",
   "metadata": {},
   "outputs": [
    {
     "name": "stdout",
     "output_type": "stream",
     "text": [
      "Epoch 1/100\n"
     ]
    },
    {
     "name": "stderr",
     "output_type": "stream",
     "text": [
      "2023-09-05 14:19:57.583069: I tensorflow/core/grappler/optimizers/custom_graph_optimizer_registry.cc:114] Plugin optimizer for device_type GPU is enabled.\n",
      "2023-09-05 14:19:57.784862: I tensorflow/core/grappler/optimizers/custom_graph_optimizer_registry.cc:114] Plugin optimizer for device_type GPU is enabled.\n",
      "2023-09-05 14:19:58.056864: I tensorflow/core/grappler/optimizers/custom_graph_optimizer_registry.cc:114] Plugin optimizer for device_type GPU is enabled.\n"
     ]
    },
    {
     "name": "stdout",
     "output_type": "stream",
     "text": [
      "313/313 [==============================] - ETA: 0s - loss: 0.6923 - accuracy: 0.5333"
     ]
    },
    {
     "name": "stderr",
     "output_type": "stream",
     "text": [
      "2023-09-05 14:20:09.930895: I tensorflow/core/grappler/optimizers/custom_graph_optimizer_registry.cc:114] Plugin optimizer for device_type GPU is enabled.\n",
      "2023-09-05 14:20:09.984669: I tensorflow/core/grappler/optimizers/custom_graph_optimizer_registry.cc:114] Plugin optimizer for device_type GPU is enabled.\n"
     ]
    },
    {
     "name": "stdout",
     "output_type": "stream",
     "text": [
      "313/313 [==============================] - 15s 43ms/step - loss: 0.6923 - accuracy: 0.5333 - val_loss: 0.6913 - val_accuracy: 0.5810\n",
      "Epoch 2/100\n",
      "313/313 [==============================] - 12s 37ms/step - loss: 0.6900 - accuracy: 0.5922 - val_loss: 0.6884 - val_accuracy: 0.6172\n",
      "Epoch 3/100\n",
      "313/313 [==============================] - 12s 38ms/step - loss: 0.6857 - accuracy: 0.6251 - val_loss: 0.6830 - val_accuracy: 0.6260\n",
      "Epoch 4/100\n",
      "313/313 [==============================] - 12s 38ms/step - loss: 0.6758 - accuracy: 0.6320 - val_loss: 0.6676 - val_accuracy: 0.6160\n",
      "Epoch 5/100\n",
      "313/313 [==============================] - 12s 38ms/step - loss: 0.6420 - accuracy: 0.6683 - val_loss: 0.6237 - val_accuracy: 0.7022\n",
      "Epoch 6/100\n",
      "313/313 [==============================] - 12s 38ms/step - loss: 0.6070 - accuracy: 0.7278 - val_loss: 0.6000 - val_accuracy: 0.7300\n",
      "Epoch 7/100\n",
      "313/313 [==============================] - 12s 38ms/step - loss: 0.5872 - accuracy: 0.7405 - val_loss: 0.5823 - val_accuracy: 0.7450\n",
      "Epoch 8/100\n",
      "313/313 [==============================] - 12s 38ms/step - loss: 0.5710 - accuracy: 0.7523 - val_loss: 0.5671 - val_accuracy: 0.7516\n",
      "Epoch 9/100\n",
      "313/313 [==============================] - 12s 37ms/step - loss: 0.5568 - accuracy: 0.7590 - val_loss: 0.5518 - val_accuracy: 0.7594\n",
      "Epoch 10/100\n",
      "313/313 [==============================] - 11s 37ms/step - loss: 0.5438 - accuracy: 0.7643 - val_loss: 0.5407 - val_accuracy: 0.7610\n",
      "Epoch 11/100\n",
      "313/313 [==============================] - 12s 37ms/step - loss: 0.5321 - accuracy: 0.7716 - val_loss: 0.5273 - val_accuracy: 0.7768\n",
      "Epoch 12/100\n",
      "313/313 [==============================] - 12s 37ms/step - loss: 0.5208 - accuracy: 0.7763 - val_loss: 0.5164 - val_accuracy: 0.7746\n",
      "Epoch 13/100\n",
      "313/313 [==============================] - 12s 39ms/step - loss: 0.5099 - accuracy: 0.7794 - val_loss: 0.5081 - val_accuracy: 0.7766\n",
      "Epoch 14/100\n",
      "313/313 [==============================] - 12s 37ms/step - loss: 0.4983 - accuracy: 0.7837 - val_loss: 0.4967 - val_accuracy: 0.7838\n",
      "Epoch 15/100\n",
      "313/313 [==============================] - 12s 37ms/step - loss: 0.4896 - accuracy: 0.7871 - val_loss: 0.4935 - val_accuracy: 0.7804\n",
      "Epoch 16/100\n",
      "313/313 [==============================] - 12s 37ms/step - loss: 0.4806 - accuracy: 0.7883 - val_loss: 0.4807 - val_accuracy: 0.7862\n",
      "Epoch 17/100\n",
      "313/313 [==============================] - 12s 38ms/step - loss: 0.4714 - accuracy: 0.7933 - val_loss: 0.4727 - val_accuracy: 0.7896\n",
      "Epoch 18/100\n",
      "313/313 [==============================] - 12s 38ms/step - loss: 0.4639 - accuracy: 0.7975 - val_loss: 0.4669 - val_accuracy: 0.7900\n",
      "Epoch 19/100\n",
      "313/313 [==============================] - 12s 37ms/step - loss: 0.4589 - accuracy: 0.7976 - val_loss: 0.4621 - val_accuracy: 0.7910\n",
      "Epoch 20/100\n",
      "313/313 [==============================] - 12s 37ms/step - loss: 0.4524 - accuracy: 0.7997 - val_loss: 0.4568 - val_accuracy: 0.7918\n",
      "Epoch 21/100\n",
      "313/313 [==============================] - 12s 37ms/step - loss: 0.4485 - accuracy: 0.8009 - val_loss: 0.4540 - val_accuracy: 0.7930\n",
      "Epoch 22/100\n",
      "313/313 [==============================] - 12s 38ms/step - loss: 0.4474 - accuracy: 0.7990 - val_loss: 0.4535 - val_accuracy: 0.7948\n",
      "Epoch 23/100\n",
      "313/313 [==============================] - 12s 38ms/step - loss: 0.4419 - accuracy: 0.8033 - val_loss: 0.4484 - val_accuracy: 0.7964\n",
      "Epoch 24/100\n",
      "313/313 [==============================] - 12s 37ms/step - loss: 0.4392 - accuracy: 0.8037 - val_loss: 0.4485 - val_accuracy: 0.7972\n",
      "Epoch 25/100\n",
      "313/313 [==============================] - 12s 37ms/step - loss: 0.4364 - accuracy: 0.8045 - val_loss: 0.4453 - val_accuracy: 0.7968\n",
      "Epoch 26/100\n",
      "313/313 [==============================] - 12s 38ms/step - loss: 0.4349 - accuracy: 0.8044 - val_loss: 0.4449 - val_accuracy: 0.7990\n",
      "Epoch 27/100\n",
      "313/313 [==============================] - 12s 38ms/step - loss: 0.4333 - accuracy: 0.8077 - val_loss: 0.4421 - val_accuracy: 0.7994\n",
      "Epoch 28/100\n",
      "313/313 [==============================] - 12s 38ms/step - loss: 0.4312 - accuracy: 0.8060 - val_loss: 0.4421 - val_accuracy: 0.7984\n",
      "Epoch 29/100\n",
      "313/313 [==============================] - 12s 38ms/step - loss: 0.4314 - accuracy: 0.8061 - val_loss: 0.4407 - val_accuracy: 0.8028\n",
      "Epoch 30/100\n",
      "313/313 [==============================] - 12s 38ms/step - loss: 0.4282 - accuracy: 0.8069 - val_loss: 0.4396 - val_accuracy: 0.7996\n",
      "Epoch 31/100\n",
      "313/313 [==============================] - 12s 38ms/step - loss: 0.4267 - accuracy: 0.8086 - val_loss: 0.4423 - val_accuracy: 0.7952\n",
      "Epoch 32/100\n",
      "313/313 [==============================] - 12s 38ms/step - loss: 0.4258 - accuracy: 0.8090 - val_loss: 0.4371 - val_accuracy: 0.7990\n",
      "Epoch 33/100\n",
      "313/313 [==============================] - 12s 38ms/step - loss: 0.4246 - accuracy: 0.8087 - val_loss: 0.4372 - val_accuracy: 0.8016\n",
      "Epoch 34/100\n",
      "313/313 [==============================] - 12s 38ms/step - loss: 0.4230 - accuracy: 0.8084 - val_loss: 0.4365 - val_accuracy: 0.8044\n",
      "Epoch 35/100\n",
      "313/313 [==============================] - 12s 38ms/step - loss: 0.4223 - accuracy: 0.8115 - val_loss: 0.4353 - val_accuracy: 0.8028\n",
      "Epoch 36/100\n",
      "313/313 [==============================] - 12s 38ms/step - loss: 0.4195 - accuracy: 0.8105 - val_loss: 0.4339 - val_accuracy: 0.8016\n",
      "Epoch 37/100\n",
      "313/313 [==============================] - 12s 37ms/step - loss: 0.4217 - accuracy: 0.8101 - val_loss: 0.4377 - val_accuracy: 0.8044\n",
      "Epoch 38/100\n",
      "313/313 [==============================] - 12s 37ms/step - loss: 0.4187 - accuracy: 0.8110 - val_loss: 0.4332 - val_accuracy: 0.8066\n",
      "Epoch 39/100\n",
      "313/313 [==============================] - 12s 37ms/step - loss: 0.4174 - accuracy: 0.8134 - val_loss: 0.4323 - val_accuracy: 0.8024\n",
      "Epoch 40/100\n",
      "313/313 [==============================] - 12s 37ms/step - loss: 0.4180 - accuracy: 0.8102 - val_loss: 0.4351 - val_accuracy: 0.7984\n",
      "Epoch 41/100\n",
      "313/313 [==============================] - 12s 37ms/step - loss: 0.4167 - accuracy: 0.8109 - val_loss: 0.4312 - val_accuracy: 0.8050\n",
      "Epoch 42/100\n",
      "313/313 [==============================] - 12s 37ms/step - loss: 0.4161 - accuracy: 0.8119 - val_loss: 0.4306 - val_accuracy: 0.8044\n",
      "Epoch 43/100\n",
      "313/313 [==============================] - 12s 37ms/step - loss: 0.4147 - accuracy: 0.8130 - val_loss: 0.4334 - val_accuracy: 0.8004\n",
      "Epoch 44/100\n",
      "313/313 [==============================] - 12s 37ms/step - loss: 0.4152 - accuracy: 0.8109 - val_loss: 0.4308 - val_accuracy: 0.8056\n",
      "Epoch 45/100\n",
      "313/313 [==============================] - 12s 37ms/step - loss: 0.4141 - accuracy: 0.8147 - val_loss: 0.4326 - val_accuracy: 0.8014\n"
     ]
    }
   ],
   "source": [
    "rmsprop = keras.optimizers.RMSprop(learning_rate=1e-4)\n",
    "model2.compile(optimizer=rmsprop, loss='binary_crossentropy', metrics=['accuracy'])\n",
    "\n",
    "checkpoint_cb = keras.callbacks.ModelCheckpoint('best-dropout-model.h5', save_best_only=True)\n",
    "\n",
    "early_stopping_cb = keras.callbacks.EarlyStopping(patience=3, restore_best_weights=True)\n",
    "\n",
    "history =model2.fit(train_seq, train_target, epochs=100, batch_size=64, validation_data=(val_seq, val_target), \n",
    "                    callbacks=[checkpoint_cb, early_stopping_cb])"
   ]
  },
  {
   "cell_type": "code",
   "execution_count": 15,
   "id": "68b37f98-b16a-40d5-966d-b9f732b07ac0",
   "metadata": {},
   "outputs": [
    {
     "data": {
      "image/png": "[encoded data removed]",
      "text/plain": [
       "<Figure size 640x480 with 1 Axes>"
      ]
     },
     "metadata": {},
     "output_type": "display_data"
    }
   ],
   "source": [
    "plt.plot(history.history['loss'])\n",
    "plt.plot(history.history['val_loss'])\n",
    "plt.xlabel('epoch')\n",
    "plt.ylabel('loss')\n",
    "plt.legend(['train', 'val'])\n",
    "plt.show()"
   ]
  },
  {
   "cell_type": "code",
   "execution_count": 16,
   "id": "52838980-c049-4786-877c-5df5d3201c5f",
   "metadata": {},
   "outputs": [],
   "source": [
    "### 2개의 층을 연결하기"
   ]
  },
  {
   "cell_type": "code",
   "execution_count": 19,
   "id": "dd6169a0-8cbb-4c1a-bb4b-c7b595d71db8",
   "metadata": {},
   "outputs": [
    {
     "name": "stdout",
     "output_type": "stream",
     "text": [
      "Model: \"sequential_4\"\n",
      "_________________________________________________________________\n",
      " Layer (type)                Output Shape              Param #   \n",
      "=================================================================\n",
      " embedding_3 (Embedding)     (None, 100, 16)           8000      \n",
      "                                                                 \n",
      " lstm_4 (LSTM)               (None, 100, 8)            800       \n",
      "                                                                 \n",
      " lstm_5 (LSTM)               (None, 8)                 544       \n",
      "                                                                 \n",
      " dense_3 (Dense)             (None, 1)                 9         \n",
      "                                                                 \n",
      "=================================================================\n",
      "Total params: 9,353\n",
      "Trainable params: 9,353\n",
      "Non-trainable params: 0\n",
      "_________________________________________________________________\n"
     ]
    }
   ],
   "source": [
    "model3 = keras.Sequential()\n",
    "\n",
    "model3.add(keras.layers.Embedding(500, 16, input_length=100))\n",
    "model3.add(keras.layers.LSTM(8, dropout=0.3, return_sequences=True))\n",
    "model3.add(keras.layers.LSTM(8, dropout=0.3))\n",
    "model3.add(keras.layers.Dense(1, activation='sigmoid'))\n",
    "\n",
    "model3.summary()"
   ]
  },
  {
   "cell_type": "code",
   "execution_count": 23,
   "id": "ee4bb657-2bf3-4e35-b05b-dc80aca2fd00",
   "metadata": {},
   "outputs": [
    {
     "name": "stdout",
     "output_type": "stream",
     "text": [
      "Epoch 1/100\n"
     ]
    },
    {
     "name": "stderr",
     "output_type": "stream",
     "text": [
      "2023-09-05 14:34:19.499562: I tensorflow/core/grappler/optimizers/custom_graph_optimizer_registry.cc:114] Plugin optimizer for device_type GPU is enabled.\n",
      "2023-09-05 14:34:19.742861: I tensorflow/core/grappler/optimizers/custom_graph_optimizer_registry.cc:114] Plugin optimizer for device_type GPU is enabled.\n",
      "2023-09-05 14:34:19.986805: I tensorflow/core/grappler/optimizers/custom_graph_optimizer_registry.cc:114] Plugin optimizer for device_type GPU is enabled.\n",
      "2023-09-05 14:34:20.386026: I tensorflow/core/grappler/optimizers/custom_graph_optimizer_registry.cc:114] Plugin optimizer for device_type GPU is enabled.\n",
      "2023-09-05 14:34:20.778618: I tensorflow/core/grappler/optimizers/custom_graph_optimizer_registry.cc:114] Plugin optimizer for device_type GPU is enabled.\n"
     ]
    },
    {
     "name": "stdout",
     "output_type": "stream",
     "text": [
      "313/313 [==============================] - ETA: 0s - loss: 0.6921 - accuracy: 0.5551"
     ]
    },
    {
     "name": "stderr",
     "output_type": "stream",
     "text": [
      "2023-09-05 14:34:41.637722: I tensorflow/core/grappler/optimizers/custom_graph_optimizer_registry.cc:114] Plugin optimizer for device_type GPU is enabled.\n",
      "2023-09-05 14:34:41.708560: I tensorflow/core/grappler/optimizers/custom_graph_optimizer_registry.cc:114] Plugin optimizer for device_type GPU is enabled.\n",
      "2023-09-05 14:34:41.916496: I tensorflow/core/grappler/optimizers/custom_graph_optimizer_registry.cc:114] Plugin optimizer for device_type GPU is enabled.\n"
     ]
    },
    {
     "name": "stdout",
     "output_type": "stream",
     "text": [
      "313/313 [==============================] - 26s 75ms/step - loss: 0.6921 - accuracy: 0.5551 - val_loss: 0.6908 - val_accuracy: 0.6028\n",
      "Epoch 2/100\n",
      "313/313 [==============================] - 19s 62ms/step - loss: 0.6874 - accuracy: 0.6163 - val_loss: 0.6818 - val_accuracy: 0.6448\n",
      "Epoch 3/100\n",
      "313/313 [==============================] - 20s 63ms/step - loss: 0.6634 - accuracy: 0.6589 - val_loss: 0.6321 - val_accuracy: 0.6836\n",
      "Epoch 4/100\n",
      "313/313 [==============================] - 20s 63ms/step - loss: 0.5869 - accuracy: 0.7085 - val_loss: 0.5621 - val_accuracy: 0.7184\n",
      "Epoch 5/100\n",
      "313/313 [==============================] - 20s 63ms/step - loss: 0.5462 - accuracy: 0.7329 - val_loss: 0.5293 - val_accuracy: 0.7456\n",
      "Epoch 6/100\n",
      "313/313 [==============================] - 20s 63ms/step - loss: 0.5225 - accuracy: 0.7498 - val_loss: 0.5126 - val_accuracy: 0.7554\n",
      "Epoch 7/100\n",
      "313/313 [==============================] - 20s 64ms/step - loss: 0.5053 - accuracy: 0.7609 - val_loss: 0.4983 - val_accuracy: 0.7628\n",
      "Epoch 8/100\n",
      "313/313 [==============================] - 20s 64ms/step - loss: 0.4945 - accuracy: 0.7675 - val_loss: 0.4953 - val_accuracy: 0.7622\n",
      "Epoch 9/100\n",
      "313/313 [==============================] - 20s 64ms/step - loss: 0.4846 - accuracy: 0.7738 - val_loss: 0.4815 - val_accuracy: 0.7738\n",
      "Epoch 10/100\n",
      "313/313 [==============================] - 20s 64ms/step - loss: 0.4764 - accuracy: 0.7812 - val_loss: 0.4729 - val_accuracy: 0.7796\n",
      "Epoch 11/100\n",
      "313/313 [==============================] - 20s 65ms/step - loss: 0.4714 - accuracy: 0.7806 - val_loss: 0.4664 - val_accuracy: 0.7834\n",
      "Epoch 12/100\n",
      "313/313 [==============================] - 20s 64ms/step - loss: 0.4649 - accuracy: 0.7858 - val_loss: 0.4619 - val_accuracy: 0.7854\n",
      "Epoch 13/100\n",
      "313/313 [==============================] - 20s 64ms/step - loss: 0.4592 - accuracy: 0.7891 - val_loss: 0.4587 - val_accuracy: 0.7878\n",
      "Epoch 14/100\n",
      "313/313 [==============================] - 20s 64ms/step - loss: 0.4535 - accuracy: 0.7918 - val_loss: 0.4567 - val_accuracy: 0.7856\n",
      "Epoch 15/100\n",
      "313/313 [==============================] - 20s 64ms/step - loss: 0.4496 - accuracy: 0.7935 - val_loss: 0.4634 - val_accuracy: 0.7828\n",
      "Epoch 16/100\n",
      "313/313 [==============================] - 20s 64ms/step - loss: 0.4483 - accuracy: 0.7934 - val_loss: 0.4543 - val_accuracy: 0.7878\n",
      "Epoch 17/100\n",
      "313/313 [==============================] - 20s 65ms/step - loss: 0.4438 - accuracy: 0.7983 - val_loss: 0.4517 - val_accuracy: 0.7898\n",
      "Epoch 18/100\n",
      "313/313 [==============================] - 20s 65ms/step - loss: 0.4434 - accuracy: 0.7985 - val_loss: 0.4477 - val_accuracy: 0.7910\n",
      "Epoch 19/100\n",
      "313/313 [==============================] - 20s 64ms/step - loss: 0.4409 - accuracy: 0.7991 - val_loss: 0.4489 - val_accuracy: 0.7898\n",
      "Epoch 20/100\n",
      "313/313 [==============================] - 20s 65ms/step - loss: 0.4372 - accuracy: 0.8015 - val_loss: 0.4447 - val_accuracy: 0.7902\n",
      "Epoch 21/100\n",
      "313/313 [==============================] - 20s 64ms/step - loss: 0.4353 - accuracy: 0.7995 - val_loss: 0.4431 - val_accuracy: 0.7942\n",
      "Epoch 22/100\n",
      "313/313 [==============================] - 20s 65ms/step - loss: 0.4345 - accuracy: 0.8001 - val_loss: 0.4486 - val_accuracy: 0.7926\n",
      "Epoch 23/100\n",
      "313/313 [==============================] - 20s 65ms/step - loss: 0.4340 - accuracy: 0.8005 - val_loss: 0.4408 - val_accuracy: 0.7956\n",
      "Epoch 24/100\n",
      "313/313 [==============================] - 20s 65ms/step - loss: 0.4293 - accuracy: 0.8046 - val_loss: 0.4413 - val_accuracy: 0.7902\n",
      "Epoch 25/100\n",
      "313/313 [==============================] - 21s 67ms/step - loss: 0.4301 - accuracy: 0.8030 - val_loss: 0.4383 - val_accuracy: 0.7942\n",
      "Epoch 26/100\n",
      "313/313 [==============================] - 21s 67ms/step - loss: 0.4277 - accuracy: 0.8037 - val_loss: 0.4401 - val_accuracy: 0.7904\n",
      "Epoch 27/100\n",
      "313/313 [==============================] - 21s 67ms/step - loss: 0.4267 - accuracy: 0.8055 - val_loss: 0.4375 - val_accuracy: 0.7922\n",
      "Epoch 28/100\n",
      "313/313 [==============================] - 21s 66ms/step - loss: 0.4249 - accuracy: 0.8072 - val_loss: 0.4378 - val_accuracy: 0.7918\n",
      "Epoch 29/100\n",
      "313/313 [==============================] - 22s 70ms/step - loss: 0.4239 - accuracy: 0.8049 - val_loss: 0.4409 - val_accuracy: 0.7996\n",
      "Epoch 30/100\n",
      "313/313 [==============================] - 21s 68ms/step - loss: 0.4244 - accuracy: 0.8050 - val_loss: 0.4382 - val_accuracy: 0.7922\n"
     ]
    }
   ],
   "source": [
    "rmsprop = keras.optimizers.RMSprop(learning_rate=1e-4)\n",
    "model3.compile(optimizer=rmsprop, loss='binary_crossentropy', metrics=['accuracy'])\n",
    "\n",
    "checkpoint_cb = keras.callbacks.ModelCheckpoint('best-2rnn-model.h5', save_best_only=True)\n",
    "early_stopping_cb = keras.callbacks.EarlyStopping(patience=3, restore_best_weights=True)\n",
    "\n",
    "history = model3.fit(train_seq, train_target, epochs=100, batch_size=64,\n",
    "                     validation_data=(val_seq, val_target),\n",
    "                     callbacks=[checkpoint_cb, early_stopping_cb])"
   ]
  },
  {
   "cell_type": "code",
   "execution_count": null,
   "id": "730e7c82-3308-46d5-8887-3e1062edea92",
   "metadata": {},
   "outputs": [],
   "source": [
    "plt.plot(history.histpry['loss'])\n",
    "plt.plot(history.history['val_loss'])\n",
    "plt.xlabel('epoch')\n",
    "plt.ylabel('loss')\n",
    "plt.legend(['train', 'val'])\n",
    "plt.show()"
   ]
  },
  {
   "cell_type": "code",
   "execution_count": null,
   "id": "ac4f8712-36a7-4896-abb7-ce2f6f167072",
   "metadata": {},
   "outputs": [],
   "source": [
    "### GRU 신경망 훈련하기"
   ]
  },
  {
   "cell_type": "code",
   "execution_count": null,
   "id": "6f642286-7264-4e30-bd69-adf5de897b5c",
   "metadata": {},
   "outputs": [],
   "source": [
    "model4 = keras.Sequential()\n",
    "\n",
    "model4.add(keras.layers.Embedding(500, 16, input_length=100))\n",
    "model4.add(keras.layers.GRU(8))\n",
    "model4.add(keras.layers.Dense(1, activation='sigmoid'))\n",
    "\n",
    "model4.summary()"
   ]
  },
  {
   "cell_type": "code",
   "execution_count": null,
   "id": "7137cbaa-df21-4e42-a029-885bd9299450",
   "metadata": {},
   "outputs": [],
   "source": [
    "rmsprop = keras.optimizers.RMSprop(learning_rate=1e-4)\n",
    "\n",
    "model4.compile(optimizer=rmsprop, loss='binary_crossentropy', metrics=['accuracy'])\n",
    "\n",
    "checkpoint_cb = keras.callbacks.ModelCheckpoint('best-gru-model.h5', save_best_only=True)\n",
    "early_stopping_cb = keras.callbacks.EarlyStopping(patience=3, restore_best_weights=True)\n",
    "\n",
    "history = model4.fit(train_seq, train_target, epochs=100, batch_size=64,\n",
    "                     valildation_data=(val_seq, val_target),\n",
    "                     callbacks=[checkpoint_cb, early_stopping_cb])"
   ]
  },
  {
   "cell_type": "code",
   "execution_count": null,
   "id": "fa0d399c-8b85-4d0f-8572-ad27a842d9ae",
   "metadata": {},
   "outputs": [],
   "source": [
    "plt.plot(history.history['loss'])\n",
    "plt.plot(history.history['val_loss'])\n",
    "plt.xlabel('epoch')\n",
    "plt.ylabel('loss')\n",
    "plt.legend(['train', 'val'])\n",
    "plt.show()"
   ]
  },
  {
   "cell_type": "code",
   "execution_count": null,
   "id": "c9522aed-d3d4-4819-91de-b5b70e7b7823",
   "metadata": {},
   "outputs": [],
   "source": [
    "### 마무리"
   ]
  },
  {
   "cell_type": "code",
   "execution_count": null,
   "id": "77ae291a-83d2-474c-b0ec-b9ccb60c8bd1",
   "metadata": {},
   "outputs": [],
   "source": [
    "test_seq = pad_sequences(test_input, maxlen=100)\n",
    "\n",
    "rnn_model = keras.models.load_model('best-2rnn-model.h5')\n",
    "\n",
    "rnn_model.evaluate(test_seq, test_target)"
   ]
  },
  {
   "cell_type": "code",
   "execution_count": null,
   "id": "49344447-8fe6-49d5-858f-cbb10d71ae74",
   "metadata": {},
   "outputs": [],
   "source": [
    "EarlyStopping"
   ]
  }
 ],
 "metadata": {
  "kernelspec": {
   "display_name": "Python 3.9 (tensorflow)",
   "language": "python",
   "name": "tensorflow"
  },
  "language_info": {
   "codemirror_mode": {
    "name": "ipython",
    "version": 3
   },
   "file_extension": ".py",
   "mimetype": "text/x-python",
   "name": "python",
   "nbconvert_exporter": "python",
   "pygments_lexer": "ipython3",
   "version": "3.9.16"
  }
 },
 "nbformat": 4,
 "nbformat_minor": 5
}
