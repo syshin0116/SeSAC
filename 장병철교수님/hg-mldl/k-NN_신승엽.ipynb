{
 "cells": [
  {
   "cell_type": "markdown",
   "id": "74b20191-86d0-45fc-bbe4-751d603637d0",
   "metadata": {},
   "source": [
    "5장의 와인데이터를 이용하여 k-NN모델과 SGD 모델을 만들어 \n",
    "k-NN_성명.ipynb, SGD_성명.ipynb 두개를 만들어 제출합니다. \n",
    "\n",
    "조건\n",
    "1. 반드시 훈련데이터와 테스트 데이터로 나누고, 마지막줄에 test 데이터로 평가 한결과를 출력하면 됩니다.\n",
    "2. K-NN에서는 Neighbour의 3~10중 가장 좋은 성능을 보이는 것을 찾으시오. \n",
    "3. SGD의 loss Function 은 hinge를 사용합니다. \n",
    "\n",
    "그래프는 그릴필요 없습니다."
   ]
  },
  {
   "cell_type": "code",
   "execution_count": 2,
   "id": "7b30b5cd-84b5-48a8-82a7-336e47d41171",
   "metadata": {},
   "outputs": [],
   "source": [
    "import pandas as pd\n",
    "wine = pd.read_csv('https://bit.ly/wine_csv_data')\n",
    "data = wine[['alcohol', 'sugar', 'pH']].to_numpy()\n",
    "target = wine['class'].to_numpy()"
   ]
  },
  {
   "cell_type": "code",
   "execution_count": 4,
   "id": "83671768-e272-40d2-9b66-230599f421c3",
   "metadata": {},
   "outputs": [
    {
     "name": "stdout",
     "output_type": "stream",
     "text": [
      "(5197, 3) (1300, 3)\n"
     ]
    }
   ],
   "source": [
    "from sklearn.model_selection import train_test_split\n",
    "train_input, test_input, train_target, test_target = train_test_split(data, target, test_size=0.2, random_state=42)\n",
    "print(train_input.shape, test_input.shape)"
   ]
  },
  {
   "cell_type": "code",
   "execution_count": 5,
   "id": "0aafe45d-e63d-449f-841b-a734b2347d47",
   "metadata": {},
   "outputs": [],
   "source": [
    "from sklearn.preprocessing import StandardScaler\n",
    "ss = StandardScaler()\n",
    "ss.fit(train_input)\n",
    "train_scaled = ss.transform(train_input)\n",
    "test_scaled = ss.transform(test_input)"
   ]
  },
  {
   "cell_type": "code",
   "execution_count": 15,
   "id": "dfab6f91-8e89-40ff-a793-a21cf925babc",
   "metadata": {},
   "outputs": [
    {
     "name": "stdout",
     "output_type": "stream",
     "text": [
      "k=3\n",
      "train_score: 0.9253415431979989\n",
      "test_score: 0.8361538461538461\n",
      "\n",
      "k=4\n",
      "train_score: 0.90186646142005\n",
      "test_score: 0.8253846153846154\n",
      "\n",
      "k=5\n",
      "train_score: 0.9020588801231479\n",
      "test_score: 0.8338461538461538\n",
      "\n",
      "k=6\n",
      "train_score: 0.892245526265153\n",
      "test_score: 0.8238461538461539\n",
      "\n",
      "k=7\n",
      "train_score: 0.895516644217818\n",
      "test_score: 0.8338461538461538\n",
      "\n",
      "k=8\n",
      "train_score: 0.885703290359823\n",
      "test_score: 0.8323076923076923\n",
      "\n",
      "k=9\n",
      "train_score: 0.88223975370406\n",
      "test_score: 0.8430769230769231\n",
      "\n",
      "k=10\n",
      "train_score: 0.8778141235328074\n",
      "test_score: 0.8384615384615385\n",
      "\n",
      "가장 좋은 성능 모델: k=9 일때 test_score = 0.8430769230769231\n"
     ]
    }
   ],
   "source": [
    "from sklearn.neighbors import KNeighborsClassifier\n",
    "\n",
    "train_score_list = []\n",
    "test_score_list = []\n",
    "for n in range(3, 11):\n",
    "    kn = KNeighborsClassifier(n_neighbors=n)\n",
    "    kn.fit(train_scaled, train_target)\n",
    "    \n",
    "    train_score = kn.score(train_scaled, train_target)\n",
    "    test_scores = kn.score(test_scaled, test_target)\n",
    "    \n",
    "    print(f\"k={n}\")\n",
    "    train_score_list.append(train_score)\n",
    "    print(\"train_score:\", train_score)\n",
    "    test_score_list.append(test_scores)\n",
    "    print(\"test_score:\", test_scores)\n",
    "    print()\n",
    "    \n",
    "print(f\"가장 좋은 성능 모델: k={test_score_list.index(max(test_score_list))+3} 일때 test_score = {max(test_score_list)}\")"
   ]
  },
  {
   "cell_type": "code",
   "execution_count": null,
   "id": "1296fdf7-9131-415b-8927-855e3aa87135",
   "metadata": {},
   "outputs": [],
   "source": []
  }
 ],
 "metadata": {
  "kernelspec": {
   "display_name": "Python 3 (ipykernel)",
   "language": "python",
   "name": "python3"
  },
  "language_info": {
   "codemirror_mode": {
    "name": "ipython",
    "version": 3
   },
   "file_extension": ".py",
   "mimetype": "text/x-python",
   "name": "python",
   "nbconvert_exporter": "python",
   "pygments_lexer": "ipython3",
   "version": "3.9.10"
  }
 },
 "nbformat": 4,
 "nbformat_minor": 5
}
